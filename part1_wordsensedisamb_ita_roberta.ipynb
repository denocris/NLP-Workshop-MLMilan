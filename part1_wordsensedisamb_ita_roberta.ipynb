{
  "nbformat": 4,
  "nbformat_minor": 0,
  "metadata": {
    "colab": {
      "name": "part1-wordsensedisamb-ita-roberta.ipynb",
      "provenance": [],
      "collapsed_sections": [],
      "machine_shape": "hm",
      "include_colab_link": true
    },
    "kernelspec": {
      "name": "python3",
      "display_name": "Python 3"
    },
    "accelerator": "GPU",
    "widgets": {
      "application/vnd.jupyter.widget-state+json": {
        "a501be46235d438cb71b60f590098c3c": {
          "model_module": "@jupyter-widgets/controls",
          "model_name": "HBoxModel",
          "state": {
            "_view_name": "HBoxView",
            "_dom_classes": [],
            "_model_name": "HBoxModel",
            "_view_module": "@jupyter-widgets/controls",
            "_model_module_version": "1.5.0",
            "_view_count": null,
            "_view_module_version": "1.5.0",
            "box_style": "",
            "layout": "IPY_MODEL_18dfd1a83de0436ca19b5309f0e32a54",
            "_model_module": "@jupyter-widgets/controls",
            "children": [
              "IPY_MODEL_810c468c177b4850b2f8fb78456347f4",
              "IPY_MODEL_fef8e7dc6bf24bc9a2b4f3e8b2a0e33a"
            ]
          }
        },
        "18dfd1a83de0436ca19b5309f0e32a54": {
          "model_module": "@jupyter-widgets/base",
          "model_name": "LayoutModel",
          "state": {
            "_view_name": "LayoutView",
            "grid_template_rows": null,
            "right": null,
            "justify_content": null,
            "_view_module": "@jupyter-widgets/base",
            "overflow": null,
            "_model_module_version": "1.2.0",
            "_view_count": null,
            "flex_flow": null,
            "width": null,
            "min_width": null,
            "border": null,
            "align_items": null,
            "bottom": null,
            "_model_module": "@jupyter-widgets/base",
            "top": null,
            "grid_column": null,
            "overflow_y": null,
            "overflow_x": null,
            "grid_auto_flow": null,
            "grid_area": null,
            "grid_template_columns": null,
            "flex": null,
            "_model_name": "LayoutModel",
            "justify_items": null,
            "grid_row": null,
            "max_height": null,
            "align_content": null,
            "visibility": null,
            "align_self": null,
            "height": null,
            "min_height": null,
            "padding": null,
            "grid_auto_rows": null,
            "grid_gap": null,
            "max_width": null,
            "order": null,
            "_view_module_version": "1.2.0",
            "grid_template_areas": null,
            "object_position": null,
            "object_fit": null,
            "grid_auto_columns": null,
            "margin": null,
            "display": null,
            "left": null
          }
        },
        "810c468c177b4850b2f8fb78456347f4": {
          "model_module": "@jupyter-widgets/controls",
          "model_name": "FloatProgressModel",
          "state": {
            "_view_name": "ProgressView",
            "style": "IPY_MODEL_f083a095d0ae469bb3007d47c9850225",
            "_dom_classes": [],
            "description": "Downloading: 100%",
            "_model_name": "FloatProgressModel",
            "bar_style": "success",
            "max": 508,
            "_view_module": "@jupyter-widgets/controls",
            "_model_module_version": "1.5.0",
            "value": 508,
            "_view_count": null,
            "_view_module_version": "1.5.0",
            "orientation": "horizontal",
            "min": 0,
            "description_tooltip": null,
            "_model_module": "@jupyter-widgets/controls",
            "layout": "IPY_MODEL_e1d8b2e8c97a438ca4cd362a33bfe913"
          }
        },
        "fef8e7dc6bf24bc9a2b4f3e8b2a0e33a": {
          "model_module": "@jupyter-widgets/controls",
          "model_name": "HTMLModel",
          "state": {
            "_view_name": "HTMLView",
            "style": "IPY_MODEL_6fe90c4279c24048b949489a6d71b95e",
            "_dom_classes": [],
            "description": "",
            "_model_name": "HTMLModel",
            "placeholder": "​",
            "_view_module": "@jupyter-widgets/controls",
            "_model_module_version": "1.5.0",
            "value": " 508/508 [00:31&lt;00:00, 16.2B/s]",
            "_view_count": null,
            "_view_module_version": "1.5.0",
            "description_tooltip": null,
            "_model_module": "@jupyter-widgets/controls",
            "layout": "IPY_MODEL_97b070a861804cb49a644ecec3116ba2"
          }
        },
        "f083a095d0ae469bb3007d47c9850225": {
          "model_module": "@jupyter-widgets/controls",
          "model_name": "ProgressStyleModel",
          "state": {
            "_view_name": "StyleView",
            "_model_name": "ProgressStyleModel",
            "description_width": "initial",
            "_view_module": "@jupyter-widgets/base",
            "_model_module_version": "1.5.0",
            "_view_count": null,
            "_view_module_version": "1.2.0",
            "bar_color": null,
            "_model_module": "@jupyter-widgets/controls"
          }
        },
        "e1d8b2e8c97a438ca4cd362a33bfe913": {
          "model_module": "@jupyter-widgets/base",
          "model_name": "LayoutModel",
          "state": {
            "_view_name": "LayoutView",
            "grid_template_rows": null,
            "right": null,
            "justify_content": null,
            "_view_module": "@jupyter-widgets/base",
            "overflow": null,
            "_model_module_version": "1.2.0",
            "_view_count": null,
            "flex_flow": null,
            "width": null,
            "min_width": null,
            "border": null,
            "align_items": null,
            "bottom": null,
            "_model_module": "@jupyter-widgets/base",
            "top": null,
            "grid_column": null,
            "overflow_y": null,
            "overflow_x": null,
            "grid_auto_flow": null,
            "grid_area": null,
            "grid_template_columns": null,
            "flex": null,
            "_model_name": "LayoutModel",
            "justify_items": null,
            "grid_row": null,
            "max_height": null,
            "align_content": null,
            "visibility": null,
            "align_self": null,
            "height": null,
            "min_height": null,
            "padding": null,
            "grid_auto_rows": null,
            "grid_gap": null,
            "max_width": null,
            "order": null,
            "_view_module_version": "1.2.0",
            "grid_template_areas": null,
            "object_position": null,
            "object_fit": null,
            "grid_auto_columns": null,
            "margin": null,
            "display": null,
            "left": null
          }
        },
        "6fe90c4279c24048b949489a6d71b95e": {
          "model_module": "@jupyter-widgets/controls",
          "model_name": "DescriptionStyleModel",
          "state": {
            "_view_name": "StyleView",
            "_model_name": "DescriptionStyleModel",
            "description_width": "",
            "_view_module": "@jupyter-widgets/base",
            "_model_module_version": "1.5.0",
            "_view_count": null,
            "_view_module_version": "1.2.0",
            "_model_module": "@jupyter-widgets/controls"
          }
        },
        "97b070a861804cb49a644ecec3116ba2": {
          "model_module": "@jupyter-widgets/base",
          "model_name": "LayoutModel",
          "state": {
            "_view_name": "LayoutView",
            "grid_template_rows": null,
            "right": null,
            "justify_content": null,
            "_view_module": "@jupyter-widgets/base",
            "overflow": null,
            "_model_module_version": "1.2.0",
            "_view_count": null,
            "flex_flow": null,
            "width": null,
            "min_width": null,
            "border": null,
            "align_items": null,
            "bottom": null,
            "_model_module": "@jupyter-widgets/base",
            "top": null,
            "grid_column": null,
            "overflow_y": null,
            "overflow_x": null,
            "grid_auto_flow": null,
            "grid_area": null,
            "grid_template_columns": null,
            "flex": null,
            "_model_name": "LayoutModel",
            "justify_items": null,
            "grid_row": null,
            "max_height": null,
            "align_content": null,
            "visibility": null,
            "align_self": null,
            "height": null,
            "min_height": null,
            "padding": null,
            "grid_auto_rows": null,
            "grid_gap": null,
            "max_width": null,
            "order": null,
            "_view_module_version": "1.2.0",
            "grid_template_areas": null,
            "object_position": null,
            "object_fit": null,
            "grid_auto_columns": null,
            "margin": null,
            "display": null,
            "left": null
          }
        },
        "3313f9c5958c4831901a942d31584076": {
          "model_module": "@jupyter-widgets/controls",
          "model_name": "HBoxModel",
          "state": {
            "_view_name": "HBoxView",
            "_dom_classes": [],
            "_model_name": "HBoxModel",
            "_view_module": "@jupyter-widgets/controls",
            "_model_module_version": "1.5.0",
            "_view_count": null,
            "_view_module_version": "1.5.0",
            "box_style": "",
            "layout": "IPY_MODEL_ff3af747348847ee9a6cd98b518142b8",
            "_model_module": "@jupyter-widgets/controls",
            "children": [
              "IPY_MODEL_3a8b0b92543644009d81ea0edf9eba5d",
              "IPY_MODEL_a037844bb67f459380afb2d0a1dd201b"
            ]
          }
        },
        "ff3af747348847ee9a6cd98b518142b8": {
          "model_module": "@jupyter-widgets/base",
          "model_name": "LayoutModel",
          "state": {
            "_view_name": "LayoutView",
            "grid_template_rows": null,
            "right": null,
            "justify_content": null,
            "_view_module": "@jupyter-widgets/base",
            "overflow": null,
            "_model_module_version": "1.2.0",
            "_view_count": null,
            "flex_flow": null,
            "width": null,
            "min_width": null,
            "border": null,
            "align_items": null,
            "bottom": null,
            "_model_module": "@jupyter-widgets/base",
            "top": null,
            "grid_column": null,
            "overflow_y": null,
            "overflow_x": null,
            "grid_auto_flow": null,
            "grid_area": null,
            "grid_template_columns": null,
            "flex": null,
            "_model_name": "LayoutModel",
            "justify_items": null,
            "grid_row": null,
            "max_height": null,
            "align_content": null,
            "visibility": null,
            "align_self": null,
            "height": null,
            "min_height": null,
            "padding": null,
            "grid_auto_rows": null,
            "grid_gap": null,
            "max_width": null,
            "order": null,
            "_view_module_version": "1.2.0",
            "grid_template_areas": null,
            "object_position": null,
            "object_fit": null,
            "grid_auto_columns": null,
            "margin": null,
            "display": null,
            "left": null
          }
        },
        "3a8b0b92543644009d81ea0edf9eba5d": {
          "model_module": "@jupyter-widgets/controls",
          "model_name": "FloatProgressModel",
          "state": {
            "_view_name": "ProgressView",
            "style": "IPY_MODEL_d8966244d4f84880949c271a6e12a5db",
            "_dom_classes": [],
            "description": "Downloading: 100%",
            "_model_name": "FloatProgressModel",
            "bar_style": "success",
            "max": 805870,
            "_view_module": "@jupyter-widgets/controls",
            "_model_module_version": "1.5.0",
            "value": 805870,
            "_view_count": null,
            "_view_module_version": "1.5.0",
            "orientation": "horizontal",
            "min": 0,
            "description_tooltip": null,
            "_model_module": "@jupyter-widgets/controls",
            "layout": "IPY_MODEL_d4d4632ffff34b639aeb1c6469e7da3f"
          }
        },
        "a037844bb67f459380afb2d0a1dd201b": {
          "model_module": "@jupyter-widgets/controls",
          "model_name": "HTMLModel",
          "state": {
            "_view_name": "HTMLView",
            "style": "IPY_MODEL_d95a4fc6852b4f17a89e98827306e4ae",
            "_dom_classes": [],
            "description": "",
            "_model_name": "HTMLModel",
            "placeholder": "​",
            "_view_module": "@jupyter-widgets/controls",
            "_model_module_version": "1.5.0",
            "value": " 806k/806k [00:29&lt;00:00, 27.1kB/s]",
            "_view_count": null,
            "_view_module_version": "1.5.0",
            "description_tooltip": null,
            "_model_module": "@jupyter-widgets/controls",
            "layout": "IPY_MODEL_46a7d34529c440abbf2e224fda579b41"
          }
        },
        "d8966244d4f84880949c271a6e12a5db": {
          "model_module": "@jupyter-widgets/controls",
          "model_name": "ProgressStyleModel",
          "state": {
            "_view_name": "StyleView",
            "_model_name": "ProgressStyleModel",
            "description_width": "initial",
            "_view_module": "@jupyter-widgets/base",
            "_model_module_version": "1.5.0",
            "_view_count": null,
            "_view_module_version": "1.2.0",
            "bar_color": null,
            "_model_module": "@jupyter-widgets/controls"
          }
        },
        "d4d4632ffff34b639aeb1c6469e7da3f": {
          "model_module": "@jupyter-widgets/base",
          "model_name": "LayoutModel",
          "state": {
            "_view_name": "LayoutView",
            "grid_template_rows": null,
            "right": null,
            "justify_content": null,
            "_view_module": "@jupyter-widgets/base",
            "overflow": null,
            "_model_module_version": "1.2.0",
            "_view_count": null,
            "flex_flow": null,
            "width": null,
            "min_width": null,
            "border": null,
            "align_items": null,
            "bottom": null,
            "_model_module": "@jupyter-widgets/base",
            "top": null,
            "grid_column": null,
            "overflow_y": null,
            "overflow_x": null,
            "grid_auto_flow": null,
            "grid_area": null,
            "grid_template_columns": null,
            "flex": null,
            "_model_name": "LayoutModel",
            "justify_items": null,
            "grid_row": null,
            "max_height": null,
            "align_content": null,
            "visibility": null,
            "align_self": null,
            "height": null,
            "min_height": null,
            "padding": null,
            "grid_auto_rows": null,
            "grid_gap": null,
            "max_width": null,
            "order": null,
            "_view_module_version": "1.2.0",
            "grid_template_areas": null,
            "object_position": null,
            "object_fit": null,
            "grid_auto_columns": null,
            "margin": null,
            "display": null,
            "left": null
          }
        },
        "d95a4fc6852b4f17a89e98827306e4ae": {
          "model_module": "@jupyter-widgets/controls",
          "model_name": "DescriptionStyleModel",
          "state": {
            "_view_name": "StyleView",
            "_model_name": "DescriptionStyleModel",
            "description_width": "",
            "_view_module": "@jupyter-widgets/base",
            "_model_module_version": "1.5.0",
            "_view_count": null,
            "_view_module_version": "1.2.0",
            "_model_module": "@jupyter-widgets/controls"
          }
        },
        "46a7d34529c440abbf2e224fda579b41": {
          "model_module": "@jupyter-widgets/base",
          "model_name": "LayoutModel",
          "state": {
            "_view_name": "LayoutView",
            "grid_template_rows": null,
            "right": null,
            "justify_content": null,
            "_view_module": "@jupyter-widgets/base",
            "overflow": null,
            "_model_module_version": "1.2.0",
            "_view_count": null,
            "flex_flow": null,
            "width": null,
            "min_width": null,
            "border": null,
            "align_items": null,
            "bottom": null,
            "_model_module": "@jupyter-widgets/base",
            "top": null,
            "grid_column": null,
            "overflow_y": null,
            "overflow_x": null,
            "grid_auto_flow": null,
            "grid_area": null,
            "grid_template_columns": null,
            "flex": null,
            "_model_name": "LayoutModel",
            "justify_items": null,
            "grid_row": null,
            "max_height": null,
            "align_content": null,
            "visibility": null,
            "align_self": null,
            "height": null,
            "min_height": null,
            "padding": null,
            "grid_auto_rows": null,
            "grid_gap": null,
            "max_width": null,
            "order": null,
            "_view_module_version": "1.2.0",
            "grid_template_areas": null,
            "object_position": null,
            "object_fit": null,
            "grid_auto_columns": null,
            "margin": null,
            "display": null,
            "left": null
          }
        },
        "a42a53d3fa5d46cebeec18c112e61b30": {
          "model_module": "@jupyter-widgets/controls",
          "model_name": "HBoxModel",
          "state": {
            "_view_name": "HBoxView",
            "_dom_classes": [],
            "_model_name": "HBoxModel",
            "_view_module": "@jupyter-widgets/controls",
            "_model_module_version": "1.5.0",
            "_view_count": null,
            "_view_module_version": "1.5.0",
            "box_style": "",
            "layout": "IPY_MODEL_c6aac12f09e44d02b673aaab78d964e1",
            "_model_module": "@jupyter-widgets/controls",
            "children": [
              "IPY_MODEL_89b302d605474380af444bc4594c4adf",
              "IPY_MODEL_344656116e9449128c84fd786e937346"
            ]
          }
        },
        "c6aac12f09e44d02b673aaab78d964e1": {
          "model_module": "@jupyter-widgets/base",
          "model_name": "LayoutModel",
          "state": {
            "_view_name": "LayoutView",
            "grid_template_rows": null,
            "right": null,
            "justify_content": null,
            "_view_module": "@jupyter-widgets/base",
            "overflow": null,
            "_model_module_version": "1.2.0",
            "_view_count": null,
            "flex_flow": null,
            "width": null,
            "min_width": null,
            "border": null,
            "align_items": null,
            "bottom": null,
            "_model_module": "@jupyter-widgets/base",
            "top": null,
            "grid_column": null,
            "overflow_y": null,
            "overflow_x": null,
            "grid_auto_flow": null,
            "grid_area": null,
            "grid_template_columns": null,
            "flex": null,
            "_model_name": "LayoutModel",
            "justify_items": null,
            "grid_row": null,
            "max_height": null,
            "align_content": null,
            "visibility": null,
            "align_self": null,
            "height": null,
            "min_height": null,
            "padding": null,
            "grid_auto_rows": null,
            "grid_gap": null,
            "max_width": null,
            "order": null,
            "_view_module_version": "1.2.0",
            "grid_template_areas": null,
            "object_position": null,
            "object_fit": null,
            "grid_auto_columns": null,
            "margin": null,
            "display": null,
            "left": null
          }
        },
        "89b302d605474380af444bc4594c4adf": {
          "model_module": "@jupyter-widgets/controls",
          "model_name": "FloatProgressModel",
          "state": {
            "_view_name": "ProgressView",
            "style": "IPY_MODEL_51e95a749832450aa9d8b653c2d1f8df",
            "_dom_classes": [],
            "description": "Downloading: 100%",
            "_model_name": "FloatProgressModel",
            "bar_style": "success",
            "max": 508,
            "_view_module": "@jupyter-widgets/controls",
            "_model_module_version": "1.5.0",
            "value": 508,
            "_view_count": null,
            "_view_module_version": "1.5.0",
            "orientation": "horizontal",
            "min": 0,
            "description_tooltip": null,
            "_model_module": "@jupyter-widgets/controls",
            "layout": "IPY_MODEL_c8cb4e20da6d4943a83d18394e03d917"
          }
        },
        "344656116e9449128c84fd786e937346": {
          "model_module": "@jupyter-widgets/controls",
          "model_name": "HTMLModel",
          "state": {
            "_view_name": "HTMLView",
            "style": "IPY_MODEL_9d697d960b3b43bcb98ebcd807b23f2c",
            "_dom_classes": [],
            "description": "",
            "_model_name": "HTMLModel",
            "placeholder": "​",
            "_view_module": "@jupyter-widgets/controls",
            "_model_module_version": "1.5.0",
            "value": " 508/508 [00:21&lt;00:00, 23.2B/s]",
            "_view_count": null,
            "_view_module_version": "1.5.0",
            "description_tooltip": null,
            "_model_module": "@jupyter-widgets/controls",
            "layout": "IPY_MODEL_28805c74edd74d05ba43a07b9203054b"
          }
        },
        "51e95a749832450aa9d8b653c2d1f8df": {
          "model_module": "@jupyter-widgets/controls",
          "model_name": "ProgressStyleModel",
          "state": {
            "_view_name": "StyleView",
            "_model_name": "ProgressStyleModel",
            "description_width": "initial",
            "_view_module": "@jupyter-widgets/base",
            "_model_module_version": "1.5.0",
            "_view_count": null,
            "_view_module_version": "1.2.0",
            "bar_color": null,
            "_model_module": "@jupyter-widgets/controls"
          }
        },
        "c8cb4e20da6d4943a83d18394e03d917": {
          "model_module": "@jupyter-widgets/base",
          "model_name": "LayoutModel",
          "state": {
            "_view_name": "LayoutView",
            "grid_template_rows": null,
            "right": null,
            "justify_content": null,
            "_view_module": "@jupyter-widgets/base",
            "overflow": null,
            "_model_module_version": "1.2.0",
            "_view_count": null,
            "flex_flow": null,
            "width": null,
            "min_width": null,
            "border": null,
            "align_items": null,
            "bottom": null,
            "_model_module": "@jupyter-widgets/base",
            "top": null,
            "grid_column": null,
            "overflow_y": null,
            "overflow_x": null,
            "grid_auto_flow": null,
            "grid_area": null,
            "grid_template_columns": null,
            "flex": null,
            "_model_name": "LayoutModel",
            "justify_items": null,
            "grid_row": null,
            "max_height": null,
            "align_content": null,
            "visibility": null,
            "align_self": null,
            "height": null,
            "min_height": null,
            "padding": null,
            "grid_auto_rows": null,
            "grid_gap": null,
            "max_width": null,
            "order": null,
            "_view_module_version": "1.2.0",
            "grid_template_areas": null,
            "object_position": null,
            "object_fit": null,
            "grid_auto_columns": null,
            "margin": null,
            "display": null,
            "left": null
          }
        },
        "9d697d960b3b43bcb98ebcd807b23f2c": {
          "model_module": "@jupyter-widgets/controls",
          "model_name": "DescriptionStyleModel",
          "state": {
            "_view_name": "StyleView",
            "_model_name": "DescriptionStyleModel",
            "description_width": "",
            "_view_module": "@jupyter-widgets/base",
            "_model_module_version": "1.5.0",
            "_view_count": null,
            "_view_module_version": "1.2.0",
            "_model_module": "@jupyter-widgets/controls"
          }
        },
        "28805c74edd74d05ba43a07b9203054b": {
          "model_module": "@jupyter-widgets/base",
          "model_name": "LayoutModel",
          "state": {
            "_view_name": "LayoutView",
            "grid_template_rows": null,
            "right": null,
            "justify_content": null,
            "_view_module": "@jupyter-widgets/base",
            "overflow": null,
            "_model_module_version": "1.2.0",
            "_view_count": null,
            "flex_flow": null,
            "width": null,
            "min_width": null,
            "border": null,
            "align_items": null,
            "bottom": null,
            "_model_module": "@jupyter-widgets/base",
            "top": null,
            "grid_column": null,
            "overflow_y": null,
            "overflow_x": null,
            "grid_auto_flow": null,
            "grid_area": null,
            "grid_template_columns": null,
            "flex": null,
            "_model_name": "LayoutModel",
            "justify_items": null,
            "grid_row": null,
            "max_height": null,
            "align_content": null,
            "visibility": null,
            "align_self": null,
            "height": null,
            "min_height": null,
            "padding": null,
            "grid_auto_rows": null,
            "grid_gap": null,
            "max_width": null,
            "order": null,
            "_view_module_version": "1.2.0",
            "grid_template_areas": null,
            "object_position": null,
            "object_fit": null,
            "grid_auto_columns": null,
            "margin": null,
            "display": null,
            "left": null
          }
        },
        "16f0a25eaceb4de6b8c18567911cdb54": {
          "model_module": "@jupyter-widgets/controls",
          "model_name": "HBoxModel",
          "state": {
            "_view_name": "HBoxView",
            "_dom_classes": [],
            "_model_name": "HBoxModel",
            "_view_module": "@jupyter-widgets/controls",
            "_model_module_version": "1.5.0",
            "_view_count": null,
            "_view_module_version": "1.5.0",
            "box_style": "",
            "layout": "IPY_MODEL_9164faeb45ae44cbb90bfa9020797728",
            "_model_module": "@jupyter-widgets/controls",
            "children": [
              "IPY_MODEL_e41bfd172c3044e390f522e7d81068ab",
              "IPY_MODEL_6caf36194cad4cf3863547bf83f1fe67"
            ]
          }
        },
        "9164faeb45ae44cbb90bfa9020797728": {
          "model_module": "@jupyter-widgets/base",
          "model_name": "LayoutModel",
          "state": {
            "_view_name": "LayoutView",
            "grid_template_rows": null,
            "right": null,
            "justify_content": null,
            "_view_module": "@jupyter-widgets/base",
            "overflow": null,
            "_model_module_version": "1.2.0",
            "_view_count": null,
            "flex_flow": null,
            "width": null,
            "min_width": null,
            "border": null,
            "align_items": null,
            "bottom": null,
            "_model_module": "@jupyter-widgets/base",
            "top": null,
            "grid_column": null,
            "overflow_y": null,
            "overflow_x": null,
            "grid_auto_flow": null,
            "grid_area": null,
            "grid_template_columns": null,
            "flex": null,
            "_model_name": "LayoutModel",
            "justify_items": null,
            "grid_row": null,
            "max_height": null,
            "align_content": null,
            "visibility": null,
            "align_self": null,
            "height": null,
            "min_height": null,
            "padding": null,
            "grid_auto_rows": null,
            "grid_gap": null,
            "max_width": null,
            "order": null,
            "_view_module_version": "1.2.0",
            "grid_template_areas": null,
            "object_position": null,
            "object_fit": null,
            "grid_auto_columns": null,
            "margin": null,
            "display": null,
            "left": null
          }
        },
        "e41bfd172c3044e390f522e7d81068ab": {
          "model_module": "@jupyter-widgets/controls",
          "model_name": "FloatProgressModel",
          "state": {
            "_view_name": "ProgressView",
            "style": "IPY_MODEL_3b916b04a52e48948dc0a68b0a543583",
            "_dom_classes": [],
            "description": "Downloading: 100%",
            "_model_name": "FloatProgressModel",
            "bar_style": "success",
            "max": 445031664,
            "_view_module": "@jupyter-widgets/controls",
            "_model_module_version": "1.5.0",
            "value": 445031664,
            "_view_count": null,
            "_view_module_version": "1.5.0",
            "orientation": "horizontal",
            "min": 0,
            "description_tooltip": null,
            "_model_module": "@jupyter-widgets/controls",
            "layout": "IPY_MODEL_dec1815fa85f4c528ce315944b130580"
          }
        },
        "6caf36194cad4cf3863547bf83f1fe67": {
          "model_module": "@jupyter-widgets/controls",
          "model_name": "HTMLModel",
          "state": {
            "_view_name": "HTMLView",
            "style": "IPY_MODEL_86abe11c82ba492a8bb3bfc872123e99",
            "_dom_classes": [],
            "description": "",
            "_model_name": "HTMLModel",
            "placeholder": "​",
            "_view_module": "@jupyter-widgets/controls",
            "_model_module_version": "1.5.0",
            "value": " 445M/445M [00:19&lt;00:00, 22.7MB/s]",
            "_view_count": null,
            "_view_module_version": "1.5.0",
            "description_tooltip": null,
            "_model_module": "@jupyter-widgets/controls",
            "layout": "IPY_MODEL_aba10002736f4b84a1a86a41d322b08a"
          }
        },
        "3b916b04a52e48948dc0a68b0a543583": {
          "model_module": "@jupyter-widgets/controls",
          "model_name": "ProgressStyleModel",
          "state": {
            "_view_name": "StyleView",
            "_model_name": "ProgressStyleModel",
            "description_width": "initial",
            "_view_module": "@jupyter-widgets/base",
            "_model_module_version": "1.5.0",
            "_view_count": null,
            "_view_module_version": "1.2.0",
            "bar_color": null,
            "_model_module": "@jupyter-widgets/controls"
          }
        },
        "dec1815fa85f4c528ce315944b130580": {
          "model_module": "@jupyter-widgets/base",
          "model_name": "LayoutModel",
          "state": {
            "_view_name": "LayoutView",
            "grid_template_rows": null,
            "right": null,
            "justify_content": null,
            "_view_module": "@jupyter-widgets/base",
            "overflow": null,
            "_model_module_version": "1.2.0",
            "_view_count": null,
            "flex_flow": null,
            "width": null,
            "min_width": null,
            "border": null,
            "align_items": null,
            "bottom": null,
            "_model_module": "@jupyter-widgets/base",
            "top": null,
            "grid_column": null,
            "overflow_y": null,
            "overflow_x": null,
            "grid_auto_flow": null,
            "grid_area": null,
            "grid_template_columns": null,
            "flex": null,
            "_model_name": "LayoutModel",
            "justify_items": null,
            "grid_row": null,
            "max_height": null,
            "align_content": null,
            "visibility": null,
            "align_self": null,
            "height": null,
            "min_height": null,
            "padding": null,
            "grid_auto_rows": null,
            "grid_gap": null,
            "max_width": null,
            "order": null,
            "_view_module_version": "1.2.0",
            "grid_template_areas": null,
            "object_position": null,
            "object_fit": null,
            "grid_auto_columns": null,
            "margin": null,
            "display": null,
            "left": null
          }
        },
        "86abe11c82ba492a8bb3bfc872123e99": {
          "model_module": "@jupyter-widgets/controls",
          "model_name": "DescriptionStyleModel",
          "state": {
            "_view_name": "StyleView",
            "_model_name": "DescriptionStyleModel",
            "description_width": "",
            "_view_module": "@jupyter-widgets/base",
            "_model_module_version": "1.5.0",
            "_view_count": null,
            "_view_module_version": "1.2.0",
            "_model_module": "@jupyter-widgets/controls"
          }
        },
        "aba10002736f4b84a1a86a41d322b08a": {
          "model_module": "@jupyter-widgets/base",
          "model_name": "LayoutModel",
          "state": {
            "_view_name": "LayoutView",
            "grid_template_rows": null,
            "right": null,
            "justify_content": null,
            "_view_module": "@jupyter-widgets/base",
            "overflow": null,
            "_model_module_version": "1.2.0",
            "_view_count": null,
            "flex_flow": null,
            "width": null,
            "min_width": null,
            "border": null,
            "align_items": null,
            "bottom": null,
            "_model_module": "@jupyter-widgets/base",
            "top": null,
            "grid_column": null,
            "overflow_y": null,
            "overflow_x": null,
            "grid_auto_flow": null,
            "grid_area": null,
            "grid_template_columns": null,
            "flex": null,
            "_model_name": "LayoutModel",
            "justify_items": null,
            "grid_row": null,
            "max_height": null,
            "align_content": null,
            "visibility": null,
            "align_self": null,
            "height": null,
            "min_height": null,
            "padding": null,
            "grid_auto_rows": null,
            "grid_gap": null,
            "max_width": null,
            "order": null,
            "_view_module_version": "1.2.0",
            "grid_template_areas": null,
            "object_position": null,
            "object_fit": null,
            "grid_auto_columns": null,
            "margin": null,
            "display": null,
            "left": null
          }
        }
      }
    }
  },
  "cells": [
    {
      "cell_type": "markdown",
      "metadata": {
        "id": "view-in-github",
        "colab_type": "text"
      },
      "source": [
        "<a href=\"https://colab.research.google.com/github/denocris/NLP-Workshop-MLMilan/blob/master/part1_wordsensedisamb_ita_roberta.ipynb\" target=\"_parent\"><img src=\"https://colab.research.google.com/assets/colab-badge.svg\" alt=\"Open In Colab\"/></a>"
      ]
    },
    {
      "cell_type": "markdown",
      "metadata": {
        "colab_type": "text",
        "id": "tXAvx0eL44RK"
      },
      "source": [
        "# Word Sense Disambiguation and Embedding Visualization with an Italian RoBERTa\n"
      ]
    },
    {
      "cell_type": "markdown",
      "metadata": {
        "id": "uGb4J9GgA1Xm",
        "colab_type": "text"
      },
      "source": [
        "### Slides\n",
        "To follow the notebook [these slides](https://docs.google.com/presentation/d/e/2PACX-1vQSCVJkfs5toV9UkFGx0JnEw6u9KJWe0HlwrooZ7I4FSbVF4LdAOhKjFrrjyHxDc1EflqMmGnvvo1-r/pub?start=false&loop=false&delayms=3000) might be useful. \n",
        "\n",
        "### My Contacts\n",
        "For any questions or doubts you can find my contacts here:\n",
        "\n",
        "* [Linkedin](https://www.linkedin.com/in/cristiano-de-nobili/) and [Twitter](https://twitter.com/denocris) (here I post about AI and Science)\n",
        "* My recent TEDx on [AI and Human Creativity](https://youtu.be/8-hrmer9d_E)\n",
        "* My [Personal Website](https://denocris.com)\n",
        "* My [Instagram](https://www.instagram.com/denocris/?hl=it) (I am a Pilot, so here I mostly post about my adventures)\n",
        "\n",
        "---\n",
        "\n",
        "\n",
        "\n",
        "\n"
      ]
    },
    {
      "cell_type": "markdown",
      "metadata": {
        "id": "eTldaRmfLWeT",
        "colab_type": "text"
      },
      "source": [
        "### Introduction\n",
        "\n",
        "#### What is BERT ?\n",
        "\n",
        "[BERT](https://arxiv.org/abs/1810.04805) (Bidirectional Encoder Representations from Transformers) is a [transformer-based architecture](https://arxiv.org/abs/1706.03762). More precisely, it is a stack of **transformer** encoder layers that consist of multiple heads, i.e. fully connected neural networks augmented with a self-attention mechanism. \n",
        "\n",
        "**Self-attention** is a non-local operator, which means that at any layer a token can attend to all other tokens regardless of their distance. Self-attention thus produces so-called contextual word embeddings, as successive layers gradually aggregate contextual information into the embedding of the input word.\n",
        "\n",
        "<center>  <img src=\"https://drive.google.com/uc?id=1fdBEGUc4mfXTbyaUVnTEZQa6Zwj0ZTnT\" width=\"650\" height=\"400\">  </center> \n",
        "\n",
        "The input to BERT is based on a sequence of tokens (words or pieces of words). The output is a sequence of vectors, one for each input token. We will often refer to these vectors as context embeddings because they include information about a token’s context. \n",
        "\n",
        "The conventional workflow for BERT consists of two stages: **pre-training** and **fine-tuning** for downstream applications. In this notebook, we will deal with fine-tuning. In fine-tuning, one or more layers are typically added on top of the pre-trained BERT. The whole algorithm will then be fine-tuned on some data.\n",
        "\n",
        "#### What will we do?\n",
        "\n",
        "In our specific case, we will use [RoBERTa](https://arxiv.org/abs/1907.11692). It is a variant of of BERT which \"modifies key hyperparameters, removing the next-sentence pretraining objective and training with much larger mini-batches and learning rates\".\n",
        "\n",
        "In particular, we will start from an Italian pre-trained RoBERTA (Gilberto and Umberto) and fine-tune it to a classification downstream task. In particular, as a simple example, we `will disambiguate a polysemic Italian word`.\n",
        "\n",
        "How it is possible disambiguation? BERT generates contextual embeddings. \n",
        "\n",
        "Experiments suggest context embeddings in BERT and related models contain enough information to perform many tasks in the traditional NLP pipeline. In particular, the authors of [this paper](https://arxiv.org/abs/1906.02715), explore the geometry of internal representations of BERT and claim that its contextual embeddings contains information about syntactics and semantics of a word. In particular, turning to semantics, using visualizations of the activations created by different pieces of text, they show suggestive evidence that BERT distinguishes word senses at a very ﬁne level.\n",
        "\n",
        "\n",
        "Actually, here we will work with RoBERTa (which is a slight modification of the original BERT in particular in the way of training) and following the procedure explained in the above paper we will at the end visualize word embeddings.\n",
        "\n",
        "---\n",
        "\n",
        "### Disclaimer\n",
        "\n",
        "*   This notebook (and the whole workshop) is a bit advanced. The aim is not to let you understand all the details. We do not have time. The aim is to just let you aware of these powerful tools and have a taste of them. For any additional curiosity feel free to ask.\n",
        "*   We will not be mathematically precise about the geometry of BERT embeddings. They have been recently discovered and many studies are on going. Some interesting papers: [one](https://nlp.stanford.edu/pubs/hewitt2019structural.pdf), [two](https://arxiv.org/abs/1906.02715), [three](https://arxiv.org/abs/1909.00512), [four](https://arxiv.org/abs/2002.12327).\n",
        "\n",
        "---\n",
        "\n",
        "### Tools Used\n",
        "\n",
        "* [PyTorch](https://pytorch.org/) as deep learning framework\n",
        "* [HuggingFace Transformers](https://huggingface.co/transformers/) library as NLP tool kit\n",
        "* [Italian Gilberto](https://github.com/idb-ita/GilBERTo) pre-trained RoBERTa by Giulio Ravasio and Leonardo Di Perna.\n",
        "* [Italian Umberto](https://github.com/musixmatchresearch/umberto) pre-trained RoBERTa by Simone Francia, Loreto Parisi, Paolo Magnani (Musixmatch).\n",
        "\n"
      ]
    },
    {
      "cell_type": "markdown",
      "metadata": {
        "id": "q9D0U5i8j69d",
        "colab_type": "text"
      },
      "source": [
        "## Packages"
      ]
    },
    {
      "cell_type": "code",
      "metadata": {
        "id": "HhnnpxsqX6VR",
        "colab_type": "code",
        "colab": {}
      },
      "source": [
        "!pip install -q transformers"
      ],
      "execution_count": 0,
      "outputs": []
    },
    {
      "cell_type": "code",
      "metadata": {
        "id": "GhJR0wZ-Dggq",
        "colab_type": "code",
        "colab": {}
      },
      "source": [
        "import tensorflow as tf\n",
        "import torch\n",
        "import numpy as np\n",
        "import pandas as pd\n",
        "import re\n",
        "import matplotlib.pyplot as plt \n",
        "import random\n",
        "import copy \n",
        "import sys"
      ],
      "execution_count": 0,
      "outputs": []
    },
    {
      "cell_type": "code",
      "metadata": {
        "id": "hjNN4C5bDmAF",
        "colab_type": "code",
        "outputId": "c80e780c-0071-4ef6-e3f5-edfe27b22ae3",
        "colab": {
          "base_uri": "https://localhost:8080/",
          "height": 34
        }
      },
      "source": [
        "from torch.utils.data import TensorDataset, DataLoader, RandomSampler, SequentialSampler\n",
        "from torch.utils.data import Dataset\n",
        "from keras.preprocessing.sequence import pad_sequences\n",
        "from transformers import BertTokenizer, AutoTokenizer, DistilBertTokenizer\n",
        "from transformers import BertModel, AutoModel, DistilBertModel\n",
        "import torch.nn as nn"
      ],
      "execution_count": 0,
      "outputs": [
        {
          "output_type": "stream",
          "text": [
            "Using TensorFlow backend.\n"
          ],
          "name": "stderr"
        }
      ]
    },
    {
      "cell_type": "markdown",
      "metadata": {
        "id": "sRYrCB6w7uJH",
        "colab_type": "text"
      },
      "source": [
        "Check GPU Settings"
      ]
    },
    {
      "cell_type": "code",
      "metadata": {
        "id": "jtpvA2n07qL2",
        "colab_type": "code",
        "outputId": "bdc93d0a-61f5-444d-90fe-4ea6d3398698",
        "colab": {
          "base_uri": "https://localhost:8080/",
          "height": 318
        }
      },
      "source": [
        "gpu_info = !nvidia-smi\n",
        "gpu_info = '\\n'.join(gpu_info)\n",
        "if gpu_info.find('failed') >= 0:\n",
        "  print('Select the Runtime → \"Change runtime type\" menu to enable a GPU accelerator, ')\n",
        "  print('and then re-execute this cell.')\n",
        "else:\n",
        "  print(gpu_info)"
      ],
      "execution_count": 0,
      "outputs": [
        {
          "output_type": "stream",
          "text": [
            "Thu May 21 08:59:15 2020       \n",
            "+-----------------------------------------------------------------------------+\n",
            "| NVIDIA-SMI 440.82       Driver Version: 418.67       CUDA Version: 10.1     |\n",
            "|-------------------------------+----------------------+----------------------+\n",
            "| GPU  Name        Persistence-M| Bus-Id        Disp.A | Volatile Uncorr. ECC |\n",
            "| Fan  Temp  Perf  Pwr:Usage/Cap|         Memory-Usage | GPU-Util  Compute M. |\n",
            "|===============================+======================+======================|\n",
            "|   0  Tesla P100-PCIE...  Off  | 00000000:00:04.0 Off |                    0 |\n",
            "| N/A   34C    P0    25W / 250W |      0MiB / 16280MiB |      0%      Default |\n",
            "+-------------------------------+----------------------+----------------------+\n",
            "                                                                               \n",
            "+-----------------------------------------------------------------------------+\n",
            "| Processes:                                                       GPU Memory |\n",
            "|  GPU       PID   Type   Process name                             Usage      |\n",
            "|=============================================================================|\n",
            "|  No running processes found                                                 |\n",
            "+-----------------------------------------------------------------------------+\n"
          ],
          "name": "stdout"
        }
      ]
    },
    {
      "cell_type": "code",
      "metadata": {
        "id": "LK1nBwL47tFX",
        "colab_type": "code",
        "outputId": "9bed481b-f116-4d53-9a4c-51ed0f460827",
        "colab": {
          "base_uri": "https://localhost:8080/",
          "height": 67
        }
      },
      "source": [
        "from psutil import virtual_memory\n",
        "ram_gb = virtual_memory().total / 1e9\n",
        "print('Your runtime has {:.1f} gigabytes of available RAM\\n'.format(ram_gb))\n",
        "\n",
        "if ram_gb < 20:\n",
        "  print('To enable a high-RAM runtime, select the Runtime → \"Change runtime type\"')\n",
        "  print('menu, and then select High-RAM in the Runtime shape dropdown. Then, ')\n",
        "  print('re-execute this cell.')\n",
        "else:\n",
        "  print('You are using a high-RAM runtime!')"
      ],
      "execution_count": 0,
      "outputs": [
        {
          "output_type": "stream",
          "text": [
            "Your runtime has 27.4 gigabytes of available RAM\n",
            "\n",
            "You are using a high-RAM runtime!\n"
          ],
          "name": "stdout"
        }
      ]
    },
    {
      "cell_type": "markdown",
      "metadata": {
        "id": "V7ZglTGtDq1c",
        "colab_type": "text"
      },
      "source": [
        "## Download Data"
      ]
    },
    {
      "cell_type": "markdown",
      "metadata": {
        "id": "5QTklu0esEOw",
        "colab_type": "text"
      },
      "source": [
        "For lack of time, we omit data preprocessing and just dowload some ready-to-use data"
      ]
    },
    {
      "cell_type": "code",
      "metadata": {
        "id": "OBzkFe3erpbo",
        "colab_type": "code",
        "outputId": "bc2bc49a-476d-4ee8-cec7-77ceee57ca5e",
        "colab": {
          "base_uri": "https://localhost:8080/",
          "height": 230
        }
      },
      "source": [
        "# Download Training Set\n",
        "!gdown --id 1cYJCe2eIqDLZWPzWxpjcVU4AQbmunQvQ\n",
        "# Download Validation Set\n",
        "!gdown --id 1aL7uZ5FEdWjUe4hqZD9kzJgC8-IWd-0-\n",
        "# Download Test Set\n",
        "!gdown --id 1Q1AGMgUD3XH89G2XLODmBOJ6ybZyyjFk\n",
        "# Mkdir Model\n",
        "!mkdir Models"
      ],
      "execution_count": 0,
      "outputs": [
        {
          "output_type": "stream",
          "text": [
            "Downloading...\n",
            "From: https://drive.google.com/uc?id=1cYJCe2eIqDLZWPzWxpjcVU4AQbmunQvQ\n",
            "To: /content/train_sei.tsv\n",
            "100% 1.84M/1.84M [00:00<00:00, 119MB/s]\n",
            "Downloading...\n",
            "From: https://drive.google.com/uc?id=1aL7uZ5FEdWjUe4hqZD9kzJgC8-IWd-0-\n",
            "To: /content/valid_sei.tsv\n",
            "100% 393k/393k [00:00<00:00, 55.9MB/s]\n",
            "Downloading...\n",
            "From: https://drive.google.com/uc?id=1Q1AGMgUD3XH89G2XLODmBOJ6ybZyyjFk\n",
            "To: /content/test_sei.tsv\n",
            "100% 70.1k/70.1k [00:00<00:00, 25.6MB/s]\n"
          ],
          "name": "stdout"
        }
      ]
    },
    {
      "cell_type": "code",
      "metadata": {
        "id": "wP3kgj_Osykc",
        "colab_type": "code",
        "outputId": "6e57b235-3aad-449f-88bc-66b52faddcd4",
        "colab": {
          "base_uri": "https://localhost:8080/",
          "height": 87
        }
      },
      "source": [
        "! wc -l *_sei.tsv"
      ],
      "execution_count": 0,
      "outputs": [
        {
          "output_type": "stream",
          "text": [
            "   1500 test_sei.tsv\n",
            "  40000 train_sei.tsv\n",
            "   8500 valid_sei.tsv\n",
            "  50000 total\n"
          ],
          "name": "stdout"
        }
      ]
    },
    {
      "cell_type": "code",
      "metadata": {
        "id": "h0QzdONbs8WE",
        "colab_type": "code",
        "outputId": "ff8c6499-45bb-4dbc-84b3-7b28d8855a99",
        "colab": {
          "base_uri": "https://localhost:8080/",
          "height": 194
        }
      },
      "source": [
        "! head -n 10 train_sei.tsv\n",
        "# label 1: sei VERB\n",
        "# label 0: sei NUMBER"
      ],
      "execution_count": 0,
      "outputs": [
        {
          "output_type": "stream",
          "text": [
            "dove sei stato e cosa hai fatto\t1\n",
            "sei ancora suo collega in azienda vedo\t1\n",
            "i due ebbero sei figli e undici nipoti\t0\n",
            "non sei andata in francia l altra settimana\t1\n",
            "non sai nemmeno quando ti sei ferito\t1\n",
            "stai cercando lavoro da sei mesi circa\t0\n",
            "tu sei ancora a milano o sei partito\t1\n",
            "so che sei un bugiardo larry\t1\n",
            "tu sei il portatore dell anello frodo\t1\n",
            "ti sei buttato a capofitto nel pericolo e hai portato doyle in salvo\t1\n"
          ],
          "name": "stdout"
        }
      ]
    },
    {
      "cell_type": "markdown",
      "metadata": {
        "id": "-d1UsaKeWlrI",
        "colab_type": "text"
      },
      "source": [
        "As you can see, our dataset is made of two type of sentences (labelled differently): sentences where the word `sei` is a VERB and sentences where sei is a NUMBER. The dataset was built scraping different sources from the web. Only sentences shorter than a fixed length were filtered.\n",
        "\n",
        "\n",
        "\n"
      ]
    },
    {
      "cell_type": "markdown",
      "metadata": {
        "id": "bsYv4GxvNAUs",
        "colab_type": "text"
      },
      "source": [
        "### Data Loader"
      ]
    },
    {
      "cell_type": "markdown",
      "metadata": {
        "id": "R3UqqD2J3trq",
        "colab_type": "text"
      },
      "source": [
        "Before giving any inputs to a BERT-like model, it is important to prepare the sentence the way BERT likes to ingest it. In more technical words, we must tokenize properly our input. A tokenizer is in charge of preparing the inputs for a model. We will use pre-trained tokenizer, but it is worth knowing that you can train your own tokenizer."
      ]
    },
    {
      "cell_type": "code",
      "metadata": {
        "id": "wTkoTujhM1kK",
        "colab_type": "code",
        "colab": {}
      },
      "source": [
        "class SSTDataset(Dataset):\n",
        "\n",
        "    def __init__(self, filename, maxlen, bert_type = 'ita-gilberto'):\n",
        "\n",
        "        #Store the contents of the file in a pandas dataframe\n",
        "        self.df = pd.read_csv(filename, delimiter = '\\t', header=None)\n",
        "        self.maxlen = maxlen\n",
        "\n",
        "        #Initialize the BERT tokenizer\n",
        "        if bert_type == 'ita-gilberto':\n",
        "            # Italian BERT (GilBERTo)\n",
        "            self.tokenizer = AutoTokenizer.from_pretrained(\"idb-ita/gilberto-uncased-from-camembert\", do_lower_case=True)\n",
        "        elif bert_type == 'ita-umberto':\n",
        "            # Italian BERT (UmBERTo)\n",
        "            self.tokenizer = AutoTokenizer.from_pretrained(\"Musixmatch/umberto-commoncrawl-cased-v1\", do_lower_case=True)\n",
        "        elif bert_type == 'multilingual':\n",
        "            # Multilingual\n",
        "            self.tokenizer = BertTokenizer.from_pretrained('bert-base-multilingual-cased', do_lower_case=True)\n",
        "        elif bert_type == 'distil-multilingual': \n",
        "            # Distilled Multilingual\n",
        "            self.tokenizer = DistilBertTokenizer.from_pretrained('distilbert-base-multilingual-cased', do_lower_case=True)\n",
        "\n",
        "        \n",
        "\n",
        "    def __len__(self):\n",
        "        return len(self.df)\n",
        "\n",
        "    def __getitem__(self, index):\n",
        "\n",
        "        #Selecting the sentence and label at the specified index in the data frame\n",
        "        sentence = self.df.loc[index, 0]\n",
        "        label = self.df.loc[index, 1]\n",
        "\n",
        "        # tokenize the sentence\n",
        "        try:\n",
        "            encoded_sent = self.tokenizer.encode(sentence, add_special_tokens = True)\n",
        "        except:\n",
        "            print(\"---- CHECK THIS SENTENCE ----- >>\", sentence, label)\n",
        "            sys.exit()\n",
        "\n",
        "        # padding the sentence to the max length\n",
        "        if len(encoded_sent) > self.maxlen:\n",
        "            encoded_sent = encoded_sent[:self.maxlen - 2]\n",
        "        padded_sent  = encoded_sent + [0 for _ in range(self.maxlen - len(encoded_sent))]\n",
        "        #Converting the list to a pytorch tensor\n",
        "        tokens_ids_tensor = torch.tensor(padded_sent) #Converting the list to a pytorch tensor\n",
        "        #Obtaining the attention mask i.e a tensor containing 1s for no padded tokens and 0s for padded ones\n",
        "        attn_mask = (tokens_ids_tensor != 0).long()\n",
        "\n",
        "        return tokens_ids_tensor, attn_mask, label"
      ],
      "execution_count": 0,
      "outputs": []
    },
    {
      "cell_type": "markdown",
      "metadata": {
        "id": "4UGnLt35yGyJ",
        "colab_type": "text"
      },
      "source": [
        "Let us unroll the funcrion and see it step-by-step"
      ]
    },
    {
      "cell_type": "code",
      "metadata": {
        "id": "Q1NKZDofxPV-",
        "colab_type": "code",
        "outputId": "df72482f-0e2d-455a-9cc7-2335345b00f7",
        "colab": {
          "base_uri": "https://localhost:8080/",
          "height": 312,
          "referenced_widgets": [
            "a501be46235d438cb71b60f590098c3c",
            "18dfd1a83de0436ca19b5309f0e32a54",
            "810c468c177b4850b2f8fb78456347f4",
            "fef8e7dc6bf24bc9a2b4f3e8b2a0e33a",
            "f083a095d0ae469bb3007d47c9850225",
            "e1d8b2e8c97a438ca4cd362a33bfe913",
            "6fe90c4279c24048b949489a6d71b95e",
            "97b070a861804cb49a644ecec3116ba2",
            "3313f9c5958c4831901a942d31584076",
            "ff3af747348847ee9a6cd98b518142b8",
            "3a8b0b92543644009d81ea0edf9eba5d",
            "a037844bb67f459380afb2d0a1dd201b",
            "d8966244d4f84880949c271a6e12a5db",
            "d4d4632ffff34b639aeb1c6469e7da3f",
            "d95a4fc6852b4f17a89e98827306e4ae",
            "46a7d34529c440abbf2e224fda579b41"
          ]
        }
      },
      "source": [
        "# Choose a tokenizer, let's say Gilberto\n",
        "tokenizer = AutoTokenizer.from_pretrained(\"idb-ita/gilberto-uncased-from-camembert\", do_lower_case=True)\n",
        "\n",
        "#Choose a sentence\n",
        "sentence = 'Ciao come stai? Cosa fai stasera?'\n",
        "\n",
        "# Tokenize with special tokens (<s> and <\\s> for RoBERTa)\n",
        "encoded_sent = tokenizer.encode(sentence, add_special_tokens = True)\n",
        "tokens_from_ids = tokenizer.convert_ids_to_tokens(encoded_sent)\n",
        "padded_sent  = encoded_sent + [0 for _ in range(20 - len(encoded_sent))]\n",
        "tokens_ids_tensor = torch.tensor(padded_sent)\n",
        "attn_mask = (tokens_ids_tensor != 0).long()\n",
        "\n",
        "print('\\n', encoded_sent)\n",
        "print('\\n', tokens_from_ids)\n",
        "print('\\n', padded_sent)\n",
        "print('\\n', tokens_ids_tensor)\n",
        "print('\\n', attn_mask)\n",
        "\n"
      ],
      "execution_count": 0,
      "outputs": [
        {
          "output_type": "display_data",
          "data": {
            "application/vnd.jupyter.widget-view+json": {
              "model_id": "a501be46235d438cb71b60f590098c3c",
              "version_minor": 0,
              "version_major": 2
            },
            "text/plain": [
              "HBox(children=(FloatProgress(value=0.0, description='Downloading', max=508.0, style=ProgressStyle(description_…"
            ]
          },
          "metadata": {
            "tags": []
          }
        },
        {
          "output_type": "stream",
          "text": [
            "\n"
          ],
          "name": "stdout"
        },
        {
          "output_type": "display_data",
          "data": {
            "application/vnd.jupyter.widget-view+json": {
              "model_id": "3313f9c5958c4831901a942d31584076",
              "version_minor": 0,
              "version_major": 2
            },
            "text/plain": [
              "HBox(children=(FloatProgress(value=0.0, description='Downloading', max=805870.0, style=ProgressStyle(descripti…"
            ]
          },
          "metadata": {
            "tags": []
          }
        },
        {
          "output_type": "stream",
          "text": [
            "\n",
            "\n",
            " [5, 3171, 198, 5140, 31978, 664, 3291, 10279, 31978, 6]\n",
            "\n",
            " ['<s>', '▁ciao', '▁come', '▁stai', '?', '▁cosa', '▁fai', '▁stasera', '?', '</s>']\n",
            "\n",
            " [5, 3171, 198, 5140, 31978, 664, 3291, 10279, 31978, 6, 0, 0, 0, 0, 0, 0, 0, 0, 0, 0]\n",
            "\n",
            " tensor([    5,  3171,   198,  5140, 31978,   664,  3291, 10279, 31978,     6,\n",
            "            0,     0,     0,     0,     0,     0,     0,     0,     0,     0])\n",
            "\n",
            " tensor([1, 1, 1, 1, 1, 1, 1, 1, 1, 1, 0, 0, 0, 0, 0, 0, 0, 0, 0, 0])\n"
          ],
          "name": "stdout"
        }
      ]
    },
    {
      "cell_type": "code",
      "metadata": {
        "id": "GXbmP9mQNye1",
        "colab_type": "code",
        "colab": {}
      },
      "source": [
        "MAXLEN= 50\n",
        "bert_type = 'ita-gilberto' #'ita-umberto'\n",
        "BATCH_SIZE = 8\n",
        "MAX_EPS = 5\n",
        "\n",
        "#Creating dataloaders\n",
        "train_set = SSTDataset(filename = './train_sei.tsv', maxlen = MAXLEN, bert_type = bert_type)\n",
        "val_set = SSTDataset(filename = './valid_sei.tsv', maxlen = MAXLEN, bert_type = bert_type)\n",
        "\n",
        "# Data loader combines a dataset and a sampler, and provides an iterable over the given dataset.\n",
        "train_loader = DataLoader(train_set, batch_size = BATCH_SIZE , num_workers = 2)\n",
        "val_loader = DataLoader(val_set, batch_size = BATCH_SIZE , num_workers = 2)"
      ],
      "execution_count": 0,
      "outputs": []
    },
    {
      "cell_type": "markdown",
      "metadata": {
        "id": "k4yvCYCBMvSS",
        "colab_type": "text"
      },
      "source": [
        "## Model Definition and Training\n",
        "\n",
        "\n"
      ]
    },
    {
      "cell_type": "markdown",
      "metadata": {
        "id": "Am6C1R_6FKA7",
        "colab_type": "text"
      },
      "source": [
        "### Models Definition\n",
        "\n",
        "Let's define here the simplest BERT model possible: BERT with a classification head"
      ]
    },
    {
      "cell_type": "code",
      "metadata": {
        "id": "6tumiYfWNtNw",
        "colab_type": "code",
        "colab": {}
      },
      "source": [
        "class Net(nn.Module):\n",
        "    # -------------------------\n",
        "    # Italian pre-trained Model with a binary classification head.\n",
        "    # -------------------------\n",
        "    def __init__(self, freeze_bert = True, bert_type = 'ita-gilberto'):\n",
        "        super(Net, self).__init__()\n",
        "        #Instantiating BERT model object\n",
        "        self.bert_type = bert_type \n",
        "        if bert_type == 'ita-gilberto':\n",
        "            # Italian BERT (GilBERTo)\n",
        "            self.bert_layer = AutoModel.from_pretrained(\"idb-ita/gilberto-uncased-from-camembert\")\n",
        "        elif bert_type == 'ita-umberto':\n",
        "            # Italian BERT (UmBERTo)\n",
        "            self.bert_layer = AutoModel.from_pretrained(\"Musixmatch/umberto-commoncrawl-cased-v1\")\n",
        "        elif bert_type == 'multilingual':\n",
        "            # Multilingual\n",
        "            self.bert_layer = BertModel.from_pretrained('bert-base-multilingual-cased')\n",
        "        elif bert_type == 'distil-multilingual': \n",
        "          # Distilled Multilingual\n",
        "          self.bert_layer = DistilBertModel.from_pretrained(\"distilbert-base-multilingual-cased\")\n",
        "\n",
        "        #Freeze bert layers\n",
        "        if freeze_bert:\n",
        "            for p in self.bert_layer.parameters():\n",
        "                p.requires_grad = False\n",
        "\n",
        "        #Classification layer\n",
        "        self.dropout = nn.Dropout(p=0.2, inplace=False)\n",
        "        self.cls_layer = nn.Linear(768, 1)\n",
        "\n",
        "    def forward(self, seq, attn_masks):\n",
        "        '''\n",
        "        Inputs:\n",
        "            -seq : Tensor of shape [batch_size, max_length] containing token ids of sequences\n",
        "            -attn_masks : Tensor of shape [batch_size, max_length] containing attention masks to be used to avoid contibution of PAD tokens\n",
        "        '''\n",
        "\n",
        "        #Feeding the input to BERT model to obtain contextualized representations\n",
        "        if self.bert_type == 'distil-multilingual':\n",
        "          cont_reps = self.bert_layer(seq, attention_mask = attn_masks)\n",
        "          cont_reps = cont_reps[0]\n",
        "        else: \n",
        "          cont_reps, _ = self.bert_layer(seq, attention_mask = attn_masks)\n",
        "\n",
        "        #Obtaining the representation of [CLS] head\n",
        "        cls_rep = cont_reps[:, 0]\n",
        "\n",
        "        #Feeding cls_rep to the classifier layer\n",
        "        dropout = self.dropout(cls_rep)\n",
        "        logits = self.cls_layer(dropout)\n",
        "\n",
        "        return logits"
      ],
      "execution_count": 0,
      "outputs": []
    },
    {
      "cell_type": "markdown",
      "metadata": {
        "id": "WJiv-rt5P_cv",
        "colab_type": "text"
      },
      "source": [
        "Let's define train and evaluation steps"
      ]
    },
    {
      "cell_type": "code",
      "metadata": {
        "id": "E6jKPpKjQBbN",
        "colab_type": "code",
        "colab": {}
      },
      "source": [
        "def get_accuracy_from_logits(logits, labels):\n",
        "    softmax = nn.Softmax(dim=1)\n",
        "    argmax = torch.argmax(softmax(logits.float()), dim=1)\n",
        "    pred_class = argmax.long()\n",
        "    acc = (pred_class == labels.long()).float().mean()\n",
        "    return acc\n",
        "\n",
        "def evaluate(net, criterion, dataloader):\n",
        "    net.eval()\n",
        "\n",
        "    mean_acc, mean_loss = 0, 0\n",
        "    count = 0\n",
        "\n",
        "    with torch.no_grad():\n",
        "        for seq, attn_masks, labels in dataloader:\n",
        "            seq, attn_masks, labels = seq.cuda(), attn_masks.cuda(), labels.cuda()\n",
        "            logits = net(seq, attn_masks)\n",
        "            mean_loss += criterion(logits.squeeze(-1), labels.float()).item()\n",
        "            mean_acc += get_accuracy_from_logits(logits, labels)\n",
        "            count += 1\n",
        "\n",
        "    return mean_acc / count, mean_loss / count\n",
        "\n",
        "def train(net, criterion, opti, train_loader, val_loader):\n",
        "    step = 0\n",
        "    best_acc = 0\n",
        "    for ep in range(MAX_EPS):\n",
        "        net.train()\n",
        "        for it, (seq, attn_masks, labels) in enumerate(train_loader):\n",
        "            step +=1\n",
        "            #Clear gradients\n",
        "            opti.zero_grad()\n",
        "            #Converting these to cuda tensors\n",
        "            seq, attn_masks, labels = seq.cuda(), attn_masks.cuda(), labels.cuda()\n",
        "\n",
        "            #Obtaining the logits from the model\n",
        "            logits = net(seq, attn_masks)\n",
        "\n",
        "            #Computing loss\n",
        "            loss = criterion(logits.squeeze(-1), labels.float())\n",
        "            # For multiclass case, when criterion = nn.CrossEntropyLoss()\n",
        "            # loss = loss = criterion(logits.squeeze(-1), labels.long())\n",
        "\n",
        "\n",
        "            #Backpropagating the gradients\n",
        "            loss.backward()\n",
        "\n",
        "            #Optimization step\n",
        "            opti.step()\n",
        "\n",
        "            if step % 100 == 0:\n",
        "                acc = get_accuracy_from_logits(logits, labels)\n",
        "                print(\"Iteration {} of epoch {} complete. Loss : {} Accuracy : {}\".format(step, ep, loss.item(), acc))\n",
        "                steps.append(step)\n",
        "                loss_train.append(loss.item())\n",
        "\n",
        "\n",
        "        val_acc, val_loss = evaluate(net, criterion, val_loader)\n",
        "        print(\"Epoch {} complete! Validation Accuracy : {}, Validation Loss : {}\".format(ep, val_acc, val_loss))\n",
        "        steps_valid.append(step)\n",
        "        loss_valid.append(val_loss)\n",
        "        if val_acc > best_acc:\n",
        "            print(\"Best validation accuracy improved from {} to {}, saving model...\".format(best_acc, val_acc))\n",
        "            best_acc = val_acc\n",
        "            #torch.save(net.state_dict(), 'Models/RCNNUmberto-bi-ita_{}_rnn32f100_lr3m7.pt'.format(ep))\n",
        "            torch.save(net.state_dict(), 'Models/{}_fine-tuned_{}.pt'.format(bert_type, ep))"
      ],
      "execution_count": 0,
      "outputs": []
    },
    {
      "cell_type": "markdown",
      "metadata": {
        "id": "QU_UaialFQ_K",
        "colab_type": "text"
      },
      "source": [
        "### Training"
      ]
    },
    {
      "cell_type": "code",
      "metadata": {
        "id": "DEZw9c9gQS6d",
        "colab_type": "code",
        "colab": {}
      },
      "source": [
        "SEED = 172\n",
        "\n",
        "random.seed(SEED)\n",
        "np.random.seed(SEED)\n",
        "torch.manual_seed(SEED)\n",
        "torch.cuda.manual_seed_all(SEED)\n",
        "\n",
        "\n",
        "net = Net(freeze_bert = False, bert_type = 'ita-gilberto')\n",
        "\n",
        "#Enable gpu support for the model\n",
        "net.cuda() \n",
        "\n",
        "\n",
        "criterion = nn.BCEWithLogitsLoss()\n",
        "opti = torch.optim.Adam(net.parameters(), lr = 0.000005)\n",
        "\n",
        "\n",
        "steps, steps_valid = [], []\n",
        "loss_train, loss_valid = [], []\n",
        "train(net, criterion, opti, train_loader, val_loader)\n",
        "\n",
        "print(loss_train)\n",
        "plt.figure(figsize=(15, 12))\n",
        "plt.plot(steps, loss_train, c = 'b')\n",
        "plt.plot(steps_valid, loss_valid, c = 'g')\n",
        "plt.savefig('./foo.png')\n",
        "plt.show()"
      ],
      "execution_count": 0,
      "outputs": []
    },
    {
      "cell_type": "markdown",
      "metadata": {
        "id": "NcRKOI718QPo",
        "colab_type": "text"
      },
      "source": [
        "Save the model on your drive"
      ]
    },
    {
      "cell_type": "code",
      "metadata": {
        "id": "8i-f-e3ZRctH",
        "colab_type": "code",
        "colab": {}
      },
      "source": [
        "# Mount Google Drive to this Notebook instance.\n",
        "from google.colab import drive\n",
        "drive.mount('/content/drive')"
      ],
      "execution_count": 0,
      "outputs": []
    },
    {
      "cell_type": "code",
      "metadata": {
        "id": "kRRbh249RfGY",
        "colab_type": "code",
        "colab": {}
      },
      "source": [
        "!cp -r ./Models/ ./drive/My\\ Drive/tmp_stuff/BERTCheckpoints/Models/"
      ],
      "execution_count": 0,
      "outputs": []
    },
    {
      "cell_type": "markdown",
      "metadata": {
        "id": "zLcn50uqPp_n",
        "colab_type": "text"
      },
      "source": [
        "## Before Inference: Model Loading"
      ]
    },
    {
      "cell_type": "markdown",
      "metadata": {
        "id": "mFrvd16R7UhN",
        "colab_type": "text"
      },
      "source": [
        "The task is the disambiguation of the word `sei` which has at least two meanings: verb and number"
      ]
    },
    {
      "cell_type": "code",
      "metadata": {
        "id": "SJ7BQX9ZoSN1",
        "colab_type": "code",
        "outputId": "ac0e6cfb-85f4-49ed-c21a-a320df988da6",
        "colab": {
          "base_uri": "https://localhost:8080/",
          "height": 158
        }
      },
      "source": [
        "#Download Checkpoint already Trained\n",
        "\n",
        "# Italian pre-trained Gilberto Model with a binary classification head, finetuned on SEI disambiguation.\n",
        "!gdown --id 18YMFrh3CIWzcL7HAPLQkaXKR7HPBVhgd\n",
        "\n",
        "# Italian pre-trained Umberto Model with a binary classification head, finetuned on SEI disambiguation.\n",
        "!gdown --id 1-44hscILUBFMHseoflGyBt9w2QWYTkvp"
      ],
      "execution_count": 0,
      "outputs": [
        {
          "output_type": "stream",
          "text": [
            "Downloading...\n",
            "From: https://drive.google.com/uc?id=18YMFrh3CIWzcL7HAPLQkaXKR7HPBVhgd\n",
            "To: /content/gilberto_finetuned_sei.pt\n",
            "443MB [00:07, 62.1MB/s]\n",
            "Downloading...\n",
            "From: https://drive.google.com/uc?id=1-44hscILUBFMHseoflGyBt9w2QWYTkvp\n",
            "To: /content/umberto_finetuned_sei.pt\n",
            "443MB [00:06, 68.3MB/s]\n"
          ],
          "name": "stdout"
        }
      ]
    },
    {
      "cell_type": "code",
      "metadata": {
        "id": "-DD2Z_6wWHBQ",
        "colab_type": "code",
        "outputId": "25f1f7f0-0f81-4252-d23d-4c35e3628efa",
        "colab": {
          "base_uri": "https://localhost:8080/",
          "height": 34
        }
      },
      "source": [
        "# Move checkpoint to Models\n",
        "!mkdir Models\n",
        "!mv *_sei.pt ./Models/"
      ],
      "execution_count": 0,
      "outputs": [
        {
          "output_type": "stream",
          "text": [
            "mkdir: cannot create directory ‘Models’: File exists\n"
          ],
          "name": "stdout"
        }
      ]
    },
    {
      "cell_type": "code",
      "metadata": {
        "id": "5eDPxAsaL6WV",
        "colab_type": "code",
        "colab": {}
      },
      "source": [
        "bert_type = 'ita-umberto'\n",
        "#bert_type = 'ita-gilberto'"
      ],
      "execution_count": 0,
      "outputs": []
    },
    {
      "cell_type": "code",
      "metadata": {
        "id": "Ob9MxVD_YpA3",
        "colab_type": "code",
        "colab": {}
      },
      "source": [
        "class Net(nn.Module):\n",
        "    # -------------------------\n",
        "    # Italian pre-trained Model (No fine-tuning applied)\n",
        "    # -------------------------\n",
        "    def __init__(self, freeze_bert = False, bert_type = 'ita-gilberto'):\n",
        "        super(Net, self).__init__()\n",
        "        #Instantiating BERT model object\n",
        "        if bert_type == 'ita-gilberto':\n",
        "            # Italian BERT (GilBERTo)\n",
        "            self.bert_layer = AutoModel.from_pretrained(\"idb-ita/gilberto-uncased-from-camembert\")\n",
        "        elif bert_type == 'ita-umberto':\n",
        "            # Italian BERT (UmBERTo)\n",
        "            self.bert_layer = AutoModel.from_pretrained(\"Musixmatch/umberto-commoncrawl-cased-v1\")\n",
        "        elif bert_type == 'multilingual':\n",
        "            # Multilingual\n",
        "            self.bert_layer = BertModel.from_pretrained('bert-base-multilingual-cased')\n",
        "        elif bert_type == 'distil-multilingual': \n",
        "          # Distilled Multilingual\n",
        "          self.bert_layer = DistilBertModel.from_pretrained(\"distilbert-base-multilingual-cased\")\n",
        "\n",
        "        #Freeze bert layers\n",
        "        if freeze_bert:\n",
        "            for p in self.bert_layer.parameters():\n",
        "                p.requires_grad = False\n",
        "\n",
        "\n",
        "    def forward(self, seq, attn_masks):\n",
        "        #Feeding the input to BERT model to obtain contextualized representations\n",
        "        cont_reps, _ = self.bert_layer(seq, attention_mask = attn_masks)\n",
        "\n",
        "        return _, cont_reps\n",
        "\n",
        "\n",
        "class FineTunedNet(nn.Module):\n",
        "      # -------------------------\n",
        "      # Italian pre-trained Model with a binary classification head.\n",
        "      # -------------------------\n",
        "    def __init__(self, freeze_bert = False, bert_type = 'ita-gilberto'):\n",
        "        super(FineTunedNet, self).__init__()\n",
        "        #Instantiating BERT model object\n",
        "        self.bert_type = bert_type \n",
        "        if bert_type == 'ita-gilberto':\n",
        "            # Italian BERT (GilBERTo)\n",
        "            self.bert_layer = AutoModel.from_pretrained(\"idb-ita/gilberto-uncased-from-camembert\")\n",
        "        elif bert_type == 'ita-umberto':\n",
        "            # Italian BERT (UmBERTo)\n",
        "            self.bert_layer = AutoModel.from_pretrained(\"Musixmatch/umberto-commoncrawl-cased-v1\")\n",
        "        elif bert_type == 'multilingual':\n",
        "            # Multilingual\n",
        "            self.bert_layer = BertModel.from_pretrained('bert-base-multilingual-cased')\n",
        "        elif bert_type == 'distil-multilingual': \n",
        "          # Distilled Multilingual\n",
        "          self.bert_layer = DistilBertModel.from_pretrained(\"distilbert-base-multilingual-cased\")\n",
        "\n",
        "        #Freeze bert layers\n",
        "        if freeze_bert:\n",
        "            for p in self.bert_layer.parameters():\n",
        "                p.requires_grad = False\n",
        "\n",
        "        #Classification layer\n",
        "        self.dropout = nn.Dropout(p=0.2, inplace=False)\n",
        "        self.cls_layer = nn.Linear(768, 1)\n",
        "\n",
        "    def forward(self, seq, attn_masks):\n",
        "\n",
        "        #Feeding the input to BERT model to obtain contextualized representations\n",
        "        if self.bert_type == 'distil-multilingual':\n",
        "          cont_reps = self.bert_layer(seq, attention_mask = attn_masks)\n",
        "          cont_reps = cont_reps[0]\n",
        "        else: \n",
        "          cont_reps, _ = self.bert_layer(seq, attention_mask = attn_masks)\n",
        "\n",
        "        #Obtaining the representation of [CLS] head\n",
        "        cls_rep = cont_reps[:, 0]\n",
        "\n",
        "        #Feeding cls_rep to the classifier layer\n",
        "        dropout = self.dropout(cls_rep)\n",
        "        logits = self.cls_layer(dropout)\n",
        "\n",
        "        return logits, cont_reps"
      ],
      "execution_count": 0,
      "outputs": []
    },
    {
      "cell_type": "code",
      "metadata": {
        "id": "efQVUOAy-LOe",
        "colab_type": "code",
        "outputId": "12057b7c-226d-48e5-bfb5-9c17f3843440",
        "colab": {
          "base_uri": "https://localhost:8080/",
          "height": 1000,
          "referenced_widgets": [
            "a42a53d3fa5d46cebeec18c112e61b30",
            "c6aac12f09e44d02b673aaab78d964e1",
            "89b302d605474380af444bc4594c4adf",
            "344656116e9449128c84fd786e937346",
            "51e95a749832450aa9d8b653c2d1f8df",
            "c8cb4e20da6d4943a83d18394e03d917",
            "9d697d960b3b43bcb98ebcd807b23f2c",
            "28805c74edd74d05ba43a07b9203054b",
            "16f0a25eaceb4de6b8c18567911cdb54",
            "9164faeb45ae44cbb90bfa9020797728",
            "e41bfd172c3044e390f522e7d81068ab",
            "6caf36194cad4cf3863547bf83f1fe67",
            "3b916b04a52e48948dc0a68b0a543583",
            "dec1815fa85f4c528ce315944b130580",
            "86abe11c82ba492a8bb3bfc872123e99",
            "aba10002736f4b84a1a86a41d322b08a"
          ]
        }
      },
      "source": [
        "# Load the pre-trained model not finetuned (for visualization purposes in the last section)\n",
        "\n",
        "net = Net(bert_type = bert_type)\n",
        "net.eval()"
      ],
      "execution_count": 0,
      "outputs": [
        {
          "output_type": "display_data",
          "data": {
            "application/vnd.jupyter.widget-view+json": {
              "model_id": "a42a53d3fa5d46cebeec18c112e61b30",
              "version_minor": 0,
              "version_major": 2
            },
            "text/plain": [
              "HBox(children=(FloatProgress(value=0.0, description='Downloading', max=508.0, style=ProgressStyle(description_…"
            ]
          },
          "metadata": {
            "tags": []
          }
        },
        {
          "output_type": "stream",
          "text": [
            "\n"
          ],
          "name": "stdout"
        },
        {
          "output_type": "display_data",
          "data": {
            "application/vnd.jupyter.widget-view+json": {
              "model_id": "16f0a25eaceb4de6b8c18567911cdb54",
              "version_minor": 0,
              "version_major": 2
            },
            "text/plain": [
              "HBox(children=(FloatProgress(value=0.0, description='Downloading', max=445031664.0, style=ProgressStyle(descri…"
            ]
          },
          "metadata": {
            "tags": []
          }
        },
        {
          "output_type": "stream",
          "text": [
            "\n"
          ],
          "name": "stdout"
        },
        {
          "output_type": "execute_result",
          "data": {
            "text/plain": [
              "Net(\n",
              "  (bert_layer): CamembertModel(\n",
              "    (embeddings): RobertaEmbeddings(\n",
              "      (word_embeddings): Embedding(32005, 768, padding_idx=1)\n",
              "      (position_embeddings): Embedding(514, 768, padding_idx=1)\n",
              "      (token_type_embeddings): Embedding(1, 768)\n",
              "      (LayerNorm): LayerNorm((768,), eps=1e-05, elementwise_affine=True)\n",
              "      (dropout): Dropout(p=0.1, inplace=False)\n",
              "    )\n",
              "    (encoder): BertEncoder(\n",
              "      (layer): ModuleList(\n",
              "        (0): BertLayer(\n",
              "          (attention): BertAttention(\n",
              "            (self): BertSelfAttention(\n",
              "              (query): Linear(in_features=768, out_features=768, bias=True)\n",
              "              (key): Linear(in_features=768, out_features=768, bias=True)\n",
              "              (value): Linear(in_features=768, out_features=768, bias=True)\n",
              "              (dropout): Dropout(p=0.1, inplace=False)\n",
              "            )\n",
              "            (output): BertSelfOutput(\n",
              "              (dense): Linear(in_features=768, out_features=768, bias=True)\n",
              "              (LayerNorm): LayerNorm((768,), eps=1e-05, elementwise_affine=True)\n",
              "              (dropout): Dropout(p=0.1, inplace=False)\n",
              "            )\n",
              "          )\n",
              "          (intermediate): BertIntermediate(\n",
              "            (dense): Linear(in_features=768, out_features=3072, bias=True)\n",
              "          )\n",
              "          (output): BertOutput(\n",
              "            (dense): Linear(in_features=3072, out_features=768, bias=True)\n",
              "            (LayerNorm): LayerNorm((768,), eps=1e-05, elementwise_affine=True)\n",
              "            (dropout): Dropout(p=0.1, inplace=False)\n",
              "          )\n",
              "        )\n",
              "        (1): BertLayer(\n",
              "          (attention): BertAttention(\n",
              "            (self): BertSelfAttention(\n",
              "              (query): Linear(in_features=768, out_features=768, bias=True)\n",
              "              (key): Linear(in_features=768, out_features=768, bias=True)\n",
              "              (value): Linear(in_features=768, out_features=768, bias=True)\n",
              "              (dropout): Dropout(p=0.1, inplace=False)\n",
              "            )\n",
              "            (output): BertSelfOutput(\n",
              "              (dense): Linear(in_features=768, out_features=768, bias=True)\n",
              "              (LayerNorm): LayerNorm((768,), eps=1e-05, elementwise_affine=True)\n",
              "              (dropout): Dropout(p=0.1, inplace=False)\n",
              "            )\n",
              "          )\n",
              "          (intermediate): BertIntermediate(\n",
              "            (dense): Linear(in_features=768, out_features=3072, bias=True)\n",
              "          )\n",
              "          (output): BertOutput(\n",
              "            (dense): Linear(in_features=3072, out_features=768, bias=True)\n",
              "            (LayerNorm): LayerNorm((768,), eps=1e-05, elementwise_affine=True)\n",
              "            (dropout): Dropout(p=0.1, inplace=False)\n",
              "          )\n",
              "        )\n",
              "        (2): BertLayer(\n",
              "          (attention): BertAttention(\n",
              "            (self): BertSelfAttention(\n",
              "              (query): Linear(in_features=768, out_features=768, bias=True)\n",
              "              (key): Linear(in_features=768, out_features=768, bias=True)\n",
              "              (value): Linear(in_features=768, out_features=768, bias=True)\n",
              "              (dropout): Dropout(p=0.1, inplace=False)\n",
              "            )\n",
              "            (output): BertSelfOutput(\n",
              "              (dense): Linear(in_features=768, out_features=768, bias=True)\n",
              "              (LayerNorm): LayerNorm((768,), eps=1e-05, elementwise_affine=True)\n",
              "              (dropout): Dropout(p=0.1, inplace=False)\n",
              "            )\n",
              "          )\n",
              "          (intermediate): BertIntermediate(\n",
              "            (dense): Linear(in_features=768, out_features=3072, bias=True)\n",
              "          )\n",
              "          (output): BertOutput(\n",
              "            (dense): Linear(in_features=3072, out_features=768, bias=True)\n",
              "            (LayerNorm): LayerNorm((768,), eps=1e-05, elementwise_affine=True)\n",
              "            (dropout): Dropout(p=0.1, inplace=False)\n",
              "          )\n",
              "        )\n",
              "        (3): BertLayer(\n",
              "          (attention): BertAttention(\n",
              "            (self): BertSelfAttention(\n",
              "              (query): Linear(in_features=768, out_features=768, bias=True)\n",
              "              (key): Linear(in_features=768, out_features=768, bias=True)\n",
              "              (value): Linear(in_features=768, out_features=768, bias=True)\n",
              "              (dropout): Dropout(p=0.1, inplace=False)\n",
              "            )\n",
              "            (output): BertSelfOutput(\n",
              "              (dense): Linear(in_features=768, out_features=768, bias=True)\n",
              "              (LayerNorm): LayerNorm((768,), eps=1e-05, elementwise_affine=True)\n",
              "              (dropout): Dropout(p=0.1, inplace=False)\n",
              "            )\n",
              "          )\n",
              "          (intermediate): BertIntermediate(\n",
              "            (dense): Linear(in_features=768, out_features=3072, bias=True)\n",
              "          )\n",
              "          (output): BertOutput(\n",
              "            (dense): Linear(in_features=3072, out_features=768, bias=True)\n",
              "            (LayerNorm): LayerNorm((768,), eps=1e-05, elementwise_affine=True)\n",
              "            (dropout): Dropout(p=0.1, inplace=False)\n",
              "          )\n",
              "        )\n",
              "        (4): BertLayer(\n",
              "          (attention): BertAttention(\n",
              "            (self): BertSelfAttention(\n",
              "              (query): Linear(in_features=768, out_features=768, bias=True)\n",
              "              (key): Linear(in_features=768, out_features=768, bias=True)\n",
              "              (value): Linear(in_features=768, out_features=768, bias=True)\n",
              "              (dropout): Dropout(p=0.1, inplace=False)\n",
              "            )\n",
              "            (output): BertSelfOutput(\n",
              "              (dense): Linear(in_features=768, out_features=768, bias=True)\n",
              "              (LayerNorm): LayerNorm((768,), eps=1e-05, elementwise_affine=True)\n",
              "              (dropout): Dropout(p=0.1, inplace=False)\n",
              "            )\n",
              "          )\n",
              "          (intermediate): BertIntermediate(\n",
              "            (dense): Linear(in_features=768, out_features=3072, bias=True)\n",
              "          )\n",
              "          (output): BertOutput(\n",
              "            (dense): Linear(in_features=3072, out_features=768, bias=True)\n",
              "            (LayerNorm): LayerNorm((768,), eps=1e-05, elementwise_affine=True)\n",
              "            (dropout): Dropout(p=0.1, inplace=False)\n",
              "          )\n",
              "        )\n",
              "        (5): BertLayer(\n",
              "          (attention): BertAttention(\n",
              "            (self): BertSelfAttention(\n",
              "              (query): Linear(in_features=768, out_features=768, bias=True)\n",
              "              (key): Linear(in_features=768, out_features=768, bias=True)\n",
              "              (value): Linear(in_features=768, out_features=768, bias=True)\n",
              "              (dropout): Dropout(p=0.1, inplace=False)\n",
              "            )\n",
              "            (output): BertSelfOutput(\n",
              "              (dense): Linear(in_features=768, out_features=768, bias=True)\n",
              "              (LayerNorm): LayerNorm((768,), eps=1e-05, elementwise_affine=True)\n",
              "              (dropout): Dropout(p=0.1, inplace=False)\n",
              "            )\n",
              "          )\n",
              "          (intermediate): BertIntermediate(\n",
              "            (dense): Linear(in_features=768, out_features=3072, bias=True)\n",
              "          )\n",
              "          (output): BertOutput(\n",
              "            (dense): Linear(in_features=3072, out_features=768, bias=True)\n",
              "            (LayerNorm): LayerNorm((768,), eps=1e-05, elementwise_affine=True)\n",
              "            (dropout): Dropout(p=0.1, inplace=False)\n",
              "          )\n",
              "        )\n",
              "        (6): BertLayer(\n",
              "          (attention): BertAttention(\n",
              "            (self): BertSelfAttention(\n",
              "              (query): Linear(in_features=768, out_features=768, bias=True)\n",
              "              (key): Linear(in_features=768, out_features=768, bias=True)\n",
              "              (value): Linear(in_features=768, out_features=768, bias=True)\n",
              "              (dropout): Dropout(p=0.1, inplace=False)\n",
              "            )\n",
              "            (output): BertSelfOutput(\n",
              "              (dense): Linear(in_features=768, out_features=768, bias=True)\n",
              "              (LayerNorm): LayerNorm((768,), eps=1e-05, elementwise_affine=True)\n",
              "              (dropout): Dropout(p=0.1, inplace=False)\n",
              "            )\n",
              "          )\n",
              "          (intermediate): BertIntermediate(\n",
              "            (dense): Linear(in_features=768, out_features=3072, bias=True)\n",
              "          )\n",
              "          (output): BertOutput(\n",
              "            (dense): Linear(in_features=3072, out_features=768, bias=True)\n",
              "            (LayerNorm): LayerNorm((768,), eps=1e-05, elementwise_affine=True)\n",
              "            (dropout): Dropout(p=0.1, inplace=False)\n",
              "          )\n",
              "        )\n",
              "        (7): BertLayer(\n",
              "          (attention): BertAttention(\n",
              "            (self): BertSelfAttention(\n",
              "              (query): Linear(in_features=768, out_features=768, bias=True)\n",
              "              (key): Linear(in_features=768, out_features=768, bias=True)\n",
              "              (value): Linear(in_features=768, out_features=768, bias=True)\n",
              "              (dropout): Dropout(p=0.1, inplace=False)\n",
              "            )\n",
              "            (output): BertSelfOutput(\n",
              "              (dense): Linear(in_features=768, out_features=768, bias=True)\n",
              "              (LayerNorm): LayerNorm((768,), eps=1e-05, elementwise_affine=True)\n",
              "              (dropout): Dropout(p=0.1, inplace=False)\n",
              "            )\n",
              "          )\n",
              "          (intermediate): BertIntermediate(\n",
              "            (dense): Linear(in_features=768, out_features=3072, bias=True)\n",
              "          )\n",
              "          (output): BertOutput(\n",
              "            (dense): Linear(in_features=3072, out_features=768, bias=True)\n",
              "            (LayerNorm): LayerNorm((768,), eps=1e-05, elementwise_affine=True)\n",
              "            (dropout): Dropout(p=0.1, inplace=False)\n",
              "          )\n",
              "        )\n",
              "        (8): BertLayer(\n",
              "          (attention): BertAttention(\n",
              "            (self): BertSelfAttention(\n",
              "              (query): Linear(in_features=768, out_features=768, bias=True)\n",
              "              (key): Linear(in_features=768, out_features=768, bias=True)\n",
              "              (value): Linear(in_features=768, out_features=768, bias=True)\n",
              "              (dropout): Dropout(p=0.1, inplace=False)\n",
              "            )\n",
              "            (output): BertSelfOutput(\n",
              "              (dense): Linear(in_features=768, out_features=768, bias=True)\n",
              "              (LayerNorm): LayerNorm((768,), eps=1e-05, elementwise_affine=True)\n",
              "              (dropout): Dropout(p=0.1, inplace=False)\n",
              "            )\n",
              "          )\n",
              "          (intermediate): BertIntermediate(\n",
              "            (dense): Linear(in_features=768, out_features=3072, bias=True)\n",
              "          )\n",
              "          (output): BertOutput(\n",
              "            (dense): Linear(in_features=3072, out_features=768, bias=True)\n",
              "            (LayerNorm): LayerNorm((768,), eps=1e-05, elementwise_affine=True)\n",
              "            (dropout): Dropout(p=0.1, inplace=False)\n",
              "          )\n",
              "        )\n",
              "        (9): BertLayer(\n",
              "          (attention): BertAttention(\n",
              "            (self): BertSelfAttention(\n",
              "              (query): Linear(in_features=768, out_features=768, bias=True)\n",
              "              (key): Linear(in_features=768, out_features=768, bias=True)\n",
              "              (value): Linear(in_features=768, out_features=768, bias=True)\n",
              "              (dropout): Dropout(p=0.1, inplace=False)\n",
              "            )\n",
              "            (output): BertSelfOutput(\n",
              "              (dense): Linear(in_features=768, out_features=768, bias=True)\n",
              "              (LayerNorm): LayerNorm((768,), eps=1e-05, elementwise_affine=True)\n",
              "              (dropout): Dropout(p=0.1, inplace=False)\n",
              "            )\n",
              "          )\n",
              "          (intermediate): BertIntermediate(\n",
              "            (dense): Linear(in_features=768, out_features=3072, bias=True)\n",
              "          )\n",
              "          (output): BertOutput(\n",
              "            (dense): Linear(in_features=3072, out_features=768, bias=True)\n",
              "            (LayerNorm): LayerNorm((768,), eps=1e-05, elementwise_affine=True)\n",
              "            (dropout): Dropout(p=0.1, inplace=False)\n",
              "          )\n",
              "        )\n",
              "        (10): BertLayer(\n",
              "          (attention): BertAttention(\n",
              "            (self): BertSelfAttention(\n",
              "              (query): Linear(in_features=768, out_features=768, bias=True)\n",
              "              (key): Linear(in_features=768, out_features=768, bias=True)\n",
              "              (value): Linear(in_features=768, out_features=768, bias=True)\n",
              "              (dropout): Dropout(p=0.1, inplace=False)\n",
              "            )\n",
              "            (output): BertSelfOutput(\n",
              "              (dense): Linear(in_features=768, out_features=768, bias=True)\n",
              "              (LayerNorm): LayerNorm((768,), eps=1e-05, elementwise_affine=True)\n",
              "              (dropout): Dropout(p=0.1, inplace=False)\n",
              "            )\n",
              "          )\n",
              "          (intermediate): BertIntermediate(\n",
              "            (dense): Linear(in_features=768, out_features=3072, bias=True)\n",
              "          )\n",
              "          (output): BertOutput(\n",
              "            (dense): Linear(in_features=3072, out_features=768, bias=True)\n",
              "            (LayerNorm): LayerNorm((768,), eps=1e-05, elementwise_affine=True)\n",
              "            (dropout): Dropout(p=0.1, inplace=False)\n",
              "          )\n",
              "        )\n",
              "        (11): BertLayer(\n",
              "          (attention): BertAttention(\n",
              "            (self): BertSelfAttention(\n",
              "              (query): Linear(in_features=768, out_features=768, bias=True)\n",
              "              (key): Linear(in_features=768, out_features=768, bias=True)\n",
              "              (value): Linear(in_features=768, out_features=768, bias=True)\n",
              "              (dropout): Dropout(p=0.1, inplace=False)\n",
              "            )\n",
              "            (output): BertSelfOutput(\n",
              "              (dense): Linear(in_features=768, out_features=768, bias=True)\n",
              "              (LayerNorm): LayerNorm((768,), eps=1e-05, elementwise_affine=True)\n",
              "              (dropout): Dropout(p=0.1, inplace=False)\n",
              "            )\n",
              "          )\n",
              "          (intermediate): BertIntermediate(\n",
              "            (dense): Linear(in_features=768, out_features=3072, bias=True)\n",
              "          )\n",
              "          (output): BertOutput(\n",
              "            (dense): Linear(in_features=3072, out_features=768, bias=True)\n",
              "            (LayerNorm): LayerNorm((768,), eps=1e-05, elementwise_affine=True)\n",
              "            (dropout): Dropout(p=0.1, inplace=False)\n",
              "          )\n",
              "        )\n",
              "      )\n",
              "    )\n",
              "    (pooler): BertPooler(\n",
              "      (dense): Linear(in_features=768, out_features=768, bias=True)\n",
              "      (activation): Tanh()\n",
              "    )\n",
              "  )\n",
              ")"
            ]
          },
          "metadata": {
            "tags": []
          },
          "execution_count": 20
        }
      ]
    },
    {
      "cell_type": "code",
      "metadata": {
        "colab_type": "code",
        "id": "tXx4nrVPjzZ7",
        "outputId": "e0dc3a8f-de80-4915-da42-7c95f8871dbf",
        "colab": {
          "base_uri": "https://localhost:8080/",
          "height": 1000
        }
      },
      "source": [
        "#Load the model with the checkpoint (pre-trained+classification layer. All finetuned on our dataset \"sei vs 6\")\n",
        "\n",
        "fineTunedNet = FineTunedNet(bert_type = bert_type)\n",
        "\n",
        "if bert_type == 'ita-gilberto':\n",
        "  fineTunedNet.load_state_dict(torch.load('./Models/gilberto_finetuned_sei.pt'))\n",
        "elif bert_type == 'ita-umberto':\n",
        "  fineTunedNet.load_state_dict(torch.load('./Models/umberto_finetuned_sei.pt'))\n",
        "\n",
        "fineTunedNet.eval()"
      ],
      "execution_count": 0,
      "outputs": [
        {
          "output_type": "execute_result",
          "data": {
            "text/plain": [
              "FineTunedNet(\n",
              "  (bert_layer): CamembertModel(\n",
              "    (embeddings): RobertaEmbeddings(\n",
              "      (word_embeddings): Embedding(32005, 768, padding_idx=1)\n",
              "      (position_embeddings): Embedding(514, 768, padding_idx=1)\n",
              "      (token_type_embeddings): Embedding(1, 768)\n",
              "      (LayerNorm): LayerNorm((768,), eps=1e-05, elementwise_affine=True)\n",
              "      (dropout): Dropout(p=0.1, inplace=False)\n",
              "    )\n",
              "    (encoder): BertEncoder(\n",
              "      (layer): ModuleList(\n",
              "        (0): BertLayer(\n",
              "          (attention): BertAttention(\n",
              "            (self): BertSelfAttention(\n",
              "              (query): Linear(in_features=768, out_features=768, bias=True)\n",
              "              (key): Linear(in_features=768, out_features=768, bias=True)\n",
              "              (value): Linear(in_features=768, out_features=768, bias=True)\n",
              "              (dropout): Dropout(p=0.1, inplace=False)\n",
              "            )\n",
              "            (output): BertSelfOutput(\n",
              "              (dense): Linear(in_features=768, out_features=768, bias=True)\n",
              "              (LayerNorm): LayerNorm((768,), eps=1e-05, elementwise_affine=True)\n",
              "              (dropout): Dropout(p=0.1, inplace=False)\n",
              "            )\n",
              "          )\n",
              "          (intermediate): BertIntermediate(\n",
              "            (dense): Linear(in_features=768, out_features=3072, bias=True)\n",
              "          )\n",
              "          (output): BertOutput(\n",
              "            (dense): Linear(in_features=3072, out_features=768, bias=True)\n",
              "            (LayerNorm): LayerNorm((768,), eps=1e-05, elementwise_affine=True)\n",
              "            (dropout): Dropout(p=0.1, inplace=False)\n",
              "          )\n",
              "        )\n",
              "        (1): BertLayer(\n",
              "          (attention): BertAttention(\n",
              "            (self): BertSelfAttention(\n",
              "              (query): Linear(in_features=768, out_features=768, bias=True)\n",
              "              (key): Linear(in_features=768, out_features=768, bias=True)\n",
              "              (value): Linear(in_features=768, out_features=768, bias=True)\n",
              "              (dropout): Dropout(p=0.1, inplace=False)\n",
              "            )\n",
              "            (output): BertSelfOutput(\n",
              "              (dense): Linear(in_features=768, out_features=768, bias=True)\n",
              "              (LayerNorm): LayerNorm((768,), eps=1e-05, elementwise_affine=True)\n",
              "              (dropout): Dropout(p=0.1, inplace=False)\n",
              "            )\n",
              "          )\n",
              "          (intermediate): BertIntermediate(\n",
              "            (dense): Linear(in_features=768, out_features=3072, bias=True)\n",
              "          )\n",
              "          (output): BertOutput(\n",
              "            (dense): Linear(in_features=3072, out_features=768, bias=True)\n",
              "            (LayerNorm): LayerNorm((768,), eps=1e-05, elementwise_affine=True)\n",
              "            (dropout): Dropout(p=0.1, inplace=False)\n",
              "          )\n",
              "        )\n",
              "        (2): BertLayer(\n",
              "          (attention): BertAttention(\n",
              "            (self): BertSelfAttention(\n",
              "              (query): Linear(in_features=768, out_features=768, bias=True)\n",
              "              (key): Linear(in_features=768, out_features=768, bias=True)\n",
              "              (value): Linear(in_features=768, out_features=768, bias=True)\n",
              "              (dropout): Dropout(p=0.1, inplace=False)\n",
              "            )\n",
              "            (output): BertSelfOutput(\n",
              "              (dense): Linear(in_features=768, out_features=768, bias=True)\n",
              "              (LayerNorm): LayerNorm((768,), eps=1e-05, elementwise_affine=True)\n",
              "              (dropout): Dropout(p=0.1, inplace=False)\n",
              "            )\n",
              "          )\n",
              "          (intermediate): BertIntermediate(\n",
              "            (dense): Linear(in_features=768, out_features=3072, bias=True)\n",
              "          )\n",
              "          (output): BertOutput(\n",
              "            (dense): Linear(in_features=3072, out_features=768, bias=True)\n",
              "            (LayerNorm): LayerNorm((768,), eps=1e-05, elementwise_affine=True)\n",
              "            (dropout): Dropout(p=0.1, inplace=False)\n",
              "          )\n",
              "        )\n",
              "        (3): BertLayer(\n",
              "          (attention): BertAttention(\n",
              "            (self): BertSelfAttention(\n",
              "              (query): Linear(in_features=768, out_features=768, bias=True)\n",
              "              (key): Linear(in_features=768, out_features=768, bias=True)\n",
              "              (value): Linear(in_features=768, out_features=768, bias=True)\n",
              "              (dropout): Dropout(p=0.1, inplace=False)\n",
              "            )\n",
              "            (output): BertSelfOutput(\n",
              "              (dense): Linear(in_features=768, out_features=768, bias=True)\n",
              "              (LayerNorm): LayerNorm((768,), eps=1e-05, elementwise_affine=True)\n",
              "              (dropout): Dropout(p=0.1, inplace=False)\n",
              "            )\n",
              "          )\n",
              "          (intermediate): BertIntermediate(\n",
              "            (dense): Linear(in_features=768, out_features=3072, bias=True)\n",
              "          )\n",
              "          (output): BertOutput(\n",
              "            (dense): Linear(in_features=3072, out_features=768, bias=True)\n",
              "            (LayerNorm): LayerNorm((768,), eps=1e-05, elementwise_affine=True)\n",
              "            (dropout): Dropout(p=0.1, inplace=False)\n",
              "          )\n",
              "        )\n",
              "        (4): BertLayer(\n",
              "          (attention): BertAttention(\n",
              "            (self): BertSelfAttention(\n",
              "              (query): Linear(in_features=768, out_features=768, bias=True)\n",
              "              (key): Linear(in_features=768, out_features=768, bias=True)\n",
              "              (value): Linear(in_features=768, out_features=768, bias=True)\n",
              "              (dropout): Dropout(p=0.1, inplace=False)\n",
              "            )\n",
              "            (output): BertSelfOutput(\n",
              "              (dense): Linear(in_features=768, out_features=768, bias=True)\n",
              "              (LayerNorm): LayerNorm((768,), eps=1e-05, elementwise_affine=True)\n",
              "              (dropout): Dropout(p=0.1, inplace=False)\n",
              "            )\n",
              "          )\n",
              "          (intermediate): BertIntermediate(\n",
              "            (dense): Linear(in_features=768, out_features=3072, bias=True)\n",
              "          )\n",
              "          (output): BertOutput(\n",
              "            (dense): Linear(in_features=3072, out_features=768, bias=True)\n",
              "            (LayerNorm): LayerNorm((768,), eps=1e-05, elementwise_affine=True)\n",
              "            (dropout): Dropout(p=0.1, inplace=False)\n",
              "          )\n",
              "        )\n",
              "        (5): BertLayer(\n",
              "          (attention): BertAttention(\n",
              "            (self): BertSelfAttention(\n",
              "              (query): Linear(in_features=768, out_features=768, bias=True)\n",
              "              (key): Linear(in_features=768, out_features=768, bias=True)\n",
              "              (value): Linear(in_features=768, out_features=768, bias=True)\n",
              "              (dropout): Dropout(p=0.1, inplace=False)\n",
              "            )\n",
              "            (output): BertSelfOutput(\n",
              "              (dense): Linear(in_features=768, out_features=768, bias=True)\n",
              "              (LayerNorm): LayerNorm((768,), eps=1e-05, elementwise_affine=True)\n",
              "              (dropout): Dropout(p=0.1, inplace=False)\n",
              "            )\n",
              "          )\n",
              "          (intermediate): BertIntermediate(\n",
              "            (dense): Linear(in_features=768, out_features=3072, bias=True)\n",
              "          )\n",
              "          (output): BertOutput(\n",
              "            (dense): Linear(in_features=3072, out_features=768, bias=True)\n",
              "            (LayerNorm): LayerNorm((768,), eps=1e-05, elementwise_affine=True)\n",
              "            (dropout): Dropout(p=0.1, inplace=False)\n",
              "          )\n",
              "        )\n",
              "        (6): BertLayer(\n",
              "          (attention): BertAttention(\n",
              "            (self): BertSelfAttention(\n",
              "              (query): Linear(in_features=768, out_features=768, bias=True)\n",
              "              (key): Linear(in_features=768, out_features=768, bias=True)\n",
              "              (value): Linear(in_features=768, out_features=768, bias=True)\n",
              "              (dropout): Dropout(p=0.1, inplace=False)\n",
              "            )\n",
              "            (output): BertSelfOutput(\n",
              "              (dense): Linear(in_features=768, out_features=768, bias=True)\n",
              "              (LayerNorm): LayerNorm((768,), eps=1e-05, elementwise_affine=True)\n",
              "              (dropout): Dropout(p=0.1, inplace=False)\n",
              "            )\n",
              "          )\n",
              "          (intermediate): BertIntermediate(\n",
              "            (dense): Linear(in_features=768, out_features=3072, bias=True)\n",
              "          )\n",
              "          (output): BertOutput(\n",
              "            (dense): Linear(in_features=3072, out_features=768, bias=True)\n",
              "            (LayerNorm): LayerNorm((768,), eps=1e-05, elementwise_affine=True)\n",
              "            (dropout): Dropout(p=0.1, inplace=False)\n",
              "          )\n",
              "        )\n",
              "        (7): BertLayer(\n",
              "          (attention): BertAttention(\n",
              "            (self): BertSelfAttention(\n",
              "              (query): Linear(in_features=768, out_features=768, bias=True)\n",
              "              (key): Linear(in_features=768, out_features=768, bias=True)\n",
              "              (value): Linear(in_features=768, out_features=768, bias=True)\n",
              "              (dropout): Dropout(p=0.1, inplace=False)\n",
              "            )\n",
              "            (output): BertSelfOutput(\n",
              "              (dense): Linear(in_features=768, out_features=768, bias=True)\n",
              "              (LayerNorm): LayerNorm((768,), eps=1e-05, elementwise_affine=True)\n",
              "              (dropout): Dropout(p=0.1, inplace=False)\n",
              "            )\n",
              "          )\n",
              "          (intermediate): BertIntermediate(\n",
              "            (dense): Linear(in_features=768, out_features=3072, bias=True)\n",
              "          )\n",
              "          (output): BertOutput(\n",
              "            (dense): Linear(in_features=3072, out_features=768, bias=True)\n",
              "            (LayerNorm): LayerNorm((768,), eps=1e-05, elementwise_affine=True)\n",
              "            (dropout): Dropout(p=0.1, inplace=False)\n",
              "          )\n",
              "        )\n",
              "        (8): BertLayer(\n",
              "          (attention): BertAttention(\n",
              "            (self): BertSelfAttention(\n",
              "              (query): Linear(in_features=768, out_features=768, bias=True)\n",
              "              (key): Linear(in_features=768, out_features=768, bias=True)\n",
              "              (value): Linear(in_features=768, out_features=768, bias=True)\n",
              "              (dropout): Dropout(p=0.1, inplace=False)\n",
              "            )\n",
              "            (output): BertSelfOutput(\n",
              "              (dense): Linear(in_features=768, out_features=768, bias=True)\n",
              "              (LayerNorm): LayerNorm((768,), eps=1e-05, elementwise_affine=True)\n",
              "              (dropout): Dropout(p=0.1, inplace=False)\n",
              "            )\n",
              "          )\n",
              "          (intermediate): BertIntermediate(\n",
              "            (dense): Linear(in_features=768, out_features=3072, bias=True)\n",
              "          )\n",
              "          (output): BertOutput(\n",
              "            (dense): Linear(in_features=3072, out_features=768, bias=True)\n",
              "            (LayerNorm): LayerNorm((768,), eps=1e-05, elementwise_affine=True)\n",
              "            (dropout): Dropout(p=0.1, inplace=False)\n",
              "          )\n",
              "        )\n",
              "        (9): BertLayer(\n",
              "          (attention): BertAttention(\n",
              "            (self): BertSelfAttention(\n",
              "              (query): Linear(in_features=768, out_features=768, bias=True)\n",
              "              (key): Linear(in_features=768, out_features=768, bias=True)\n",
              "              (value): Linear(in_features=768, out_features=768, bias=True)\n",
              "              (dropout): Dropout(p=0.1, inplace=False)\n",
              "            )\n",
              "            (output): BertSelfOutput(\n",
              "              (dense): Linear(in_features=768, out_features=768, bias=True)\n",
              "              (LayerNorm): LayerNorm((768,), eps=1e-05, elementwise_affine=True)\n",
              "              (dropout): Dropout(p=0.1, inplace=False)\n",
              "            )\n",
              "          )\n",
              "          (intermediate): BertIntermediate(\n",
              "            (dense): Linear(in_features=768, out_features=3072, bias=True)\n",
              "          )\n",
              "          (output): BertOutput(\n",
              "            (dense): Linear(in_features=3072, out_features=768, bias=True)\n",
              "            (LayerNorm): LayerNorm((768,), eps=1e-05, elementwise_affine=True)\n",
              "            (dropout): Dropout(p=0.1, inplace=False)\n",
              "          )\n",
              "        )\n",
              "        (10): BertLayer(\n",
              "          (attention): BertAttention(\n",
              "            (self): BertSelfAttention(\n",
              "              (query): Linear(in_features=768, out_features=768, bias=True)\n",
              "              (key): Linear(in_features=768, out_features=768, bias=True)\n",
              "              (value): Linear(in_features=768, out_features=768, bias=True)\n",
              "              (dropout): Dropout(p=0.1, inplace=False)\n",
              "            )\n",
              "            (output): BertSelfOutput(\n",
              "              (dense): Linear(in_features=768, out_features=768, bias=True)\n",
              "              (LayerNorm): LayerNorm((768,), eps=1e-05, elementwise_affine=True)\n",
              "              (dropout): Dropout(p=0.1, inplace=False)\n",
              "            )\n",
              "          )\n",
              "          (intermediate): BertIntermediate(\n",
              "            (dense): Linear(in_features=768, out_features=3072, bias=True)\n",
              "          )\n",
              "          (output): BertOutput(\n",
              "            (dense): Linear(in_features=3072, out_features=768, bias=True)\n",
              "            (LayerNorm): LayerNorm((768,), eps=1e-05, elementwise_affine=True)\n",
              "            (dropout): Dropout(p=0.1, inplace=False)\n",
              "          )\n",
              "        )\n",
              "        (11): BertLayer(\n",
              "          (attention): BertAttention(\n",
              "            (self): BertSelfAttention(\n",
              "              (query): Linear(in_features=768, out_features=768, bias=True)\n",
              "              (key): Linear(in_features=768, out_features=768, bias=True)\n",
              "              (value): Linear(in_features=768, out_features=768, bias=True)\n",
              "              (dropout): Dropout(p=0.1, inplace=False)\n",
              "            )\n",
              "            (output): BertSelfOutput(\n",
              "              (dense): Linear(in_features=768, out_features=768, bias=True)\n",
              "              (LayerNorm): LayerNorm((768,), eps=1e-05, elementwise_affine=True)\n",
              "              (dropout): Dropout(p=0.1, inplace=False)\n",
              "            )\n",
              "          )\n",
              "          (intermediate): BertIntermediate(\n",
              "            (dense): Linear(in_features=768, out_features=3072, bias=True)\n",
              "          )\n",
              "          (output): BertOutput(\n",
              "            (dense): Linear(in_features=3072, out_features=768, bias=True)\n",
              "            (LayerNorm): LayerNorm((768,), eps=1e-05, elementwise_affine=True)\n",
              "            (dropout): Dropout(p=0.1, inplace=False)\n",
              "          )\n",
              "        )\n",
              "      )\n",
              "    )\n",
              "    (pooler): BertPooler(\n",
              "      (dense): Linear(in_features=768, out_features=768, bias=True)\n",
              "      (activation): Tanh()\n",
              "    )\n",
              "  )\n",
              "  (dropout): Dropout(p=0.2, inplace=False)\n",
              "  (cls_layer): Linear(in_features=768, out_features=1, bias=True)\n",
              ")"
            ]
          },
          "metadata": {
            "tags": []
          },
          "execution_count": 21
        }
      ]
    },
    {
      "cell_type": "markdown",
      "metadata": {
        "id": "DDi93Fgf6K5z",
        "colab_type": "text"
      },
      "source": [
        "## Inference and Embedding Visualization\n",
        "\n",
        "Below we define a couple of useful functions. The first one, given a sentence, will predict its class. The second one will extract embeddings. If the arg `specific_token = ciao` it will extract the embedding of the token `ciao`. If specific_token = `<s>`, it will extract the classification special token ([CLS] for BERT, \\<s\\> for Roberta). If `specific_token = None`, it will extract an average of all token embeddings (except the special token ones that are removed)."
      ]
    },
    {
      "cell_type": "code",
      "metadata": {
        "id": "d8bRmc8uiIdn",
        "colab_type": "code",
        "colab": {}
      },
      "source": [
        "tokenizer_gil = AutoTokenizer.from_pretrained(\"idb-ita/gilberto-uncased-from-camembert\", do_lower_case=True)\n",
        "tokenizer_umb = AutoTokenizer.from_pretrained(\"Musixmatch/umberto-commoncrawl-cased-v1\", do_lower_case=True)"
      ],
      "execution_count": 0,
      "outputs": []
    },
    {
      "cell_type": "code",
      "metadata": {
        "id": "xzl_O8iGptc5",
        "colab_type": "code",
        "colab": {}
      },
      "source": [
        "MAX_LEN=50\n",
        "model_finetuned = fineTunedNet\n",
        "tokenizer = tokenizer_gil if bert_type == 'ita-gilberto' else tokenizer_umb"
      ],
      "execution_count": 0,
      "outputs": []
    },
    {
      "cell_type": "code",
      "metadata": {
        "id": "KKncvO_T4AVb",
        "colab_type": "code",
        "colab": {}
      },
      "source": [
        "def model_inference(model, single_sentence, tokenizer, PRINT=False):\n",
        "    # tokenize properly the sentence\n",
        "    encoded_sent = tokenizer.encode(single_sentence, add_special_tokens = True)\n",
        "    tokens_from_ids = tokenizer.convert_ids_to_tokens(encoded_sent)\n",
        "    if PRINT: print(tokens_from_ids)\n",
        "    tokens_length = len(encoded_sent)\n",
        "    if PRINT: print(encoded_sent)\n",
        "    # apply padding\n",
        "    padded_sent  = encoded_sent + [0 for _ in range(MAX_LEN - len(encoded_sent))]\n",
        "    if PRINT: print(padded_sent)\n",
        "    # apply mask\n",
        "    attention_masks = [float(i>0) for i in padded_sent]\n",
        "    if PRINT: print(attention_masks)\n",
        "    # convert to tensors\n",
        "    inputs = torch.tensor([padded_sent])\n",
        "    masks = torch.tensor([attention_masks])\n",
        "    # BertModel\n",
        "    model.eval()\n",
        "    with torch.no_grad():\n",
        "      logits, _ = model(inputs, masks)\n",
        "    \n",
        "    #logits = logits.detach().cpu()\n",
        "    probs = torch.sigmoid(logits.unsqueeze(-1))\n",
        "    return probs\n",
        "\n",
        "def embedding_extractor(model, single_sentence, tokenizer, specific_token=None, PRINT=True):\n",
        "    # tokenize properly the sentence\n",
        "    encoded_sent = tokenizer.encode(single_sentence, add_special_tokens = True)\n",
        "    tokens_from_ids = tokenizer.convert_ids_to_tokens(encoded_sent)\n",
        "    if PRINT: print(tokens_from_ids)\n",
        "    tokens_length = len(encoded_sent)\n",
        "    if PRINT: print(encoded_sent)\n",
        "    # apply padding\n",
        "    padded_sent  = encoded_sent + [0 for _ in range(MAX_LEN - len(encoded_sent))]\n",
        "    if PRINT: print(padded_sent)\n",
        "    # apply mask\n",
        "    attention_masks = [float(i>0) for i in padded_sent]\n",
        "    if PRINT: print(attention_masks)\n",
        "    # convert to tensors\n",
        "    inputs = torch.tensor([padded_sent])\n",
        "    masks = torch.tensor([attention_masks])\n",
        "    # BertModel\n",
        "    model.eval()\n",
        "    with torch.no_grad():\n",
        "\n",
        "      _, last_hidden_states  = model(inputs, masks)\n",
        "    # ---------- all tokens extractor -------------\n",
        "    last_hidden_states_tokens = last_hidden_states[0][0:tokens_length]\n",
        "    #token_and_emb = zip(tokens_from_ids,last_hidden_states_tokens)\n",
        "    # ---------- specific token extractor -------------\n",
        "    if specific_token is not None:\n",
        "      tokens_cleaned = list(map(lambda item: re.sub(r'▁', '', item), tokens_from_ids))\n",
        "      token_indices = np.where(np.array(tokens_cleaned) == specific_token)[0]\n",
        "      selected_tokens = [tokens_from_ids[i] for i in token_indices]\n",
        "      selected_embeddings = [last_hidden_states_tokens[i] for i in token_indices]\n",
        "      return selected_tokens, selected_embeddings\n",
        "    else:\n",
        "      remove_first_and_last = last_hidden_states_tokens.numpy()[1:-1]\n",
        "      mean_embedding = np.mean(remove_first_and_last, axis=0)\n",
        "      return tokens_from_ids, mean_embedding"
      ],
      "execution_count": 0,
      "outputs": []
    },
    {
      "cell_type": "markdown",
      "metadata": {
        "id": "O0t8-ezk78t6",
        "colab_type": "text"
      },
      "source": [
        "Let us have a look step-by-step"
      ]
    },
    {
      "cell_type": "code",
      "metadata": {
        "id": "46nqpvpl7y3E",
        "colab_type": "code",
        "outputId": "0e211e46-08ce-4853-8cf3-ed22da5451f1",
        "colab": {
          "base_uri": "https://localhost:8080/",
          "height": 125
        }
      },
      "source": [
        "prob = model_inference(model_finetuned, 'arrivato fino a qua, sei ancora attento?', tokenizer, PRINT=True)\n",
        "prob"
      ],
      "execution_count": 0,
      "outputs": [
        {
          "output_type": "stream",
          "text": [
            "['<s>', '▁arrivato', '▁fino', '▁a', '▁qua', ',', '▁sei', '▁ancora', '▁attento', '?', '</s>']\n",
            "[5, 5095, 743, 13, 996, 31914, 1614, 577, 9954, 31970, 6]\n",
            "[5, 5095, 743, 13, 996, 31914, 1614, 577, 9954, 31970, 6, 0, 0, 0, 0, 0, 0, 0, 0, 0, 0, 0, 0, 0, 0, 0, 0, 0, 0, 0, 0, 0, 0, 0, 0, 0, 0, 0, 0, 0, 0, 0, 0, 0, 0, 0, 0, 0, 0, 0]\n",
            "[1.0, 1.0, 1.0, 1.0, 1.0, 1.0, 1.0, 1.0, 1.0, 1.0, 1.0, 0.0, 0.0, 0.0, 0.0, 0.0, 0.0, 0.0, 0.0, 0.0, 0.0, 0.0, 0.0, 0.0, 0.0, 0.0, 0.0, 0.0, 0.0, 0.0, 0.0, 0.0, 0.0, 0.0, 0.0, 0.0, 0.0, 0.0, 0.0, 0.0, 0.0, 0.0, 0.0, 0.0, 0.0, 0.0, 0.0, 0.0, 0.0, 0.0]\n"
          ],
          "name": "stdout"
        },
        {
          "output_type": "execute_result",
          "data": {
            "text/plain": [
              "tensor([[[0.7813]]])"
            ]
          },
          "metadata": {
            "tags": []
          },
          "execution_count": 27
        }
      ]
    },
    {
      "cell_type": "code",
      "metadata": {
        "id": "ytYi5wLCnX8C",
        "colab_type": "code",
        "outputId": "37f5ed70-f763-4d03-9b95-77b0dd4649fa",
        "colab": {
          "base_uri": "https://localhost:8080/",
          "height": 125
        }
      },
      "source": [
        "token, emb = embedding_extractor(model_finetuned, 'arrivato fino a qua, sei ancora attento?', tokenizer, specific_token='sei', PRINT=True)\n",
        "token, emb[0].shape"
      ],
      "execution_count": 0,
      "outputs": [
        {
          "output_type": "stream",
          "text": [
            "['<s>', '▁arrivato', '▁fino', '▁a', '▁qua', ',', '▁sei', '▁ancora', '▁attento', '?', '</s>']\n",
            "[5, 5095, 743, 13, 996, 31914, 1614, 577, 9954, 31970, 6]\n",
            "[5, 5095, 743, 13, 996, 31914, 1614, 577, 9954, 31970, 6, 0, 0, 0, 0, 0, 0, 0, 0, 0, 0, 0, 0, 0, 0, 0, 0, 0, 0, 0, 0, 0, 0, 0, 0, 0, 0, 0, 0, 0, 0, 0, 0, 0, 0, 0, 0, 0, 0, 0]\n",
            "[1.0, 1.0, 1.0, 1.0, 1.0, 1.0, 1.0, 1.0, 1.0, 1.0, 1.0, 0.0, 0.0, 0.0, 0.0, 0.0, 0.0, 0.0, 0.0, 0.0, 0.0, 0.0, 0.0, 0.0, 0.0, 0.0, 0.0, 0.0, 0.0, 0.0, 0.0, 0.0, 0.0, 0.0, 0.0, 0.0, 0.0, 0.0, 0.0, 0.0, 0.0, 0.0, 0.0, 0.0, 0.0, 0.0, 0.0, 0.0, 0.0, 0.0]\n"
          ],
          "name": "stdout"
        },
        {
          "output_type": "execute_result",
          "data": {
            "text/plain": [
              "(['▁sei'], torch.Size([768]))"
            ]
          },
          "metadata": {
            "tags": []
          },
          "execution_count": 28
        }
      ]
    },
    {
      "cell_type": "code",
      "metadata": {
        "id": "vTe3Tp8b-A0D",
        "colab_type": "code",
        "outputId": "939dcfa7-8836-4325-fd12-36d724750192",
        "colab": {
          "base_uri": "https://localhost:8080/",
          "height": 34
        }
      },
      "source": [
        "# Load the test data\n",
        "path_to_data = './test_sei.tsv'\n",
        "df_test = pd.read_csv(path_to_data, sep='\\t', header=None)\n",
        "\n",
        "# build up a dataframe\n",
        "df_test['sentence'] = df_test[0]\n",
        "df_test['label'] = df_test[1]\n",
        "df_test = df_test[['sentence','label']]\n",
        "df_test = df_test.dropna()\n",
        "\n",
        "tot_length = len(df_test)\n",
        "print(tot_length)"
      ],
      "execution_count": 0,
      "outputs": [
        {
          "output_type": "stream",
          "text": [
            "1500\n"
          ],
          "name": "stdout"
        }
      ]
    },
    {
      "cell_type": "code",
      "metadata": {
        "id": "sAufU-m-5498",
        "colab_type": "code",
        "outputId": "1f3ec1ad-1f68-478d-8b79-7c5bafd1d128",
        "colab": {
          "base_uri": "https://localhost:8080/",
          "height": 197
        }
      },
      "source": [
        "df_test = df_test.head(200)\n",
        "df_test.head()"
      ],
      "execution_count": 0,
      "outputs": [
        {
          "output_type": "execute_result",
          "data": {
            "text/html": [
              "<div>\n",
              "<style scoped>\n",
              "    .dataframe tbody tr th:only-of-type {\n",
              "        vertical-align: middle;\n",
              "    }\n",
              "\n",
              "    .dataframe tbody tr th {\n",
              "        vertical-align: top;\n",
              "    }\n",
              "\n",
              "    .dataframe thead th {\n",
              "        text-align: right;\n",
              "    }\n",
              "</style>\n",
              "<table border=\"1\" class=\"dataframe\">\n",
              "  <thead>\n",
              "    <tr style=\"text-align: right;\">\n",
              "      <th></th>\n",
              "      <th>sentence</th>\n",
              "      <th>label</th>\n",
              "    </tr>\n",
              "  </thead>\n",
              "  <tbody>\n",
              "    <tr>\n",
              "      <th>0</th>\n",
              "      <td>tu sei andata con l altra ragazza a mangiare</td>\n",
              "      <td>1</td>\n",
              "    </tr>\n",
              "    <tr>\n",
              "      <th>1</th>\n",
              "      <td>amico mio non sei mai salito piu in alto</td>\n",
              "      <td>1</td>\n",
              "    </tr>\n",
              "    <tr>\n",
              "      <th>2</th>\n",
              "      <td>momento adatto per colpire ma impiegarono sei ...</td>\n",
              "      <td>0</td>\n",
              "    </tr>\n",
              "    <tr>\n",
              "      <th>3</th>\n",
              "      <td>ha insegnato in quattro scuole diverse in sei ...</td>\n",
              "      <td>0</td>\n",
              "    </tr>\n",
              "    <tr>\n",
              "      <th>4</th>\n",
              "      <td>che è andato in sei mercatini per trovarlo</td>\n",
              "      <td>0</td>\n",
              "    </tr>\n",
              "  </tbody>\n",
              "</table>\n",
              "</div>"
            ],
            "text/plain": [
              "                                            sentence  label\n",
              "0       tu sei andata con l altra ragazza a mangiare      1\n",
              "1           amico mio non sei mai salito piu in alto      1\n",
              "2  momento adatto per colpire ma impiegarono sei ...      0\n",
              "3  ha insegnato in quattro scuole diverse in sei ...      0\n",
              "4         che è andato in sei mercatini per trovarlo      0"
            ]
          },
          "metadata": {
            "tags": []
          },
          "execution_count": 30
        }
      ]
    },
    {
      "cell_type": "markdown",
      "metadata": {
        "id": "ZtQdW7-O1fJT",
        "colab_type": "text"
      },
      "source": [
        "### Inference"
      ]
    },
    {
      "cell_type": "code",
      "metadata": {
        "id": "wloNxXgCtV1-",
        "colab_type": "code",
        "colab": {}
      },
      "source": [
        "model_predictions = []\n",
        "for sent in df_test.sentence.values:\n",
        "  pred = model_inference(model_finetuned,  sent , tokenizer, PRINT=False)\n",
        "  pred = 0 if pred < 0.5 else 1\n",
        "  model_predictions.append(pred)\n",
        "\n",
        "model_predictions = np.array(model_predictions)\n",
        "true_labels = df_test.label.values"
      ],
      "execution_count": 0,
      "outputs": []
    },
    {
      "cell_type": "markdown",
      "metadata": {
        "id": "MoINSkNP2jjV",
        "colab_type": "text"
      },
      "source": [
        "Some metrics and confusion matrix"
      ]
    },
    {
      "cell_type": "code",
      "metadata": {
        "id": "vzNw048jj2Ux",
        "colab_type": "code",
        "outputId": "e75668ec-3a36-4436-a9cc-4b8e50898e9d",
        "colab": {
          "base_uri": "https://localhost:8080/",
          "height": 303
        }
      },
      "source": [
        "import seaborn as sn\n",
        "from sklearn.metrics import confusion_matrix, classification_report, accuracy_score\n",
        "\n",
        "def show_results(true_labels, predictions, ONLY_CFS = False):\n",
        "  cfs_mtrx = confusion_matrix(true_labels, predictions)\n",
        "  if not ONLY_CFS:\n",
        "    print(\"Accuracy: %.2f%%\" % (accuracy_score(true_labels, predictions)*100))\n",
        "    print(classification_report(true_labels, predictions))\n",
        "    print(pd.DataFrame(cfs_mtrx))\n",
        "  else:\n",
        "    sn.set(font_scale=1.4) # for label size\n",
        "    sn.heatmap(pd.DataFrame(cfs_mtrx/float(tot_length)), annot=True, annot_kws={\"size\": 16}) # font size\n",
        "    plt.show()\n",
        "\n",
        "show_results(true_labels, model_predictions)"
      ],
      "execution_count": 0,
      "outputs": [
        {
          "output_type": "stream",
          "text": [
            "Accuracy: 99.00%\n",
            "              precision    recall  f1-score   support\n",
            "\n",
            "           0       0.98      0.98      0.98        55\n",
            "           1       0.99      0.99      0.99       145\n",
            "\n",
            "    accuracy                           0.99       200\n",
            "   macro avg       0.99      0.99      0.99       200\n",
            "weighted avg       0.99      0.99      0.99       200\n",
            "\n",
            "    0    1\n",
            "0  54    1\n",
            "1   1  144\n"
          ],
          "name": "stdout"
        },
        {
          "output_type": "stream",
          "text": [
            "/usr/local/lib/python3.6/dist-packages/statsmodels/tools/_testing.py:19: FutureWarning: pandas.util.testing is deprecated. Use the functions in the public API at pandas.testing instead.\n",
            "  import pandas.util.testing as tm\n"
          ],
          "name": "stderr"
        }
      ]
    },
    {
      "cell_type": "code",
      "metadata": {
        "id": "4y6BdFKUj-HS",
        "colab_type": "code",
        "outputId": "b294fad8-51ae-469e-a5ec-83594f67aa57",
        "colab": {
          "base_uri": "https://localhost:8080/",
          "height": 273
        }
      },
      "source": [
        "show_results(true_labels, model_predictions, ONLY_CFS = True)"
      ],
      "execution_count": 0,
      "outputs": [
        {
          "output_type": "display_data",
          "data": {
            "image/png": "[encoded data removed]",
            "text/plain": [
              "<Figure size 432x288 with 2 Axes>"
            ]
          },
          "metadata": {
            "tags": []
          }
        }
      ]
    },
    {
      "cell_type": "markdown",
      "metadata": {
        "id": "anQUWxqWm08V",
        "colab_type": "text"
      },
      "source": [
        "### Embedding Visualization"
      ]
    },
    {
      "cell_type": "code",
      "metadata": {
        "id": "BtQPOoMamuTu",
        "colab_type": "code",
        "colab": {}
      },
      "source": [
        "model_finetuned = fineTunedNet\n",
        "model_non_finetuned = net\n",
        "\n",
        "SEED=172"
      ],
      "execution_count": 0,
      "outputs": []
    },
    {
      "cell_type": "markdown",
      "metadata": {
        "id": "2dxw4oF71DHV",
        "colab_type": "text"
      },
      "source": [
        "#### Extract Embeddings\n",
        "\n",
        "We first extract some embeddings (CLS token and embedding of 'sei'). Then build a dataframe with all the collected information (UMAP, TSNE ecc)."
      ]
    },
    {
      "cell_type": "code",
      "metadata": {
        "id": "uPiDKANNmzv7",
        "colab_type": "code",
        "colab": {}
      },
      "source": [
        "finetuned_embs_cls_token=[]\n",
        "for sentence in df_test['sentence'].values:\n",
        "  _, emb = embedding_extractor(model_finetuned, sentence, tokenizer, specific_token='<s>', PRINT=False)\n",
        "  finetuned_embs_cls_token.append(emb)\n",
        "\n",
        "finetuned_embs_specific_token=[]\n",
        "for sentence in df_test['sentence'].values:\n",
        "  _, emb = embedding_extractor(model_finetuned, sentence, tokenizer, specific_token='sei', PRINT=False)\n",
        "  finetuned_embs_specific_token.append(emb)\n",
        "\n",
        "# For NON finetuned Model\n",
        "embs_specific_token=[]\n",
        "for sentence in df_test['sentence'].values:\n",
        "  _, emb = embedding_extractor(model_non_finetuned, sentence, tokenizer, specific_token='sei', PRINT=False)\n",
        "  embs_specific_token.append(emb)"
      ],
      "execution_count": 0,
      "outputs": []
    },
    {
      "cell_type": "markdown",
      "metadata": {
        "id": "W8tzrML4SGAd",
        "colab_type": "text"
      },
      "source": [
        "We use UMAP or TSNE to project 768 dimensions (dim of BERT embeddings) down to 2 dimensions."
      ]
    },
    {
      "cell_type": "code",
      "metadata": {
        "id": "rbjDpgDromkX",
        "colab_type": "code",
        "colab": {}
      },
      "source": [
        "from sklearn.manifold import TSNE\n",
        "from sklearn.metrics.pairwise import cosine_similarity\n",
        "import umap\n",
        "\n",
        "#--------------------------------------#\n",
        "SEED = 172\n",
        "random.seed(SEED)\n",
        "#--------------------------------------#\n",
        "\n",
        "# UMAP Proj\n",
        "reducer = umap.UMAP(random_state = SEED)\n",
        "# Plotting the average of last layer embeddings\n",
        "umap_2d_token = reducer.fit_transform([np.array(emb[0]) for emb in embs_specific_token])\n",
        "# Plotting the first classification token\n",
        "umap_2d_ft_cls = reducer.fit_transform([np.array(emb[0]) for emb in finetuned_embs_cls_token])\n",
        "# Plotting the a specific token\n",
        "umap_2d_ft_token = reducer.fit_transform([np.array(emb[0]) for emb in finetuned_embs_specific_token])\n",
        "\n",
        "#TSNE Proj\n",
        "tsne = TSNE(n_components=2, random_state = SEED)\n",
        "# Plotting the average of last layer embeddings\n",
        "tsne_2d_token = tsne.fit_transform([np.array(emb[0]) for emb in embs_specific_token])\n",
        "# Plotting the first classification token\n",
        "tsne_2d_ft_cls = tsne.fit_transform([np.array(emb[0]) for emb in finetuned_embs_cls_token])\n",
        "tsne_2d_ft_token = tsne.fit_transform([np.array(emb[0]) for emb in finetuned_embs_specific_token])"
      ],
      "execution_count": 0,
      "outputs": []
    },
    {
      "cell_type": "code",
      "metadata": {
        "id": "f7WG8QBzptmY",
        "colab_type": "code",
        "colab": {}
      },
      "source": [
        "# create column with classes as string (for plotting reasons)\n",
        "dict_label_number = {0: 'class_0', 1: 'class_1', 2: 'class_2'}\n",
        "\n",
        "df_test['type'] = list(map(lambda x: dict_label_number[x], df_test['label'].values))\n",
        "df_test['label'].astype(int)\n",
        "\n",
        "# create column with umap 2d-coordinates for the pretrained gilberto model\n",
        "df_test['umap_2d_0_token'] = umap_2d_token[:,0]\n",
        "df_test['umap_2d_1_token'] = umap_2d_token[:,1]\n",
        "\n",
        "#create column with umap 2d-coordinates for the fine-tuned classification token of gilberto model\n",
        "df_test['umap_2d_0_ft_cls'] = umap_2d_ft_cls[:,0]\n",
        "df_test['umap_2d_1_ft_cls'] = umap_2d_ft_cls[:,1]\n",
        "\n",
        "\n",
        "#create column with umap 2d-coordinates for the fine-tuned specific token of gilberto model\n",
        "df_test['umap_2d_0_ft_token'] = umap_2d_ft_token[:,0]\n",
        "df_test['umap_2d_1_ft_token'] = umap_2d_ft_token[:,1]\n",
        "\n",
        "# create column with tsne 2d-coordinates for the pretrained gilberto model\n",
        "df_test['tsne_2d_0_token'] = tsne_2d_token[:,0]\n",
        "df_test['tsne_2d_1_token'] = tsne_2d_token[:,1]\n",
        "\n",
        "# create column with tsne 2d-coordinates for the fine-tuned classification token of gilberto model\n",
        "df_test['tsne_2d_0_ft_cls'] = tsne_2d_ft_cls[:,0]\n",
        "df_test['tsne_2d_1_ft_cls'] = tsne_2d_ft_cls[:,1]\n",
        "\n",
        "#create column with tsne 2d-coordinates for the fine-tuned specific token of gilberto model\n",
        "df_test['tsne_2d_0_ft_token'] = tsne_2d_ft_token[:,0]\n",
        "df_test['tsne_2d_1_ft_token'] = tsne_2d_ft_token[:,1]\n"
      ],
      "execution_count": 0,
      "outputs": []
    },
    {
      "cell_type": "code",
      "metadata": {
        "id": "Gt_di7UArV0t",
        "colab_type": "code",
        "outputId": "9787d081-412f-45f2-cec7-00c6d4686aa2",
        "colab": {
          "base_uri": "https://localhost:8080/",
          "height": 341
        }
      },
      "source": [
        "df_test.to_csv('./df_sei.tsv', header=False, index=False, sep='\\t')\n",
        "df_test.head(3)"
      ],
      "execution_count": 0,
      "outputs": [
        {
          "output_type": "execute_result",
          "data": {
            "text/html": [
              "<div>\n",
              "<style scoped>\n",
              "    .dataframe tbody tr th:only-of-type {\n",
              "        vertical-align: middle;\n",
              "    }\n",
              "\n",
              "    .dataframe tbody tr th {\n",
              "        vertical-align: top;\n",
              "    }\n",
              "\n",
              "    .dataframe thead th {\n",
              "        text-align: right;\n",
              "    }\n",
              "</style>\n",
              "<table border=\"1\" class=\"dataframe\">\n",
              "  <thead>\n",
              "    <tr style=\"text-align: right;\">\n",
              "      <th></th>\n",
              "      <th>sentence</th>\n",
              "      <th>label</th>\n",
              "      <th>type</th>\n",
              "      <th>umap_2d_0_token</th>\n",
              "      <th>umap_2d_1_token</th>\n",
              "      <th>umap_2d_0_ft_cls</th>\n",
              "      <th>umap_2d_1_ft_cls</th>\n",
              "      <th>umap_2d_0_ft_token</th>\n",
              "      <th>umap_2d_1_ft_token</th>\n",
              "      <th>tsne_2d_0_token</th>\n",
              "      <th>tsne_2d_1_token</th>\n",
              "      <th>tsne_2d_0_ft_cls</th>\n",
              "      <th>tsne_2d_1_ft_cls</th>\n",
              "      <th>tsne_2d_0_ft_token</th>\n",
              "      <th>tsne_2d_1_ft_token</th>\n",
              "    </tr>\n",
              "  </thead>\n",
              "  <tbody>\n",
              "    <tr>\n",
              "      <th>0</th>\n",
              "      <td>tu sei andata con l altra ragazza a mangiare</td>\n",
              "      <td>1</td>\n",
              "      <td>class_1</td>\n",
              "      <td>-1.141749</td>\n",
              "      <td>1.315518</td>\n",
              "      <td>13.646123</td>\n",
              "      <td>4.548066</td>\n",
              "      <td>13.106608</td>\n",
              "      <td>10.220137</td>\n",
              "      <td>-5.374630</td>\n",
              "      <td>0.537289</td>\n",
              "      <td>-1.139963</td>\n",
              "      <td>8.928967</td>\n",
              "      <td>-6.547016</td>\n",
              "      <td>-5.330422</td>\n",
              "    </tr>\n",
              "    <tr>\n",
              "      <th>1</th>\n",
              "      <td>amico mio non sei mai salito piu in alto</td>\n",
              "      <td>1</td>\n",
              "      <td>class_1</td>\n",
              "      <td>0.169604</td>\n",
              "      <td>2.287470</td>\n",
              "      <td>14.615481</td>\n",
              "      <td>4.037889</td>\n",
              "      <td>11.931286</td>\n",
              "      <td>9.727062</td>\n",
              "      <td>-8.416141</td>\n",
              "      <td>-0.780520</td>\n",
              "      <td>2.571413</td>\n",
              "      <td>5.957625</td>\n",
              "      <td>-7.394076</td>\n",
              "      <td>-11.029955</td>\n",
              "    </tr>\n",
              "    <tr>\n",
              "      <th>2</th>\n",
              "      <td>momento adatto per colpire ma impiegarono sei ...</td>\n",
              "      <td>0</td>\n",
              "      <td>class_0</td>\n",
              "      <td>20.948631</td>\n",
              "      <td>6.634109</td>\n",
              "      <td>-0.623283</td>\n",
              "      <td>6.748528</td>\n",
              "      <td>-8.908022</td>\n",
              "      <td>-0.844440</td>\n",
              "      <td>14.501611</td>\n",
              "      <td>-18.174429</td>\n",
              "      <td>2.726748</td>\n",
              "      <td>-32.801601</td>\n",
              "      <td>28.822477</td>\n",
              "      <td>10.885617</td>\n",
              "    </tr>\n",
              "  </tbody>\n",
              "</table>\n",
              "</div>"
            ],
            "text/plain": [
              "                                            sentence  ...  tsne_2d_1_ft_token\n",
              "0       tu sei andata con l altra ragazza a mangiare  ...           -5.330422\n",
              "1           amico mio non sei mai salito piu in alto  ...          -11.029955\n",
              "2  momento adatto per colpire ma impiegarono sei ...  ...           10.885617\n",
              "\n",
              "[3 rows x 15 columns]"
            ]
          },
          "metadata": {
            "tags": []
          },
          "execution_count": 57
        }
      ]
    },
    {
      "cell_type": "markdown",
      "metadata": {
        "id": "uSPUc6Rt1b1D",
        "colab_type": "text"
      },
      "source": [
        "#### Embedding Visualization"
      ]
    },
    {
      "cell_type": "code",
      "metadata": {
        "id": "qX0m_O6YteBQ",
        "colab_type": "code",
        "colab": {}
      },
      "source": [
        "# Choose what to visualize: UMAP, TSNE, BOTH\n",
        "show_proj = 'BOTH'\n",
        "\n",
        "# Choose if visualize CLS (alias <\\s\\>) token embedding or the embedding of \"sei\"\n",
        "plot_token_embs = True\n",
        "plot_cls_embs = not plot_token_embs"
      ],
      "execution_count": 0,
      "outputs": []
    },
    {
      "cell_type": "code",
      "metadata": {
        "id": "1NACHQIKrnPT",
        "colab_type": "code",
        "outputId": "ba3acd05-8fa7-4024-f479-768eebbabb9c",
        "colab": {
          "base_uri": "https://localhost:8080/",
          "height": 817
        }
      },
      "source": [
        "from bokeh.plotting import figure, show\n",
        "from bokeh.layouts import row, column\n",
        "from bokeh.models import HoverTool, ColumnDataSource \n",
        "from bokeh.transform import factor_cmap, factor_mark\n",
        "from bokeh.io import output_notebook\n",
        "\n",
        "# Call once to configure Bokeh to display plots inline in the notebook.\n",
        "output_notebook()\n",
        "\n",
        "# to use pandas dataframe\n",
        "source = ColumnDataSource.from_df(df_test) \n",
        "\n",
        "# to use some tools form bokeh\n",
        "tools_to_show = 'box_zoom, save, reset'\n",
        "\n",
        "# colors and markers for each class\n",
        "CLASSES= ['class_0', 'class_1']\n",
        "MARKERS = ['hex', 'triangle']\n",
        "COLORS = [\"#7fc97f\", \"#f0027f\"]\n",
        "\n",
        "if show_proj == 'UMAP':\n",
        "  width, height = 700, 570\n",
        "elif show_proj == 'TSNE':\n",
        "  width, height = 700, 570\n",
        "else:\n",
        "  width, height = 600, 400\n",
        "\n",
        "\n",
        "# plot title\n",
        "fig1 = figure(title = \"UMAP 2d - proj - Base\", tools=tools_to_show, plot_width=width, plot_height=height)\n",
        "fig2 = figure(title = \"UMAP 2d - proj - Fine-Tuned Model\", tools=tools_to_show, plot_width=width, plot_height=height)\n",
        "\n",
        "# define columns to plot\n",
        "x1, y1 = \"umap_2d_0_token\", \"umap_2d_1_token\"\n",
        "if plot_cls_embs:\n",
        "  x2, y2 = \"umap_2d_0_ft_cls\", \"umap_2d_1_ft_cls\"\n",
        "elif plot_token_embs:\n",
        "  x2, y2 = \"umap_2d_0_ft_token\", \"umap_2d_1_ft_token\"\n",
        "\n",
        "\n",
        "fig1.xaxis.axis_label, fig1.yaxis.axis_label = x1, y1\n",
        "fig2.xaxis.axis_label, fig2.yaxis.axis_label = x2, y2\n",
        "\n",
        "# hovering tool\n",
        "fig1.add_tools(HoverTool(tooltips = [(\"columan_name\", \"@{sentence}\"),])) \n",
        "fig2.add_tools(HoverTool(tooltips = [(\"columan_name\", \"@{sentence}\"),])) \n",
        "\n",
        "\n",
        "factor_cmap_col = 'type'\n",
        "\n",
        "fig1.scatter(x1, y1, source=source, legend_field=\"label\", fill_alpha=0.4, size=12,\n",
        "          color=factor_cmap(factor_cmap_col, COLORS, CLASSES))\n",
        "fig2.scatter(x2, y2, source=source, legend_field=\"label\", fill_alpha=0.4, size=12,\n",
        "          marker=\"triangle\", color=factor_cmap(factor_cmap_col, COLORS, CLASSES))\n",
        "\n",
        "\n",
        "# plot title\n",
        "fig3 = figure(title = \"TSNE 2d - proj - Base\", tools=tools_to_show, plot_width=width, plot_height=height)\n",
        "fig4 = figure(title = \"TSNE 2d - proj - Fine-Tuned Model\", tools=tools_to_show, plot_width=width, plot_height=height)\n",
        "\n",
        "# define columns to plot\n",
        "x1, y1 = \"tsne_2d_0_token\", \"tsne_2d_1_token\"\n",
        "if plot_cls_embs:\n",
        "  x2, y2 = \"tsne_2d_0_ft_cls\", \"tsne_2d_1_ft_cls\"\n",
        "elif plot_token_embs:\n",
        "  x2, y2 = \"tsne_2d_0_ft_token\", \"tsne_2d_1_ft_token\"  \n",
        "\n",
        "    \n",
        "fig3.xaxis.axis_label, fig1.yaxis.axis_label = x1, y1\n",
        "fig4.xaxis.axis_label, fig2.yaxis.axis_label = x2, y2\n",
        "\n",
        "# hovering tool\n",
        "fig3.add_tools(HoverTool(tooltips = [(\"columan_name\", \"@{sentence}\"),])) \n",
        "fig4.add_tools(HoverTool(tooltips = [(\"columan_name\", \"@{sentence}\"),])) \n",
        "\n",
        "factor_cmap_col = 'type'\n",
        "\n",
        "fig3.scatter(x1, y1, source=source, legend_field=\"label\", fill_alpha=0.4, size=12,\n",
        "          color=factor_cmap(factor_cmap_col, COLORS, CLASSES))\n",
        "\n",
        "fig4.scatter(x2, y2, source=source, legend_field=\"label\", fill_alpha=0.4, size=12,\n",
        "          marker=\"triangle\", color=factor_cmap(factor_cmap_col, COLORS, CLASSES))\n",
        "\n",
        "\n",
        "if show_proj == 'UMAP':\n",
        "  show(row(fig1,fig2))\n",
        "elif show_proj == 'TSNE':\n",
        "  show(row(fig3,fig4))\n",
        "else:\n",
        "  show(column(row(fig1,fig2), row(fig3,fig4)))\n",
        "\n"
      ],
      "execution_count": 0,
      "outputs": [
        {
          "output_type": "display_data",
          "data": {
            "application/javascript": [
              "\n",
              "(function(root) {\n",
              "  function now() {\n",
              "    return new Date();\n",
              "  }\n",
              "\n",
              "  var force = true;\n",
              "\n",
              "  if (typeof root._bokeh_onload_callbacks === \"undefined\" || force === true) {\n",
              "    root._bokeh_onload_callbacks = [];\n",
              "    root._bokeh_is_loading = undefined;\n",
              "  }\n",
              "\n",
              "  var JS_MIME_TYPE = 'application/javascript';\n",
              "  var HTML_MIME_TYPE = 'text/html';\n",
              "  var EXEC_MIME_TYPE = 'application/vnd.bokehjs_exec.v0+json';\n",
              "  var CLASS_NAME = 'output_bokeh rendered_html';\n",
              "\n",
              "  /**\n",
              "   * Render data to the DOM node\n",
              "   */\n",
              "  function render(props, node) {\n",
              "    var script = document.createElement(\"script\");\n",
              "    node.appendChild(script);\n",
              "  }\n",
              "\n",
              "  /**\n",
              "   * Handle when an output is cleared or removed\n",
              "   */\n",
              "  function handleClearOutput(event, handle) {\n",
              "    var cell = handle.cell;\n",
              "\n",
              "    var id = cell.output_area._bokeh_element_id;\n",
              "    var server_id = cell.output_area._bokeh_server_id;\n",
              "    // Clean up Bokeh references\n",
              "    if (id != null && id in Bokeh.index) {\n",
              "      Bokeh.index[id].model.document.clear();\n",
              "      delete Bokeh.index[id];\n",
              "    }\n",
              "\n",
              "    if (server_id !== undefined) {\n",
              "      // Clean up Bokeh references\n",
              "      var cmd = \"from bokeh.io.state import curstate; print(curstate().uuid_to_server['\" + server_id + \"'].get_sessions()[0].document.roots[0]._id)\";\n",
              "      cell.notebook.kernel.execute(cmd, {\n",
              "        iopub: {\n",
              "          output: function(msg) {\n",
              "            var id = msg.content.text.trim();\n",
              "            if (id in Bokeh.index) {\n",
              "              Bokeh.index[id].model.document.clear();\n",
              "              delete Bokeh.index[id];\n",
              "            }\n",
              "          }\n",
              "        }\n",
              "      });\n",
              "      // Destroy server and session\n",
              "      var cmd = \"import bokeh.io.notebook as ion; ion.destroy_server('\" + server_id + \"')\";\n",
              "      cell.notebook.kernel.execute(cmd);\n",
              "    }\n",
              "  }\n",
              "\n",
              "  /**\n",
              "   * Handle when a new output is added\n",
              "   */\n",
              "  function handleAddOutput(event, handle) {\n",
              "    var output_area = handle.output_area;\n",
              "    var output = handle.output;\n",
              "\n",
              "    // limit handleAddOutput to display_data with EXEC_MIME_TYPE content only\n",
              "    if ((output.output_type != \"display_data\") || (!output.data.hasOwnProperty(EXEC_MIME_TYPE))) {\n",
              "      return\n",
              "    }\n",
              "\n",
              "    var toinsert = output_area.element.find(\".\" + CLASS_NAME.split(' ')[0]);\n",
              "\n",
              "    if (output.metadata[EXEC_MIME_TYPE][\"id\"] !== undefined) {\n",
              "      toinsert[toinsert.length - 1].firstChild.textContent = output.data[JS_MIME_TYPE];\n",
              "      // store reference to embed id on output_area\n",
              "      output_area._bokeh_element_id = output.metadata[EXEC_MIME_TYPE][\"id\"];\n",
              "    }\n",
              "    if (output.metadata[EXEC_MIME_TYPE][\"server_id\"] !== undefined) {\n",
              "      var bk_div = document.createElement(\"div\");\n",
              "      bk_div.innerHTML = output.data[HTML_MIME_TYPE];\n",
              "      var script_attrs = bk_div.children[0].attributes;\n",
              "      for (var i = 0; i < script_attrs.length; i++) {\n",
              "        toinsert[toinsert.length - 1].firstChild.setAttribute(script_attrs[i].name, script_attrs[i].value);\n",
              "      }\n",
              "      // store reference to server id on output_area\n",
              "      output_area._bokeh_server_id = output.metadata[EXEC_MIME_TYPE][\"server_id\"];\n",
              "    }\n",
              "  }\n",
              "\n",
              "  function register_renderer(events, OutputArea) {\n",
              "\n",
              "    function append_mime(data, metadata, element) {\n",
              "      // create a DOM node to render to\n",
              "      var toinsert = this.create_output_subarea(\n",
              "        metadata,\n",
              "        CLASS_NAME,\n",
              "        EXEC_MIME_TYPE\n",
              "      );\n",
              "      this.keyboard_manager.register_events(toinsert);\n",
              "      // Render to node\n",
              "      var props = {data: data, metadata: metadata[EXEC_MIME_TYPE]};\n",
              "      render(props, toinsert[toinsert.length - 1]);\n",
              "      element.append(toinsert);\n",
              "      return toinsert\n",
              "    }\n",
              "\n",
              "    /* Handle when an output is cleared or removed */\n",
              "    events.on('clear_output.CodeCell', handleClearOutput);\n",
              "    events.on('delete.Cell', handleClearOutput);\n",
              "\n",
              "    /* Handle when a new output is added */\n",
              "    events.on('output_added.OutputArea', handleAddOutput);\n",
              "\n",
              "    /**\n",
              "     * Register the mime type and append_mime function with output_area\n",
              "     */\n",
              "    OutputArea.prototype.register_mime_type(EXEC_MIME_TYPE, append_mime, {\n",
              "      /* Is output safe? */\n",
              "      safe: true,\n",
              "      /* Index of renderer in `output_area.display_order` */\n",
              "      index: 0\n",
              "    });\n",
              "  }\n",
              "\n",
              "  // register the mime type if in Jupyter Notebook environment and previously unregistered\n",
              "  if (root.Jupyter !== undefined) {\n",
              "    var events = require('base/js/events');\n",
              "    var OutputArea = require('notebook/js/outputarea').OutputArea;\n",
              "\n",
              "    if (OutputArea.prototype.mime_types().indexOf(EXEC_MIME_TYPE) == -1) {\n",
              "      register_renderer(events, OutputArea);\n",
              "    }\n",
              "  }\n",
              "\n",
              "  \n",
              "  if (typeof (root._bokeh_timeout) === \"undefined\" || force === true) {\n",
              "    root._bokeh_timeout = Date.now() + 5000;\n",
              "    root._bokeh_failed_load = false;\n",
              "  }\n",
              "\n",
              "  var NB_LOAD_WARNING = {'data': {'text/html':\n",
              "     \"<div style='background-color: #fdd'>\\n\"+\n",
              "     \"<p>\\n\"+\n",
              "     \"BokehJS does not appear to have successfully loaded. If loading BokehJS from CDN, this \\n\"+\n",
              "     \"may be due to a slow or bad network connection. Possible fixes:\\n\"+\n",
              "     \"</p>\\n\"+\n",
              "     \"<ul>\\n\"+\n",
              "     \"<li>re-rerun `output_notebook()` to attempt to load from CDN again, or</li>\\n\"+\n",
              "     \"<li>use INLINE resources instead, as so:</li>\\n\"+\n",
              "     \"</ul>\\n\"+\n",
              "     \"<code>\\n\"+\n",
              "     \"from bokeh.resources import INLINE\\n\"+\n",
              "     \"output_notebook(resources=INLINE)\\n\"+\n",
              "     \"</code>\\n\"+\n",
              "     \"</div>\"}};\n",
              "\n",
              "  function display_loaded() {\n",
              "    var el = document.getElementById(null);\n",
              "    if (el != null) {\n",
              "      el.textContent = \"BokehJS is loading...\";\n",
              "    }\n",
              "    if (root.Bokeh !== undefined) {\n",
              "      if (el != null) {\n",
              "        el.textContent = \"BokehJS \" + root.Bokeh.version + \" successfully loaded.\";\n",
              "      }\n",
              "    } else if (Date.now() < root._bokeh_timeout) {\n",
              "      setTimeout(display_loaded, 100)\n",
              "    }\n",
              "  }\n",
              "\n",
              "\n",
              "  function run_callbacks() {\n",
              "    try {\n",
              "      root._bokeh_onload_callbacks.forEach(function(callback) {\n",
              "        if (callback != null)\n",
              "          callback();\n",
              "      });\n",
              "    } finally {\n",
              "      delete root._bokeh_onload_callbacks\n",
              "    }\n",
              "    console.debug(\"Bokeh: all callbacks have finished\");\n",
              "  }\n",
              "\n",
              "  function load_libs(css_urls, js_urls, callback) {\n",
              "    if (css_urls == null) css_urls = [];\n",
              "    if (js_urls == null) js_urls = [];\n",
              "\n",
              "    root._bokeh_onload_callbacks.push(callback);\n",
              "    if (root._bokeh_is_loading > 0) {\n",
              "      console.debug(\"Bokeh: BokehJS is being loaded, scheduling callback at\", now());\n",
              "      return null;\n",
              "    }\n",
              "    if (js_urls == null || js_urls.length === 0) {\n",
              "      run_callbacks();\n",
              "      return null;\n",
              "    }\n",
              "    console.debug(\"Bokeh: BokehJS not loaded, scheduling load and callback at\", now());\n",
              "    root._bokeh_is_loading = css_urls.length + js_urls.length;\n",
              "\n",
              "    function on_load() {\n",
              "      root._bokeh_is_loading--;\n",
              "      if (root._bokeh_is_loading === 0) {\n",
              "        console.debug(\"Bokeh: all BokehJS libraries/stylesheets loaded\");\n",
              "        run_callbacks()\n",
              "      }\n",
              "    }\n",
              "\n",
              "    function on_error() {\n",
              "      console.error(\"failed to load \" + url);\n",
              "    }\n",
              "\n",
              "    for (var i = 0; i < css_urls.length; i++) {\n",
              "      var url = css_urls[i];\n",
              "      const element = document.createElement(\"link\");\n",
              "      element.onload = on_load;\n",
              "      element.onerror = on_error;\n",
              "      element.rel = \"stylesheet\";\n",
              "      element.type = \"text/css\";\n",
              "      element.href = url;\n",
              "      console.debug(\"Bokeh: injecting link tag for BokehJS stylesheet: \", url);\n",
              "      document.body.appendChild(element);\n",
              "    }\n",
              "\n",
              "    for (var i = 0; i < js_urls.length; i++) {\n",
              "      var url = js_urls[i];\n",
              "      var element = document.createElement('script');\n",
              "      element.onload = on_load;\n",
              "      element.onerror = on_error;\n",
              "      element.async = false;\n",
              "      element.src = url;\n",
              "      console.debug(\"Bokeh: injecting script tag for BokehJS library: \", url);\n",
              "      document.head.appendChild(element);\n",
              "    }\n",
              "  };\n",
              "\n",
              "  function inject_raw_css(css) {\n",
              "    const element = document.createElement(\"style\");\n",
              "    element.appendChild(document.createTextNode(css));\n",
              "    document.body.appendChild(element);\n",
              "  }\n",
              "\n",
              "  \n",
              "  var js_urls = [\"https://cdn.pydata.org/bokeh/release/bokeh-1.4.0.min.js\", \"https://cdn.pydata.org/bokeh/release/bokeh-widgets-1.4.0.min.js\", \"https://cdn.pydata.org/bokeh/release/bokeh-tables-1.4.0.min.js\", \"https://cdn.pydata.org/bokeh/release/bokeh-gl-1.4.0.min.js\"];\n",
              "  var css_urls = [];\n",
              "  \n",
              "\n",
              "  var inline_js = [\n",
              "    function(Bokeh) {\n",
              "      Bokeh.set_log_level(\"info\");\n",
              "    },\n",
              "    function(Bokeh) {\n",
              "    \n",
              "    \n",
              "    }\n",
              "  ];\n",
              "\n",
              "  function run_inline_js() {\n",
              "    \n",
              "    if (root.Bokeh !== undefined || force === true) {\n",
              "      \n",
              "    for (var i = 0; i < inline_js.length; i++) {\n",
              "      inline_js[i].call(root, root.Bokeh);\n",
              "    }\n",
              "    } else if (Date.now() < root._bokeh_timeout) {\n",
              "      setTimeout(run_inline_js, 100);\n",
              "    } else if (!root._bokeh_failed_load) {\n",
              "      console.log(\"Bokeh: BokehJS failed to load within specified timeout.\");\n",
              "      root._bokeh_failed_load = true;\n",
              "    } else if (force !== true) {\n",
              "      var cell = $(document.getElementById(null)).parents('.cell').data().cell;\n",
              "      cell.output_area.append_execute_result(NB_LOAD_WARNING)\n",
              "    }\n",
              "\n",
              "  }\n",
              "\n",
              "  if (root._bokeh_is_loading === 0) {\n",
              "    console.debug(\"Bokeh: BokehJS loaded, going straight to plotting\");\n",
              "    run_inline_js();\n",
              "  } else {\n",
              "    load_libs(css_urls, js_urls, function() {\n",
              "      console.debug(\"Bokeh: BokehJS plotting callback run at\", now());\n",
              "      run_inline_js();\n",
              "    });\n",
              "  }\n",
              "}(window));"
            ],
            "application/vnd.bokehjs_load.v0+json": "\n(function(root) {\n  function now() {\n    return new Date();\n  }\n\n  var force = true;\n\n  if (typeof root._bokeh_onload_callbacks === \"undefined\" || force === true) {\n    root._bokeh_onload_callbacks = [];\n    root._bokeh_is_loading = undefined;\n  }\n\n  \n\n  \n  if (typeof (root._bokeh_timeout) === \"undefined\" || force === true) {\n    root._bokeh_timeout = Date.now() + 5000;\n    root._bokeh_failed_load = false;\n  }\n\n  var NB_LOAD_WARNING = {'data': {'text/html':\n     \"<div style='background-color: #fdd'>\\n\"+\n     \"<p>\\n\"+\n     \"BokehJS does not appear to have successfully loaded. If loading BokehJS from CDN, this \\n\"+\n     \"may be due to a slow or bad network connection. Possible fixes:\\n\"+\n     \"</p>\\n\"+\n     \"<ul>\\n\"+\n     \"<li>re-rerun `output_notebook()` to attempt to load from CDN again, or</li>\\n\"+\n     \"<li>use INLINE resources instead, as so:</li>\\n\"+\n     \"</ul>\\n\"+\n     \"<code>\\n\"+\n     \"from bokeh.resources import INLINE\\n\"+\n     \"output_notebook(resources=INLINE)\\n\"+\n     \"</code>\\n\"+\n     \"</div>\"}};\n\n  function display_loaded() {\n    var el = document.getElementById(null);\n    if (el != null) {\n      el.textContent = \"BokehJS is loading...\";\n    }\n    if (root.Bokeh !== undefined) {\n      if (el != null) {\n        el.textContent = \"BokehJS \" + root.Bokeh.version + \" successfully loaded.\";\n      }\n    } else if (Date.now() < root._bokeh_timeout) {\n      setTimeout(display_loaded, 100)\n    }\n  }\n\n\n  function run_callbacks() {\n    try {\n      root._bokeh_onload_callbacks.forEach(function(callback) {\n        if (callback != null)\n          callback();\n      });\n    } finally {\n      delete root._bokeh_onload_callbacks\n    }\n    console.debug(\"Bokeh: all callbacks have finished\");\n  }\n\n  function load_libs(css_urls, js_urls, callback) {\n    if (css_urls == null) css_urls = [];\n    if (js_urls == null) js_urls = [];\n\n    root._bokeh_onload_callbacks.push(callback);\n    if (root._bokeh_is_loading > 0) {\n      console.debug(\"Bokeh: BokehJS is being loaded, scheduling callback at\", now());\n      return null;\n    }\n    if (js_urls == null || js_urls.length === 0) {\n      run_callbacks();\n      return null;\n    }\n    console.debug(\"Bokeh: BokehJS not loaded, scheduling load and callback at\", now());\n    root._bokeh_is_loading = css_urls.length + js_urls.length;\n\n    function on_load() {\n      root._bokeh_is_loading--;\n      if (root._bokeh_is_loading === 0) {\n        console.debug(\"Bokeh: all BokehJS libraries/stylesheets loaded\");\n        run_callbacks()\n      }\n    }\n\n    function on_error() {\n      console.error(\"failed to load \" + url);\n    }\n\n    for (var i = 0; i < css_urls.length; i++) {\n      var url = css_urls[i];\n      const element = document.createElement(\"link\");\n      element.onload = on_load;\n      element.onerror = on_error;\n      element.rel = \"stylesheet\";\n      element.type = \"text/css\";\n      element.href = url;\n      console.debug(\"Bokeh: injecting link tag for BokehJS stylesheet: \", url);\n      document.body.appendChild(element);\n    }\n\n    for (var i = 0; i < js_urls.length; i++) {\n      var url = js_urls[i];\n      var element = document.createElement('script');\n      element.onload = on_load;\n      element.onerror = on_error;\n      element.async = false;\n      element.src = url;\n      console.debug(\"Bokeh: injecting script tag for BokehJS library: \", url);\n      document.head.appendChild(element);\n    }\n  };\n\n  function inject_raw_css(css) {\n    const element = document.createElement(\"style\");\n    element.appendChild(document.createTextNode(css));\n    document.body.appendChild(element);\n  }\n\n  \n  var js_urls = [\"https://cdn.pydata.org/bokeh/release/bokeh-1.4.0.min.js\", \"https://cdn.pydata.org/bokeh/release/bokeh-widgets-1.4.0.min.js\", \"https://cdn.pydata.org/bokeh/release/bokeh-tables-1.4.0.min.js\", \"https://cdn.pydata.org/bokeh/release/bokeh-gl-1.4.0.min.js\"];\n  var css_urls = [];\n  \n\n  var inline_js = [\n    function(Bokeh) {\n      Bokeh.set_log_level(\"info\");\n    },\n    function(Bokeh) {\n    \n    \n    }\n  ];\n\n  function run_inline_js() {\n    \n    if (root.Bokeh !== undefined || force === true) {\n      \n    for (var i = 0; i < inline_js.length; i++) {\n      inline_js[i].call(root, root.Bokeh);\n    }\n    } else if (Date.now() < root._bokeh_timeout) {\n      setTimeout(run_inline_js, 100);\n    } else if (!root._bokeh_failed_load) {\n      console.log(\"Bokeh: BokehJS failed to load within specified timeout.\");\n      root._bokeh_failed_load = true;\n    } else if (force !== true) {\n      var cell = $(document.getElementById(null)).parents('.cell').data().cell;\n      cell.output_area.append_execute_result(NB_LOAD_WARNING)\n    }\n\n  }\n\n  if (root._bokeh_is_loading === 0) {\n    console.debug(\"Bokeh: BokehJS loaded, going straight to plotting\");\n    run_inline_js();\n  } else {\n    load_libs(css_urls, js_urls, function() {\n      console.debug(\"Bokeh: BokehJS plotting callback run at\", now());\n      run_inline_js();\n    });\n  }\n}(window));"
          },
          "metadata": {
            "tags": []
          }
        },
        {
          "output_type": "display_data",
          "data": {
            "text/html": [
              "\n",
              "\n",
              "\n",
              "\n",
              "\n",
              "\n",
              "  <div class=\"bk-root\" id=\"227054a1-7445-43a1-943e-893451c24605\" data-root-id=\"1183\"></div>\n"
            ]
          },
          "metadata": {
            "tags": []
          }
        },
        {
          "output_type": "display_data",
          "data": {
            "application/javascript": [
              "(function(root) {\n",
              "  function embed_document(root) {\n",
              "    \n",
              "  var docs_json = {\"983d04ed-0299-4897-bf57-e7ce5642d4ff\":{\"roots\":{\"references\":[{\"attributes\":{\"children\":[{\"id\":\"1181\",\"type\":\"Row\"},{\"id\":\"1182\",\"type\":\"Row\"}]},\"id\":\"1183\",\"type\":\"Column\"},{\"attributes\":{\"below\":[{\"id\":\"1040\",\"type\":\"LinearAxis\"}],\"center\":[{\"id\":\"1044\",\"type\":\"Grid\"},{\"id\":\"1049\",\"type\":\"Grid\"},{\"id\":\"1089\",\"type\":\"Legend\"}],\"left\":[{\"id\":\"1045\",\"type\":\"LinearAxis\"}],\"plot_height\":400,\"renderers\":[{\"id\":\"1081\",\"type\":\"GlyphRenderer\"}],\"title\":{\"id\":\"1030\",\"type\":\"Title\"},\"toolbar\":{\"id\":\"1053\",\"type\":\"Toolbar\"},\"x_range\":{\"id\":\"1032\",\"type\":\"DataRange1d\"},\"x_scale\":{\"id\":\"1036\",\"type\":\"LinearScale\"},\"y_range\":{\"id\":\"1034\",\"type\":\"DataRange1d\"},\"y_scale\":{\"id\":\"1038\",\"type\":\"LinearScale\"}},\"id\":\"1029\",\"subtype\":\"Figure\",\"type\":\"Plot\"},{\"attributes\":{\"data_source\":{\"id\":\"1167\",\"type\":\"ColumnDataSource\"},\"glyph\":{\"id\":\"1169\",\"type\":\"Scatter\"},\"hover_glyph\":null,\"muted_glyph\":null,\"nonselection_glyph\":{\"id\":\"1170\",\"type\":\"Scatter\"},\"selection_glyph\":null,\"view\":{\"id\":\"1172\",\"type\":\"CDSView\"}},\"id\":\"1171\",\"type\":\"GlyphRenderer\"},{\"attributes\":{\"source\":{\"id\":\"1167\",\"type\":\"ColumnDataSource\"}},\"id\":\"1172\",\"type\":\"CDSView\"},{\"attributes\":{},\"id\":\"1174\",\"type\":\"BasicTickFormatter\"},{\"attributes\":{},\"id\":\"1008\",\"type\":\"LinearScale\"},{\"attributes\":{},\"id\":\"1010\",\"type\":\"LinearScale\"},{\"attributes\":{\"fill_alpha\":{\"value\":0.1},\"fill_color\":{\"value\":\"#1f77b4\"},\"line_alpha\":{\"value\":0.1},\"line_color\":{\"value\":\"#1f77b4\"},\"size\":{\"units\":\"screen\",\"value\":12},\"x\":{\"field\":\"tsne_2d_0_token\"},\"y\":{\"field\":\"tsne_2d_1_token\"}},\"id\":\"1155\",\"type\":\"Scatter\"},{\"attributes\":{\"bottom_units\":\"screen\",\"fill_alpha\":{\"value\":0.5},\"fill_color\":{\"value\":\"lightgrey\"},\"left_units\":\"screen\",\"level\":\"overlay\",\"line_alpha\":{\"value\":1.0},\"line_color\":{\"value\":\"black\"},\"line_dash\":[4,4],\"line_width\":{\"value\":2},\"render_mode\":\"css\",\"right_units\":\"screen\",\"top_units\":\"screen\"},\"id\":\"1163\",\"type\":\"BoxAnnotation\"},{\"attributes\":{\"items\":[{\"id\":\"1165\",\"type\":\"LegendItem\"}]},\"id\":\"1164\",\"type\":\"Legend\"},{\"attributes\":{\"fill_alpha\":{\"value\":0.1},\"fill_color\":{\"value\":\"#1f77b4\"},\"line_alpha\":{\"value\":0.1},\"line_color\":{\"value\":\"#1f77b4\"},\"size\":{\"units\":\"screen\",\"value\":12},\"x\":{\"field\":\"umap_2d_0_token\"},\"y\":{\"field\":\"umap_2d_1_token\"}},\"id\":\"1065\",\"type\":\"Scatter\"},{\"attributes\":{\"label\":{\"field\":\"label\"},\"renderers\":[{\"id\":\"1156\",\"type\":\"GlyphRenderer\"}]},\"id\":\"1165\",\"type\":\"LegendItem\"},{\"attributes\":{\"callback\":null,\"data\":{\"index\":[0,1,2,3,4,5,6,7,8,9,10,11,12,13,14,15,16,17,18,19,20,21,22,23,24,25,26,27,28,29,30,31,32,33,34,35,36,37,38,39,40,41,42,43,44,45,46,47,48,49,50,51,52,53,54,55,56,57,58,59,60,61,62,63,64,65,66,67,68,69,70,71,72,73,74,75,76,77,78,79,80,81,82,83,84,85,86,87,88,89,90,91,92,93,94,95,96,97,98,99,100,101,102,103,104,105,106,107,108,109,110,111,112,113,114,115,116,117,118,119,120,121,122,123,124,125,126,127,128,129,130,131,132,133,134,135,136,137,138,139,140,141,142,143,144,145,146,147,148,149,150,151,152,153,154,155,156,157,158,159,160,161,162,163,164,165,166,167,168,169,170,171,172,173,174,175,176,177,178,179,180,181,182,183,184,185,186,187,188,189,190,191,192,193,194,195,196,197,198,199],\"label\":[1,1,0,0,0,1,0,1,1,1,1,1,0,1,0,1,1,1,0,1,1,1,1,1,1,0,1,1,1,1,1,1,1,0,0,1,0,1,1,1,0,1,1,1,1,1,1,1,1,1,1,0,0,1,1,0,1,1,1,1,0,0,1,1,1,1,0,0,0,0,1,1,1,0,1,0,1,0,0,1,1,0,0,0,1,1,1,1,1,1,1,1,1,0,1,1,1,1,1,1,1,1,0,1,1,1,1,0,1,0,1,1,1,0,1,1,1,1,1,1,1,1,1,1,1,1,1,0,0,1,1,0,1,1,1,1,1,0,0,1,1,0,1,1,1,1,1,1,1,1,1,1,1,1,1,0,1,0,1,0,1,1,0,1,0,1,0,0,1,0,1,1,1,1,1,1,1,1,0,1,1,1,0,1,0,1,1,0,1,0,1,0,1,1,0,0,1,1,1,1],\"sentence\":[\"tu sei andata con l altra ragazza a mangiare\",\"amico mio non sei mai salito piu in alto\",\"momento adatto per colpire ma impiegarono sei mesi\",\"ha insegnato in quattro scuole diverse in sei anni\",\"che \\u00e8 andato in sei mercatini per trovarlo\",\"sei una brava ragazza marta\",\"ha avuto almeno sei donne nel corso della sua vita ed anche due figlie\",\"ti sei veramente distinta questa sera\",\"sei troppo grande per giocare col trenino\",\"posso ricordarti che sei stata tu a darmi la tua meta  della clinica\",\"ecco perch\\u00e9 non sei tornato per il resto delle piante\",\"sai perche  non sei riuscita ad ucciderlo margot\",\"lunghezza del naso sei centimetri\",\"cio\\u00e8 so che sei morto ma spero che vada tutto bene\",\"sei mesi fa regina vasquez\",\"l altra sera quando sei uscito\",\"e io non ho mai detto che sei stata tu\",\"tu sei il portale la via\",\"tutti i giorni alle sei c era qualcosa in forno ad aspettarlo\",\"te la sei cavata alla grande li  sopra\",\"per quelli sei eccitato\",\"sicuro che sei pi\\u00f9 bello senza giacca\",\"sei stato soldato\",\"non ti sei mai occupata di biochimica\",\"e  che sei totalmente follemente completamente innamorato di zia robin\",\"nelfu invece commercializzata la ed il motore a sei cilindri fu abbandonato\",\"sei una donna di quasi settant anni\",\"ti sei comportata malissimo con me\",\"e da allora sono certo che ti sei chiesto quando avrei ufficializzato questo punto\",\"ma grazie mille ora che sei scappato possiamo vedere cosa ci nascondi\",\"ecco tu sei qui mccombs e questo sono io\",\"sei solo nella mia testa joe\",\"sono contento che non ti sei abbandonata eve\",\"l'ergastolo con sei mesi di isolamento diurno il secondo trent'anni di reclusione\",\"io credo che v'inganniate poich\\u00e9 nella taverna d' el moro che da sei anni tengo in\",\"quindi se questi fine settimana sono terribili perch\\u00e9 sei venuto\",\"siete spoasati da sei anni\",\"spera solo che flash non arrivi altrimenti sei finito\",\"la settimana scorsa non sei venuto e sono rimasto giorni senza vederti cazzo\",\"dir\\u00f2 che non sono riuscito a trovarti che sei gi\\u00e0 scappato\",\"allora a jud per sei dollari e un quarto\",\"sei solo un perdente\",\"capisco che sei alterato\",\"non sei stato capace nemmeno di dirmelo in faccia\",\"ma tu sei quello che perde di pi\\u00f9\",\"sei tornato per lavorare spero\",\"sei stata tu a volere la casa\",\"sei un disgustoso pezzo di merda\",\"perch\\u00e9 te ne sei andata cos\\u00ec\",\"sei un brav uomo joe\",\"ti ho sempre accettato per quella che sei con tutti i tuoi difetti\",\"viaggio dell anima attraverso i sei pianeti vangelo di maria\",\"nel mese di aprile il governo ucraino notific\\u00f2 alla russia con un preavviso di sei mesi\",\"sei davvero disturbato amico\",\"dave tu sei appena piu  interno di lui\",\"a craig sei una fi e lei riversera tutta la sua rabbia su di lui\",\"tu sei qui con me eh\",\"sei una candidata notevole senza dubbio\",\"tu sei matto cazzo\",\"quindi ci sei andata a letto perch\\u00e9 i miei calzini erano per terra\",\"sono sei anni che lo sopporto e non ne\",\"questo conflitto \\u00e8 in atto da decenni da molto prima della guerra dei sei giorni delil\",\"te lo sei fatto mentre aiutavi tuo padre a togliersi la cavigliera\",\"ehi ti sei fatto la barba\",\"ti prego dimmi che non sei diventata sua amica\",\"per me sei un verme che vende fotografie sporche\",\"prima dei sei mesi verr\\u00e0 restituita al cliente la\",\"puoi anche essere suo di sera ma dalla alle sei il mio ragazzo\",\"nelle sei stagioni seguenti mettendo a segno la\",\"puoi ricordarmi gli impegni del sei maggio\",\"e  tutto molto interessante james sei stato molto bravo\",\"e ti sei fermata alla seconda canzone\",\"non ti presenti a lavoro e ti sei perso il compleanno di sonny jim\",\"vita a sei zampe edizione giulio\",\"sei arrivato all oceano\",\"\\u00e8 avram ha gi\\u00e0 chiamato altre sei volte\",\"chi sei esattamente signor shalev\",\"non le parlo da sei mesi\",\"per gli italiani \\u00e8 obbligatorioil passaporto con almeno sei mesi di\",\"ma sei arrivata appena in tempo\",\"sai non sei obbligata\",\"e sei bicchieri di whisky\",\"sei anni fuori dalla nazionale\",\"lei e sei anni piu vecchia di me e\",\"sei stato tu ad uccidere shisui\",\"credo che tu abbia saputo che non sei pi\\u00f9 ricercata per omicidio\",\"complimenti sei arrivato in tempo\",\"ma e  chiaro che sei arrabbiata\",\"mi hanno detto che sei il mio referente\",\"non posso fidarmi dell uomo che sei diventato non se vi dipende un altra vita\",\"ci sei dentro anche tu quindi inizia a pensare ad una soluzione ora\",\"ti sei scopato sua figlia\",\"ti sei ritirata da scuola e hai ottenuto un lavoro all assistenza clienti\",\"per formare un'unica serie di sei libri\",\"a te no perch\\u00e9 sei ancora ammalato ma diciamo simbolicamente\",\"senti michael salveremo nikita ma tu non potrai fare nulla se sei morto\",\"non sei mai stato povero vero havisham\",\"omd tu sei il padre di will\",\"ok sei appena passato da stupido\",\"da quando ho scoperto che sei un bugiardo\",\"tu sei lo zio jamal il mio favorito\",\"e quindi non ti sei sposata\",\"avevi appuntamento sei mesi fa\",\"cio\\u00e8 di quello che sei\",\"penso sia normale dato che sei quasi annegato una volta\",\"ti ricordo che tecnicamente sei ancora un insegnante\",\"quando sei messo male come me s\\u00ec\",\"la chiamata e durata sei minuti\",\"ora ti sei liberata abbastanza per riuscire ad esprimere ci\\u00f2 che senti\",\"parte di israele dei territori conquistati durante la guerra dei sei\",\"sei diventato un medico brian\",\"quando sei svanito con quella donna ero sicura che fossi morto\",\"ma sei venuta a casa nostradevi avere sicuramente incontrato i suoi bambini\",\"sai ci sono delle vipere che possono vivere per sei mesi senza mangiare\",\"e ora riesco a vedere che sei un uomo di gran carattere\",\"louis dove sei\",\"tu sei un brav uomo ichabod crane\",\"che sei ancora innamorato di lei dopo tutti questi anni\",\"tu sei emozionata\",\"nella maggior parte delle decisioni che ho preso sei stata dalla mia parte\",\"sei un uomo sincero jeremy\",\"e invece ti sei spogliato\",\"sei quasi al punto preferito di mamma\",\"non le dir\\u00f2 che sei stato tu\",\"aspettala non importa se sei cieco d amore o di risentimento\",\"tu vuoi che vada dal tizio con cui sei andato a letto\",\"sei un astronauta qualificato giusto\",\"una relazione di controllo completa sei mesi prima dell'adesione la\",\"dai sei paesi\",\"sei solo un po  in calo\",\"sei davvero fissato con questa storia della gerarchia joe\",\"siamo rimaste in sei e\",\"jeanfrancois tu sei mio amico\",\"se scopro che sei la responsabile allora parleremo di espulsione\",\"purtroppo ci sei anche tu\",\"ecco perch\\u00e9 te ne sei andato presto dall appuntamento hai il coprifuoco\",\"sapevi di essere merce avariata e non ti sei sognata di dirmelo\",\"il distretto di pueblo nuevo \\u00e8 uno dei sei distretti della provincia di ferreafe in per\\u00f9\",\"raggiungono anche l'altezza di sei metri in\",\"sei un ted migliore di ted\",\"oh spalding sei sempre stato il mio guardiano silenzioso\",\"ehi auto sei\",\"sei una pedina di walsingham\",\"vuoi che gli dica che sei venuta a letto con me\",\"e siccome sei stata una madre eccellente non vedo perche  dovrei prendere ordini da te\",\"non dirmi che non ci sei arrivato\",\"dirle come sei stata\",\"sei stato tu a farci questo\",\"okay ti ci sei nascosto anche tu amico\",\"dice che sei arrivato ad avere una migliore comprensione della tua posizione\",\"se in egitto facevi il pasticciere perch\\u00e8 sei venuto a lavorare in nero\",\"sei un artista indipendente\",\"non ti sei mai chiesto perch\\u00e8 ci stanno attaccando\",\"tu come sei arrivato\",\"sei un pallemosce o che altro\",\"\\u00e8 fermo con le mani in alto e viene soffocato da sei\",\"tu sei andata a letto con la mazza quel giorno\",\"per scrivere il libro abbiamo impiegato sei mesi\",\"e cos\\u00ec ti sei sorbita anche tu ieri sera su questa stupida disputa sul posto auto\",\"marshall va a prendere ronnie a miami alle sei di domattina d accordo\",\"se sei stata assunta perche  fai parte di una minoranza\",\"sei proprio una grande stronza\",\"un crimine per cui \\u00e8 stato condannato a sei mesi di reclusione\",\"sei qui da piu  di sessant anni devi esserne a conoscenza\",\"questa \\u00e8 la terza morte inspiegabile nel mio reparto negli ultimi sei mesi\",\"sei stato tu a dirmi che erano incontri occasionali\",\"alla vigilia del vertice di copenaghen cos\\u00ec come sei mesi\",\"mi manderete per sei mesi in un campo militare dove\",\"sei stato tu a farle cantare quella canzone dei carpenters vero\",\"ha chiuso a sei decimi dal\",\"madsen ti sei appena guadagnato un bel viaggio nella buca\",\"chi sei andato a prendere all aeroporto\",\"tu sei pronta quindi\",\"puoi dirmelo se sei arrabbiata con me\",\"non sei mai stato cosi  felice con nessun altra\",\"e  per questo che sei diventata una rivoluzionaria\",\"sei davvero stata l\\u00ec per tutto il tempo\",\"okay quindi sei stato sincero con me circa questa piccola riunione\",\"stato uno dei sei figli di jeronimo\",\"sei troppo importante per la gente\",\"ora cosa sei diventato\",\"il punto \\u00e8 che tu sei l unica persona abbastanza vicina per arrivarci\",\"sei giorni da tripoli\",\"te la sei fatta anche tu\",\"mi ricordi i miei eventi del sei aprile prossimo\",\"sei una bomba trish\",\"quando blackway ti infastidiva perche  non sei scappata via\",\"sei mesi giorni e ore\",\"capisco se sei arrabbiata\",\"concludere la battaglia in cinque o sei giorni vennero completamente accantonate\",\"sei venuto a salvare tutti\",\"da circa sei anni da quando lei e ted si trasferirono nel nostro edificio\",\"sei rimasto l\\u00ec e hai lasciato che diane portasse alicia al nostro piano\",\"per tutto questo tempo sei diventato molto pi\\u00f9 forte mio schiavo\",\"mi dici i miei impegni del sei maggio prossimo per piacere\",\"sono praticamente le sei del mattino\",\"dimmi che sei ancora a casa\",\"sei un poliziotto da quanto\",\"come sei scivolata\",\"con robocop ti sei costruito un nome alla security concepts\"],\"tsne_2d_0_ft_cls\":{\"__ndarray__\":\"UOqRvwaSJEAIgy5AQWGaQKwPq0CaqTPBq6avQA4N8r/G/+u/FNF/wGzQTsBHOghADBY4QKNwL8DF+ARAZIAIP0a3gMAafmm8+phTQNaH0MDFWh9A6tqEwBgQ78AW5Om/1BeBwJb21ECuYDrBmBd/vyY7Mr9ER0XABKCWv2dRg0DWHIW/hh5IQBUbkkDIa+c/SayjQDttqUB8Rfk/pzdzwDC5xEDRT4FA51y6wIv48sC9y04/7seBwNKbq8BaF/rAMH1ZwFml2sDO/ZbAUM+nQHjkWUDP0dPAZcIlPy1WncDp2AfAFM8vwQ+Yvb81/yrA5wOTQLPgbUBW+jLAnKLTv0UxfECEVafAezNpQOFzZkDL5Z9ArpgSQA+R7MB9+BPAPxSGv4Y48EAcXgK80BQdQFZBi8Ao829AdwYWQMwF+r7B/4dAIp4yQEYqm0DIdptAvWPcwDjkMED3rJo+8punwN+skcBsIJDA293RvyfWCsAm9Iq/p+nWQEZkRz9KPK6/iUGhPxeSrj346pnAbq2IwLS7YT+biyXAZE8HQEAiscDW5pbA5TSbP+nqP0AgNwdAeUUVwF5BhED2kizBqM3lP2BQtsD09ipA9qGWwKzWc8CnWxHAMrRtwMKV8D5garjAdwXvwMCbRsBLkNo/pUrTwDVDwMA1ZpPAPA7lwLxWRUAd4uFAt4B+QP8Z2cCfrZ9A2PXwP92DnMB9QIi/tY5swBzphr/QdoNA0enHQLCNBcE1YfnA1amCQPXWO8HBIKHAkOawwDnTML/ew5PAdRLZwHpM8z5wXBO/OZEJQCRu68B0yM2/GYQ4v5Yj9sAEdalASkihv+tUIUC/WwbAalxiQPXQusDcVQLBUaxzQKzwosB6MyRAy9XRwIBbuj9eEVJA7u3PwN2X1kAeo6W/Dp6lwESkZ795VZNAYmiLP57tgUCMrrLAbk/nwPg2iEDZ7ue/fKUswRIuBr87Xis/tPtbwP9YwD/aCjXBLA5EQAyD+j//kZVAkJxdP8xx/j9rIZpAOCF9vye3LMFcohJAMcqOQHNPcsDPyt/AvGUsQNvE1b4=\",\"dtype\":\"float32\",\"shape\":[200]},\"tsne_2d_0_ft_token\":{\"__ndarray__\":\"KIHRwEWc7MBvlOZBo8veQWICzUFC7zTAetjHQcYB0sCl0lc+bZUMwfmN9cDjtu3A+NCzQaYm5sD7I+FBoNXswCDtDcHWtJjAk6bEQUnzcMEbBr9BEo4CwfIIQcHmw9vANRkGwW6Z1UGJYSXAv92dwLCn4sAkDezAYZHOwIn6P8BLJsTAPpXgQbFn20E8+w/BlTzYQUiIWb/8Xw3B1ErWwFcg1EGskEbArYIVwdcXR8EwjIHA2/VPwDUwHcF9i0XB2mAKwXQeOsEv2QHBT0bNQdLQ5EFVoyo/J+2OwK0jG0C6ft/AUac7wJwEzMA2HDfBFJbaQT4t0EHCZA/B4E/LwFXOvsCa1lLBID3YQcYpvUEMTshBNcHEQd1nUsFJn7DATazVwFFR3UFkneI/KvvVQYZSDr8Lr9xB7QLoQdZLfMDhCcTAv224QZZ75kHKYeVBBTJAwSuT78DpMuA/3wkEwZthDMF7uATBsz8xwQZDw8CAdLDAMTrxQbhvK8GiUpjAxNQPwZ5gnMCElBRAKfMQwZotq8AxeOjA5tviQSG/GMFJawjBuqYzwe7vJsAeGMBBJYfywCUg0UE2/JfA9PE7wPJFKsGokNhBqkMLwWYYDMEXc+rAHgkbwd1OnsBB7MS+yxdEwQySocD4sz4/Bm9AwQ0u1T7X3QrBsGM6we+O3UFgdNFBOyxMwC8LJz9/881BsKhowPKWDcEOxiPBmAAPwT2J2sBZXc5BrfrtQWewS8GsKVrBXIO6QQtdHMC0IRfBPqREv+X2SsFSpyjArXk8weluH8EF8kjBJOAawZGXScGEo9jAmSpMwU6KPMEUQNVBvK3UwDZF4EEihLLAk3XBQbjHJcHXQFvB6nTbQZZP7L9G99tB4uM4wdoQ5UHVpNdB7PA8wfZm1kG6UM7AM4ohwf4KucAKknS/uu4Owae4wsBeVCHBzTJQwYLS0kG6d4I+tLCXwCxBusD+tLpBy7MCwTAJwEHkKDPAwgruwIBD3kEsS1O/wKy7QQYbGcGYcONB/G6ZwAOol8DY3MRBkjnGQWvHGsGYzDfBhNw2wMl65MA=\",\"dtype\":\"float32\",\"shape\":[200]},\"tsne_2d_0_token\":{\"__ndarray__\":\"+fyrwIOoBsGZBmhBRJVcQSI6X0HO1QJBNLVJQTtKiL/V56lALs76wMll8cBxyfnAQTBAQepFjsBQEvBAUdTywOTh9MAl+WU/k6ocQd+qTcEQtM+9fLMDwBCpqUA2elzBU/6YwAMTg0FAc1hAfkRQwd5RPsGZQ7DAntkQwdHV6UCbrjrBuIB3Qecad0HUkNnA1cZRQQvPz8DK9+TABMrNwFDaVkGFgGJACsMWv0DgxsDqpwTB2r3qQDEuxEAppNRAxcQxwZWc+UAocinAQYtyQfeTckGHqdRAZjv8wNUZDcBwTAPAzXjxP6bMyj5VGcTArx5eQdP/cEG+TD/BWSNNwXMbCMFtp/+/uVaCQRteHUHsYjxBx7tOQQ0KXb9FJT7Bzw9MwewrgkEDlec/nUlJQegyP759WE9BsUeAQQyiO8DaanK/To88QejD4UAG6lxBeCnOQKPK/8CW2kPAFLyWwNERPsCst9/ATzrSwHZ0uT9NFpfAgKpXQYviqMCAYNnAUlmFwIuMDsF4IkjAOVU4wNolub/dakHBe+lhQZDYJcCgC6vAHTmEwCD2BMAYq15BWKY2wdoNbEE5vsFAJAN8wGEyncAX9mVBL+AawPPeG8FiqKu/MkKfwJZ1/jxVzFLA75flQFe5RcGqr7lAbtP1wHA0q8DwfO/Af6DhQDSUdkEd0zpBbWbyPwzqvkAKgCtBd3ERwVpJQsCrpCvB7zokwVQ8MMF031pBtnBOQWXO+EDCD52/Rt9vP7rP4EC7kO7AJ5HAv81cFMECsRvBbejQQDOrTsEHswjBHajTwJlnDUHpNFzBS98WwYjwxUDtzEdBKnSpwMY0ZUHt1kHBRZkaQf7EqsBhUfE/n95zQWK2uEDbTW9BgwwFQcPof0F/42JBrVG6QDeiZ0Gy8DzBV02wwDSzN8D1AKTAHLOIwCgHfMCjD6hA4bTMwNSaWEF4mtFAyX8VwSmS/8CaNv5ACqpGwfeKTkHeD+9AIDILwfrIEEACv5zAII9sQQUB4kAJhGtBbm94QExXX8B/G05BdrgaQYszssBECQ5BAB4ivbZnQME=\",\"dtype\":\"float32\",\"shape\":[200]},\"tsne_2d_1_ft_cls\":{\"__ndarray__\":\"Dd0OQd2kvkDXNAPCsecBwv+s6cG2uRJBypfiwYpgyUDcPIM/EAZIQRj7A0Efb8VAlM3IwdEYVUE/XgHCm7WVQMHjFEEwFixBcFHqwagZZkGVmdTBCteJQZPsDkG2VdxAP86BQRSx+MGbdRRBfYWKQNsW00BTi1NBrMwSQbmeZEHdPZ9AMgwBwjty/cGg31dAdEr+wSzfIUH2jVpAVABKQGYD7sEyN2RBfQyHQTOFFkGuezFB3D35QH6iz0CMX+dAHacmQRQiyUBfDIRBanTzwTcAAsKFOPY+StkTQbuSLL8QixJB0KERQVZ/GkHNmDlBMkX/wReQ8sEpMSBB4KGtQEKw7EC1XC9BYMP5wWsI4MFrFtvBuULnwcimNUE0yaJAxAK9QCEC9sFPT45BPjnzwSnuZT9kvP7BSOwFwirhRUEjTM9AObzMweMbB8J+yAXCvFMUQb5btEAokpBBWghoQfgsaEFdj0NB/rE5QUrvt0AVheJALwUFwkwdXkHMnF5BP/zXQBYNJUGXQwy+WwlfQdYMJEGdptJACFYDwicMeUEK735BdSNjQYsVBEEZN9fB9qXmQK8G88Eg1ZNAtJ0AQSugTUFkMPnB03xlQcoxL0HxuA9BtHBqQVBtF0F5uLw/0GPdQJyau0BkfUVBFqUnQeGCkT80OCZB2XfuQGgJ/sGos+TBf4ZjQX7nvT4y1+3B0tgvQWk2f0GCgTNBoGYdQQXnxEBB1O/BA4ICwuD260DxcjlByNHWwQLjFEGkfFRB7YOLQDw+hkGs2p5A9HwQQQAxQkGndIlBnGQlQNfh0EAGydpA7yCFQUuA+0BNUvrB860OQaH0AMIsU4ZA1oPjwbU800DiRbVAliACwq+vVkCBgPzBeHkPQdAMBMKYRfnBP54VQdEa+ME4TOlApBwIQRP2H0FkUCtB0W3cQOUO8kDUHcBADNg5QZWs9cFtkII/4XKTQJ5hHEFEjfLB48QMQeRQ5cE4DRNBwr6yQG0m/8HSYitBKOHywQ2CLEDoVATCAhZkQYW5kkD+i+jB1Y3nwT4AZ0GOAPFASMsbQRy9xEA=\",\"dtype\":\"float32\",\"shape\":[200]},\"tsne_2d_1_ft_token\":{\"__ndarray__\":\"0pKqwLJ6MMF9Ky5BKnZNQbLWU0ER8DfBYJFDQelU6cBdzejAU3xWwOHjssBTlCrBFLkEQcK8cL8wpCVBSPNrwMZhkMBI1YLAc3BQQdcLnMBSegxBy34HQJ80n8CdKOTAzva7P+8uaUG14jvBYFsTwVjJA8EXdCm/M3SiwE5Uzj7o6xbBLaM0QRylSEHNJy7BSPdOQdG4ZsB54zHBz6+evuU8G0HqCrw+7UAAQB2HnMBovK/A9Q0KwWYkncCK09XA3We0wNL87cAkWnM/Dz8nQe6rOUF8uZS/e82fwIstF8DmPJvA+UM3wbn2l8BgfhjBuB5GQSj+QEFwzsjA1wgHwXV2/78hHwfB+Bc2Qb13XkEVVhJBnU0pQcwgU8DU7QXBqSALwa6TbUGqa4HA319CQUpI0cAW4z5B/GQjQYlWJMCWVD3BJiEGQRXsVEHWTFNBF0yPwIU9NMHRN3LAuZiBvirAxL5h5w7AIrMUwR7e+MByZNbA9AM4QUC8+r+l5yy/q2X0wKG7hMDlThnAdSRzv7iybMBaf+zAea0jQUQxWz+YBDM/LkjTvzUcWMB7XhRB+vXgwDzROEEm805A3j9lwDkjtL5jQyhBOZ0JvzCnfMAuq6HAPozpv80vosBqsZLA2IPmwOav7cBvEMrA/hFhwOLBDsD+lQ3B4FbTwJnzMkGw5QlBljizPsGsjL91YEtBtUicwG27gz+nQArBO062wORN/MA1+zJBFHE/QWrI0MBz4VLAcv8iQb0VPsFn6pm+uRmYwGozebu9DdfApjWVwDIBD8H5jKI+jYg7wezy68DmpunAClI7vpo9x8ABN1JB1D2qwI8cLkGVMwDBinFdQc9fqsASo+vA7UtYQXGavsByFitB4pGWwKxGFkHfpCpBva6LwGxAaEGw3ODA9onLwGmYmsD3pQzA9sXvwOPk7r8dk57AcglDwEQGOkGTWezAo/9OQCGGkcCbRERBOyCgwCvIL0Fs0zjBDXs7wYmhJEEfywzAub9DQaaiOMEge01BdcJ8v74HT0AaCC5B3lg5QW7W578IFtXAp03cwBEkCcE=\",\"dtype\":\"float32\",\"shape\":[200]},\"tsne_2d_1_token\":{\"__ndarray__\":\"xYsJPyPQR787ZZHBYnWJwQfagsFBBYxBBfmHwf5uwz5LUodB21LGwNs/m7+Rlra/hnqWwYDk37+s7JNBp7eLvx8LwMBAbpU7vUVqwVbA2z6lcxtAbHoAvxplbUH7ZCjAXjdDwHquhsEreUlB/k0IP7qJw78wPNS/CSFtQPAljUFUuaXACkaYwayei8FAA0a/X8CXwf17e8AqFb69Ax0MwLFuj8GWfUxBLkAuQJvsxj9csodAaxt5QaIGikFFwI1B/+6PwITIjUFU77DAk7F1wVSTksEW4oZBkH2EQDzU4r+2NW0/zlstQaTTxz/Y6j499dCbwchJb8EKSMM9DYmVwElMy78NdMK/nKmUwd1faMEnE4fBwK5bwa+hRMBGEJLAaZFIwA+egcEw6StBxvKIwQycjL4yVJ/BFxKbwQFyO0AaBEFA1NGTwXGTnEH2KqDBW5SSQYgkWD+3J1ZA/YaHwBJZScATlzHA8XdFQNyvLUDUHiNAn8uEwRhbJ8C9vlXAiIulP1Zpg0DuvqA/HAM8wKKAqb/hjJzAi/KowTPTqsAUfi7A7mY3wEleRj9hl5TBJf1bwIVwZcHloHpB/PTvvhbnYrwlUovBtgI2wJE2LUCLx5+/gdLMPzYU6j+plb6+++uIQTZtpMA0QIZBlgTBwMNCYcCwVy7AnTOBQbJKocH0T5TBT3QtQVovlEFnApDB5cWJQASHWcAF21FAqMtZwEZLIcDGcnrBdciQwX3ikUFWOiLAfkGcP8EwkEEZ5+S/EG1KwMIPTL9zZ0A/qASHQY/qXMAPCXjAKlm1v1sliEEgjCfA+VZLPjTxfEFhL33BRzqkPtlzlMGrlCPAtZVrwTNTh77EVy1B+EOXwcQtgkFf4o3BQ1OAQdYgkMG0LozBFgeRQZpUmcHhbFnAu6cxP37DIUCQTpfAqOKcP6k/DsCLC4tBigqFP1RyeMFICoNBe4w6Psubg0AJL4dBlZEuPsBxW8FH0IZBjJIHwOtrNEF+apnALmSHwaL2f0HxMpLB/FJTQc61tr906VrBd2dswWlzHMBlnJFB27/qP2YTacA=\",\"dtype\":\"float32\",\"shape\":[200]},\"type\":[\"class_1\",\"class_1\",\"class_0\",\"class_0\",\"class_0\",\"class_1\",\"class_0\",\"class_1\",\"class_1\",\"class_1\",\"class_1\",\"class_1\",\"class_0\",\"class_1\",\"class_0\",\"class_1\",\"class_1\",\"class_1\",\"class_0\",\"class_1\",\"class_1\",\"class_1\",\"class_1\",\"class_1\",\"class_1\",\"class_0\",\"class_1\",\"class_1\",\"class_1\",\"class_1\",\"class_1\",\"class_1\",\"class_1\",\"class_0\",\"class_0\",\"class_1\",\"class_0\",\"class_1\",\"class_1\",\"class_1\",\"class_0\",\"class_1\",\"class_1\",\"class_1\",\"class_1\",\"class_1\",\"class_1\",\"class_1\",\"class_1\",\"class_1\",\"class_1\",\"class_0\",\"class_0\",\"class_1\",\"class_1\",\"class_0\",\"class_1\",\"class_1\",\"class_1\",\"class_1\",\"class_0\",\"class_0\",\"class_1\",\"class_1\",\"class_1\",\"class_1\",\"class_0\",\"class_0\",\"class_0\",\"class_0\",\"class_1\",\"class_1\",\"class_1\",\"class_0\",\"class_1\",\"class_0\",\"class_1\",\"class_0\",\"class_0\",\"class_1\",\"class_1\",\"class_0\",\"class_0\",\"class_0\",\"class_1\",\"class_1\",\"class_1\",\"class_1\",\"class_1\",\"class_1\",\"class_1\",\"class_1\",\"class_1\",\"class_0\",\"class_1\",\"class_1\",\"class_1\",\"class_1\",\"class_1\",\"class_1\",\"class_1\",\"class_1\",\"class_0\",\"class_1\",\"class_1\",\"class_1\",\"class_1\",\"class_0\",\"class_1\",\"class_0\",\"class_1\",\"class_1\",\"class_1\",\"class_0\",\"class_1\",\"class_1\",\"class_1\",\"class_1\",\"class_1\",\"class_1\",\"class_1\",\"class_1\",\"class_1\",\"class_1\",\"class_1\",\"class_1\",\"class_1\",\"class_0\",\"class_0\",\"class_1\",\"class_1\",\"class_0\",\"class_1\",\"class_1\",\"class_1\",\"class_1\",\"class_1\",\"class_0\",\"class_0\",\"class_1\",\"class_1\",\"class_0\",\"class_1\",\"class_1\",\"class_1\",\"class_1\",\"class_1\",\"class_1\",\"class_1\",\"class_1\",\"class_1\",\"class_1\",\"class_1\",\"class_1\",\"class_1\",\"class_0\",\"class_1\",\"class_0\",\"class_1\",\"class_0\",\"class_1\",\"class_1\",\"class_0\",\"class_1\",\"class_0\",\"class_1\",\"class_0\",\"class_0\",\"class_1\",\"class_0\",\"class_1\",\"class_1\",\"class_1\",\"class_1\",\"class_1\",\"class_1\",\"class_1\",\"class_1\",\"class_0\",\"class_1\",\"class_1\",\"class_1\",\"class_0\",\"class_1\",\"class_0\",\"class_1\",\"class_1\",\"class_0\",\"class_1\",\"class_0\",\"class_1\",\"class_0\",\"class_1\",\"class_1\",\"class_0\",\"class_0\",\"class_1\",\"class_1\",\"class_1\",\"class_1\"],\"umap_2d_0_ft_cls\":{\"__ndarray__\":\"hVZaQQPZaUF/jx+/PrYfwKEjwr8FS4FBwZusv0PAVUEnUU9BfhZaQa5vZkH2d2hBM8imvwSOV0GdVhG/3nNaQSihY0FORU5BmtIEwMzTTUFgJpu/06tKQSL+cUGdXFZBNS9NQY2Zy7/QL4JBWCVWQVCbWUGRgVRBAuBbQTi3bEEMqFVBD6mDv74lC8BNAmRBvOcMwCYCR0G93GVBKANLQcsvd79PjW1B9DFPQTMWckHAC1FBHgNrQatMZEGZ2XhBmspgQTEEckEKJU5BzwG+v4YLmr9c+kBBp59MQR6kPUHDBF1B+8aAQYf2V0FWMFtB5bkVwGlHB8D3u2BB4aJVQWv3ZEFyrGZBBKG1v0Zx7r9wM5i/MKu3v5VBZEFfCFNB9WRaQW2mwL//8EVB5Fzzv1zuRUGdScu/tO4XvwnjS0F12mhBuUSdvwCHJsDR5SfA0qRyQRI9Z0HQjERBWlxQQb4EU0G7Wl5BD+RVQSh4VkGyIlZB/hmQvxkGTEHZBlxBwEtoQX7YU0ErfkBBUqhSQU30UEGN2ldBdmT5vql+UEFgfk9BVo5NQTBmYUHsI7y/aC9bQV6o6r+4/WZB4XdfQZQsUkFYGYe/gBxSQY5XY0H1W2FBySZUQeodUEHdyUdBtXZ2QSSDVEEe0kZBtfJpQYQAQkG5W2RBbbF2QaupYb8IiN6//GRsQfpnQ0GNeuq/DxVQQRSQTkEWCFRBDERjQTNBW0FLssu/9guzv9l+eEF7p1ZBzKanv2urgUGCqVFB4XpXQSOPSUFOAFpBESF0QZK2SkEEwkhBaJlkQZsUdUFW51pB/UZKQZ3tdUEWXu6/7tBbQf55Xr+VW1hBwWv/v/eBaUEpCHNBKuqvv3tATkGGxmO//OhwQR6zLr+hF5C/8DhvQbNawL85DlZBZFxqQTmSVEEji0hB0BNqQf2DVkFn+WJBJ+lVQcOk/79eilJBjzdnQRuMU0FLthLAz21oQVthyb+ZNYFBXhNoQR5PRb9tpUZBZKQLwBPrZEEeGh7AAMZXQZiRZ0HH486/a6Dav8aoVEExaXdBURFRQYN7WkE=\",\"dtype\":\"float32\",\"shape\":[200]},\"umap_2d_0_ft_token\":{\"__ndarray__\":\"q7RRQYzmPkFChw7BDvP3wAZg9sCavYNBiwT1wNXATUFJhmxB2+RFQQjuSEF/M0RBhuThwE0dO0Eg8QvBs4JIQUBOS0EDoltBgH7gwOnaTkH2b+bAKy0yQaHwYEF2EVFBCIozQc9dBsGt44NBNhtNQZYoT0FAZzpBCdFTQSBzYUGKqk5BUiwMwQ+l/cBIIERBlcb2wCSNakGtQ0FB7KQ7QeobA8Fj319Byx8yQVLzXkHHRFtBwbJRQQCaXUHT0GxBRHNLQQwpaUGMTjRBzsruwAH5BsFSwGhBc6hhQdrYbUFbnVRB8/mCQd17VUElhGJBhJv3wKv38cCYeUlBjxpSQaXMQEEjLG9BxFsCwXYK3sBKMPDAXv7jwN/cW0E2wlFBhqtPQR22B8EG51NBOHn8wJnHakEq5QHBgcYPwcb/WkH9Sz1BTdfgwNjq9sBfdvfAoeVeQSDOP0HzEGNB9W07QXu1OUEYCUlBm+FiQY7eTkFfjFJBaVAJwUn3QUHbGllBVP9EQcJIXEHVhmtBG2c+QRmDWkHizE9B0E0NwamWOEHJBTVB49xBQfmrTEENmuTAOltTQV1S+cDGs1VBglZKQfw+RkGYKwXB1Ls6QSVhR0FNwlBB3Hs/QanvW0GK8WFBdYdrQWLMT0HqcWtB+A1ZQZjXaEF1bVNB+UdpQVqiCcF20u/A2fJfQTXNZkFUBfXAJwlgQYTGNEHPj15B5x9KQXDES0H2/fHAQBMGwTyBbUGZyVtBK+PkwBGNg0Fe7T9BxA5mQbT9UUHyr1tByIlfQQhHW0Gts05BzOpCQQAXa0Gxg09Boa9QQXy5ZkHo/vvAnJxQQRhZCMFihVVBcBrgwKhzZkHiXGpB0XsHwf1HYUEy6gbBnoJcQV71DcH9eATBC8xcQVx9B8E2d1ZB3C1bQa6KVkGzTWJBIzJIQTuAPUGb3mJBlvVaQU6N8sDz/2xBFyJVQd44VkFulufAnRhPQbOp5sBA/YNBtHQ/QRPpCcFwPGRBNAzrwIsXREFf4PXAiqtUQbWEU0EfQOTA3R7qwNK8P0GzDWhBoAJdQR/KUEE=\",\"dtype\":\"float32\",\"shape\":[200]},\"umap_2d_0_token\":{\"__ndarray__\":\"1CSSv8qsLT7MlqdBa3qsQdvqrUE8dsTAXyqsQfeMBsCR86LAFap3va4Hkj7VBvE9Q3qsQTF4Yr+O8sLAgdm5vZXXU75eXx7A0LGiQYWUO75CxR7AJbLkvynWoMAY1Co/dCk9v+PspEHuDJrA+djevg5Jyj5P3CS/9l3rPg9ExcCz0qo/sOClQYsvrUHX4Ay/FFGuQcidK7/W+QG/sl8Lvj48qEH/Mp7Ar7cYwKmHoL/1pQQ+puWgwAECn8C0A7XA8vaqP/slxcBbOZe/j+CuQQGTpkHM7aTAgpyqPuCMzr8Gava/GpqWwPmyMMAPeFm/glSuQcyLrkEk+RC/8I+3P628Vz5V29y/O/KnQUCqo0EMDKtBFienQS1mor9x05o/m+djP7PKpUFnJJbAagmqQViGEMBPUatB9YSkQXPK4r+G0gvApKCtQb0Xt8CykK1BVRjDwLrufb7y886/aBZ6v7y3oL8zrqe+ZbOvPVsMLsB3EZS/R3KtQZyNEb9jSLq+EBfdv41Pnj4/ns6/h/Khv0C7+7+y+7E/uYqrQa/hpL/goRS/kcZZv7u9AsCiMKdB5O6QP7t+rEEPk6PAMr7Cv8IDkb+5Q6hBa82kv8ZAvj6+yea/xAu6v/Q5JMDb08K/0CW8wLjroz+qJ6DAGP9YvYxlgb6BWHK+nmKowIvdpkFCdq1BF+mVwOfDwMAtVqxB4IKHPgRqm7/fGiU/S3d8Pzp6QD8gOq5BNIOrQZlBwsA+M6u/UKYswLTNvsBO7wu8szSrv3s5lD47fDo+kXaqwH+FdT83MAG/GV6Hvh9YvcBXsSo/gHOAPtMSqcCw0KxBdMafv25SqUGpzFQ/YQOjQUZsgb+lhZfAr1+nQdetp8CYJapBP/i+wO67p0HJQapBnd7AwC1dqEEsvpE/t0SHvz/+079LuA+/zxq+vzXUX7/qHp7AIamBv+HwrUEwtqjAYSS+PU6qVj5N3LjAUpfmvYdPpkEbJ7XASOfCvDU5mcC8a1C/28+oQUfbpMAXDqxBWX6gwABwor/TuaZBR6miQb7I+L6yz7/AhlsqwAOFjz8=\",\"dtype\":\"float32\",\"shape\":[200]},\"umap_2d_1_ft_cls\":{\"__ndarray__\":\"womRQGM2gUDy89dAvcvEQOWhuUA1HbBAVumuQJIuQEAY9aZAq1nYQNVZlEAyOYFA7YKVQDZcz0Bty9JAgSZwQH8XrkDSNpJAckuuQO6z4UCB15pAxXb6QPK2vEBW3lpAdYLuQC3AvkCPlK1A+eMjQBmgRkAN8NNA9qSVQHuZ20A4JiZAc3/RQKxLxUDrClRAQHvJQM5LpkCZTVtA7jeyQEDsuUDVMdpARLLwQFQGtUCDrpRAb4ymQCQpwEDBTdhAh7mjQJtD0UC/x/VAfSO6QHc32EAG6a5AkiuOQCdPtkDjFptA2mKyQHuol0A8MqZAIy7HQKGdu0AzCZxAoPgoQO+ShkAr2rJA1GvIQLw5p0DzhqhAEbGiQAOGuEDYLzdAq3M1QKmFxkD0YNBAK9bOQA1KuUCf6dBAe+DVQPnpm0CmHIBAEQKaQLPcxkCKaMtAk6K3QC5ueUA1AspAbEbqQBjD6EBb19JAUOmgQHI1LEAGtEhAg/nJQDMkuEA/tsJAnPeJQPK1iUCVxrJAxo/eQDjMjUBjTExAh8vTQMa68UDj1PNALCW0QDs2jkAhp59AYGhSQI+ht0DdUM5AW/OPQPRuwkDhvsBAJhPoQDjKpkC0B5xAkcLjQB6rkkDmHb1AqC/SQPbIPkAAR5pAYqG3QNMStUA9uKlAeZzSQGhQxUDfHKxAp4HXQAL4rEB0+7ZAuGOIQBzZ8UARJJ1AfyGkQBrSOEB6uLVAwCjQQMe01kCDyLRA5tOkQLECrED2wdtAUFO6QJQo0UAjD7FAGk64QLijlEC3etNAyHBUQIXMzkD02lhA7n/OQBNSz0DqOMhAVMaPQLHV0EBLXFZAh2GpQDlzx0DTp8hApj3RQPcUt0BfVMVAvom9QMD/z0B61MNABGm6QIgexkByOGBAZdfAQIwRk0A0n6dAWEGNQJil00CXlsBAiSK3QCZSu0BowKZA+dvOQH8Kj0D+KLhA7k6kQFzyqkAUK7BAwQJ4QFo2zEDxKahAUo+/QB1+T0CbOMlAY9PDQIpazUA/IalAlLauQO3M4kCPdcxAvHqSQFFuP0A=\",\"dtype\":\"float32\",\"shape\":[200]},\"umap_2d_1_ft_token\":{\"__ndarray__\":\"roUjQQyiG0E/LVi/fk7Qv51K/L4nKj5BmVlIvypUEEFeqSlBosA8QZ5JLUGSJhxBwN2EPRRJNEECeAO/PoUUQU9cOEELECJBn5h0v3ZKKUEzyiW+/eY9QRxXUEEKHBZBgJw/QVkJwL+UVT9B2bwLQSJ7CkEeWTlB3WQrQcm3Q0HdZQlBRlJYv4Nx1b87/hNBxX3Uv5Z1NEEwXhVBIIUyQSBMFL8WlkVBVa1BQeSnT0E83idBWrA6QQ0NPEHcL01BergoQf2aRUFlUj1B34K0v4ddWL9mVTNB3WolQS6KMUE4YC9BYy9BQdpdJ0GysB5BSC3Tv3V/n784ryVBcMYNQUgQJEHRk0ZBk9Jvv4wOOb8ju3C+bSDhvthtVUHhmQhB7NsKQXetrL9rUjZBZP2xv1CELUHFgKC/SugmvyeaIEGaECFBTpxnvLhs8b9GDPu/EeJPQZZLG0EcBjJBBww8QdslQUFJF0BBcQwfQfr2DkGsChVB+KWDv642NUFZpTlBKHUeQaNXKEHRuDBB0pg9QTBtJkEUExNBN1oVvzgRQkGYNT1BvEw0QX/BHkH6nAK+dpwVQYbZdr9GIEhBlW8dQSC4M0GBgfq+5y5AQVN1MEGGBChB6MY+QTZ8JkFu3TRBPURJQZU9EUGziSpBz55QQfPsMEF8PxxBzmxJQbSXZr8Giyq/CWdFQdhpNUHBMGS/2BooQVuIP0HmLSFBuacpQQrVC0FvJDG/3quDv7avSkGCxVJBl5EEv43sP0FTtTxBX5w4QRs9LkFgOzZBI5xPQexEIEGdATRBN1MRQZebRUErlhFBdQEwQSNcTUG1Pru/RzgmQZ+VN7+pOA9BBbBcv6nHP0GcmUZB6C2hv39GOEElmyy/vCtOQVJg4L5Q61q/VMFSQZixrL+47hJBhctAQT7CJkE87y1BdxsgQWTSL0H0UTxBw+lUQQMckL9riypB0OxHQbMyKEHpPKG/qFMyQVIh5b4/BEBBuJ0ZQRrsG79tAC9B8MOhv6mhEkFWduu/d/cxQXIIRkFDqDi/l7kjv9UGPUHa80tBDnwtQXrSDUE=\",\"dtype\":\"float32\",\"shape\":[200]},\"umap_2d_1_token\":{\"__ndarray__\":\"5GKoP+llEkCfStRAcnbPQATmwEA5Ix3BSbHHQOhVBkC9FRvBE2d+QKbb/j9R4Ow/OiGsQBsgK0BacBvB3NwAQCVjd0BeRT1ABoLBQLIGiD8NfV9ASp9XQLzzDcGTuFI/THlVQIsE30B8GwXBLKefPzlJrT+z4RRAMoN4QKCpGMEGgD8/fj/iQDob3kC+PuM/Lj7hQBj0PUCZlAhA/q01QOxJwUBlvQnBSVJgQEBNyj/TXHpAWkEdwbRcHcGLnxfBI0lfP52GGcFdOW9A+FDDQKYf2EAMXhvBsO2FQCkZPUA4jD9Ald/9wMtIREArJbs/VnnaQHGZxkCEL5E/78AMP45yCUBTvkpA5wzaQPrmvkDSYM9Ay868QMf5GUDnKlc/ArBOP8Bv0kDfRf/AMRbLQOwXNECcA+BAAfLaQDU2HEAUPGRAmvitQAQ+GsFk+d5AiPQTwdQCV0B/7RRAURVuQJ8FU0APZBdAOktpQPi5MkBGabs/1py7QPUMTEAJfSNA2xbKPxX3gUAnzyBAWMVPQDodO0A8iCM/g8TlQPbOZkDX+0FAhp9TQD7dS0C0btBACwSAP+09vkBozxLBFInkPyM5uT+iMclAX7dDQDJpYUDoU0VA4+2qPzRIV0DFOfU/0JIUwV/MMj870BjBmu9+QMnYXEDXIAxA+T4XwVis3kDth7BAK3f+wPUeE8Fwta5AjxaCQNYTUUCy+WJAJ+OYP5KTpj/EuMBASkO0QAI8G8Fa1x1Aots+QLWSGMG9kwxAM04qQPmaHkCgNihA+iEYwW1CcD9IbC9AJWryP86sHMFB+Wk/M7ApQInNFMHddrdAKOC/P4yU2UA/koc/4MHAQF9i6D+9TP3A6DvaQOv1E8FCN9dAjAATwV7p3UD0A9FA7+0SwS200EBR/os/FunjP6Q7LUBIbFxAN6/FP3+yL0CJnx3BWl7ZP1wGvkAj6xjBHtY/QDwIgkBIRhvBUV+BP3mlvUAxWRzBV6TrP/5NAcF+jWRAXq/SQER+GsEYr+BAg0IMwWG8F0BJbbxAN4/DQDZTTECZ9h3BoltOQKqDUz8=\",\"dtype\":\"float32\",\"shape\":[200]}},\"selected\":{\"id\":\"1213\",\"type\":\"Selection\"},\"selection_policy\":{\"id\":\"1214\",\"type\":\"UnionRenderers\"}},\"id\":\"1167\",\"type\":\"ColumnDataSource\"},{\"attributes\":{\"children\":[{\"id\":\"1001\",\"subtype\":\"Figure\",\"type\":\"Plot\"},{\"id\":\"1029\",\"subtype\":\"Figure\",\"type\":\"Plot\"}]},\"id\":\"1181\",\"type\":\"Row\"},{\"attributes\":{\"dimension\":1,\"ticker\":{\"id\":\"1018\",\"type\":\"BasicTicker\"}},\"id\":\"1021\",\"type\":\"Grid\"},{\"attributes\":{\"label\":{\"field\":\"label\"},\"renderers\":[{\"id\":\"1171\",\"type\":\"GlyphRenderer\"}]},\"id\":\"1180\",\"type\":\"LegendItem\"},{\"attributes\":{\"fill_alpha\":{\"value\":0.4},\"fill_color\":{\"field\":\"type\",\"transform\":{\"id\":\"1166\",\"type\":\"CategoricalColorMapper\"}},\"line_color\":{\"field\":\"type\",\"transform\":{\"id\":\"1166\",\"type\":\"CategoricalColorMapper\"}},\"marker\":{\"value\":\"triangle\"},\"size\":{\"units\":\"screen\",\"value\":12},\"x\":{\"field\":\"tsne_2d_0_ft_token\"},\"y\":{\"field\":\"tsne_2d_1_ft_token\"}},\"id\":\"1169\",\"type\":\"Scatter\"},{\"attributes\":{\"axis_label\":\"tsne_2d_1_token\",\"formatter\":{\"id\":\"1069\",\"type\":\"BasicTickFormatter\"},\"ticker\":{\"id\":\"1018\",\"type\":\"BasicTicker\"}},\"id\":\"1017\",\"type\":\"LinearAxis\"},{\"attributes\":{},\"id\":\"1159\",\"type\":\"BasicTickFormatter\"},{\"attributes\":{\"children\":[{\"id\":\"1091\",\"subtype\":\"Figure\",\"type\":\"Plot\"},{\"id\":\"1119\",\"subtype\":\"Figure\",\"type\":\"Plot\"}]},\"id\":\"1182\",\"type\":\"Row\"},{\"attributes\":{},\"id\":\"1176\",\"type\":\"BasicTickFormatter\"},{\"attributes\":{},\"id\":\"1103\",\"type\":\"BasicTicker\"},{\"attributes\":{\"text\":\"UMAP 2d - proj - Base\"},\"id\":\"1002\",\"type\":\"Title\"},{\"attributes\":{},\"id\":\"1161\",\"type\":\"BasicTickFormatter\"},{\"attributes\":{\"dimension\":1,\"ticker\":{\"id\":\"1136\",\"type\":\"BasicTicker\"}},\"id\":\"1139\",\"type\":\"Grid\"},{\"attributes\":{\"items\":[{\"id\":\"1180\",\"type\":\"LegendItem\"}]},\"id\":\"1179\",\"type\":\"Legend\"},{\"attributes\":{\"active_drag\":\"auto\",\"active_inspect\":\"auto\",\"active_multi\":null,\"active_scroll\":\"auto\",\"active_tap\":\"auto\",\"tools\":[{\"id\":\"1140\",\"type\":\"BoxZoomTool\"},{\"id\":\"1141\",\"type\":\"SaveTool\"},{\"id\":\"1142\",\"type\":\"ResetTool\"},{\"id\":\"1149\",\"type\":\"HoverTool\"}]},\"id\":\"1143\",\"type\":\"Toolbar\"},{\"attributes\":{\"callback\":null},\"id\":\"1004\",\"type\":\"DataRange1d\"},{\"attributes\":{\"callback\":null,\"tooltips\":[[\"columan_name\",\"@{sentence}\"]]},\"id\":\"1057\",\"type\":\"HoverTool\"},{\"attributes\":{},\"id\":\"1023\",\"type\":\"SaveTool\"},{\"attributes\":{\"active_drag\":\"auto\",\"active_inspect\":\"auto\",\"active_multi\":null,\"active_scroll\":\"auto\",\"active_tap\":\"auto\",\"tools\":[{\"id\":\"1022\",\"type\":\"BoxZoomTool\"},{\"id\":\"1023\",\"type\":\"SaveTool\"},{\"id\":\"1024\",\"type\":\"ResetTool\"},{\"id\":\"1057\",\"type\":\"HoverTool\"}]},\"id\":\"1025\",\"type\":\"Toolbar\"},{\"attributes\":{\"data_source\":{\"id\":\"1062\",\"type\":\"ColumnDataSource\"},\"glyph\":{\"id\":\"1064\",\"type\":\"Scatter\"},\"hover_glyph\":null,\"muted_glyph\":null,\"nonselection_glyph\":{\"id\":\"1065\",\"type\":\"Scatter\"},\"selection_glyph\":null,\"view\":{\"id\":\"1067\",\"type\":\"CDSView\"}},\"id\":\"1066\",\"type\":\"GlyphRenderer\"},{\"attributes\":{\"overlay\":{\"id\":\"1073\",\"type\":\"BoxAnnotation\"}},\"id\":\"1022\",\"type\":\"BoxZoomTool\"},{\"attributes\":{\"text\":\"UMAP 2d - proj - Fine-Tuned Model\"},\"id\":\"1030\",\"type\":\"Title\"},{\"attributes\":{},\"id\":\"1018\",\"type\":\"BasicTicker\"},{\"attributes\":{\"ticker\":{\"id\":\"1013\",\"type\":\"BasicTicker\"}},\"id\":\"1016\",\"type\":\"Grid\"},{\"attributes\":{\"fill_alpha\":{\"value\":0.1},\"fill_color\":{\"value\":\"#1f77b4\"},\"line_alpha\":{\"value\":0.1},\"line_color\":{\"value\":\"#1f77b4\"},\"marker\":{\"value\":\"triangle\"},\"size\":{\"units\":\"screen\",\"value\":12},\"x\":{\"field\":\"tsne_2d_0_ft_token\"},\"y\":{\"field\":\"tsne_2d_1_ft_token\"}},\"id\":\"1170\",\"type\":\"Scatter\"},{\"attributes\":{\"fill_alpha\":{\"value\":0.4},\"fill_color\":{\"field\":\"type\",\"transform\":{\"id\":\"1061\",\"type\":\"CategoricalColorMapper\"}},\"line_color\":{\"field\":\"type\",\"transform\":{\"id\":\"1061\",\"type\":\"CategoricalColorMapper\"}},\"size\":{\"units\":\"screen\",\"value\":12},\"x\":{\"field\":\"umap_2d_0_token\"},\"y\":{\"field\":\"umap_2d_1_token\"}},\"id\":\"1064\",\"type\":\"Scatter\"},{\"attributes\":{\"below\":[{\"id\":\"1012\",\"type\":\"LinearAxis\"}],\"center\":[{\"id\":\"1016\",\"type\":\"Grid\"},{\"id\":\"1021\",\"type\":\"Grid\"},{\"id\":\"1074\",\"type\":\"Legend\"}],\"left\":[{\"id\":\"1017\",\"type\":\"LinearAxis\"}],\"plot_height\":400,\"renderers\":[{\"id\":\"1066\",\"type\":\"GlyphRenderer\"}],\"title\":{\"id\":\"1002\",\"type\":\"Title\"},\"toolbar\":{\"id\":\"1025\",\"type\":\"Toolbar\"},\"x_range\":{\"id\":\"1004\",\"type\":\"DataRange1d\"},\"x_scale\":{\"id\":\"1008\",\"type\":\"LinearScale\"},\"y_range\":{\"id\":\"1006\",\"type\":\"DataRange1d\"},\"y_scale\":{\"id\":\"1010\",\"type\":\"LinearScale\"}},\"id\":\"1001\",\"subtype\":\"Figure\",\"type\":\"Plot\"},{\"attributes\":{\"callback\":null},\"id\":\"1032\",\"type\":\"DataRange1d\"},{\"attributes\":{\"data_source\":{\"id\":\"1152\",\"type\":\"ColumnDataSource\"},\"glyph\":{\"id\":\"1154\",\"type\":\"Scatter\"},\"hover_glyph\":null,\"muted_glyph\":null,\"nonselection_glyph\":{\"id\":\"1155\",\"type\":\"Scatter\"},\"selection_glyph\":null,\"view\":{\"id\":\"1157\",\"type\":\"CDSView\"}},\"id\":\"1156\",\"type\":\"GlyphRenderer\"},{\"attributes\":{},\"id\":\"1013\",\"type\":\"BasicTicker\"},{\"attributes\":{\"source\":{\"id\":\"1152\",\"type\":\"ColumnDataSource\"}},\"id\":\"1157\",\"type\":\"CDSView\"},{\"attributes\":{\"axis_label\":\"umap_2d_0_token\",\"formatter\":{\"id\":\"1071\",\"type\":\"BasicTickFormatter\"},\"ticker\":{\"id\":\"1013\",\"type\":\"BasicTicker\"}},\"id\":\"1012\",\"type\":\"LinearAxis\"},{\"attributes\":{\"overlay\":{\"id\":\"1178\",\"type\":\"BoxAnnotation\"}},\"id\":\"1140\",\"type\":\"BoxZoomTool\"},{\"attributes\":{},\"id\":\"1100\",\"type\":\"LinearScale\"},{\"attributes\":{},\"id\":\"1141\",\"type\":\"SaveTool\"},{\"attributes\":{},\"id\":\"1024\",\"type\":\"ResetTool\"},{\"attributes\":{},\"id\":\"1142\",\"type\":\"ResetTool\"},{\"attributes\":{\"fill_alpha\":{\"value\":0.4},\"fill_color\":{\"field\":\"type\",\"transform\":{\"id\":\"1151\",\"type\":\"CategoricalColorMapper\"}},\"line_color\":{\"field\":\"type\",\"transform\":{\"id\":\"1151\",\"type\":\"CategoricalColorMapper\"}},\"size\":{\"units\":\"screen\",\"value\":12},\"x\":{\"field\":\"tsne_2d_0_token\"},\"y\":{\"field\":\"tsne_2d_1_token\"}},\"id\":\"1154\",\"type\":\"Scatter\"},{\"attributes\":{\"factors\":[\"class_0\",\"class_1\"],\"palette\":[\"#7fc97f\",\"#f0027f\"]},\"id\":\"1166\",\"type\":\"CategoricalColorMapper\"},{\"attributes\":{\"callback\":null,\"data\":{\"index\":[0,1,2,3,4,5,6,7,8,9,10,11,12,13,14,15,16,17,18,19,20,21,22,23,24,25,26,27,28,29,30,31,32,33,34,35,36,37,38,39,40,41,42,43,44,45,46,47,48,49,50,51,52,53,54,55,56,57,58,59,60,61,62,63,64,65,66,67,68,69,70,71,72,73,74,75,76,77,78,79,80,81,82,83,84,85,86,87,88,89,90,91,92,93,94,95,96,97,98,99,100,101,102,103,104,105,106,107,108,109,110,111,112,113,114,115,116,117,118,119,120,121,122,123,124,125,126,127,128,129,130,131,132,133,134,135,136,137,138,139,140,141,142,143,144,145,146,147,148,149,150,151,152,153,154,155,156,157,158,159,160,161,162,163,164,165,166,167,168,169,170,171,172,173,174,175,176,177,178,179,180,181,182,183,184,185,186,187,188,189,190,191,192,193,194,195,196,197,198,199],\"label\":[1,1,0,0,0,1,0,1,1,1,1,1,0,1,0,1,1,1,0,1,1,1,1,1,1,0,1,1,1,1,1,1,1,0,0,1,0,1,1,1,0,1,1,1,1,1,1,1,1,1,1,0,0,1,1,0,1,1,1,1,0,0,1,1,1,1,0,0,0,0,1,1,1,0,1,0,1,0,0,1,1,0,0,0,1,1,1,1,1,1,1,1,1,0,1,1,1,1,1,1,1,1,0,1,1,1,1,0,1,0,1,1,1,0,1,1,1,1,1,1,1,1,1,1,1,1,1,0,0,1,1,0,1,1,1,1,1,0,0,1,1,0,1,1,1,1,1,1,1,1,1,1,1,1,1,0,1,0,1,0,1,1,0,1,0,1,0,0,1,0,1,1,1,1,1,1,1,1,0,1,1,1,0,1,0,1,1,0,1,0,1,0,1,1,0,0,1,1,1,1],\"sentence\":[\"tu sei andata con l altra ragazza a mangiare\",\"amico mio non sei mai salito piu in alto\",\"momento adatto per colpire ma impiegarono sei mesi\",\"ha insegnato in quattro scuole diverse in sei anni\",\"che \\u00e8 andato in sei mercatini per trovarlo\",\"sei una brava ragazza marta\",\"ha avuto almeno sei donne nel corso della sua vita ed anche due figlie\",\"ti sei veramente distinta questa sera\",\"sei troppo grande per giocare col trenino\",\"posso ricordarti che sei stata tu a darmi la tua meta  della clinica\",\"ecco perch\\u00e9 non sei tornato per il resto delle piante\",\"sai perche  non sei riuscita ad ucciderlo margot\",\"lunghezza del naso sei centimetri\",\"cio\\u00e8 so che sei morto ma spero che vada tutto bene\",\"sei mesi fa regina vasquez\",\"l altra sera quando sei uscito\",\"e io non ho mai detto che sei stata tu\",\"tu sei il portale la via\",\"tutti i giorni alle sei c era qualcosa in forno ad aspettarlo\",\"te la sei cavata alla grande li  sopra\",\"per quelli sei eccitato\",\"sicuro che sei pi\\u00f9 bello senza giacca\",\"sei stato soldato\",\"non ti sei mai occupata di biochimica\",\"e  che sei totalmente follemente completamente innamorato di zia robin\",\"nelfu invece commercializzata la ed il motore a sei cilindri fu abbandonato\",\"sei una donna di quasi settant anni\",\"ti sei comportata malissimo con me\",\"e da allora sono certo che ti sei chiesto quando avrei ufficializzato questo punto\",\"ma grazie mille ora che sei scappato possiamo vedere cosa ci nascondi\",\"ecco tu sei qui mccombs e questo sono io\",\"sei solo nella mia testa joe\",\"sono contento che non ti sei abbandonata eve\",\"l'ergastolo con sei mesi di isolamento diurno il secondo trent'anni di reclusione\",\"io credo che v'inganniate poich\\u00e9 nella taverna d' el moro che da sei anni tengo in\",\"quindi se questi fine settimana sono terribili perch\\u00e9 sei venuto\",\"siete spoasati da sei anni\",\"spera solo che flash non arrivi altrimenti sei finito\",\"la settimana scorsa non sei venuto e sono rimasto giorni senza vederti cazzo\",\"dir\\u00f2 che non sono riuscito a trovarti che sei gi\\u00e0 scappato\",\"allora a jud per sei dollari e un quarto\",\"sei solo un perdente\",\"capisco che sei alterato\",\"non sei stato capace nemmeno di dirmelo in faccia\",\"ma tu sei quello che perde di pi\\u00f9\",\"sei tornato per lavorare spero\",\"sei stata tu a volere la casa\",\"sei un disgustoso pezzo di merda\",\"perch\\u00e9 te ne sei andata cos\\u00ec\",\"sei un brav uomo joe\",\"ti ho sempre accettato per quella che sei con tutti i tuoi difetti\",\"viaggio dell anima attraverso i sei pianeti vangelo di maria\",\"nel mese di aprile il governo ucraino notific\\u00f2 alla russia con un preavviso di sei mesi\",\"sei davvero disturbato amico\",\"dave tu sei appena piu  interno di lui\",\"a craig sei una fi e lei riversera tutta la sua rabbia su di lui\",\"tu sei qui con me eh\",\"sei una candidata notevole senza dubbio\",\"tu sei matto cazzo\",\"quindi ci sei andata a letto perch\\u00e9 i miei calzini erano per terra\",\"sono sei anni che lo sopporto e non ne\",\"questo conflitto \\u00e8 in atto da decenni da molto prima della guerra dei sei giorni delil\",\"te lo sei fatto mentre aiutavi tuo padre a togliersi la cavigliera\",\"ehi ti sei fatto la barba\",\"ti prego dimmi che non sei diventata sua amica\",\"per me sei un verme che vende fotografie sporche\",\"prima dei sei mesi verr\\u00e0 restituita al cliente la\",\"puoi anche essere suo di sera ma dalla alle sei il mio ragazzo\",\"nelle sei stagioni seguenti mettendo a segno la\",\"puoi ricordarmi gli impegni del sei maggio\",\"e  tutto molto interessante james sei stato molto bravo\",\"e ti sei fermata alla seconda canzone\",\"non ti presenti a lavoro e ti sei perso il compleanno di sonny jim\",\"vita a sei zampe edizione giulio\",\"sei arrivato all oceano\",\"\\u00e8 avram ha gi\\u00e0 chiamato altre sei volte\",\"chi sei esattamente signor shalev\",\"non le parlo da sei mesi\",\"per gli italiani \\u00e8 obbligatorioil passaporto con almeno sei mesi di\",\"ma sei arrivata appena in tempo\",\"sai non sei obbligata\",\"e sei bicchieri di whisky\",\"sei anni fuori dalla nazionale\",\"lei e sei anni piu vecchia di me e\",\"sei stato tu ad uccidere shisui\",\"credo che tu abbia saputo che non sei pi\\u00f9 ricercata per omicidio\",\"complimenti sei arrivato in tempo\",\"ma e  chiaro che sei arrabbiata\",\"mi hanno detto che sei il mio referente\",\"non posso fidarmi dell uomo che sei diventato non se vi dipende un altra vita\",\"ci sei dentro anche tu quindi inizia a pensare ad una soluzione ora\",\"ti sei scopato sua figlia\",\"ti sei ritirata da scuola e hai ottenuto un lavoro all assistenza clienti\",\"per formare un'unica serie di sei libri\",\"a te no perch\\u00e9 sei ancora ammalato ma diciamo simbolicamente\",\"senti michael salveremo nikita ma tu non potrai fare nulla se sei morto\",\"non sei mai stato povero vero havisham\",\"omd tu sei il padre di will\",\"ok sei appena passato da stupido\",\"da quando ho scoperto che sei un bugiardo\",\"tu sei lo zio jamal il mio favorito\",\"e quindi non ti sei sposata\",\"avevi appuntamento sei mesi fa\",\"cio\\u00e8 di quello che sei\",\"penso sia normale dato che sei quasi annegato una volta\",\"ti ricordo che tecnicamente sei ancora un insegnante\",\"quando sei messo male come me s\\u00ec\",\"la chiamata e durata sei minuti\",\"ora ti sei liberata abbastanza per riuscire ad esprimere ci\\u00f2 che senti\",\"parte di israele dei territori conquistati durante la guerra dei sei\",\"sei diventato un medico brian\",\"quando sei svanito con quella donna ero sicura che fossi morto\",\"ma sei venuta a casa nostradevi avere sicuramente incontrato i suoi bambini\",\"sai ci sono delle vipere che possono vivere per sei mesi senza mangiare\",\"e ora riesco a vedere che sei un uomo di gran carattere\",\"louis dove sei\",\"tu sei un brav uomo ichabod crane\",\"che sei ancora innamorato di lei dopo tutti questi anni\",\"tu sei emozionata\",\"nella maggior parte delle decisioni che ho preso sei stata dalla mia parte\",\"sei un uomo sincero jeremy\",\"e invece ti sei spogliato\",\"sei quasi al punto preferito di mamma\",\"non le dir\\u00f2 che sei stato tu\",\"aspettala non importa se sei cieco d amore o di risentimento\",\"tu vuoi che vada dal tizio con cui sei andato a letto\",\"sei un astronauta qualificato giusto\",\"una relazione di controllo completa sei mesi prima dell'adesione la\",\"dai sei paesi\",\"sei solo un po  in calo\",\"sei davvero fissato con questa storia della gerarchia joe\",\"siamo rimaste in sei e\",\"jeanfrancois tu sei mio amico\",\"se scopro che sei la responsabile allora parleremo di espulsione\",\"purtroppo ci sei anche tu\",\"ecco perch\\u00e9 te ne sei andato presto dall appuntamento hai il coprifuoco\",\"sapevi di essere merce avariata e non ti sei sognata di dirmelo\",\"il distretto di pueblo nuevo \\u00e8 uno dei sei distretti della provincia di ferreafe in per\\u00f9\",\"raggiungono anche l'altezza di sei metri in\",\"sei un ted migliore di ted\",\"oh spalding sei sempre stato il mio guardiano silenzioso\",\"ehi auto sei\",\"sei una pedina di walsingham\",\"vuoi che gli dica che sei venuta a letto con me\",\"e siccome sei stata una madre eccellente non vedo perche  dovrei prendere ordini da te\",\"non dirmi che non ci sei arrivato\",\"dirle come sei stata\",\"sei stato tu a farci questo\",\"okay ti ci sei nascosto anche tu amico\",\"dice che sei arrivato ad avere una migliore comprensione della tua posizione\",\"se in egitto facevi il pasticciere perch\\u00e8 sei venuto a lavorare in nero\",\"sei un artista indipendente\",\"non ti sei mai chiesto perch\\u00e8 ci stanno attaccando\",\"tu come sei arrivato\",\"sei un pallemosce o che altro\",\"\\u00e8 fermo con le mani in alto e viene soffocato da sei\",\"tu sei andata a letto con la mazza quel giorno\",\"per scrivere il libro abbiamo impiegato sei mesi\",\"e cos\\u00ec ti sei sorbita anche tu ieri sera su questa stupida disputa sul posto auto\",\"marshall va a prendere ronnie a miami alle sei di domattina d accordo\",\"se sei stata assunta perche  fai parte di una minoranza\",\"sei proprio una grande stronza\",\"un crimine per cui \\u00e8 stato condannato a sei mesi di reclusione\",\"sei qui da piu  di sessant anni devi esserne a conoscenza\",\"questa \\u00e8 la terza morte inspiegabile nel mio reparto negli ultimi sei mesi\",\"sei stato tu a dirmi che erano incontri occasionali\",\"alla vigilia del vertice di copenaghen cos\\u00ec come sei mesi\",\"mi manderete per sei mesi in un campo militare dove\",\"sei stato tu a farle cantare quella canzone dei carpenters vero\",\"ha chiuso a sei decimi dal\",\"madsen ti sei appena guadagnato un bel viaggio nella buca\",\"chi sei andato a prendere all aeroporto\",\"tu sei pronta quindi\",\"puoi dirmelo se sei arrabbiata con me\",\"non sei mai stato cosi  felice con nessun altra\",\"e  per questo che sei diventata una rivoluzionaria\",\"sei davvero stata l\\u00ec per tutto il tempo\",\"okay quindi sei stato sincero con me circa questa piccola riunione\",\"stato uno dei sei figli di jeronimo\",\"sei troppo importante per la gente\",\"ora cosa sei diventato\",\"il punto \\u00e8 che tu sei l unica persona abbastanza vicina per arrivarci\",\"sei giorni da tripoli\",\"te la sei fatta anche tu\",\"mi ricordi i miei eventi del sei aprile prossimo\",\"sei una bomba trish\",\"quando blackway ti infastidiva perche  non sei scappata via\",\"sei mesi giorni e ore\",\"capisco se sei arrabbiata\",\"concludere la battaglia in cinque o sei giorni vennero completamente accantonate\",\"sei venuto a salvare tutti\",\"da circa sei anni da quando lei e ted si trasferirono nel nostro edificio\",\"sei rimasto l\\u00ec e hai lasciato che diane portasse alicia al nostro piano\",\"per tutto questo tempo sei diventato molto pi\\u00f9 forte mio schiavo\",\"mi dici i miei impegni del sei maggio prossimo per piacere\",\"sono praticamente le sei del mattino\",\"dimmi che sei ancora a casa\",\"sei un poliziotto da quanto\",\"come sei scivolata\",\"con robocop ti sei costruito un nome alla security concepts\"],\"tsne_2d_0_ft_cls\":{\"__ndarray__\":\"UOqRvwaSJEAIgy5AQWGaQKwPq0CaqTPBq6avQA4N8r/G/+u/FNF/wGzQTsBHOghADBY4QKNwL8DF+ARAZIAIP0a3gMAafmm8+phTQNaH0MDFWh9A6tqEwBgQ78AW5Om/1BeBwJb21ECuYDrBmBd/vyY7Mr9ER0XABKCWv2dRg0DWHIW/hh5IQBUbkkDIa+c/SayjQDttqUB8Rfk/pzdzwDC5xEDRT4FA51y6wIv48sC9y04/7seBwNKbq8BaF/rAMH1ZwFml2sDO/ZbAUM+nQHjkWUDP0dPAZcIlPy1WncDp2AfAFM8vwQ+Yvb81/yrA5wOTQLPgbUBW+jLAnKLTv0UxfECEVafAezNpQOFzZkDL5Z9ArpgSQA+R7MB9+BPAPxSGv4Y48EAcXgK80BQdQFZBi8Ao829AdwYWQMwF+r7B/4dAIp4yQEYqm0DIdptAvWPcwDjkMED3rJo+8punwN+skcBsIJDA293RvyfWCsAm9Iq/p+nWQEZkRz9KPK6/iUGhPxeSrj346pnAbq2IwLS7YT+biyXAZE8HQEAiscDW5pbA5TSbP+nqP0AgNwdAeUUVwF5BhED2kizBqM3lP2BQtsD09ipA9qGWwKzWc8CnWxHAMrRtwMKV8D5garjAdwXvwMCbRsBLkNo/pUrTwDVDwMA1ZpPAPA7lwLxWRUAd4uFAt4B+QP8Z2cCfrZ9A2PXwP92DnMB9QIi/tY5swBzphr/QdoNA0enHQLCNBcE1YfnA1amCQPXWO8HBIKHAkOawwDnTML/ew5PAdRLZwHpM8z5wXBO/OZEJQCRu68B0yM2/GYQ4v5Yj9sAEdalASkihv+tUIUC/WwbAalxiQPXQusDcVQLBUaxzQKzwosB6MyRAy9XRwIBbuj9eEVJA7u3PwN2X1kAeo6W/Dp6lwESkZ795VZNAYmiLP57tgUCMrrLAbk/nwPg2iEDZ7ue/fKUswRIuBr87Xis/tPtbwP9YwD/aCjXBLA5EQAyD+j//kZVAkJxdP8xx/j9rIZpAOCF9vye3LMFcohJAMcqOQHNPcsDPyt/AvGUsQNvE1b4=\",\"dtype\":\"float32\",\"shape\":[200]},\"tsne_2d_0_ft_token\":{\"__ndarray__\":\"KIHRwEWc7MBvlOZBo8veQWICzUFC7zTAetjHQcYB0sCl0lc+bZUMwfmN9cDjtu3A+NCzQaYm5sD7I+FBoNXswCDtDcHWtJjAk6bEQUnzcMEbBr9BEo4CwfIIQcHmw9vANRkGwW6Z1UGJYSXAv92dwLCn4sAkDezAYZHOwIn6P8BLJsTAPpXgQbFn20E8+w/BlTzYQUiIWb/8Xw3B1ErWwFcg1EGskEbArYIVwdcXR8EwjIHA2/VPwDUwHcF9i0XB2mAKwXQeOsEv2QHBT0bNQdLQ5EFVoyo/J+2OwK0jG0C6ft/AUac7wJwEzMA2HDfBFJbaQT4t0EHCZA/B4E/LwFXOvsCa1lLBID3YQcYpvUEMTshBNcHEQd1nUsFJn7DATazVwFFR3UFkneI/KvvVQYZSDr8Lr9xB7QLoQdZLfMDhCcTAv224QZZ75kHKYeVBBTJAwSuT78DpMuA/3wkEwZthDMF7uATBsz8xwQZDw8CAdLDAMTrxQbhvK8GiUpjAxNQPwZ5gnMCElBRAKfMQwZotq8AxeOjA5tviQSG/GMFJawjBuqYzwe7vJsAeGMBBJYfywCUg0UE2/JfA9PE7wPJFKsGokNhBqkMLwWYYDMEXc+rAHgkbwd1OnsBB7MS+yxdEwQySocD4sz4/Bm9AwQ0u1T7X3QrBsGM6we+O3UFgdNFBOyxMwC8LJz9/881BsKhowPKWDcEOxiPBmAAPwT2J2sBZXc5BrfrtQWewS8GsKVrBXIO6QQtdHMC0IRfBPqREv+X2SsFSpyjArXk8weluH8EF8kjBJOAawZGXScGEo9jAmSpMwU6KPMEUQNVBvK3UwDZF4EEihLLAk3XBQbjHJcHXQFvB6nTbQZZP7L9G99tB4uM4wdoQ5UHVpNdB7PA8wfZm1kG6UM7AM4ohwf4KucAKknS/uu4Owae4wsBeVCHBzTJQwYLS0kG6d4I+tLCXwCxBusD+tLpBy7MCwTAJwEHkKDPAwgruwIBD3kEsS1O/wKy7QQYbGcGYcONB/G6ZwAOol8DY3MRBkjnGQWvHGsGYzDfBhNw2wMl65MA=\",\"dtype\":\"float32\",\"shape\":[200]},\"tsne_2d_0_token\":{\"__ndarray__\":\"+fyrwIOoBsGZBmhBRJVcQSI6X0HO1QJBNLVJQTtKiL/V56lALs76wMll8cBxyfnAQTBAQepFjsBQEvBAUdTywOTh9MAl+WU/k6ocQd+qTcEQtM+9fLMDwBCpqUA2elzBU/6YwAMTg0FAc1hAfkRQwd5RPsGZQ7DAntkQwdHV6UCbrjrBuIB3Qecad0HUkNnA1cZRQQvPz8DK9+TABMrNwFDaVkGFgGJACsMWv0DgxsDqpwTB2r3qQDEuxEAppNRAxcQxwZWc+UAocinAQYtyQfeTckGHqdRAZjv8wNUZDcBwTAPAzXjxP6bMyj5VGcTArx5eQdP/cEG+TD/BWSNNwXMbCMFtp/+/uVaCQRteHUHsYjxBx7tOQQ0KXb9FJT7Bzw9MwewrgkEDlec/nUlJQegyP759WE9BsUeAQQyiO8DaanK/To88QejD4UAG6lxBeCnOQKPK/8CW2kPAFLyWwNERPsCst9/ATzrSwHZ0uT9NFpfAgKpXQYviqMCAYNnAUlmFwIuMDsF4IkjAOVU4wNolub/dakHBe+lhQZDYJcCgC6vAHTmEwCD2BMAYq15BWKY2wdoNbEE5vsFAJAN8wGEyncAX9mVBL+AawPPeG8FiqKu/MkKfwJZ1/jxVzFLA75flQFe5RcGqr7lAbtP1wHA0q8DwfO/Af6DhQDSUdkEd0zpBbWbyPwzqvkAKgCtBd3ERwVpJQsCrpCvB7zokwVQ8MMF031pBtnBOQWXO+EDCD52/Rt9vP7rP4EC7kO7AJ5HAv81cFMECsRvBbejQQDOrTsEHswjBHajTwJlnDUHpNFzBS98WwYjwxUDtzEdBKnSpwMY0ZUHt1kHBRZkaQf7EqsBhUfE/n95zQWK2uEDbTW9BgwwFQcPof0F/42JBrVG6QDeiZ0Gy8DzBV02wwDSzN8D1AKTAHLOIwCgHfMCjD6hA4bTMwNSaWEF4mtFAyX8VwSmS/8CaNv5ACqpGwfeKTkHeD+9AIDILwfrIEEACv5zAII9sQQUB4kAJhGtBbm94QExXX8B/G05BdrgaQYszssBECQ5BAB4ivbZnQME=\",\"dtype\":\"float32\",\"shape\":[200]},\"tsne_2d_1_ft_cls\":{\"__ndarray__\":\"Dd0OQd2kvkDXNAPCsecBwv+s6cG2uRJBypfiwYpgyUDcPIM/EAZIQRj7A0Efb8VAlM3IwdEYVUE/XgHCm7WVQMHjFEEwFixBcFHqwagZZkGVmdTBCteJQZPsDkG2VdxAP86BQRSx+MGbdRRBfYWKQNsW00BTi1NBrMwSQbmeZEHdPZ9AMgwBwjty/cGg31dAdEr+wSzfIUH2jVpAVABKQGYD7sEyN2RBfQyHQTOFFkGuezFB3D35QH6iz0CMX+dAHacmQRQiyUBfDIRBanTzwTcAAsKFOPY+StkTQbuSLL8QixJB0KERQVZ/GkHNmDlBMkX/wReQ8sEpMSBB4KGtQEKw7EC1XC9BYMP5wWsI4MFrFtvBuULnwcimNUE0yaJAxAK9QCEC9sFPT45BPjnzwSnuZT9kvP7BSOwFwirhRUEjTM9AObzMweMbB8J+yAXCvFMUQb5btEAokpBBWghoQfgsaEFdj0NB/rE5QUrvt0AVheJALwUFwkwdXkHMnF5BP/zXQBYNJUGXQwy+WwlfQdYMJEGdptJACFYDwicMeUEK735BdSNjQYsVBEEZN9fB9qXmQK8G88Eg1ZNAtJ0AQSugTUFkMPnB03xlQcoxL0HxuA9BtHBqQVBtF0F5uLw/0GPdQJyau0BkfUVBFqUnQeGCkT80OCZB2XfuQGgJ/sGos+TBf4ZjQX7nvT4y1+3B0tgvQWk2f0GCgTNBoGYdQQXnxEBB1O/BA4ICwuD260DxcjlByNHWwQLjFEGkfFRB7YOLQDw+hkGs2p5A9HwQQQAxQkGndIlBnGQlQNfh0EAGydpA7yCFQUuA+0BNUvrB860OQaH0AMIsU4ZA1oPjwbU800DiRbVAliACwq+vVkCBgPzBeHkPQdAMBMKYRfnBP54VQdEa+ME4TOlApBwIQRP2H0FkUCtB0W3cQOUO8kDUHcBADNg5QZWs9cFtkII/4XKTQJ5hHEFEjfLB48QMQeRQ5cE4DRNBwr6yQG0m/8HSYitBKOHywQ2CLEDoVATCAhZkQYW5kkD+i+jB1Y3nwT4AZ0GOAPFASMsbQRy9xEA=\",\"dtype\":\"float32\",\"shape\":[200]},\"tsne_2d_1_ft_token\":{\"__ndarray__\":\"0pKqwLJ6MMF9Ky5BKnZNQbLWU0ER8DfBYJFDQelU6cBdzejAU3xWwOHjssBTlCrBFLkEQcK8cL8wpCVBSPNrwMZhkMBI1YLAc3BQQdcLnMBSegxBy34HQJ80n8CdKOTAzva7P+8uaUG14jvBYFsTwVjJA8EXdCm/M3SiwE5Uzj7o6xbBLaM0QRylSEHNJy7BSPdOQdG4ZsB54zHBz6+evuU8G0HqCrw+7UAAQB2HnMBovK/A9Q0KwWYkncCK09XA3We0wNL87cAkWnM/Dz8nQe6rOUF8uZS/e82fwIstF8DmPJvA+UM3wbn2l8BgfhjBuB5GQSj+QEFwzsjA1wgHwXV2/78hHwfB+Bc2Qb13XkEVVhJBnU0pQcwgU8DU7QXBqSALwa6TbUGqa4HA319CQUpI0cAW4z5B/GQjQYlWJMCWVD3BJiEGQRXsVEHWTFNBF0yPwIU9NMHRN3LAuZiBvirAxL5h5w7AIrMUwR7e+MByZNbA9AM4QUC8+r+l5yy/q2X0wKG7hMDlThnAdSRzv7iybMBaf+zAea0jQUQxWz+YBDM/LkjTvzUcWMB7XhRB+vXgwDzROEEm805A3j9lwDkjtL5jQyhBOZ0JvzCnfMAuq6HAPozpv80vosBqsZLA2IPmwOav7cBvEMrA/hFhwOLBDsD+lQ3B4FbTwJnzMkGw5QlBljizPsGsjL91YEtBtUicwG27gz+nQArBO062wORN/MA1+zJBFHE/QWrI0MBz4VLAcv8iQb0VPsFn6pm+uRmYwGozebu9DdfApjWVwDIBD8H5jKI+jYg7wezy68DmpunAClI7vpo9x8ABN1JB1D2qwI8cLkGVMwDBinFdQc9fqsASo+vA7UtYQXGavsByFitB4pGWwKxGFkHfpCpBva6LwGxAaEGw3ODA9onLwGmYmsD3pQzA9sXvwOPk7r8dk57AcglDwEQGOkGTWezAo/9OQCGGkcCbRERBOyCgwCvIL0Fs0zjBDXs7wYmhJEEfywzAub9DQaaiOMEge01BdcJ8v74HT0AaCC5B3lg5QW7W578IFtXAp03cwBEkCcE=\",\"dtype\":\"float32\",\"shape\":[200]},\"tsne_2d_1_token\":{\"__ndarray__\":\"xYsJPyPQR787ZZHBYnWJwQfagsFBBYxBBfmHwf5uwz5LUodB21LGwNs/m7+Rlra/hnqWwYDk37+s7JNBp7eLvx8LwMBAbpU7vUVqwVbA2z6lcxtAbHoAvxplbUH7ZCjAXjdDwHquhsEreUlB/k0IP7qJw78wPNS/CSFtQPAljUFUuaXACkaYwayei8FAA0a/X8CXwf17e8AqFb69Ax0MwLFuj8GWfUxBLkAuQJvsxj9csodAaxt5QaIGikFFwI1B/+6PwITIjUFU77DAk7F1wVSTksEW4oZBkH2EQDzU4r+2NW0/zlstQaTTxz/Y6j499dCbwchJb8EKSMM9DYmVwElMy78NdMK/nKmUwd1faMEnE4fBwK5bwa+hRMBGEJLAaZFIwA+egcEw6StBxvKIwQycjL4yVJ/BFxKbwQFyO0AaBEFA1NGTwXGTnEH2KqDBW5SSQYgkWD+3J1ZA/YaHwBJZScATlzHA8XdFQNyvLUDUHiNAn8uEwRhbJ8C9vlXAiIulP1Zpg0DuvqA/HAM8wKKAqb/hjJzAi/KowTPTqsAUfi7A7mY3wEleRj9hl5TBJf1bwIVwZcHloHpB/PTvvhbnYrwlUovBtgI2wJE2LUCLx5+/gdLMPzYU6j+plb6+++uIQTZtpMA0QIZBlgTBwMNCYcCwVy7AnTOBQbJKocH0T5TBT3QtQVovlEFnApDB5cWJQASHWcAF21FAqMtZwEZLIcDGcnrBdciQwX3ikUFWOiLAfkGcP8EwkEEZ5+S/EG1KwMIPTL9zZ0A/qASHQY/qXMAPCXjAKlm1v1sliEEgjCfA+VZLPjTxfEFhL33BRzqkPtlzlMGrlCPAtZVrwTNTh77EVy1B+EOXwcQtgkFf4o3BQ1OAQdYgkMG0LozBFgeRQZpUmcHhbFnAu6cxP37DIUCQTpfAqOKcP6k/DsCLC4tBigqFP1RyeMFICoNBe4w6Psubg0AJL4dBlZEuPsBxW8FH0IZBjJIHwOtrNEF+apnALmSHwaL2f0HxMpLB/FJTQc61tr906VrBd2dswWlzHMBlnJFB27/qP2YTacA=\",\"dtype\":\"float32\",\"shape\":[200]},\"type\":[\"class_1\",\"class_1\",\"class_0\",\"class_0\",\"class_0\",\"class_1\",\"class_0\",\"class_1\",\"class_1\",\"class_1\",\"class_1\",\"class_1\",\"class_0\",\"class_1\",\"class_0\",\"class_1\",\"class_1\",\"class_1\",\"class_0\",\"class_1\",\"class_1\",\"class_1\",\"class_1\",\"class_1\",\"class_1\",\"class_0\",\"class_1\",\"class_1\",\"class_1\",\"class_1\",\"class_1\",\"class_1\",\"class_1\",\"class_0\",\"class_0\",\"class_1\",\"class_0\",\"class_1\",\"class_1\",\"class_1\",\"class_0\",\"class_1\",\"class_1\",\"class_1\",\"class_1\",\"class_1\",\"class_1\",\"class_1\",\"class_1\",\"class_1\",\"class_1\",\"class_0\",\"class_0\",\"class_1\",\"class_1\",\"class_0\",\"class_1\",\"class_1\",\"class_1\",\"class_1\",\"class_0\",\"class_0\",\"class_1\",\"class_1\",\"class_1\",\"class_1\",\"class_0\",\"class_0\",\"class_0\",\"class_0\",\"class_1\",\"class_1\",\"class_1\",\"class_0\",\"class_1\",\"class_0\",\"class_1\",\"class_0\",\"class_0\",\"class_1\",\"class_1\",\"class_0\",\"class_0\",\"class_0\",\"class_1\",\"class_1\",\"class_1\",\"class_1\",\"class_1\",\"class_1\",\"class_1\",\"class_1\",\"class_1\",\"class_0\",\"class_1\",\"class_1\",\"class_1\",\"class_1\",\"class_1\",\"class_1\",\"class_1\",\"class_1\",\"class_0\",\"class_1\",\"class_1\",\"class_1\",\"class_1\",\"class_0\",\"class_1\",\"class_0\",\"class_1\",\"class_1\",\"class_1\",\"class_0\",\"class_1\",\"class_1\",\"class_1\",\"class_1\",\"class_1\",\"class_1\",\"class_1\",\"class_1\",\"class_1\",\"class_1\",\"class_1\",\"class_1\",\"class_1\",\"class_0\",\"class_0\",\"class_1\",\"class_1\",\"class_0\",\"class_1\",\"class_1\",\"class_1\",\"class_1\",\"class_1\",\"class_0\",\"class_0\",\"class_1\",\"class_1\",\"class_0\",\"class_1\",\"class_1\",\"class_1\",\"class_1\",\"class_1\",\"class_1\",\"class_1\",\"class_1\",\"class_1\",\"class_1\",\"class_1\",\"class_1\",\"class_1\",\"class_0\",\"class_1\",\"class_0\",\"class_1\",\"class_0\",\"class_1\",\"class_1\",\"class_0\",\"class_1\",\"class_0\",\"class_1\",\"class_0\",\"class_0\",\"class_1\",\"class_0\",\"class_1\",\"class_1\",\"class_1\",\"class_1\",\"class_1\",\"class_1\",\"class_1\",\"class_1\",\"class_0\",\"class_1\",\"class_1\",\"class_1\",\"class_0\",\"class_1\",\"class_0\",\"class_1\",\"class_1\",\"class_0\",\"class_1\",\"class_0\",\"class_1\",\"class_0\",\"class_1\",\"class_1\",\"class_0\",\"class_0\",\"class_1\",\"class_1\",\"class_1\",\"class_1\"],\"umap_2d_0_ft_cls\":{\"__ndarray__\":\"hVZaQQPZaUF/jx+/PrYfwKEjwr8FS4FBwZusv0PAVUEnUU9BfhZaQa5vZkH2d2hBM8imvwSOV0GdVhG/3nNaQSihY0FORU5BmtIEwMzTTUFgJpu/06tKQSL+cUGdXFZBNS9NQY2Zy7/QL4JBWCVWQVCbWUGRgVRBAuBbQTi3bEEMqFVBD6mDv74lC8BNAmRBvOcMwCYCR0G93GVBKANLQcsvd79PjW1B9DFPQTMWckHAC1FBHgNrQatMZEGZ2XhBmspgQTEEckEKJU5BzwG+v4YLmr9c+kBBp59MQR6kPUHDBF1B+8aAQYf2V0FWMFtB5bkVwGlHB8D3u2BB4aJVQWv3ZEFyrGZBBKG1v0Zx7r9wM5i/MKu3v5VBZEFfCFNB9WRaQW2mwL//8EVB5Fzzv1zuRUGdScu/tO4XvwnjS0F12mhBuUSdvwCHJsDR5SfA0qRyQRI9Z0HQjERBWlxQQb4EU0G7Wl5BD+RVQSh4VkGyIlZB/hmQvxkGTEHZBlxBwEtoQX7YU0ErfkBBUqhSQU30UEGN2ldBdmT5vql+UEFgfk9BVo5NQTBmYUHsI7y/aC9bQV6o6r+4/WZB4XdfQZQsUkFYGYe/gBxSQY5XY0H1W2FBySZUQeodUEHdyUdBtXZ2QSSDVEEe0kZBtfJpQYQAQkG5W2RBbbF2QaupYb8IiN6//GRsQfpnQ0GNeuq/DxVQQRSQTkEWCFRBDERjQTNBW0FLssu/9guzv9l+eEF7p1ZBzKanv2urgUGCqVFB4XpXQSOPSUFOAFpBESF0QZK2SkEEwkhBaJlkQZsUdUFW51pB/UZKQZ3tdUEWXu6/7tBbQf55Xr+VW1hBwWv/v/eBaUEpCHNBKuqvv3tATkGGxmO//OhwQR6zLr+hF5C/8DhvQbNawL85DlZBZFxqQTmSVEEji0hB0BNqQf2DVkFn+WJBJ+lVQcOk/79eilJBjzdnQRuMU0FLthLAz21oQVthyb+ZNYFBXhNoQR5PRb9tpUZBZKQLwBPrZEEeGh7AAMZXQZiRZ0HH486/a6Dav8aoVEExaXdBURFRQYN7WkE=\",\"dtype\":\"float32\",\"shape\":[200]},\"umap_2d_0_ft_token\":{\"__ndarray__\":\"q7RRQYzmPkFChw7BDvP3wAZg9sCavYNBiwT1wNXATUFJhmxB2+RFQQjuSEF/M0RBhuThwE0dO0Eg8QvBs4JIQUBOS0EDoltBgH7gwOnaTkH2b+bAKy0yQaHwYEF2EVFBCIozQc9dBsGt44NBNhtNQZYoT0FAZzpBCdFTQSBzYUGKqk5BUiwMwQ+l/cBIIERBlcb2wCSNakGtQ0FB7KQ7QeobA8Fj319Byx8yQVLzXkHHRFtBwbJRQQCaXUHT0GxBRHNLQQwpaUGMTjRBzsruwAH5BsFSwGhBc6hhQdrYbUFbnVRB8/mCQd17VUElhGJBhJv3wKv38cCYeUlBjxpSQaXMQEEjLG9BxFsCwXYK3sBKMPDAXv7jwN/cW0E2wlFBhqtPQR22B8EG51NBOHn8wJnHakEq5QHBgcYPwcb/WkH9Sz1BTdfgwNjq9sBfdvfAoeVeQSDOP0HzEGNB9W07QXu1OUEYCUlBm+FiQY7eTkFfjFJBaVAJwUn3QUHbGllBVP9EQcJIXEHVhmtBG2c+QRmDWkHizE9B0E0NwamWOEHJBTVB49xBQfmrTEENmuTAOltTQV1S+cDGs1VBglZKQfw+RkGYKwXB1Ls6QSVhR0FNwlBB3Hs/QanvW0GK8WFBdYdrQWLMT0HqcWtB+A1ZQZjXaEF1bVNB+UdpQVqiCcF20u/A2fJfQTXNZkFUBfXAJwlgQYTGNEHPj15B5x9KQXDES0H2/fHAQBMGwTyBbUGZyVtBK+PkwBGNg0Fe7T9BxA5mQbT9UUHyr1tByIlfQQhHW0Gts05BzOpCQQAXa0Gxg09Boa9QQXy5ZkHo/vvAnJxQQRhZCMFihVVBcBrgwKhzZkHiXGpB0XsHwf1HYUEy6gbBnoJcQV71DcH9eATBC8xcQVx9B8E2d1ZB3C1bQa6KVkGzTWJBIzJIQTuAPUGb3mJBlvVaQU6N8sDz/2xBFyJVQd44VkFulufAnRhPQbOp5sBA/YNBtHQ/QRPpCcFwPGRBNAzrwIsXREFf4PXAiqtUQbWEU0EfQOTA3R7qwNK8P0GzDWhBoAJdQR/KUEE=\",\"dtype\":\"float32\",\"shape\":[200]},\"umap_2d_0_token\":{\"__ndarray__\":\"1CSSv8qsLT7MlqdBa3qsQdvqrUE8dsTAXyqsQfeMBsCR86LAFap3va4Hkj7VBvE9Q3qsQTF4Yr+O8sLAgdm5vZXXU75eXx7A0LGiQYWUO75CxR7AJbLkvynWoMAY1Co/dCk9v+PspEHuDJrA+djevg5Jyj5P3CS/9l3rPg9ExcCz0qo/sOClQYsvrUHX4Ay/FFGuQcidK7/W+QG/sl8Lvj48qEH/Mp7Ar7cYwKmHoL/1pQQ+puWgwAECn8C0A7XA8vaqP/slxcBbOZe/j+CuQQGTpkHM7aTAgpyqPuCMzr8Gava/GpqWwPmyMMAPeFm/glSuQcyLrkEk+RC/8I+3P628Vz5V29y/O/KnQUCqo0EMDKtBFienQS1mor9x05o/m+djP7PKpUFnJJbAagmqQViGEMBPUatB9YSkQXPK4r+G0gvApKCtQb0Xt8CykK1BVRjDwLrufb7y886/aBZ6v7y3oL8zrqe+ZbOvPVsMLsB3EZS/R3KtQZyNEb9jSLq+EBfdv41Pnj4/ns6/h/Khv0C7+7+y+7E/uYqrQa/hpL/goRS/kcZZv7u9AsCiMKdB5O6QP7t+rEEPk6PAMr7Cv8IDkb+5Q6hBa82kv8ZAvj6+yea/xAu6v/Q5JMDb08K/0CW8wLjroz+qJ6DAGP9YvYxlgb6BWHK+nmKowIvdpkFCdq1BF+mVwOfDwMAtVqxB4IKHPgRqm7/fGiU/S3d8Pzp6QD8gOq5BNIOrQZlBwsA+M6u/UKYswLTNvsBO7wu8szSrv3s5lD47fDo+kXaqwH+FdT83MAG/GV6Hvh9YvcBXsSo/gHOAPtMSqcCw0KxBdMafv25SqUGpzFQ/YQOjQUZsgb+lhZfAr1+nQdetp8CYJapBP/i+wO67p0HJQapBnd7AwC1dqEEsvpE/t0SHvz/+079LuA+/zxq+vzXUX7/qHp7AIamBv+HwrUEwtqjAYSS+PU6qVj5N3LjAUpfmvYdPpkEbJ7XASOfCvDU5mcC8a1C/28+oQUfbpMAXDqxBWX6gwABwor/TuaZBR6miQb7I+L6yz7/AhlsqwAOFjz8=\",\"dtype\":\"float32\",\"shape\":[200]},\"umap_2d_1_ft_cls\":{\"__ndarray__\":\"womRQGM2gUDy89dAvcvEQOWhuUA1HbBAVumuQJIuQEAY9aZAq1nYQNVZlEAyOYFA7YKVQDZcz0Bty9JAgSZwQH8XrkDSNpJAckuuQO6z4UCB15pAxXb6QPK2vEBW3lpAdYLuQC3AvkCPlK1A+eMjQBmgRkAN8NNA9qSVQHuZ20A4JiZAc3/RQKxLxUDrClRAQHvJQM5LpkCZTVtA7jeyQEDsuUDVMdpARLLwQFQGtUCDrpRAb4ymQCQpwEDBTdhAh7mjQJtD0UC/x/VAfSO6QHc32EAG6a5AkiuOQCdPtkDjFptA2mKyQHuol0A8MqZAIy7HQKGdu0AzCZxAoPgoQO+ShkAr2rJA1GvIQLw5p0DzhqhAEbGiQAOGuEDYLzdAq3M1QKmFxkD0YNBAK9bOQA1KuUCf6dBAe+DVQPnpm0CmHIBAEQKaQLPcxkCKaMtAk6K3QC5ueUA1AspAbEbqQBjD6EBb19JAUOmgQHI1LEAGtEhAg/nJQDMkuEA/tsJAnPeJQPK1iUCVxrJAxo/eQDjMjUBjTExAh8vTQMa68UDj1PNALCW0QDs2jkAhp59AYGhSQI+ht0DdUM5AW/OPQPRuwkDhvsBAJhPoQDjKpkC0B5xAkcLjQB6rkkDmHb1AqC/SQPbIPkAAR5pAYqG3QNMStUA9uKlAeZzSQGhQxUDfHKxAp4HXQAL4rEB0+7ZAuGOIQBzZ8UARJJ1AfyGkQBrSOEB6uLVAwCjQQMe01kCDyLRA5tOkQLECrED2wdtAUFO6QJQo0UAjD7FAGk64QLijlEC3etNAyHBUQIXMzkD02lhA7n/OQBNSz0DqOMhAVMaPQLHV0EBLXFZAh2GpQDlzx0DTp8hApj3RQPcUt0BfVMVAvom9QMD/z0B61MNABGm6QIgexkByOGBAZdfAQIwRk0A0n6dAWEGNQJil00CXlsBAiSK3QCZSu0BowKZA+dvOQH8Kj0D+KLhA7k6kQFzyqkAUK7BAwQJ4QFo2zEDxKahAUo+/QB1+T0CbOMlAY9PDQIpazUA/IalAlLauQO3M4kCPdcxAvHqSQFFuP0A=\",\"dtype\":\"float32\",\"shape\":[200]},\"umap_2d_1_ft_token\":{\"__ndarray__\":\"roUjQQyiG0E/LVi/fk7Qv51K/L4nKj5BmVlIvypUEEFeqSlBosA8QZ5JLUGSJhxBwN2EPRRJNEECeAO/PoUUQU9cOEELECJBn5h0v3ZKKUEzyiW+/eY9QRxXUEEKHBZBgJw/QVkJwL+UVT9B2bwLQSJ7CkEeWTlB3WQrQcm3Q0HdZQlBRlJYv4Nx1b87/hNBxX3Uv5Z1NEEwXhVBIIUyQSBMFL8WlkVBVa1BQeSnT0E83idBWrA6QQ0NPEHcL01BergoQf2aRUFlUj1B34K0v4ddWL9mVTNB3WolQS6KMUE4YC9BYy9BQdpdJ0GysB5BSC3Tv3V/n784ryVBcMYNQUgQJEHRk0ZBk9Jvv4wOOb8ju3C+bSDhvthtVUHhmQhB7NsKQXetrL9rUjZBZP2xv1CELUHFgKC/SugmvyeaIEGaECFBTpxnvLhs8b9GDPu/EeJPQZZLG0EcBjJBBww8QdslQUFJF0BBcQwfQfr2DkGsChVB+KWDv642NUFZpTlBKHUeQaNXKEHRuDBB0pg9QTBtJkEUExNBN1oVvzgRQkGYNT1BvEw0QX/BHkH6nAK+dpwVQYbZdr9GIEhBlW8dQSC4M0GBgfq+5y5AQVN1MEGGBChB6MY+QTZ8JkFu3TRBPURJQZU9EUGziSpBz55QQfPsMEF8PxxBzmxJQbSXZr8Giyq/CWdFQdhpNUHBMGS/2BooQVuIP0HmLSFBuacpQQrVC0FvJDG/3quDv7avSkGCxVJBl5EEv43sP0FTtTxBX5w4QRs9LkFgOzZBI5xPQexEIEGdATRBN1MRQZebRUErlhFBdQEwQSNcTUG1Pru/RzgmQZ+VN7+pOA9BBbBcv6nHP0GcmUZB6C2hv39GOEElmyy/vCtOQVJg4L5Q61q/VMFSQZixrL+47hJBhctAQT7CJkE87y1BdxsgQWTSL0H0UTxBw+lUQQMckL9riypB0OxHQbMyKEHpPKG/qFMyQVIh5b4/BEBBuJ0ZQRrsG79tAC9B8MOhv6mhEkFWduu/d/cxQXIIRkFDqDi/l7kjv9UGPUHa80tBDnwtQXrSDUE=\",\"dtype\":\"float32\",\"shape\":[200]},\"umap_2d_1_token\":{\"__ndarray__\":\"5GKoP+llEkCfStRAcnbPQATmwEA5Ix3BSbHHQOhVBkC9FRvBE2d+QKbb/j9R4Ow/OiGsQBsgK0BacBvB3NwAQCVjd0BeRT1ABoLBQLIGiD8NfV9ASp9XQLzzDcGTuFI/THlVQIsE30B8GwXBLKefPzlJrT+z4RRAMoN4QKCpGMEGgD8/fj/iQDob3kC+PuM/Lj7hQBj0PUCZlAhA/q01QOxJwUBlvQnBSVJgQEBNyj/TXHpAWkEdwbRcHcGLnxfBI0lfP52GGcFdOW9A+FDDQKYf2EAMXhvBsO2FQCkZPUA4jD9Ald/9wMtIREArJbs/VnnaQHGZxkCEL5E/78AMP45yCUBTvkpA5wzaQPrmvkDSYM9Ay868QMf5GUDnKlc/ArBOP8Bv0kDfRf/AMRbLQOwXNECcA+BAAfLaQDU2HEAUPGRAmvitQAQ+GsFk+d5AiPQTwdQCV0B/7RRAURVuQJ8FU0APZBdAOktpQPi5MkBGabs/1py7QPUMTEAJfSNA2xbKPxX3gUAnzyBAWMVPQDodO0A8iCM/g8TlQPbOZkDX+0FAhp9TQD7dS0C0btBACwSAP+09vkBozxLBFInkPyM5uT+iMclAX7dDQDJpYUDoU0VA4+2qPzRIV0DFOfU/0JIUwV/MMj870BjBmu9+QMnYXEDXIAxA+T4XwVis3kDth7BAK3f+wPUeE8Fwta5AjxaCQNYTUUCy+WJAJ+OYP5KTpj/EuMBASkO0QAI8G8Fa1x1Aots+QLWSGMG9kwxAM04qQPmaHkCgNihA+iEYwW1CcD9IbC9AJWryP86sHMFB+Wk/M7ApQInNFMHddrdAKOC/P4yU2UA/koc/4MHAQF9i6D+9TP3A6DvaQOv1E8FCN9dAjAATwV7p3UD0A9FA7+0SwS200EBR/os/FunjP6Q7LUBIbFxAN6/FP3+yL0CJnx3BWl7ZP1wGvkAj6xjBHtY/QDwIgkBIRhvBUV+BP3mlvUAxWRzBV6TrP/5NAcF+jWRAXq/SQER+GsEYr+BAg0IMwWG8F0BJbbxAN4/DQDZTTECZ9h3BoltOQKqDUz8=\",\"dtype\":\"float32\",\"shape\":[200]}},\"selected\":{\"id\":\"1210\",\"type\":\"Selection\"},\"selection_policy\":{\"id\":\"1211\",\"type\":\"UnionRenderers\"}},\"id\":\"1152\",\"type\":\"ColumnDataSource\"},{\"attributes\":{\"factors\":[\"class_0\",\"class_1\"],\"palette\":[\"#7fc97f\",\"#f0027f\"]},\"id\":\"1151\",\"type\":\"CategoricalColorMapper\"},{\"attributes\":{\"bottom_units\":\"screen\",\"fill_alpha\":{\"value\":0.5},\"fill_color\":{\"value\":\"lightgrey\"},\"left_units\":\"screen\",\"level\":\"overlay\",\"line_alpha\":{\"value\":1.0},\"line_color\":{\"value\":\"black\"},\"line_dash\":[4,4],\"line_width\":{\"value\":2},\"render_mode\":\"css\",\"right_units\":\"screen\",\"top_units\":\"screen\"},\"id\":\"1178\",\"type\":\"BoxAnnotation\"},{\"attributes\":{},\"id\":\"1136\",\"type\":\"BasicTicker\"},{\"attributes\":{},\"id\":\"1204\",\"type\":\"Selection\"},{\"attributes\":{\"callback\":null},\"id\":\"1006\",\"type\":\"DataRange1d\"},{\"attributes\":{},\"id\":\"1108\",\"type\":\"BasicTicker\"},{\"attributes\":{\"dimension\":1,\"ticker\":{\"id\":\"1108\",\"type\":\"BasicTicker\"}},\"id\":\"1111\",\"type\":\"Grid\"},{\"attributes\":{\"label\":{\"field\":\"label\"},\"renderers\":[{\"id\":\"1066\",\"type\":\"GlyphRenderer\"}]},\"id\":\"1075\",\"type\":\"LegendItem\"},{\"attributes\":{\"dimension\":1,\"ticker\":{\"id\":\"1046\",\"type\":\"BasicTicker\"}},\"id\":\"1049\",\"type\":\"Grid\"},{\"attributes\":{},\"id\":\"1205\",\"type\":\"UnionRenderers\"},{\"attributes\":{\"callback\":null,\"tooltips\":[[\"columan_name\",\"@{sentence}\"]]},\"id\":\"1149\",\"type\":\"HoverTool\"},{\"attributes\":{\"overlay\":{\"id\":\"1163\",\"type\":\"BoxAnnotation\"}},\"id\":\"1112\",\"type\":\"BoxZoomTool\"},{\"attributes\":{\"active_drag\":\"auto\",\"active_inspect\":\"auto\",\"active_multi\":null,\"active_scroll\":\"auto\",\"active_tap\":\"auto\",\"tools\":[{\"id\":\"1050\",\"type\":\"BoxZoomTool\"},{\"id\":\"1051\",\"type\":\"SaveTool\"},{\"id\":\"1052\",\"type\":\"ResetTool\"},{\"id\":\"1059\",\"type\":\"HoverTool\"}]},\"id\":\"1053\",\"type\":\"Toolbar\"},{\"attributes\":{\"active_drag\":\"auto\",\"active_inspect\":\"auto\",\"active_multi\":null,\"active_scroll\":\"auto\",\"active_tap\":\"auto\",\"tools\":[{\"id\":\"1112\",\"type\":\"BoxZoomTool\"},{\"id\":\"1113\",\"type\":\"SaveTool\"},{\"id\":\"1114\",\"type\":\"ResetTool\"},{\"id\":\"1147\",\"type\":\"HoverTool\"}]},\"id\":\"1115\",\"type\":\"Toolbar\"},{\"attributes\":{},\"id\":\"1113\",\"type\":\"SaveTool\"},{\"attributes\":{},\"id\":\"1052\",\"type\":\"ResetTool\"},{\"attributes\":{},\"id\":\"1114\",\"type\":\"ResetTool\"},{\"attributes\":{\"formatter\":{\"id\":\"1174\",\"type\":\"BasicTickFormatter\"},\"ticker\":{\"id\":\"1136\",\"type\":\"BasicTicker\"}},\"id\":\"1135\",\"type\":\"LinearAxis\"},{\"attributes\":{\"text\":\"TSNE 2d - proj - Fine-Tuned Model\"},\"id\":\"1120\",\"type\":\"Title\"},{\"attributes\":{\"overlay\":{\"id\":\"1088\",\"type\":\"BoxAnnotation\"}},\"id\":\"1050\",\"type\":\"BoxZoomTool\"},{\"attributes\":{},\"id\":\"1131\",\"type\":\"BasicTicker\"},{\"attributes\":{\"formatter\":{\"id\":\"1159\",\"type\":\"BasicTickFormatter\"},\"ticker\":{\"id\":\"1108\",\"type\":\"BasicTicker\"}},\"id\":\"1107\",\"type\":\"LinearAxis\"},{\"attributes\":{\"ticker\":{\"id\":\"1131\",\"type\":\"BasicTicker\"}},\"id\":\"1134\",\"type\":\"Grid\"},{\"attributes\":{\"fill_alpha\":{\"value\":0.4},\"fill_color\":{\"field\":\"type\",\"transform\":{\"id\":\"1076\",\"type\":\"CategoricalColorMapper\"}},\"line_color\":{\"field\":\"type\",\"transform\":{\"id\":\"1076\",\"type\":\"CategoricalColorMapper\"}},\"marker\":{\"value\":\"triangle\"},\"size\":{\"units\":\"screen\",\"value\":12},\"x\":{\"field\":\"umap_2d_0_ft_token\"},\"y\":{\"field\":\"umap_2d_1_ft_token\"}},\"id\":\"1079\",\"type\":\"Scatter\"},{\"attributes\":{},\"id\":\"1036\",\"type\":\"LinearScale\"},{\"attributes\":{\"items\":[{\"id\":\"1090\",\"type\":\"LegendItem\"}]},\"id\":\"1089\",\"type\":\"Legend\"},{\"attributes\":{\"fill_alpha\":{\"value\":0.1},\"fill_color\":{\"value\":\"#1f77b4\"},\"line_alpha\":{\"value\":0.1},\"line_color\":{\"value\":\"#1f77b4\"},\"marker\":{\"value\":\"triangle\"},\"size\":{\"units\":\"screen\",\"value\":12},\"x\":{\"field\":\"umap_2d_0_ft_token\"},\"y\":{\"field\":\"umap_2d_1_ft_token\"}},\"id\":\"1080\",\"type\":\"Scatter\"},{\"attributes\":{\"data_source\":{\"id\":\"1077\",\"type\":\"ColumnDataSource\"},\"glyph\":{\"id\":\"1079\",\"type\":\"Scatter\"},\"hover_glyph\":null,\"muted_glyph\":null,\"nonselection_glyph\":{\"id\":\"1080\",\"type\":\"Scatter\"},\"selection_glyph\":null,\"view\":{\"id\":\"1082\",\"type\":\"CDSView\"}},\"id\":\"1081\",\"type\":\"GlyphRenderer\"},{\"attributes\":{\"callback\":null,\"data\":{\"index\":[0,1,2,3,4,5,6,7,8,9,10,11,12,13,14,15,16,17,18,19,20,21,22,23,24,25,26,27,28,29,30,31,32,33,34,35,36,37,38,39,40,41,42,43,44,45,46,47,48,49,50,51,52,53,54,55,56,57,58,59,60,61,62,63,64,65,66,67,68,69,70,71,72,73,74,75,76,77,78,79,80,81,82,83,84,85,86,87,88,89,90,91,92,93,94,95,96,97,98,99,100,101,102,103,104,105,106,107,108,109,110,111,112,113,114,115,116,117,118,119,120,121,122,123,124,125,126,127,128,129,130,131,132,133,134,135,136,137,138,139,140,141,142,143,144,145,146,147,148,149,150,151,152,153,154,155,156,157,158,159,160,161,162,163,164,165,166,167,168,169,170,171,172,173,174,175,176,177,178,179,180,181,182,183,184,185,186,187,188,189,190,191,192,193,194,195,196,197,198,199],\"label\":[1,1,0,0,0,1,0,1,1,1,1,1,0,1,0,1,1,1,0,1,1,1,1,1,1,0,1,1,1,1,1,1,1,0,0,1,0,1,1,1,0,1,1,1,1,1,1,1,1,1,1,0,0,1,1,0,1,1,1,1,0,0,1,1,1,1,0,0,0,0,1,1,1,0,1,0,1,0,0,1,1,0,0,0,1,1,1,1,1,1,1,1,1,0,1,1,1,1,1,1,1,1,0,1,1,1,1,0,1,0,1,1,1,0,1,1,1,1,1,1,1,1,1,1,1,1,1,0,0,1,1,0,1,1,1,1,1,0,0,1,1,0,1,1,1,1,1,1,1,1,1,1,1,1,1,0,1,0,1,0,1,1,0,1,0,1,0,0,1,0,1,1,1,1,1,1,1,1,0,1,1,1,0,1,0,1,1,0,1,0,1,0,1,1,0,0,1,1,1,1],\"sentence\":[\"tu sei andata con l altra ragazza a mangiare\",\"amico mio non sei mai salito piu in alto\",\"momento adatto per colpire ma impiegarono sei mesi\",\"ha insegnato in quattro scuole diverse in sei anni\",\"che \\u00e8 andato in sei mercatini per trovarlo\",\"sei una brava ragazza marta\",\"ha avuto almeno sei donne nel corso della sua vita ed anche due figlie\",\"ti sei veramente distinta questa sera\",\"sei troppo grande per giocare col trenino\",\"posso ricordarti che sei stata tu a darmi la tua meta  della clinica\",\"ecco perch\\u00e9 non sei tornato per il resto delle piante\",\"sai perche  non sei riuscita ad ucciderlo margot\",\"lunghezza del naso sei centimetri\",\"cio\\u00e8 so che sei morto ma spero che vada tutto bene\",\"sei mesi fa regina vasquez\",\"l altra sera quando sei uscito\",\"e io non ho mai detto che sei stata tu\",\"tu sei il portale la via\",\"tutti i giorni alle sei c era qualcosa in forno ad aspettarlo\",\"te la sei cavata alla grande li  sopra\",\"per quelli sei eccitato\",\"sicuro che sei pi\\u00f9 bello senza giacca\",\"sei stato soldato\",\"non ti sei mai occupata di biochimica\",\"e  che sei totalmente follemente completamente innamorato di zia robin\",\"nelfu invece commercializzata la ed il motore a sei cilindri fu abbandonato\",\"sei una donna di quasi settant anni\",\"ti sei comportata malissimo con me\",\"e da allora sono certo che ti sei chiesto quando avrei ufficializzato questo punto\",\"ma grazie mille ora che sei scappato possiamo vedere cosa ci nascondi\",\"ecco tu sei qui mccombs e questo sono io\",\"sei solo nella mia testa joe\",\"sono contento che non ti sei abbandonata eve\",\"l'ergastolo con sei mesi di isolamento diurno il secondo trent'anni di reclusione\",\"io credo che v'inganniate poich\\u00e9 nella taverna d' el moro che da sei anni tengo in\",\"quindi se questi fine settimana sono terribili perch\\u00e9 sei venuto\",\"siete spoasati da sei anni\",\"spera solo che flash non arrivi altrimenti sei finito\",\"la settimana scorsa non sei venuto e sono rimasto giorni senza vederti cazzo\",\"dir\\u00f2 che non sono riuscito a trovarti che sei gi\\u00e0 scappato\",\"allora a jud per sei dollari e un quarto\",\"sei solo un perdente\",\"capisco che sei alterato\",\"non sei stato capace nemmeno di dirmelo in faccia\",\"ma tu sei quello che perde di pi\\u00f9\",\"sei tornato per lavorare spero\",\"sei stata tu a volere la casa\",\"sei un disgustoso pezzo di merda\",\"perch\\u00e9 te ne sei andata cos\\u00ec\",\"sei un brav uomo joe\",\"ti ho sempre accettato per quella che sei con tutti i tuoi difetti\",\"viaggio dell anima attraverso i sei pianeti vangelo di maria\",\"nel mese di aprile il governo ucraino notific\\u00f2 alla russia con un preavviso di sei mesi\",\"sei davvero disturbato amico\",\"dave tu sei appena piu  interno di lui\",\"a craig sei una fi e lei riversera tutta la sua rabbia su di lui\",\"tu sei qui con me eh\",\"sei una candidata notevole senza dubbio\",\"tu sei matto cazzo\",\"quindi ci sei andata a letto perch\\u00e9 i miei calzini erano per terra\",\"sono sei anni che lo sopporto e non ne\",\"questo conflitto \\u00e8 in atto da decenni da molto prima della guerra dei sei giorni delil\",\"te lo sei fatto mentre aiutavi tuo padre a togliersi la cavigliera\",\"ehi ti sei fatto la barba\",\"ti prego dimmi che non sei diventata sua amica\",\"per me sei un verme che vende fotografie sporche\",\"prima dei sei mesi verr\\u00e0 restituita al cliente la\",\"puoi anche essere suo di sera ma dalla alle sei il mio ragazzo\",\"nelle sei stagioni seguenti mettendo a segno la\",\"puoi ricordarmi gli impegni del sei maggio\",\"e  tutto molto interessante james sei stato molto bravo\",\"e ti sei fermata alla seconda canzone\",\"non ti presenti a lavoro e ti sei perso il compleanno di sonny jim\",\"vita a sei zampe edizione giulio\",\"sei arrivato all oceano\",\"\\u00e8 avram ha gi\\u00e0 chiamato altre sei volte\",\"chi sei esattamente signor shalev\",\"non le parlo da sei mesi\",\"per gli italiani \\u00e8 obbligatorioil passaporto con almeno sei mesi di\",\"ma sei arrivata appena in tempo\",\"sai non sei obbligata\",\"e sei bicchieri di whisky\",\"sei anni fuori dalla nazionale\",\"lei e sei anni piu vecchia di me e\",\"sei stato tu ad uccidere shisui\",\"credo che tu abbia saputo che non sei pi\\u00f9 ricercata per omicidio\",\"complimenti sei arrivato in tempo\",\"ma e  chiaro che sei arrabbiata\",\"mi hanno detto che sei il mio referente\",\"non posso fidarmi dell uomo che sei diventato non se vi dipende un altra vita\",\"ci sei dentro anche tu quindi inizia a pensare ad una soluzione ora\",\"ti sei scopato sua figlia\",\"ti sei ritirata da scuola e hai ottenuto un lavoro all assistenza clienti\",\"per formare un'unica serie di sei libri\",\"a te no perch\\u00e9 sei ancora ammalato ma diciamo simbolicamente\",\"senti michael salveremo nikita ma tu non potrai fare nulla se sei morto\",\"non sei mai stato povero vero havisham\",\"omd tu sei il padre di will\",\"ok sei appena passato da stupido\",\"da quando ho scoperto che sei un bugiardo\",\"tu sei lo zio jamal il mio favorito\",\"e quindi non ti sei sposata\",\"avevi appuntamento sei mesi fa\",\"cio\\u00e8 di quello che sei\",\"penso sia normale dato che sei quasi annegato una volta\",\"ti ricordo che tecnicamente sei ancora un insegnante\",\"quando sei messo male come me s\\u00ec\",\"la chiamata e durata sei minuti\",\"ora ti sei liberata abbastanza per riuscire ad esprimere ci\\u00f2 che senti\",\"parte di israele dei territori conquistati durante la guerra dei sei\",\"sei diventato un medico brian\",\"quando sei svanito con quella donna ero sicura che fossi morto\",\"ma sei venuta a casa nostradevi avere sicuramente incontrato i suoi bambini\",\"sai ci sono delle vipere che possono vivere per sei mesi senza mangiare\",\"e ora riesco a vedere che sei un uomo di gran carattere\",\"louis dove sei\",\"tu sei un brav uomo ichabod crane\",\"che sei ancora innamorato di lei dopo tutti questi anni\",\"tu sei emozionata\",\"nella maggior parte delle decisioni che ho preso sei stata dalla mia parte\",\"sei un uomo sincero jeremy\",\"e invece ti sei spogliato\",\"sei quasi al punto preferito di mamma\",\"non le dir\\u00f2 che sei stato tu\",\"aspettala non importa se sei cieco d amore o di risentimento\",\"tu vuoi che vada dal tizio con cui sei andato a letto\",\"sei un astronauta qualificato giusto\",\"una relazione di controllo completa sei mesi prima dell'adesione la\",\"dai sei paesi\",\"sei solo un po  in calo\",\"sei davvero fissato con questa storia della gerarchia joe\",\"siamo rimaste in sei e\",\"jeanfrancois tu sei mio amico\",\"se scopro che sei la responsabile allora parleremo di espulsione\",\"purtroppo ci sei anche tu\",\"ecco perch\\u00e9 te ne sei andato presto dall appuntamento hai il coprifuoco\",\"sapevi di essere merce avariata e non ti sei sognata di dirmelo\",\"il distretto di pueblo nuevo \\u00e8 uno dei sei distretti della provincia di ferreafe in per\\u00f9\",\"raggiungono anche l'altezza di sei metri in\",\"sei un ted migliore di ted\",\"oh spalding sei sempre stato il mio guardiano silenzioso\",\"ehi auto sei\",\"sei una pedina di walsingham\",\"vuoi che gli dica che sei venuta a letto con me\",\"e siccome sei stata una madre eccellente non vedo perche  dovrei prendere ordini da te\",\"non dirmi che non ci sei arrivato\",\"dirle come sei stata\",\"sei stato tu a farci questo\",\"okay ti ci sei nascosto anche tu amico\",\"dice che sei arrivato ad avere una migliore comprensione della tua posizione\",\"se in egitto facevi il pasticciere perch\\u00e8 sei venuto a lavorare in nero\",\"sei un artista indipendente\",\"non ti sei mai chiesto perch\\u00e8 ci stanno attaccando\",\"tu come sei arrivato\",\"sei un pallemosce o che altro\",\"\\u00e8 fermo con le mani in alto e viene soffocato da sei\",\"tu sei andata a letto con la mazza quel giorno\",\"per scrivere il libro abbiamo impiegato sei mesi\",\"e cos\\u00ec ti sei sorbita anche tu ieri sera su questa stupida disputa sul posto auto\",\"marshall va a prendere ronnie a miami alle sei di domattina d accordo\",\"se sei stata assunta perche  fai parte di una minoranza\",\"sei proprio una grande stronza\",\"un crimine per cui \\u00e8 stato condannato a sei mesi di reclusione\",\"sei qui da piu  di sessant anni devi esserne a conoscenza\",\"questa \\u00e8 la terza morte inspiegabile nel mio reparto negli ultimi sei mesi\",\"sei stato tu a dirmi che erano incontri occasionali\",\"alla vigilia del vertice di copenaghen cos\\u00ec come sei mesi\",\"mi manderete per sei mesi in un campo militare dove\",\"sei stato tu a farle cantare quella canzone dei carpenters vero\",\"ha chiuso a sei decimi dal\",\"madsen ti sei appena guadagnato un bel viaggio nella buca\",\"chi sei andato a prendere all aeroporto\",\"tu sei pronta quindi\",\"puoi dirmelo se sei arrabbiata con me\",\"non sei mai stato cosi  felice con nessun altra\",\"e  per questo che sei diventata una rivoluzionaria\",\"sei davvero stata l\\u00ec per tutto il tempo\",\"okay quindi sei stato sincero con me circa questa piccola riunione\",\"stato uno dei sei figli di jeronimo\",\"sei troppo importante per la gente\",\"ora cosa sei diventato\",\"il punto \\u00e8 che tu sei l unica persona abbastanza vicina per arrivarci\",\"sei giorni da tripoli\",\"te la sei fatta anche tu\",\"mi ricordi i miei eventi del sei aprile prossimo\",\"sei una bomba trish\",\"quando blackway ti infastidiva perche  non sei scappata via\",\"sei mesi giorni e ore\",\"capisco se sei arrabbiata\",\"concludere la battaglia in cinque o sei giorni vennero completamente accantonate\",\"sei venuto a salvare tutti\",\"da circa sei anni da quando lei e ted si trasferirono nel nostro edificio\",\"sei rimasto l\\u00ec e hai lasciato che diane portasse alicia al nostro piano\",\"per tutto questo tempo sei diventato molto pi\\u00f9 forte mio schiavo\",\"mi dici i miei impegni del sei maggio prossimo per piacere\",\"sono praticamente le sei del mattino\",\"dimmi che sei ancora a casa\",\"sei un poliziotto da quanto\",\"come sei scivolata\",\"con robocop ti sei costruito un nome alla security concepts\"],\"tsne_2d_0_ft_cls\":{\"__ndarray__\":\"UOqRvwaSJEAIgy5AQWGaQKwPq0CaqTPBq6avQA4N8r/G/+u/FNF/wGzQTsBHOghADBY4QKNwL8DF+ARAZIAIP0a3gMAafmm8+phTQNaH0MDFWh9A6tqEwBgQ78AW5Om/1BeBwJb21ECuYDrBmBd/vyY7Mr9ER0XABKCWv2dRg0DWHIW/hh5IQBUbkkDIa+c/SayjQDttqUB8Rfk/pzdzwDC5xEDRT4FA51y6wIv48sC9y04/7seBwNKbq8BaF/rAMH1ZwFml2sDO/ZbAUM+nQHjkWUDP0dPAZcIlPy1WncDp2AfAFM8vwQ+Yvb81/yrA5wOTQLPgbUBW+jLAnKLTv0UxfECEVafAezNpQOFzZkDL5Z9ArpgSQA+R7MB9+BPAPxSGv4Y48EAcXgK80BQdQFZBi8Ao829AdwYWQMwF+r7B/4dAIp4yQEYqm0DIdptAvWPcwDjkMED3rJo+8punwN+skcBsIJDA293RvyfWCsAm9Iq/p+nWQEZkRz9KPK6/iUGhPxeSrj346pnAbq2IwLS7YT+biyXAZE8HQEAiscDW5pbA5TSbP+nqP0AgNwdAeUUVwF5BhED2kizBqM3lP2BQtsD09ipA9qGWwKzWc8CnWxHAMrRtwMKV8D5garjAdwXvwMCbRsBLkNo/pUrTwDVDwMA1ZpPAPA7lwLxWRUAd4uFAt4B+QP8Z2cCfrZ9A2PXwP92DnMB9QIi/tY5swBzphr/QdoNA0enHQLCNBcE1YfnA1amCQPXWO8HBIKHAkOawwDnTML/ew5PAdRLZwHpM8z5wXBO/OZEJQCRu68B0yM2/GYQ4v5Yj9sAEdalASkihv+tUIUC/WwbAalxiQPXQusDcVQLBUaxzQKzwosB6MyRAy9XRwIBbuj9eEVJA7u3PwN2X1kAeo6W/Dp6lwESkZ795VZNAYmiLP57tgUCMrrLAbk/nwPg2iEDZ7ue/fKUswRIuBr87Xis/tPtbwP9YwD/aCjXBLA5EQAyD+j//kZVAkJxdP8xx/j9rIZpAOCF9vye3LMFcohJAMcqOQHNPcsDPyt/AvGUsQNvE1b4=\",\"dtype\":\"float32\",\"shape\":[200]},\"tsne_2d_0_ft_token\":{\"__ndarray__\":\"KIHRwEWc7MBvlOZBo8veQWICzUFC7zTAetjHQcYB0sCl0lc+bZUMwfmN9cDjtu3A+NCzQaYm5sD7I+FBoNXswCDtDcHWtJjAk6bEQUnzcMEbBr9BEo4CwfIIQcHmw9vANRkGwW6Z1UGJYSXAv92dwLCn4sAkDezAYZHOwIn6P8BLJsTAPpXgQbFn20E8+w/BlTzYQUiIWb/8Xw3B1ErWwFcg1EGskEbArYIVwdcXR8EwjIHA2/VPwDUwHcF9i0XB2mAKwXQeOsEv2QHBT0bNQdLQ5EFVoyo/J+2OwK0jG0C6ft/AUac7wJwEzMA2HDfBFJbaQT4t0EHCZA/B4E/LwFXOvsCa1lLBID3YQcYpvUEMTshBNcHEQd1nUsFJn7DATazVwFFR3UFkneI/KvvVQYZSDr8Lr9xB7QLoQdZLfMDhCcTAv224QZZ75kHKYeVBBTJAwSuT78DpMuA/3wkEwZthDMF7uATBsz8xwQZDw8CAdLDAMTrxQbhvK8GiUpjAxNQPwZ5gnMCElBRAKfMQwZotq8AxeOjA5tviQSG/GMFJawjBuqYzwe7vJsAeGMBBJYfywCUg0UE2/JfA9PE7wPJFKsGokNhBqkMLwWYYDMEXc+rAHgkbwd1OnsBB7MS+yxdEwQySocD4sz4/Bm9AwQ0u1T7X3QrBsGM6we+O3UFgdNFBOyxMwC8LJz9/881BsKhowPKWDcEOxiPBmAAPwT2J2sBZXc5BrfrtQWewS8GsKVrBXIO6QQtdHMC0IRfBPqREv+X2SsFSpyjArXk8weluH8EF8kjBJOAawZGXScGEo9jAmSpMwU6KPMEUQNVBvK3UwDZF4EEihLLAk3XBQbjHJcHXQFvB6nTbQZZP7L9G99tB4uM4wdoQ5UHVpNdB7PA8wfZm1kG6UM7AM4ohwf4KucAKknS/uu4Owae4wsBeVCHBzTJQwYLS0kG6d4I+tLCXwCxBusD+tLpBy7MCwTAJwEHkKDPAwgruwIBD3kEsS1O/wKy7QQYbGcGYcONB/G6ZwAOol8DY3MRBkjnGQWvHGsGYzDfBhNw2wMl65MA=\",\"dtype\":\"float32\",\"shape\":[200]},\"tsne_2d_0_token\":{\"__ndarray__\":\"+fyrwIOoBsGZBmhBRJVcQSI6X0HO1QJBNLVJQTtKiL/V56lALs76wMll8cBxyfnAQTBAQepFjsBQEvBAUdTywOTh9MAl+WU/k6ocQd+qTcEQtM+9fLMDwBCpqUA2elzBU/6YwAMTg0FAc1hAfkRQwd5RPsGZQ7DAntkQwdHV6UCbrjrBuIB3Qecad0HUkNnA1cZRQQvPz8DK9+TABMrNwFDaVkGFgGJACsMWv0DgxsDqpwTB2r3qQDEuxEAppNRAxcQxwZWc+UAocinAQYtyQfeTckGHqdRAZjv8wNUZDcBwTAPAzXjxP6bMyj5VGcTArx5eQdP/cEG+TD/BWSNNwXMbCMFtp/+/uVaCQRteHUHsYjxBx7tOQQ0KXb9FJT7Bzw9MwewrgkEDlec/nUlJQegyP759WE9BsUeAQQyiO8DaanK/To88QejD4UAG6lxBeCnOQKPK/8CW2kPAFLyWwNERPsCst9/ATzrSwHZ0uT9NFpfAgKpXQYviqMCAYNnAUlmFwIuMDsF4IkjAOVU4wNolub/dakHBe+lhQZDYJcCgC6vAHTmEwCD2BMAYq15BWKY2wdoNbEE5vsFAJAN8wGEyncAX9mVBL+AawPPeG8FiqKu/MkKfwJZ1/jxVzFLA75flQFe5RcGqr7lAbtP1wHA0q8DwfO/Af6DhQDSUdkEd0zpBbWbyPwzqvkAKgCtBd3ERwVpJQsCrpCvB7zokwVQ8MMF031pBtnBOQWXO+EDCD52/Rt9vP7rP4EC7kO7AJ5HAv81cFMECsRvBbejQQDOrTsEHswjBHajTwJlnDUHpNFzBS98WwYjwxUDtzEdBKnSpwMY0ZUHt1kHBRZkaQf7EqsBhUfE/n95zQWK2uEDbTW9BgwwFQcPof0F/42JBrVG6QDeiZ0Gy8DzBV02wwDSzN8D1AKTAHLOIwCgHfMCjD6hA4bTMwNSaWEF4mtFAyX8VwSmS/8CaNv5ACqpGwfeKTkHeD+9AIDILwfrIEEACv5zAII9sQQUB4kAJhGtBbm94QExXX8B/G05BdrgaQYszssBECQ5BAB4ivbZnQME=\",\"dtype\":\"float32\",\"shape\":[200]},\"tsne_2d_1_ft_cls\":{\"__ndarray__\":\"Dd0OQd2kvkDXNAPCsecBwv+s6cG2uRJBypfiwYpgyUDcPIM/EAZIQRj7A0Efb8VAlM3IwdEYVUE/XgHCm7WVQMHjFEEwFixBcFHqwagZZkGVmdTBCteJQZPsDkG2VdxAP86BQRSx+MGbdRRBfYWKQNsW00BTi1NBrMwSQbmeZEHdPZ9AMgwBwjty/cGg31dAdEr+wSzfIUH2jVpAVABKQGYD7sEyN2RBfQyHQTOFFkGuezFB3D35QH6iz0CMX+dAHacmQRQiyUBfDIRBanTzwTcAAsKFOPY+StkTQbuSLL8QixJB0KERQVZ/GkHNmDlBMkX/wReQ8sEpMSBB4KGtQEKw7EC1XC9BYMP5wWsI4MFrFtvBuULnwcimNUE0yaJAxAK9QCEC9sFPT45BPjnzwSnuZT9kvP7BSOwFwirhRUEjTM9AObzMweMbB8J+yAXCvFMUQb5btEAokpBBWghoQfgsaEFdj0NB/rE5QUrvt0AVheJALwUFwkwdXkHMnF5BP/zXQBYNJUGXQwy+WwlfQdYMJEGdptJACFYDwicMeUEK735BdSNjQYsVBEEZN9fB9qXmQK8G88Eg1ZNAtJ0AQSugTUFkMPnB03xlQcoxL0HxuA9BtHBqQVBtF0F5uLw/0GPdQJyau0BkfUVBFqUnQeGCkT80OCZB2XfuQGgJ/sGos+TBf4ZjQX7nvT4y1+3B0tgvQWk2f0GCgTNBoGYdQQXnxEBB1O/BA4ICwuD260DxcjlByNHWwQLjFEGkfFRB7YOLQDw+hkGs2p5A9HwQQQAxQkGndIlBnGQlQNfh0EAGydpA7yCFQUuA+0BNUvrB860OQaH0AMIsU4ZA1oPjwbU800DiRbVAliACwq+vVkCBgPzBeHkPQdAMBMKYRfnBP54VQdEa+ME4TOlApBwIQRP2H0FkUCtB0W3cQOUO8kDUHcBADNg5QZWs9cFtkII/4XKTQJ5hHEFEjfLB48QMQeRQ5cE4DRNBwr6yQG0m/8HSYitBKOHywQ2CLEDoVATCAhZkQYW5kkD+i+jB1Y3nwT4AZ0GOAPFASMsbQRy9xEA=\",\"dtype\":\"float32\",\"shape\":[200]},\"tsne_2d_1_ft_token\":{\"__ndarray__\":\"0pKqwLJ6MMF9Ky5BKnZNQbLWU0ER8DfBYJFDQelU6cBdzejAU3xWwOHjssBTlCrBFLkEQcK8cL8wpCVBSPNrwMZhkMBI1YLAc3BQQdcLnMBSegxBy34HQJ80n8CdKOTAzva7P+8uaUG14jvBYFsTwVjJA8EXdCm/M3SiwE5Uzj7o6xbBLaM0QRylSEHNJy7BSPdOQdG4ZsB54zHBz6+evuU8G0HqCrw+7UAAQB2HnMBovK/A9Q0KwWYkncCK09XA3We0wNL87cAkWnM/Dz8nQe6rOUF8uZS/e82fwIstF8DmPJvA+UM3wbn2l8BgfhjBuB5GQSj+QEFwzsjA1wgHwXV2/78hHwfB+Bc2Qb13XkEVVhJBnU0pQcwgU8DU7QXBqSALwa6TbUGqa4HA319CQUpI0cAW4z5B/GQjQYlWJMCWVD3BJiEGQRXsVEHWTFNBF0yPwIU9NMHRN3LAuZiBvirAxL5h5w7AIrMUwR7e+MByZNbA9AM4QUC8+r+l5yy/q2X0wKG7hMDlThnAdSRzv7iybMBaf+zAea0jQUQxWz+YBDM/LkjTvzUcWMB7XhRB+vXgwDzROEEm805A3j9lwDkjtL5jQyhBOZ0JvzCnfMAuq6HAPozpv80vosBqsZLA2IPmwOav7cBvEMrA/hFhwOLBDsD+lQ3B4FbTwJnzMkGw5QlBljizPsGsjL91YEtBtUicwG27gz+nQArBO062wORN/MA1+zJBFHE/QWrI0MBz4VLAcv8iQb0VPsFn6pm+uRmYwGozebu9DdfApjWVwDIBD8H5jKI+jYg7wezy68DmpunAClI7vpo9x8ABN1JB1D2qwI8cLkGVMwDBinFdQc9fqsASo+vA7UtYQXGavsByFitB4pGWwKxGFkHfpCpBva6LwGxAaEGw3ODA9onLwGmYmsD3pQzA9sXvwOPk7r8dk57AcglDwEQGOkGTWezAo/9OQCGGkcCbRERBOyCgwCvIL0Fs0zjBDXs7wYmhJEEfywzAub9DQaaiOMEge01BdcJ8v74HT0AaCC5B3lg5QW7W578IFtXAp03cwBEkCcE=\",\"dtype\":\"float32\",\"shape\":[200]},\"tsne_2d_1_token\":{\"__ndarray__\":\"xYsJPyPQR787ZZHBYnWJwQfagsFBBYxBBfmHwf5uwz5LUodB21LGwNs/m7+Rlra/hnqWwYDk37+s7JNBp7eLvx8LwMBAbpU7vUVqwVbA2z6lcxtAbHoAvxplbUH7ZCjAXjdDwHquhsEreUlB/k0IP7qJw78wPNS/CSFtQPAljUFUuaXACkaYwayei8FAA0a/X8CXwf17e8AqFb69Ax0MwLFuj8GWfUxBLkAuQJvsxj9csodAaxt5QaIGikFFwI1B/+6PwITIjUFU77DAk7F1wVSTksEW4oZBkH2EQDzU4r+2NW0/zlstQaTTxz/Y6j499dCbwchJb8EKSMM9DYmVwElMy78NdMK/nKmUwd1faMEnE4fBwK5bwa+hRMBGEJLAaZFIwA+egcEw6StBxvKIwQycjL4yVJ/BFxKbwQFyO0AaBEFA1NGTwXGTnEH2KqDBW5SSQYgkWD+3J1ZA/YaHwBJZScATlzHA8XdFQNyvLUDUHiNAn8uEwRhbJ8C9vlXAiIulP1Zpg0DuvqA/HAM8wKKAqb/hjJzAi/KowTPTqsAUfi7A7mY3wEleRj9hl5TBJf1bwIVwZcHloHpB/PTvvhbnYrwlUovBtgI2wJE2LUCLx5+/gdLMPzYU6j+plb6+++uIQTZtpMA0QIZBlgTBwMNCYcCwVy7AnTOBQbJKocH0T5TBT3QtQVovlEFnApDB5cWJQASHWcAF21FAqMtZwEZLIcDGcnrBdciQwX3ikUFWOiLAfkGcP8EwkEEZ5+S/EG1KwMIPTL9zZ0A/qASHQY/qXMAPCXjAKlm1v1sliEEgjCfA+VZLPjTxfEFhL33BRzqkPtlzlMGrlCPAtZVrwTNTh77EVy1B+EOXwcQtgkFf4o3BQ1OAQdYgkMG0LozBFgeRQZpUmcHhbFnAu6cxP37DIUCQTpfAqOKcP6k/DsCLC4tBigqFP1RyeMFICoNBe4w6Psubg0AJL4dBlZEuPsBxW8FH0IZBjJIHwOtrNEF+apnALmSHwaL2f0HxMpLB/FJTQc61tr906VrBd2dswWlzHMBlnJFB27/qP2YTacA=\",\"dtype\":\"float32\",\"shape\":[200]},\"type\":[\"class_1\",\"class_1\",\"class_0\",\"class_0\",\"class_0\",\"class_1\",\"class_0\",\"class_1\",\"class_1\",\"class_1\",\"class_1\",\"class_1\",\"class_0\",\"class_1\",\"class_0\",\"class_1\",\"class_1\",\"class_1\",\"class_0\",\"class_1\",\"class_1\",\"class_1\",\"class_1\",\"class_1\",\"class_1\",\"class_0\",\"class_1\",\"class_1\",\"class_1\",\"class_1\",\"class_1\",\"class_1\",\"class_1\",\"class_0\",\"class_0\",\"class_1\",\"class_0\",\"class_1\",\"class_1\",\"class_1\",\"class_0\",\"class_1\",\"class_1\",\"class_1\",\"class_1\",\"class_1\",\"class_1\",\"class_1\",\"class_1\",\"class_1\",\"class_1\",\"class_0\",\"class_0\",\"class_1\",\"class_1\",\"class_0\",\"class_1\",\"class_1\",\"class_1\",\"class_1\",\"class_0\",\"class_0\",\"class_1\",\"class_1\",\"class_1\",\"class_1\",\"class_0\",\"class_0\",\"class_0\",\"class_0\",\"class_1\",\"class_1\",\"class_1\",\"class_0\",\"class_1\",\"class_0\",\"class_1\",\"class_0\",\"class_0\",\"class_1\",\"class_1\",\"class_0\",\"class_0\",\"class_0\",\"class_1\",\"class_1\",\"class_1\",\"class_1\",\"class_1\",\"class_1\",\"class_1\",\"class_1\",\"class_1\",\"class_0\",\"class_1\",\"class_1\",\"class_1\",\"class_1\",\"class_1\",\"class_1\",\"class_1\",\"class_1\",\"class_0\",\"class_1\",\"class_1\",\"class_1\",\"class_1\",\"class_0\",\"class_1\",\"class_0\",\"class_1\",\"class_1\",\"class_1\",\"class_0\",\"class_1\",\"class_1\",\"class_1\",\"class_1\",\"class_1\",\"class_1\",\"class_1\",\"class_1\",\"class_1\",\"class_1\",\"class_1\",\"class_1\",\"class_1\",\"class_0\",\"class_0\",\"class_1\",\"class_1\",\"class_0\",\"class_1\",\"class_1\",\"class_1\",\"class_1\",\"class_1\",\"class_0\",\"class_0\",\"class_1\",\"class_1\",\"class_0\",\"class_1\",\"class_1\",\"class_1\",\"class_1\",\"class_1\",\"class_1\",\"class_1\",\"class_1\",\"class_1\",\"class_1\",\"class_1\",\"class_1\",\"class_1\",\"class_0\",\"class_1\",\"class_0\",\"class_1\",\"class_0\",\"class_1\",\"class_1\",\"class_0\",\"class_1\",\"class_0\",\"class_1\",\"class_0\",\"class_0\",\"class_1\",\"class_0\",\"class_1\",\"class_1\",\"class_1\",\"class_1\",\"class_1\",\"class_1\",\"class_1\",\"class_1\",\"class_0\",\"class_1\",\"class_1\",\"class_1\",\"class_0\",\"class_1\",\"class_0\",\"class_1\",\"class_1\",\"class_0\",\"class_1\",\"class_0\",\"class_1\",\"class_0\",\"class_1\",\"class_1\",\"class_0\",\"class_0\",\"class_1\",\"class_1\",\"class_1\",\"class_1\"],\"umap_2d_0_ft_cls\":{\"__ndarray__\":\"hVZaQQPZaUF/jx+/PrYfwKEjwr8FS4FBwZusv0PAVUEnUU9BfhZaQa5vZkH2d2hBM8imvwSOV0GdVhG/3nNaQSihY0FORU5BmtIEwMzTTUFgJpu/06tKQSL+cUGdXFZBNS9NQY2Zy7/QL4JBWCVWQVCbWUGRgVRBAuBbQTi3bEEMqFVBD6mDv74lC8BNAmRBvOcMwCYCR0G93GVBKANLQcsvd79PjW1B9DFPQTMWckHAC1FBHgNrQatMZEGZ2XhBmspgQTEEckEKJU5BzwG+v4YLmr9c+kBBp59MQR6kPUHDBF1B+8aAQYf2V0FWMFtB5bkVwGlHB8D3u2BB4aJVQWv3ZEFyrGZBBKG1v0Zx7r9wM5i/MKu3v5VBZEFfCFNB9WRaQW2mwL//8EVB5Fzzv1zuRUGdScu/tO4XvwnjS0F12mhBuUSdvwCHJsDR5SfA0qRyQRI9Z0HQjERBWlxQQb4EU0G7Wl5BD+RVQSh4VkGyIlZB/hmQvxkGTEHZBlxBwEtoQX7YU0ErfkBBUqhSQU30UEGN2ldBdmT5vql+UEFgfk9BVo5NQTBmYUHsI7y/aC9bQV6o6r+4/WZB4XdfQZQsUkFYGYe/gBxSQY5XY0H1W2FBySZUQeodUEHdyUdBtXZ2QSSDVEEe0kZBtfJpQYQAQkG5W2RBbbF2QaupYb8IiN6//GRsQfpnQ0GNeuq/DxVQQRSQTkEWCFRBDERjQTNBW0FLssu/9guzv9l+eEF7p1ZBzKanv2urgUGCqVFB4XpXQSOPSUFOAFpBESF0QZK2SkEEwkhBaJlkQZsUdUFW51pB/UZKQZ3tdUEWXu6/7tBbQf55Xr+VW1hBwWv/v/eBaUEpCHNBKuqvv3tATkGGxmO//OhwQR6zLr+hF5C/8DhvQbNawL85DlZBZFxqQTmSVEEji0hB0BNqQf2DVkFn+WJBJ+lVQcOk/79eilJBjzdnQRuMU0FLthLAz21oQVthyb+ZNYFBXhNoQR5PRb9tpUZBZKQLwBPrZEEeGh7AAMZXQZiRZ0HH486/a6Dav8aoVEExaXdBURFRQYN7WkE=\",\"dtype\":\"float32\",\"shape\":[200]},\"umap_2d_0_ft_token\":{\"__ndarray__\":\"q7RRQYzmPkFChw7BDvP3wAZg9sCavYNBiwT1wNXATUFJhmxB2+RFQQjuSEF/M0RBhuThwE0dO0Eg8QvBs4JIQUBOS0EDoltBgH7gwOnaTkH2b+bAKy0yQaHwYEF2EVFBCIozQc9dBsGt44NBNhtNQZYoT0FAZzpBCdFTQSBzYUGKqk5BUiwMwQ+l/cBIIERBlcb2wCSNakGtQ0FB7KQ7QeobA8Fj319Byx8yQVLzXkHHRFtBwbJRQQCaXUHT0GxBRHNLQQwpaUGMTjRBzsruwAH5BsFSwGhBc6hhQdrYbUFbnVRB8/mCQd17VUElhGJBhJv3wKv38cCYeUlBjxpSQaXMQEEjLG9BxFsCwXYK3sBKMPDAXv7jwN/cW0E2wlFBhqtPQR22B8EG51NBOHn8wJnHakEq5QHBgcYPwcb/WkH9Sz1BTdfgwNjq9sBfdvfAoeVeQSDOP0HzEGNB9W07QXu1OUEYCUlBm+FiQY7eTkFfjFJBaVAJwUn3QUHbGllBVP9EQcJIXEHVhmtBG2c+QRmDWkHizE9B0E0NwamWOEHJBTVB49xBQfmrTEENmuTAOltTQV1S+cDGs1VBglZKQfw+RkGYKwXB1Ls6QSVhR0FNwlBB3Hs/QanvW0GK8WFBdYdrQWLMT0HqcWtB+A1ZQZjXaEF1bVNB+UdpQVqiCcF20u/A2fJfQTXNZkFUBfXAJwlgQYTGNEHPj15B5x9KQXDES0H2/fHAQBMGwTyBbUGZyVtBK+PkwBGNg0Fe7T9BxA5mQbT9UUHyr1tByIlfQQhHW0Gts05BzOpCQQAXa0Gxg09Boa9QQXy5ZkHo/vvAnJxQQRhZCMFihVVBcBrgwKhzZkHiXGpB0XsHwf1HYUEy6gbBnoJcQV71DcH9eATBC8xcQVx9B8E2d1ZB3C1bQa6KVkGzTWJBIzJIQTuAPUGb3mJBlvVaQU6N8sDz/2xBFyJVQd44VkFulufAnRhPQbOp5sBA/YNBtHQ/QRPpCcFwPGRBNAzrwIsXREFf4PXAiqtUQbWEU0EfQOTA3R7qwNK8P0GzDWhBoAJdQR/KUEE=\",\"dtype\":\"float32\",\"shape\":[200]},\"umap_2d_0_token\":{\"__ndarray__\":\"1CSSv8qsLT7MlqdBa3qsQdvqrUE8dsTAXyqsQfeMBsCR86LAFap3va4Hkj7VBvE9Q3qsQTF4Yr+O8sLAgdm5vZXXU75eXx7A0LGiQYWUO75CxR7AJbLkvynWoMAY1Co/dCk9v+PspEHuDJrA+djevg5Jyj5P3CS/9l3rPg9ExcCz0qo/sOClQYsvrUHX4Ay/FFGuQcidK7/W+QG/sl8Lvj48qEH/Mp7Ar7cYwKmHoL/1pQQ+puWgwAECn8C0A7XA8vaqP/slxcBbOZe/j+CuQQGTpkHM7aTAgpyqPuCMzr8Gava/GpqWwPmyMMAPeFm/glSuQcyLrkEk+RC/8I+3P628Vz5V29y/O/KnQUCqo0EMDKtBFienQS1mor9x05o/m+djP7PKpUFnJJbAagmqQViGEMBPUatB9YSkQXPK4r+G0gvApKCtQb0Xt8CykK1BVRjDwLrufb7y886/aBZ6v7y3oL8zrqe+ZbOvPVsMLsB3EZS/R3KtQZyNEb9jSLq+EBfdv41Pnj4/ns6/h/Khv0C7+7+y+7E/uYqrQa/hpL/goRS/kcZZv7u9AsCiMKdB5O6QP7t+rEEPk6PAMr7Cv8IDkb+5Q6hBa82kv8ZAvj6+yea/xAu6v/Q5JMDb08K/0CW8wLjroz+qJ6DAGP9YvYxlgb6BWHK+nmKowIvdpkFCdq1BF+mVwOfDwMAtVqxB4IKHPgRqm7/fGiU/S3d8Pzp6QD8gOq5BNIOrQZlBwsA+M6u/UKYswLTNvsBO7wu8szSrv3s5lD47fDo+kXaqwH+FdT83MAG/GV6Hvh9YvcBXsSo/gHOAPtMSqcCw0KxBdMafv25SqUGpzFQ/YQOjQUZsgb+lhZfAr1+nQdetp8CYJapBP/i+wO67p0HJQapBnd7AwC1dqEEsvpE/t0SHvz/+079LuA+/zxq+vzXUX7/qHp7AIamBv+HwrUEwtqjAYSS+PU6qVj5N3LjAUpfmvYdPpkEbJ7XASOfCvDU5mcC8a1C/28+oQUfbpMAXDqxBWX6gwABwor/TuaZBR6miQb7I+L6yz7/AhlsqwAOFjz8=\",\"dtype\":\"float32\",\"shape\":[200]},\"umap_2d_1_ft_cls\":{\"__ndarray__\":\"womRQGM2gUDy89dAvcvEQOWhuUA1HbBAVumuQJIuQEAY9aZAq1nYQNVZlEAyOYFA7YKVQDZcz0Bty9JAgSZwQH8XrkDSNpJAckuuQO6z4UCB15pAxXb6QPK2vEBW3lpAdYLuQC3AvkCPlK1A+eMjQBmgRkAN8NNA9qSVQHuZ20A4JiZAc3/RQKxLxUDrClRAQHvJQM5LpkCZTVtA7jeyQEDsuUDVMdpARLLwQFQGtUCDrpRAb4ymQCQpwEDBTdhAh7mjQJtD0UC/x/VAfSO6QHc32EAG6a5AkiuOQCdPtkDjFptA2mKyQHuol0A8MqZAIy7HQKGdu0AzCZxAoPgoQO+ShkAr2rJA1GvIQLw5p0DzhqhAEbGiQAOGuEDYLzdAq3M1QKmFxkD0YNBAK9bOQA1KuUCf6dBAe+DVQPnpm0CmHIBAEQKaQLPcxkCKaMtAk6K3QC5ueUA1AspAbEbqQBjD6EBb19JAUOmgQHI1LEAGtEhAg/nJQDMkuEA/tsJAnPeJQPK1iUCVxrJAxo/eQDjMjUBjTExAh8vTQMa68UDj1PNALCW0QDs2jkAhp59AYGhSQI+ht0DdUM5AW/OPQPRuwkDhvsBAJhPoQDjKpkC0B5xAkcLjQB6rkkDmHb1AqC/SQPbIPkAAR5pAYqG3QNMStUA9uKlAeZzSQGhQxUDfHKxAp4HXQAL4rEB0+7ZAuGOIQBzZ8UARJJ1AfyGkQBrSOEB6uLVAwCjQQMe01kCDyLRA5tOkQLECrED2wdtAUFO6QJQo0UAjD7FAGk64QLijlEC3etNAyHBUQIXMzkD02lhA7n/OQBNSz0DqOMhAVMaPQLHV0EBLXFZAh2GpQDlzx0DTp8hApj3RQPcUt0BfVMVAvom9QMD/z0B61MNABGm6QIgexkByOGBAZdfAQIwRk0A0n6dAWEGNQJil00CXlsBAiSK3QCZSu0BowKZA+dvOQH8Kj0D+KLhA7k6kQFzyqkAUK7BAwQJ4QFo2zEDxKahAUo+/QB1+T0CbOMlAY9PDQIpazUA/IalAlLauQO3M4kCPdcxAvHqSQFFuP0A=\",\"dtype\":\"float32\",\"shape\":[200]},\"umap_2d_1_ft_token\":{\"__ndarray__\":\"roUjQQyiG0E/LVi/fk7Qv51K/L4nKj5BmVlIvypUEEFeqSlBosA8QZ5JLUGSJhxBwN2EPRRJNEECeAO/PoUUQU9cOEELECJBn5h0v3ZKKUEzyiW+/eY9QRxXUEEKHBZBgJw/QVkJwL+UVT9B2bwLQSJ7CkEeWTlB3WQrQcm3Q0HdZQlBRlJYv4Nx1b87/hNBxX3Uv5Z1NEEwXhVBIIUyQSBMFL8WlkVBVa1BQeSnT0E83idBWrA6QQ0NPEHcL01BergoQf2aRUFlUj1B34K0v4ddWL9mVTNB3WolQS6KMUE4YC9BYy9BQdpdJ0GysB5BSC3Tv3V/n784ryVBcMYNQUgQJEHRk0ZBk9Jvv4wOOb8ju3C+bSDhvthtVUHhmQhB7NsKQXetrL9rUjZBZP2xv1CELUHFgKC/SugmvyeaIEGaECFBTpxnvLhs8b9GDPu/EeJPQZZLG0EcBjJBBww8QdslQUFJF0BBcQwfQfr2DkGsChVB+KWDv642NUFZpTlBKHUeQaNXKEHRuDBB0pg9QTBtJkEUExNBN1oVvzgRQkGYNT1BvEw0QX/BHkH6nAK+dpwVQYbZdr9GIEhBlW8dQSC4M0GBgfq+5y5AQVN1MEGGBChB6MY+QTZ8JkFu3TRBPURJQZU9EUGziSpBz55QQfPsMEF8PxxBzmxJQbSXZr8Giyq/CWdFQdhpNUHBMGS/2BooQVuIP0HmLSFBuacpQQrVC0FvJDG/3quDv7avSkGCxVJBl5EEv43sP0FTtTxBX5w4QRs9LkFgOzZBI5xPQexEIEGdATRBN1MRQZebRUErlhFBdQEwQSNcTUG1Pru/RzgmQZ+VN7+pOA9BBbBcv6nHP0GcmUZB6C2hv39GOEElmyy/vCtOQVJg4L5Q61q/VMFSQZixrL+47hJBhctAQT7CJkE87y1BdxsgQWTSL0H0UTxBw+lUQQMckL9riypB0OxHQbMyKEHpPKG/qFMyQVIh5b4/BEBBuJ0ZQRrsG79tAC9B8MOhv6mhEkFWduu/d/cxQXIIRkFDqDi/l7kjv9UGPUHa80tBDnwtQXrSDUE=\",\"dtype\":\"float32\",\"shape\":[200]},\"umap_2d_1_token\":{\"__ndarray__\":\"5GKoP+llEkCfStRAcnbPQATmwEA5Ix3BSbHHQOhVBkC9FRvBE2d+QKbb/j9R4Ow/OiGsQBsgK0BacBvB3NwAQCVjd0BeRT1ABoLBQLIGiD8NfV9ASp9XQLzzDcGTuFI/THlVQIsE30B8GwXBLKefPzlJrT+z4RRAMoN4QKCpGMEGgD8/fj/iQDob3kC+PuM/Lj7hQBj0PUCZlAhA/q01QOxJwUBlvQnBSVJgQEBNyj/TXHpAWkEdwbRcHcGLnxfBI0lfP52GGcFdOW9A+FDDQKYf2EAMXhvBsO2FQCkZPUA4jD9Ald/9wMtIREArJbs/VnnaQHGZxkCEL5E/78AMP45yCUBTvkpA5wzaQPrmvkDSYM9Ay868QMf5GUDnKlc/ArBOP8Bv0kDfRf/AMRbLQOwXNECcA+BAAfLaQDU2HEAUPGRAmvitQAQ+GsFk+d5AiPQTwdQCV0B/7RRAURVuQJ8FU0APZBdAOktpQPi5MkBGabs/1py7QPUMTEAJfSNA2xbKPxX3gUAnzyBAWMVPQDodO0A8iCM/g8TlQPbOZkDX+0FAhp9TQD7dS0C0btBACwSAP+09vkBozxLBFInkPyM5uT+iMclAX7dDQDJpYUDoU0VA4+2qPzRIV0DFOfU/0JIUwV/MMj870BjBmu9+QMnYXEDXIAxA+T4XwVis3kDth7BAK3f+wPUeE8Fwta5AjxaCQNYTUUCy+WJAJ+OYP5KTpj/EuMBASkO0QAI8G8Fa1x1Aots+QLWSGMG9kwxAM04qQPmaHkCgNihA+iEYwW1CcD9IbC9AJWryP86sHMFB+Wk/M7ApQInNFMHddrdAKOC/P4yU2UA/koc/4MHAQF9i6D+9TP3A6DvaQOv1E8FCN9dAjAATwV7p3UD0A9FA7+0SwS200EBR/os/FunjP6Q7LUBIbFxAN6/FP3+yL0CJnx3BWl7ZP1wGvkAj6xjBHtY/QDwIgkBIRhvBUV+BP3mlvUAxWRzBV6TrP/5NAcF+jWRAXq/SQER+GsEYr+BAg0IMwWG8F0BJbbxAN4/DQDZTTECZ9h3BoltOQKqDUz8=\",\"dtype\":\"float32\",\"shape\":[200]}},\"selected\":{\"id\":\"1204\",\"type\":\"Selection\"},\"selection_policy\":{\"id\":\"1205\",\"type\":\"UnionRenderers\"}},\"id\":\"1062\",\"type\":\"ColumnDataSource\"},{\"attributes\":{},\"id\":\"1084\",\"type\":\"BasicTickFormatter\"},{\"attributes\":{\"source\":{\"id\":\"1077\",\"type\":\"ColumnDataSource\"}},\"id\":\"1082\",\"type\":\"CDSView\"},{\"attributes\":{\"label\":{\"field\":\"label\"},\"renderers\":[{\"id\":\"1081\",\"type\":\"GlyphRenderer\"}]},\"id\":\"1090\",\"type\":\"LegendItem\"},{\"attributes\":{},\"id\":\"1086\",\"type\":\"BasicTickFormatter\"},{\"attributes\":{\"axis_label\":\"tsne_2d_1_ft_token\",\"formatter\":{\"id\":\"1084\",\"type\":\"BasicTickFormatter\"},\"ticker\":{\"id\":\"1046\",\"type\":\"BasicTicker\"}},\"id\":\"1045\",\"type\":\"LinearAxis\"},{\"attributes\":{\"bottom_units\":\"screen\",\"fill_alpha\":{\"value\":0.5},\"fill_color\":{\"value\":\"lightgrey\"},\"left_units\":\"screen\",\"level\":\"overlay\",\"line_alpha\":{\"value\":1.0},\"line_color\":{\"value\":\"black\"},\"line_dash\":[4,4],\"line_width\":{\"value\":2},\"render_mode\":\"css\",\"right_units\":\"screen\",\"top_units\":\"screen\"},\"id\":\"1088\",\"type\":\"BoxAnnotation\"},{\"attributes\":{},\"id\":\"1041\",\"type\":\"BasicTicker\"},{\"attributes\":{},\"id\":\"1128\",\"type\":\"LinearScale\"},{\"attributes\":{},\"id\":\"1214\",\"type\":\"UnionRenderers\"},{\"attributes\":{\"callback\":null},\"id\":\"1034\",\"type\":\"DataRange1d\"},{\"attributes\":{\"axis_label\":\"tsne_2d_0_ft_token\",\"formatter\":{\"id\":\"1176\",\"type\":\"BasicTickFormatter\"},\"ticker\":{\"id\":\"1131\",\"type\":\"BasicTicker\"}},\"id\":\"1130\",\"type\":\"LinearAxis\"},{\"attributes\":{},\"id\":\"1213\",\"type\":\"Selection\"},{\"attributes\":{\"callback\":null,\"tooltips\":[[\"columan_name\",\"@{sentence}\"]]},\"id\":\"1147\",\"type\":\"HoverTool\"},{\"attributes\":{\"below\":[{\"id\":\"1130\",\"type\":\"LinearAxis\"}],\"center\":[{\"id\":\"1134\",\"type\":\"Grid\"},{\"id\":\"1139\",\"type\":\"Grid\"},{\"id\":\"1179\",\"type\":\"Legend\"}],\"left\":[{\"id\":\"1135\",\"type\":\"LinearAxis\"}],\"plot_height\":400,\"renderers\":[{\"id\":\"1171\",\"type\":\"GlyphRenderer\"}],\"title\":{\"id\":\"1120\",\"type\":\"Title\"},\"toolbar\":{\"id\":\"1143\",\"type\":\"Toolbar\"},\"x_range\":{\"id\":\"1122\",\"type\":\"DataRange1d\"},\"x_scale\":{\"id\":\"1126\",\"type\":\"LinearScale\"},\"y_range\":{\"id\":\"1124\",\"type\":\"DataRange1d\"},\"y_scale\":{\"id\":\"1128\",\"type\":\"LinearScale\"}},\"id\":\"1119\",\"subtype\":\"Figure\",\"type\":\"Plot\"},{\"attributes\":{},\"id\":\"1046\",\"type\":\"BasicTicker\"},{\"attributes\":{},\"id\":\"1069\",\"type\":\"BasicTickFormatter\"},{\"attributes\":{\"callback\":null,\"tooltips\":[[\"columan_name\",\"@{sentence}\"]]},\"id\":\"1059\",\"type\":\"HoverTool\"},{\"attributes\":{},\"id\":\"1210\",\"type\":\"Selection\"},{\"attributes\":{},\"id\":\"1211\",\"type\":\"UnionRenderers\"},{\"attributes\":{\"text\":\"TSNE 2d - proj - Base\"},\"id\":\"1092\",\"type\":\"Title\"},{\"attributes\":{\"factors\":[\"class_0\",\"class_1\"],\"palette\":[\"#7fc97f\",\"#f0027f\"]},\"id\":\"1061\",\"type\":\"CategoricalColorMapper\"},{\"attributes\":{},\"id\":\"1207\",\"type\":\"Selection\"},{\"attributes\":{},\"id\":\"1038\",\"type\":\"LinearScale\"},{\"attributes\":{\"ticker\":{\"id\":\"1103\",\"type\":\"BasicTicker\"}},\"id\":\"1106\",\"type\":\"Grid\"},{\"attributes\":{},\"id\":\"1208\",\"type\":\"UnionRenderers\"},{\"attributes\":{\"ticker\":{\"id\":\"1041\",\"type\":\"BasicTicker\"}},\"id\":\"1044\",\"type\":\"Grid\"},{\"attributes\":{\"bottom_units\":\"screen\",\"fill_alpha\":{\"value\":0.5},\"fill_color\":{\"value\":\"lightgrey\"},\"left_units\":\"screen\",\"level\":\"overlay\",\"line_alpha\":{\"value\":1.0},\"line_color\":{\"value\":\"black\"},\"line_dash\":[4,4],\"line_width\":{\"value\":2},\"render_mode\":\"css\",\"right_units\":\"screen\",\"top_units\":\"screen\"},\"id\":\"1073\",\"type\":\"BoxAnnotation\"},{\"attributes\":{\"items\":[{\"id\":\"1075\",\"type\":\"LegendItem\"}]},\"id\":\"1074\",\"type\":\"Legend\"},{\"attributes\":{\"callback\":null},\"id\":\"1094\",\"type\":\"DataRange1d\"},{\"attributes\":{},\"id\":\"1071\",\"type\":\"BasicTickFormatter\"},{\"attributes\":{\"callback\":null},\"id\":\"1096\",\"type\":\"DataRange1d\"},{\"attributes\":{\"factors\":[\"class_0\",\"class_1\"],\"palette\":[\"#7fc97f\",\"#f0027f\"]},\"id\":\"1076\",\"type\":\"CategoricalColorMapper\"},{\"attributes\":{},\"id\":\"1051\",\"type\":\"SaveTool\"},{\"attributes\":{},\"id\":\"1098\",\"type\":\"LinearScale\"},{\"attributes\":{\"callback\":null,\"data\":{\"index\":[0,1,2,3,4,5,6,7,8,9,10,11,12,13,14,15,16,17,18,19,20,21,22,23,24,25,26,27,28,29,30,31,32,33,34,35,36,37,38,39,40,41,42,43,44,45,46,47,48,49,50,51,52,53,54,55,56,57,58,59,60,61,62,63,64,65,66,67,68,69,70,71,72,73,74,75,76,77,78,79,80,81,82,83,84,85,86,87,88,89,90,91,92,93,94,95,96,97,98,99,100,101,102,103,104,105,106,107,108,109,110,111,112,113,114,115,116,117,118,119,120,121,122,123,124,125,126,127,128,129,130,131,132,133,134,135,136,137,138,139,140,141,142,143,144,145,146,147,148,149,150,151,152,153,154,155,156,157,158,159,160,161,162,163,164,165,166,167,168,169,170,171,172,173,174,175,176,177,178,179,180,181,182,183,184,185,186,187,188,189,190,191,192,193,194,195,196,197,198,199],\"label\":[1,1,0,0,0,1,0,1,1,1,1,1,0,1,0,1,1,1,0,1,1,1,1,1,1,0,1,1,1,1,1,1,1,0,0,1,0,1,1,1,0,1,1,1,1,1,1,1,1,1,1,0,0,1,1,0,1,1,1,1,0,0,1,1,1,1,0,0,0,0,1,1,1,0,1,0,1,0,0,1,1,0,0,0,1,1,1,1,1,1,1,1,1,0,1,1,1,1,1,1,1,1,0,1,1,1,1,0,1,0,1,1,1,0,1,1,1,1,1,1,1,1,1,1,1,1,1,0,0,1,1,0,1,1,1,1,1,0,0,1,1,0,1,1,1,1,1,1,1,1,1,1,1,1,1,0,1,0,1,0,1,1,0,1,0,1,0,0,1,0,1,1,1,1,1,1,1,1,0,1,1,1,0,1,0,1,1,0,1,0,1,0,1,1,0,0,1,1,1,1],\"sentence\":[\"tu sei andata con l altra ragazza a mangiare\",\"amico mio non sei mai salito piu in alto\",\"momento adatto per colpire ma impiegarono sei mesi\",\"ha insegnato in quattro scuole diverse in sei anni\",\"che \\u00e8 andato in sei mercatini per trovarlo\",\"sei una brava ragazza marta\",\"ha avuto almeno sei donne nel corso della sua vita ed anche due figlie\",\"ti sei veramente distinta questa sera\",\"sei troppo grande per giocare col trenino\",\"posso ricordarti che sei stata tu a darmi la tua meta  della clinica\",\"ecco perch\\u00e9 non sei tornato per il resto delle piante\",\"sai perche  non sei riuscita ad ucciderlo margot\",\"lunghezza del naso sei centimetri\",\"cio\\u00e8 so che sei morto ma spero che vada tutto bene\",\"sei mesi fa regina vasquez\",\"l altra sera quando sei uscito\",\"e io non ho mai detto che sei stata tu\",\"tu sei il portale la via\",\"tutti i giorni alle sei c era qualcosa in forno ad aspettarlo\",\"te la sei cavata alla grande li  sopra\",\"per quelli sei eccitato\",\"sicuro che sei pi\\u00f9 bello senza giacca\",\"sei stato soldato\",\"non ti sei mai occupata di biochimica\",\"e  che sei totalmente follemente completamente innamorato di zia robin\",\"nelfu invece commercializzata la ed il motore a sei cilindri fu abbandonato\",\"sei una donna di quasi settant anni\",\"ti sei comportata malissimo con me\",\"e da allora sono certo che ti sei chiesto quando avrei ufficializzato questo punto\",\"ma grazie mille ora che sei scappato possiamo vedere cosa ci nascondi\",\"ecco tu sei qui mccombs e questo sono io\",\"sei solo nella mia testa joe\",\"sono contento che non ti sei abbandonata eve\",\"l'ergastolo con sei mesi di isolamento diurno il secondo trent'anni di reclusione\",\"io credo che v'inganniate poich\\u00e9 nella taverna d' el moro che da sei anni tengo in\",\"quindi se questi fine settimana sono terribili perch\\u00e9 sei venuto\",\"siete spoasati da sei anni\",\"spera solo che flash non arrivi altrimenti sei finito\",\"la settimana scorsa non sei venuto e sono rimasto giorni senza vederti cazzo\",\"dir\\u00f2 che non sono riuscito a trovarti che sei gi\\u00e0 scappato\",\"allora a jud per sei dollari e un quarto\",\"sei solo un perdente\",\"capisco che sei alterato\",\"non sei stato capace nemmeno di dirmelo in faccia\",\"ma tu sei quello che perde di pi\\u00f9\",\"sei tornato per lavorare spero\",\"sei stata tu a volere la casa\",\"sei un disgustoso pezzo di merda\",\"perch\\u00e9 te ne sei andata cos\\u00ec\",\"sei un brav uomo joe\",\"ti ho sempre accettato per quella che sei con tutti i tuoi difetti\",\"viaggio dell anima attraverso i sei pianeti vangelo di maria\",\"nel mese di aprile il governo ucraino notific\\u00f2 alla russia con un preavviso di sei mesi\",\"sei davvero disturbato amico\",\"dave tu sei appena piu  interno di lui\",\"a craig sei una fi e lei riversera tutta la sua rabbia su di lui\",\"tu sei qui con me eh\",\"sei una candidata notevole senza dubbio\",\"tu sei matto cazzo\",\"quindi ci sei andata a letto perch\\u00e9 i miei calzini erano per terra\",\"sono sei anni che lo sopporto e non ne\",\"questo conflitto \\u00e8 in atto da decenni da molto prima della guerra dei sei giorni delil\",\"te lo sei fatto mentre aiutavi tuo padre a togliersi la cavigliera\",\"ehi ti sei fatto la barba\",\"ti prego dimmi che non sei diventata sua amica\",\"per me sei un verme che vende fotografie sporche\",\"prima dei sei mesi verr\\u00e0 restituita al cliente la\",\"puoi anche essere suo di sera ma dalla alle sei il mio ragazzo\",\"nelle sei stagioni seguenti mettendo a segno la\",\"puoi ricordarmi gli impegni del sei maggio\",\"e  tutto molto interessante james sei stato molto bravo\",\"e ti sei fermata alla seconda canzone\",\"non ti presenti a lavoro e ti sei perso il compleanno di sonny jim\",\"vita a sei zampe edizione giulio\",\"sei arrivato all oceano\",\"\\u00e8 avram ha gi\\u00e0 chiamato altre sei volte\",\"chi sei esattamente signor shalev\",\"non le parlo da sei mesi\",\"per gli italiani \\u00e8 obbligatorioil passaporto con almeno sei mesi di\",\"ma sei arrivata appena in tempo\",\"sai non sei obbligata\",\"e sei bicchieri di whisky\",\"sei anni fuori dalla nazionale\",\"lei e sei anni piu vecchia di me e\",\"sei stato tu ad uccidere shisui\",\"credo che tu abbia saputo che non sei pi\\u00f9 ricercata per omicidio\",\"complimenti sei arrivato in tempo\",\"ma e  chiaro che sei arrabbiata\",\"mi hanno detto che sei il mio referente\",\"non posso fidarmi dell uomo che sei diventato non se vi dipende un altra vita\",\"ci sei dentro anche tu quindi inizia a pensare ad una soluzione ora\",\"ti sei scopato sua figlia\",\"ti sei ritirata da scuola e hai ottenuto un lavoro all assistenza clienti\",\"per formare un'unica serie di sei libri\",\"a te no perch\\u00e9 sei ancora ammalato ma diciamo simbolicamente\",\"senti michael salveremo nikita ma tu non potrai fare nulla se sei morto\",\"non sei mai stato povero vero havisham\",\"omd tu sei il padre di will\",\"ok sei appena passato da stupido\",\"da quando ho scoperto che sei un bugiardo\",\"tu sei lo zio jamal il mio favorito\",\"e quindi non ti sei sposata\",\"avevi appuntamento sei mesi fa\",\"cio\\u00e8 di quello che sei\",\"penso sia normale dato che sei quasi annegato una volta\",\"ti ricordo che tecnicamente sei ancora un insegnante\",\"quando sei messo male come me s\\u00ec\",\"la chiamata e durata sei minuti\",\"ora ti sei liberata abbastanza per riuscire ad esprimere ci\\u00f2 che senti\",\"parte di israele dei territori conquistati durante la guerra dei sei\",\"sei diventato un medico brian\",\"quando sei svanito con quella donna ero sicura che fossi morto\",\"ma sei venuta a casa nostradevi avere sicuramente incontrato i suoi bambini\",\"sai ci sono delle vipere che possono vivere per sei mesi senza mangiare\",\"e ora riesco a vedere che sei un uomo di gran carattere\",\"louis dove sei\",\"tu sei un brav uomo ichabod crane\",\"che sei ancora innamorato di lei dopo tutti questi anni\",\"tu sei emozionata\",\"nella maggior parte delle decisioni che ho preso sei stata dalla mia parte\",\"sei un uomo sincero jeremy\",\"e invece ti sei spogliato\",\"sei quasi al punto preferito di mamma\",\"non le dir\\u00f2 che sei stato tu\",\"aspettala non importa se sei cieco d amore o di risentimento\",\"tu vuoi che vada dal tizio con cui sei andato a letto\",\"sei un astronauta qualificato giusto\",\"una relazione di controllo completa sei mesi prima dell'adesione la\",\"dai sei paesi\",\"sei solo un po  in calo\",\"sei davvero fissato con questa storia della gerarchia joe\",\"siamo rimaste in sei e\",\"jeanfrancois tu sei mio amico\",\"se scopro che sei la responsabile allora parleremo di espulsione\",\"purtroppo ci sei anche tu\",\"ecco perch\\u00e9 te ne sei andato presto dall appuntamento hai il coprifuoco\",\"sapevi di essere merce avariata e non ti sei sognata di dirmelo\",\"il distretto di pueblo nuevo \\u00e8 uno dei sei distretti della provincia di ferreafe in per\\u00f9\",\"raggiungono anche l'altezza di sei metri in\",\"sei un ted migliore di ted\",\"oh spalding sei sempre stato il mio guardiano silenzioso\",\"ehi auto sei\",\"sei una pedina di walsingham\",\"vuoi che gli dica che sei venuta a letto con me\",\"e siccome sei stata una madre eccellente non vedo perche  dovrei prendere ordini da te\",\"non dirmi che non ci sei arrivato\",\"dirle come sei stata\",\"sei stato tu a farci questo\",\"okay ti ci sei nascosto anche tu amico\",\"dice che sei arrivato ad avere una migliore comprensione della tua posizione\",\"se in egitto facevi il pasticciere perch\\u00e8 sei venuto a lavorare in nero\",\"sei un artista indipendente\",\"non ti sei mai chiesto perch\\u00e8 ci stanno attaccando\",\"tu come sei arrivato\",\"sei un pallemosce o che altro\",\"\\u00e8 fermo con le mani in alto e viene soffocato da sei\",\"tu sei andata a letto con la mazza quel giorno\",\"per scrivere il libro abbiamo impiegato sei mesi\",\"e cos\\u00ec ti sei sorbita anche tu ieri sera su questa stupida disputa sul posto auto\",\"marshall va a prendere ronnie a miami alle sei di domattina d accordo\",\"se sei stata assunta perche  fai parte di una minoranza\",\"sei proprio una grande stronza\",\"un crimine per cui \\u00e8 stato condannato a sei mesi di reclusione\",\"sei qui da piu  di sessant anni devi esserne a conoscenza\",\"questa \\u00e8 la terza morte inspiegabile nel mio reparto negli ultimi sei mesi\",\"sei stato tu a dirmi che erano incontri occasionali\",\"alla vigilia del vertice di copenaghen cos\\u00ec come sei mesi\",\"mi manderete per sei mesi in un campo militare dove\",\"sei stato tu a farle cantare quella canzone dei carpenters vero\",\"ha chiuso a sei decimi dal\",\"madsen ti sei appena guadagnato un bel viaggio nella buca\",\"chi sei andato a prendere all aeroporto\",\"tu sei pronta quindi\",\"puoi dirmelo se sei arrabbiata con me\",\"non sei mai stato cosi  felice con nessun altra\",\"e  per questo che sei diventata una rivoluzionaria\",\"sei davvero stata l\\u00ec per tutto il tempo\",\"okay quindi sei stato sincero con me circa questa piccola riunione\",\"stato uno dei sei figli di jeronimo\",\"sei troppo importante per la gente\",\"ora cosa sei diventato\",\"il punto \\u00e8 che tu sei l unica persona abbastanza vicina per arrivarci\",\"sei giorni da tripoli\",\"te la sei fatta anche tu\",\"mi ricordi i miei eventi del sei aprile prossimo\",\"sei una bomba trish\",\"quando blackway ti infastidiva perche  non sei scappata via\",\"sei mesi giorni e ore\",\"capisco se sei arrabbiata\",\"concludere la battaglia in cinque o sei giorni vennero completamente accantonate\",\"sei venuto a salvare tutti\",\"da circa sei anni da quando lei e ted si trasferirono nel nostro edificio\",\"sei rimasto l\\u00ec e hai lasciato che diane portasse alicia al nostro piano\",\"per tutto questo tempo sei diventato molto pi\\u00f9 forte mio schiavo\",\"mi dici i miei impegni del sei maggio prossimo per piacere\",\"sono praticamente le sei del mattino\",\"dimmi che sei ancora a casa\",\"sei un poliziotto da quanto\",\"come sei scivolata\",\"con robocop ti sei costruito un nome alla security concepts\"],\"tsne_2d_0_ft_cls\":{\"__ndarray__\":\"UOqRvwaSJEAIgy5AQWGaQKwPq0CaqTPBq6avQA4N8r/G/+u/FNF/wGzQTsBHOghADBY4QKNwL8DF+ARAZIAIP0a3gMAafmm8+phTQNaH0MDFWh9A6tqEwBgQ78AW5Om/1BeBwJb21ECuYDrBmBd/vyY7Mr9ER0XABKCWv2dRg0DWHIW/hh5IQBUbkkDIa+c/SayjQDttqUB8Rfk/pzdzwDC5xEDRT4FA51y6wIv48sC9y04/7seBwNKbq8BaF/rAMH1ZwFml2sDO/ZbAUM+nQHjkWUDP0dPAZcIlPy1WncDp2AfAFM8vwQ+Yvb81/yrA5wOTQLPgbUBW+jLAnKLTv0UxfECEVafAezNpQOFzZkDL5Z9ArpgSQA+R7MB9+BPAPxSGv4Y48EAcXgK80BQdQFZBi8Ao829AdwYWQMwF+r7B/4dAIp4yQEYqm0DIdptAvWPcwDjkMED3rJo+8punwN+skcBsIJDA293RvyfWCsAm9Iq/p+nWQEZkRz9KPK6/iUGhPxeSrj346pnAbq2IwLS7YT+biyXAZE8HQEAiscDW5pbA5TSbP+nqP0AgNwdAeUUVwF5BhED2kizBqM3lP2BQtsD09ipA9qGWwKzWc8CnWxHAMrRtwMKV8D5garjAdwXvwMCbRsBLkNo/pUrTwDVDwMA1ZpPAPA7lwLxWRUAd4uFAt4B+QP8Z2cCfrZ9A2PXwP92DnMB9QIi/tY5swBzphr/QdoNA0enHQLCNBcE1YfnA1amCQPXWO8HBIKHAkOawwDnTML/ew5PAdRLZwHpM8z5wXBO/OZEJQCRu68B0yM2/GYQ4v5Yj9sAEdalASkihv+tUIUC/WwbAalxiQPXQusDcVQLBUaxzQKzwosB6MyRAy9XRwIBbuj9eEVJA7u3PwN2X1kAeo6W/Dp6lwESkZ795VZNAYmiLP57tgUCMrrLAbk/nwPg2iEDZ7ue/fKUswRIuBr87Xis/tPtbwP9YwD/aCjXBLA5EQAyD+j//kZVAkJxdP8xx/j9rIZpAOCF9vye3LMFcohJAMcqOQHNPcsDPyt/AvGUsQNvE1b4=\",\"dtype\":\"float32\",\"shape\":[200]},\"tsne_2d_0_ft_token\":{\"__ndarray__\":\"KIHRwEWc7MBvlOZBo8veQWICzUFC7zTAetjHQcYB0sCl0lc+bZUMwfmN9cDjtu3A+NCzQaYm5sD7I+FBoNXswCDtDcHWtJjAk6bEQUnzcMEbBr9BEo4CwfIIQcHmw9vANRkGwW6Z1UGJYSXAv92dwLCn4sAkDezAYZHOwIn6P8BLJsTAPpXgQbFn20E8+w/BlTzYQUiIWb/8Xw3B1ErWwFcg1EGskEbArYIVwdcXR8EwjIHA2/VPwDUwHcF9i0XB2mAKwXQeOsEv2QHBT0bNQdLQ5EFVoyo/J+2OwK0jG0C6ft/AUac7wJwEzMA2HDfBFJbaQT4t0EHCZA/B4E/LwFXOvsCa1lLBID3YQcYpvUEMTshBNcHEQd1nUsFJn7DATazVwFFR3UFkneI/KvvVQYZSDr8Lr9xB7QLoQdZLfMDhCcTAv224QZZ75kHKYeVBBTJAwSuT78DpMuA/3wkEwZthDMF7uATBsz8xwQZDw8CAdLDAMTrxQbhvK8GiUpjAxNQPwZ5gnMCElBRAKfMQwZotq8AxeOjA5tviQSG/GMFJawjBuqYzwe7vJsAeGMBBJYfywCUg0UE2/JfA9PE7wPJFKsGokNhBqkMLwWYYDMEXc+rAHgkbwd1OnsBB7MS+yxdEwQySocD4sz4/Bm9AwQ0u1T7X3QrBsGM6we+O3UFgdNFBOyxMwC8LJz9/881BsKhowPKWDcEOxiPBmAAPwT2J2sBZXc5BrfrtQWewS8GsKVrBXIO6QQtdHMC0IRfBPqREv+X2SsFSpyjArXk8weluH8EF8kjBJOAawZGXScGEo9jAmSpMwU6KPMEUQNVBvK3UwDZF4EEihLLAk3XBQbjHJcHXQFvB6nTbQZZP7L9G99tB4uM4wdoQ5UHVpNdB7PA8wfZm1kG6UM7AM4ohwf4KucAKknS/uu4Owae4wsBeVCHBzTJQwYLS0kG6d4I+tLCXwCxBusD+tLpBy7MCwTAJwEHkKDPAwgruwIBD3kEsS1O/wKy7QQYbGcGYcONB/G6ZwAOol8DY3MRBkjnGQWvHGsGYzDfBhNw2wMl65MA=\",\"dtype\":\"float32\",\"shape\":[200]},\"tsne_2d_0_token\":{\"__ndarray__\":\"+fyrwIOoBsGZBmhBRJVcQSI6X0HO1QJBNLVJQTtKiL/V56lALs76wMll8cBxyfnAQTBAQepFjsBQEvBAUdTywOTh9MAl+WU/k6ocQd+qTcEQtM+9fLMDwBCpqUA2elzBU/6YwAMTg0FAc1hAfkRQwd5RPsGZQ7DAntkQwdHV6UCbrjrBuIB3Qecad0HUkNnA1cZRQQvPz8DK9+TABMrNwFDaVkGFgGJACsMWv0DgxsDqpwTB2r3qQDEuxEAppNRAxcQxwZWc+UAocinAQYtyQfeTckGHqdRAZjv8wNUZDcBwTAPAzXjxP6bMyj5VGcTArx5eQdP/cEG+TD/BWSNNwXMbCMFtp/+/uVaCQRteHUHsYjxBx7tOQQ0KXb9FJT7Bzw9MwewrgkEDlec/nUlJQegyP759WE9BsUeAQQyiO8DaanK/To88QejD4UAG6lxBeCnOQKPK/8CW2kPAFLyWwNERPsCst9/ATzrSwHZ0uT9NFpfAgKpXQYviqMCAYNnAUlmFwIuMDsF4IkjAOVU4wNolub/dakHBe+lhQZDYJcCgC6vAHTmEwCD2BMAYq15BWKY2wdoNbEE5vsFAJAN8wGEyncAX9mVBL+AawPPeG8FiqKu/MkKfwJZ1/jxVzFLA75flQFe5RcGqr7lAbtP1wHA0q8DwfO/Af6DhQDSUdkEd0zpBbWbyPwzqvkAKgCtBd3ERwVpJQsCrpCvB7zokwVQ8MMF031pBtnBOQWXO+EDCD52/Rt9vP7rP4EC7kO7AJ5HAv81cFMECsRvBbejQQDOrTsEHswjBHajTwJlnDUHpNFzBS98WwYjwxUDtzEdBKnSpwMY0ZUHt1kHBRZkaQf7EqsBhUfE/n95zQWK2uEDbTW9BgwwFQcPof0F/42JBrVG6QDeiZ0Gy8DzBV02wwDSzN8D1AKTAHLOIwCgHfMCjD6hA4bTMwNSaWEF4mtFAyX8VwSmS/8CaNv5ACqpGwfeKTkHeD+9AIDILwfrIEEACv5zAII9sQQUB4kAJhGtBbm94QExXX8B/G05BdrgaQYszssBECQ5BAB4ivbZnQME=\",\"dtype\":\"float32\",\"shape\":[200]},\"tsne_2d_1_ft_cls\":{\"__ndarray__\":\"Dd0OQd2kvkDXNAPCsecBwv+s6cG2uRJBypfiwYpgyUDcPIM/EAZIQRj7A0Efb8VAlM3IwdEYVUE/XgHCm7WVQMHjFEEwFixBcFHqwagZZkGVmdTBCteJQZPsDkG2VdxAP86BQRSx+MGbdRRBfYWKQNsW00BTi1NBrMwSQbmeZEHdPZ9AMgwBwjty/cGg31dAdEr+wSzfIUH2jVpAVABKQGYD7sEyN2RBfQyHQTOFFkGuezFB3D35QH6iz0CMX+dAHacmQRQiyUBfDIRBanTzwTcAAsKFOPY+StkTQbuSLL8QixJB0KERQVZ/GkHNmDlBMkX/wReQ8sEpMSBB4KGtQEKw7EC1XC9BYMP5wWsI4MFrFtvBuULnwcimNUE0yaJAxAK9QCEC9sFPT45BPjnzwSnuZT9kvP7BSOwFwirhRUEjTM9AObzMweMbB8J+yAXCvFMUQb5btEAokpBBWghoQfgsaEFdj0NB/rE5QUrvt0AVheJALwUFwkwdXkHMnF5BP/zXQBYNJUGXQwy+WwlfQdYMJEGdptJACFYDwicMeUEK735BdSNjQYsVBEEZN9fB9qXmQK8G88Eg1ZNAtJ0AQSugTUFkMPnB03xlQcoxL0HxuA9BtHBqQVBtF0F5uLw/0GPdQJyau0BkfUVBFqUnQeGCkT80OCZB2XfuQGgJ/sGos+TBf4ZjQX7nvT4y1+3B0tgvQWk2f0GCgTNBoGYdQQXnxEBB1O/BA4ICwuD260DxcjlByNHWwQLjFEGkfFRB7YOLQDw+hkGs2p5A9HwQQQAxQkGndIlBnGQlQNfh0EAGydpA7yCFQUuA+0BNUvrB860OQaH0AMIsU4ZA1oPjwbU800DiRbVAliACwq+vVkCBgPzBeHkPQdAMBMKYRfnBP54VQdEa+ME4TOlApBwIQRP2H0FkUCtB0W3cQOUO8kDUHcBADNg5QZWs9cFtkII/4XKTQJ5hHEFEjfLB48QMQeRQ5cE4DRNBwr6yQG0m/8HSYitBKOHywQ2CLEDoVATCAhZkQYW5kkD+i+jB1Y3nwT4AZ0GOAPFASMsbQRy9xEA=\",\"dtype\":\"float32\",\"shape\":[200]},\"tsne_2d_1_ft_token\":{\"__ndarray__\":\"0pKqwLJ6MMF9Ky5BKnZNQbLWU0ER8DfBYJFDQelU6cBdzejAU3xWwOHjssBTlCrBFLkEQcK8cL8wpCVBSPNrwMZhkMBI1YLAc3BQQdcLnMBSegxBy34HQJ80n8CdKOTAzva7P+8uaUG14jvBYFsTwVjJA8EXdCm/M3SiwE5Uzj7o6xbBLaM0QRylSEHNJy7BSPdOQdG4ZsB54zHBz6+evuU8G0HqCrw+7UAAQB2HnMBovK/A9Q0KwWYkncCK09XA3We0wNL87cAkWnM/Dz8nQe6rOUF8uZS/e82fwIstF8DmPJvA+UM3wbn2l8BgfhjBuB5GQSj+QEFwzsjA1wgHwXV2/78hHwfB+Bc2Qb13XkEVVhJBnU0pQcwgU8DU7QXBqSALwa6TbUGqa4HA319CQUpI0cAW4z5B/GQjQYlWJMCWVD3BJiEGQRXsVEHWTFNBF0yPwIU9NMHRN3LAuZiBvirAxL5h5w7AIrMUwR7e+MByZNbA9AM4QUC8+r+l5yy/q2X0wKG7hMDlThnAdSRzv7iybMBaf+zAea0jQUQxWz+YBDM/LkjTvzUcWMB7XhRB+vXgwDzROEEm805A3j9lwDkjtL5jQyhBOZ0JvzCnfMAuq6HAPozpv80vosBqsZLA2IPmwOav7cBvEMrA/hFhwOLBDsD+lQ3B4FbTwJnzMkGw5QlBljizPsGsjL91YEtBtUicwG27gz+nQArBO062wORN/MA1+zJBFHE/QWrI0MBz4VLAcv8iQb0VPsFn6pm+uRmYwGozebu9DdfApjWVwDIBD8H5jKI+jYg7wezy68DmpunAClI7vpo9x8ABN1JB1D2qwI8cLkGVMwDBinFdQc9fqsASo+vA7UtYQXGavsByFitB4pGWwKxGFkHfpCpBva6LwGxAaEGw3ODA9onLwGmYmsD3pQzA9sXvwOPk7r8dk57AcglDwEQGOkGTWezAo/9OQCGGkcCbRERBOyCgwCvIL0Fs0zjBDXs7wYmhJEEfywzAub9DQaaiOMEge01BdcJ8v74HT0AaCC5B3lg5QW7W578IFtXAp03cwBEkCcE=\",\"dtype\":\"float32\",\"shape\":[200]},\"tsne_2d_1_token\":{\"__ndarray__\":\"xYsJPyPQR787ZZHBYnWJwQfagsFBBYxBBfmHwf5uwz5LUodB21LGwNs/m7+Rlra/hnqWwYDk37+s7JNBp7eLvx8LwMBAbpU7vUVqwVbA2z6lcxtAbHoAvxplbUH7ZCjAXjdDwHquhsEreUlB/k0IP7qJw78wPNS/CSFtQPAljUFUuaXACkaYwayei8FAA0a/X8CXwf17e8AqFb69Ax0MwLFuj8GWfUxBLkAuQJvsxj9csodAaxt5QaIGikFFwI1B/+6PwITIjUFU77DAk7F1wVSTksEW4oZBkH2EQDzU4r+2NW0/zlstQaTTxz/Y6j499dCbwchJb8EKSMM9DYmVwElMy78NdMK/nKmUwd1faMEnE4fBwK5bwa+hRMBGEJLAaZFIwA+egcEw6StBxvKIwQycjL4yVJ/BFxKbwQFyO0AaBEFA1NGTwXGTnEH2KqDBW5SSQYgkWD+3J1ZA/YaHwBJZScATlzHA8XdFQNyvLUDUHiNAn8uEwRhbJ8C9vlXAiIulP1Zpg0DuvqA/HAM8wKKAqb/hjJzAi/KowTPTqsAUfi7A7mY3wEleRj9hl5TBJf1bwIVwZcHloHpB/PTvvhbnYrwlUovBtgI2wJE2LUCLx5+/gdLMPzYU6j+plb6+++uIQTZtpMA0QIZBlgTBwMNCYcCwVy7AnTOBQbJKocH0T5TBT3QtQVovlEFnApDB5cWJQASHWcAF21FAqMtZwEZLIcDGcnrBdciQwX3ikUFWOiLAfkGcP8EwkEEZ5+S/EG1KwMIPTL9zZ0A/qASHQY/qXMAPCXjAKlm1v1sliEEgjCfA+VZLPjTxfEFhL33BRzqkPtlzlMGrlCPAtZVrwTNTh77EVy1B+EOXwcQtgkFf4o3BQ1OAQdYgkMG0LozBFgeRQZpUmcHhbFnAu6cxP37DIUCQTpfAqOKcP6k/DsCLC4tBigqFP1RyeMFICoNBe4w6Psubg0AJL4dBlZEuPsBxW8FH0IZBjJIHwOtrNEF+apnALmSHwaL2f0HxMpLB/FJTQc61tr906VrBd2dswWlzHMBlnJFB27/qP2YTacA=\",\"dtype\":\"float32\",\"shape\":[200]},\"type\":[\"class_1\",\"class_1\",\"class_0\",\"class_0\",\"class_0\",\"class_1\",\"class_0\",\"class_1\",\"class_1\",\"class_1\",\"class_1\",\"class_1\",\"class_0\",\"class_1\",\"class_0\",\"class_1\",\"class_1\",\"class_1\",\"class_0\",\"class_1\",\"class_1\",\"class_1\",\"class_1\",\"class_1\",\"class_1\",\"class_0\",\"class_1\",\"class_1\",\"class_1\",\"class_1\",\"class_1\",\"class_1\",\"class_1\",\"class_0\",\"class_0\",\"class_1\",\"class_0\",\"class_1\",\"class_1\",\"class_1\",\"class_0\",\"class_1\",\"class_1\",\"class_1\",\"class_1\",\"class_1\",\"class_1\",\"class_1\",\"class_1\",\"class_1\",\"class_1\",\"class_0\",\"class_0\",\"class_1\",\"class_1\",\"class_0\",\"class_1\",\"class_1\",\"class_1\",\"class_1\",\"class_0\",\"class_0\",\"class_1\",\"class_1\",\"class_1\",\"class_1\",\"class_0\",\"class_0\",\"class_0\",\"class_0\",\"class_1\",\"class_1\",\"class_1\",\"class_0\",\"class_1\",\"class_0\",\"class_1\",\"class_0\",\"class_0\",\"class_1\",\"class_1\",\"class_0\",\"class_0\",\"class_0\",\"class_1\",\"class_1\",\"class_1\",\"class_1\",\"class_1\",\"class_1\",\"class_1\",\"class_1\",\"class_1\",\"class_0\",\"class_1\",\"class_1\",\"class_1\",\"class_1\",\"class_1\",\"class_1\",\"class_1\",\"class_1\",\"class_0\",\"class_1\",\"class_1\",\"class_1\",\"class_1\",\"class_0\",\"class_1\",\"class_0\",\"class_1\",\"class_1\",\"class_1\",\"class_0\",\"class_1\",\"class_1\",\"class_1\",\"class_1\",\"class_1\",\"class_1\",\"class_1\",\"class_1\",\"class_1\",\"class_1\",\"class_1\",\"class_1\",\"class_1\",\"class_0\",\"class_0\",\"class_1\",\"class_1\",\"class_0\",\"class_1\",\"class_1\",\"class_1\",\"class_1\",\"class_1\",\"class_0\",\"class_0\",\"class_1\",\"class_1\",\"class_0\",\"class_1\",\"class_1\",\"class_1\",\"class_1\",\"class_1\",\"class_1\",\"class_1\",\"class_1\",\"class_1\",\"class_1\",\"class_1\",\"class_1\",\"class_1\",\"class_0\",\"class_1\",\"class_0\",\"class_1\",\"class_0\",\"class_1\",\"class_1\",\"class_0\",\"class_1\",\"class_0\",\"class_1\",\"class_0\",\"class_0\",\"class_1\",\"class_0\",\"class_1\",\"class_1\",\"class_1\",\"class_1\",\"class_1\",\"class_1\",\"class_1\",\"class_1\",\"class_0\",\"class_1\",\"class_1\",\"class_1\",\"class_0\",\"class_1\",\"class_0\",\"class_1\",\"class_1\",\"class_0\",\"class_1\",\"class_0\",\"class_1\",\"class_0\",\"class_1\",\"class_1\",\"class_0\",\"class_0\",\"class_1\",\"class_1\",\"class_1\",\"class_1\"],\"umap_2d_0_ft_cls\":{\"__ndarray__\":\"hVZaQQPZaUF/jx+/PrYfwKEjwr8FS4FBwZusv0PAVUEnUU9BfhZaQa5vZkH2d2hBM8imvwSOV0GdVhG/3nNaQSihY0FORU5BmtIEwMzTTUFgJpu/06tKQSL+cUGdXFZBNS9NQY2Zy7/QL4JBWCVWQVCbWUGRgVRBAuBbQTi3bEEMqFVBD6mDv74lC8BNAmRBvOcMwCYCR0G93GVBKANLQcsvd79PjW1B9DFPQTMWckHAC1FBHgNrQatMZEGZ2XhBmspgQTEEckEKJU5BzwG+v4YLmr9c+kBBp59MQR6kPUHDBF1B+8aAQYf2V0FWMFtB5bkVwGlHB8D3u2BB4aJVQWv3ZEFyrGZBBKG1v0Zx7r9wM5i/MKu3v5VBZEFfCFNB9WRaQW2mwL//8EVB5Fzzv1zuRUGdScu/tO4XvwnjS0F12mhBuUSdvwCHJsDR5SfA0qRyQRI9Z0HQjERBWlxQQb4EU0G7Wl5BD+RVQSh4VkGyIlZB/hmQvxkGTEHZBlxBwEtoQX7YU0ErfkBBUqhSQU30UEGN2ldBdmT5vql+UEFgfk9BVo5NQTBmYUHsI7y/aC9bQV6o6r+4/WZB4XdfQZQsUkFYGYe/gBxSQY5XY0H1W2FBySZUQeodUEHdyUdBtXZ2QSSDVEEe0kZBtfJpQYQAQkG5W2RBbbF2QaupYb8IiN6//GRsQfpnQ0GNeuq/DxVQQRSQTkEWCFRBDERjQTNBW0FLssu/9guzv9l+eEF7p1ZBzKanv2urgUGCqVFB4XpXQSOPSUFOAFpBESF0QZK2SkEEwkhBaJlkQZsUdUFW51pB/UZKQZ3tdUEWXu6/7tBbQf55Xr+VW1hBwWv/v/eBaUEpCHNBKuqvv3tATkGGxmO//OhwQR6zLr+hF5C/8DhvQbNawL85DlZBZFxqQTmSVEEji0hB0BNqQf2DVkFn+WJBJ+lVQcOk/79eilJBjzdnQRuMU0FLthLAz21oQVthyb+ZNYFBXhNoQR5PRb9tpUZBZKQLwBPrZEEeGh7AAMZXQZiRZ0HH486/a6Dav8aoVEExaXdBURFRQYN7WkE=\",\"dtype\":\"float32\",\"shape\":[200]},\"umap_2d_0_ft_token\":{\"__ndarray__\":\"q7RRQYzmPkFChw7BDvP3wAZg9sCavYNBiwT1wNXATUFJhmxB2+RFQQjuSEF/M0RBhuThwE0dO0Eg8QvBs4JIQUBOS0EDoltBgH7gwOnaTkH2b+bAKy0yQaHwYEF2EVFBCIozQc9dBsGt44NBNhtNQZYoT0FAZzpBCdFTQSBzYUGKqk5BUiwMwQ+l/cBIIERBlcb2wCSNakGtQ0FB7KQ7QeobA8Fj319Byx8yQVLzXkHHRFtBwbJRQQCaXUHT0GxBRHNLQQwpaUGMTjRBzsruwAH5BsFSwGhBc6hhQdrYbUFbnVRB8/mCQd17VUElhGJBhJv3wKv38cCYeUlBjxpSQaXMQEEjLG9BxFsCwXYK3sBKMPDAXv7jwN/cW0E2wlFBhqtPQR22B8EG51NBOHn8wJnHakEq5QHBgcYPwcb/WkH9Sz1BTdfgwNjq9sBfdvfAoeVeQSDOP0HzEGNB9W07QXu1OUEYCUlBm+FiQY7eTkFfjFJBaVAJwUn3QUHbGllBVP9EQcJIXEHVhmtBG2c+QRmDWkHizE9B0E0NwamWOEHJBTVB49xBQfmrTEENmuTAOltTQV1S+cDGs1VBglZKQfw+RkGYKwXB1Ls6QSVhR0FNwlBB3Hs/QanvW0GK8WFBdYdrQWLMT0HqcWtB+A1ZQZjXaEF1bVNB+UdpQVqiCcF20u/A2fJfQTXNZkFUBfXAJwlgQYTGNEHPj15B5x9KQXDES0H2/fHAQBMGwTyBbUGZyVtBK+PkwBGNg0Fe7T9BxA5mQbT9UUHyr1tByIlfQQhHW0Gts05BzOpCQQAXa0Gxg09Boa9QQXy5ZkHo/vvAnJxQQRhZCMFihVVBcBrgwKhzZkHiXGpB0XsHwf1HYUEy6gbBnoJcQV71DcH9eATBC8xcQVx9B8E2d1ZB3C1bQa6KVkGzTWJBIzJIQTuAPUGb3mJBlvVaQU6N8sDz/2xBFyJVQd44VkFulufAnRhPQbOp5sBA/YNBtHQ/QRPpCcFwPGRBNAzrwIsXREFf4PXAiqtUQbWEU0EfQOTA3R7qwNK8P0GzDWhBoAJdQR/KUEE=\",\"dtype\":\"float32\",\"shape\":[200]},\"umap_2d_0_token\":{\"__ndarray__\":\"1CSSv8qsLT7MlqdBa3qsQdvqrUE8dsTAXyqsQfeMBsCR86LAFap3va4Hkj7VBvE9Q3qsQTF4Yr+O8sLAgdm5vZXXU75eXx7A0LGiQYWUO75CxR7AJbLkvynWoMAY1Co/dCk9v+PspEHuDJrA+djevg5Jyj5P3CS/9l3rPg9ExcCz0qo/sOClQYsvrUHX4Ay/FFGuQcidK7/W+QG/sl8Lvj48qEH/Mp7Ar7cYwKmHoL/1pQQ+puWgwAECn8C0A7XA8vaqP/slxcBbOZe/j+CuQQGTpkHM7aTAgpyqPuCMzr8Gava/GpqWwPmyMMAPeFm/glSuQcyLrkEk+RC/8I+3P628Vz5V29y/O/KnQUCqo0EMDKtBFienQS1mor9x05o/m+djP7PKpUFnJJbAagmqQViGEMBPUatB9YSkQXPK4r+G0gvApKCtQb0Xt8CykK1BVRjDwLrufb7y886/aBZ6v7y3oL8zrqe+ZbOvPVsMLsB3EZS/R3KtQZyNEb9jSLq+EBfdv41Pnj4/ns6/h/Khv0C7+7+y+7E/uYqrQa/hpL/goRS/kcZZv7u9AsCiMKdB5O6QP7t+rEEPk6PAMr7Cv8IDkb+5Q6hBa82kv8ZAvj6+yea/xAu6v/Q5JMDb08K/0CW8wLjroz+qJ6DAGP9YvYxlgb6BWHK+nmKowIvdpkFCdq1BF+mVwOfDwMAtVqxB4IKHPgRqm7/fGiU/S3d8Pzp6QD8gOq5BNIOrQZlBwsA+M6u/UKYswLTNvsBO7wu8szSrv3s5lD47fDo+kXaqwH+FdT83MAG/GV6Hvh9YvcBXsSo/gHOAPtMSqcCw0KxBdMafv25SqUGpzFQ/YQOjQUZsgb+lhZfAr1+nQdetp8CYJapBP/i+wO67p0HJQapBnd7AwC1dqEEsvpE/t0SHvz/+079LuA+/zxq+vzXUX7/qHp7AIamBv+HwrUEwtqjAYSS+PU6qVj5N3LjAUpfmvYdPpkEbJ7XASOfCvDU5mcC8a1C/28+oQUfbpMAXDqxBWX6gwABwor/TuaZBR6miQb7I+L6yz7/AhlsqwAOFjz8=\",\"dtype\":\"float32\",\"shape\":[200]},\"umap_2d_1_ft_cls\":{\"__ndarray__\":\"womRQGM2gUDy89dAvcvEQOWhuUA1HbBAVumuQJIuQEAY9aZAq1nYQNVZlEAyOYFA7YKVQDZcz0Bty9JAgSZwQH8XrkDSNpJAckuuQO6z4UCB15pAxXb6QPK2vEBW3lpAdYLuQC3AvkCPlK1A+eMjQBmgRkAN8NNA9qSVQHuZ20A4JiZAc3/RQKxLxUDrClRAQHvJQM5LpkCZTVtA7jeyQEDsuUDVMdpARLLwQFQGtUCDrpRAb4ymQCQpwEDBTdhAh7mjQJtD0UC/x/VAfSO6QHc32EAG6a5AkiuOQCdPtkDjFptA2mKyQHuol0A8MqZAIy7HQKGdu0AzCZxAoPgoQO+ShkAr2rJA1GvIQLw5p0DzhqhAEbGiQAOGuEDYLzdAq3M1QKmFxkD0YNBAK9bOQA1KuUCf6dBAe+DVQPnpm0CmHIBAEQKaQLPcxkCKaMtAk6K3QC5ueUA1AspAbEbqQBjD6EBb19JAUOmgQHI1LEAGtEhAg/nJQDMkuEA/tsJAnPeJQPK1iUCVxrJAxo/eQDjMjUBjTExAh8vTQMa68UDj1PNALCW0QDs2jkAhp59AYGhSQI+ht0DdUM5AW/OPQPRuwkDhvsBAJhPoQDjKpkC0B5xAkcLjQB6rkkDmHb1AqC/SQPbIPkAAR5pAYqG3QNMStUA9uKlAeZzSQGhQxUDfHKxAp4HXQAL4rEB0+7ZAuGOIQBzZ8UARJJ1AfyGkQBrSOEB6uLVAwCjQQMe01kCDyLRA5tOkQLECrED2wdtAUFO6QJQo0UAjD7FAGk64QLijlEC3etNAyHBUQIXMzkD02lhA7n/OQBNSz0DqOMhAVMaPQLHV0EBLXFZAh2GpQDlzx0DTp8hApj3RQPcUt0BfVMVAvom9QMD/z0B61MNABGm6QIgexkByOGBAZdfAQIwRk0A0n6dAWEGNQJil00CXlsBAiSK3QCZSu0BowKZA+dvOQH8Kj0D+KLhA7k6kQFzyqkAUK7BAwQJ4QFo2zEDxKahAUo+/QB1+T0CbOMlAY9PDQIpazUA/IalAlLauQO3M4kCPdcxAvHqSQFFuP0A=\",\"dtype\":\"float32\",\"shape\":[200]},\"umap_2d_1_ft_token\":{\"__ndarray__\":\"roUjQQyiG0E/LVi/fk7Qv51K/L4nKj5BmVlIvypUEEFeqSlBosA8QZ5JLUGSJhxBwN2EPRRJNEECeAO/PoUUQU9cOEELECJBn5h0v3ZKKUEzyiW+/eY9QRxXUEEKHBZBgJw/QVkJwL+UVT9B2bwLQSJ7CkEeWTlB3WQrQcm3Q0HdZQlBRlJYv4Nx1b87/hNBxX3Uv5Z1NEEwXhVBIIUyQSBMFL8WlkVBVa1BQeSnT0E83idBWrA6QQ0NPEHcL01BergoQf2aRUFlUj1B34K0v4ddWL9mVTNB3WolQS6KMUE4YC9BYy9BQdpdJ0GysB5BSC3Tv3V/n784ryVBcMYNQUgQJEHRk0ZBk9Jvv4wOOb8ju3C+bSDhvthtVUHhmQhB7NsKQXetrL9rUjZBZP2xv1CELUHFgKC/SugmvyeaIEGaECFBTpxnvLhs8b9GDPu/EeJPQZZLG0EcBjJBBww8QdslQUFJF0BBcQwfQfr2DkGsChVB+KWDv642NUFZpTlBKHUeQaNXKEHRuDBB0pg9QTBtJkEUExNBN1oVvzgRQkGYNT1BvEw0QX/BHkH6nAK+dpwVQYbZdr9GIEhBlW8dQSC4M0GBgfq+5y5AQVN1MEGGBChB6MY+QTZ8JkFu3TRBPURJQZU9EUGziSpBz55QQfPsMEF8PxxBzmxJQbSXZr8Giyq/CWdFQdhpNUHBMGS/2BooQVuIP0HmLSFBuacpQQrVC0FvJDG/3quDv7avSkGCxVJBl5EEv43sP0FTtTxBX5w4QRs9LkFgOzZBI5xPQexEIEGdATRBN1MRQZebRUErlhFBdQEwQSNcTUG1Pru/RzgmQZ+VN7+pOA9BBbBcv6nHP0GcmUZB6C2hv39GOEElmyy/vCtOQVJg4L5Q61q/VMFSQZixrL+47hJBhctAQT7CJkE87y1BdxsgQWTSL0H0UTxBw+lUQQMckL9riypB0OxHQbMyKEHpPKG/qFMyQVIh5b4/BEBBuJ0ZQRrsG79tAC9B8MOhv6mhEkFWduu/d/cxQXIIRkFDqDi/l7kjv9UGPUHa80tBDnwtQXrSDUE=\",\"dtype\":\"float32\",\"shape\":[200]},\"umap_2d_1_token\":{\"__ndarray__\":\"5GKoP+llEkCfStRAcnbPQATmwEA5Ix3BSbHHQOhVBkC9FRvBE2d+QKbb/j9R4Ow/OiGsQBsgK0BacBvB3NwAQCVjd0BeRT1ABoLBQLIGiD8NfV9ASp9XQLzzDcGTuFI/THlVQIsE30B8GwXBLKefPzlJrT+z4RRAMoN4QKCpGMEGgD8/fj/iQDob3kC+PuM/Lj7hQBj0PUCZlAhA/q01QOxJwUBlvQnBSVJgQEBNyj/TXHpAWkEdwbRcHcGLnxfBI0lfP52GGcFdOW9A+FDDQKYf2EAMXhvBsO2FQCkZPUA4jD9Ald/9wMtIREArJbs/VnnaQHGZxkCEL5E/78AMP45yCUBTvkpA5wzaQPrmvkDSYM9Ay868QMf5GUDnKlc/ArBOP8Bv0kDfRf/AMRbLQOwXNECcA+BAAfLaQDU2HEAUPGRAmvitQAQ+GsFk+d5AiPQTwdQCV0B/7RRAURVuQJ8FU0APZBdAOktpQPi5MkBGabs/1py7QPUMTEAJfSNA2xbKPxX3gUAnzyBAWMVPQDodO0A8iCM/g8TlQPbOZkDX+0FAhp9TQD7dS0C0btBACwSAP+09vkBozxLBFInkPyM5uT+iMclAX7dDQDJpYUDoU0VA4+2qPzRIV0DFOfU/0JIUwV/MMj870BjBmu9+QMnYXEDXIAxA+T4XwVis3kDth7BAK3f+wPUeE8Fwta5AjxaCQNYTUUCy+WJAJ+OYP5KTpj/EuMBASkO0QAI8G8Fa1x1Aots+QLWSGMG9kwxAM04qQPmaHkCgNihA+iEYwW1CcD9IbC9AJWryP86sHMFB+Wk/M7ApQInNFMHddrdAKOC/P4yU2UA/koc/4MHAQF9i6D+9TP3A6DvaQOv1E8FCN9dAjAATwV7p3UD0A9FA7+0SwS200EBR/os/FunjP6Q7LUBIbFxAN6/FP3+yL0CJnx3BWl7ZP1wGvkAj6xjBHtY/QDwIgkBIRhvBUV+BP3mlvUAxWRzBV6TrP/5NAcF+jWRAXq/SQER+GsEYr+BAg0IMwWG8F0BJbbxAN4/DQDZTTECZ9h3BoltOQKqDUz8=\",\"dtype\":\"float32\",\"shape\":[200]}},\"selected\":{\"id\":\"1207\",\"type\":\"Selection\"},\"selection_policy\":{\"id\":\"1208\",\"type\":\"UnionRenderers\"}},\"id\":\"1077\",\"type\":\"ColumnDataSource\"},{\"attributes\":{\"axis_label\":\"umap_2d_0_ft_token\",\"formatter\":{\"id\":\"1086\",\"type\":\"BasicTickFormatter\"},\"ticker\":{\"id\":\"1041\",\"type\":\"BasicTicker\"}},\"id\":\"1040\",\"type\":\"LinearAxis\"},{\"attributes\":{\"axis_label\":\"tsne_2d_0_token\",\"formatter\":{\"id\":\"1161\",\"type\":\"BasicTickFormatter\"},\"ticker\":{\"id\":\"1103\",\"type\":\"BasicTicker\"}},\"id\":\"1102\",\"type\":\"LinearAxis\"},{\"attributes\":{\"callback\":null},\"id\":\"1124\",\"type\":\"DataRange1d\"},{\"attributes\":{\"callback\":null},\"id\":\"1122\",\"type\":\"DataRange1d\"},{\"attributes\":{},\"id\":\"1126\",\"type\":\"LinearScale\"},{\"attributes\":{\"source\":{\"id\":\"1062\",\"type\":\"ColumnDataSource\"}},\"id\":\"1067\",\"type\":\"CDSView\"},{\"attributes\":{\"below\":[{\"id\":\"1102\",\"type\":\"LinearAxis\"}],\"center\":[{\"id\":\"1106\",\"type\":\"Grid\"},{\"id\":\"1111\",\"type\":\"Grid\"},{\"id\":\"1164\",\"type\":\"Legend\"}],\"left\":[{\"id\":\"1107\",\"type\":\"LinearAxis\"}],\"plot_height\":400,\"renderers\":[{\"id\":\"1156\",\"type\":\"GlyphRenderer\"}],\"title\":{\"id\":\"1092\",\"type\":\"Title\"},\"toolbar\":{\"id\":\"1115\",\"type\":\"Toolbar\"},\"x_range\":{\"id\":\"1094\",\"type\":\"DataRange1d\"},\"x_scale\":{\"id\":\"1098\",\"type\":\"LinearScale\"},\"y_range\":{\"id\":\"1096\",\"type\":\"DataRange1d\"},\"y_scale\":{\"id\":\"1100\",\"type\":\"LinearScale\"}},\"id\":\"1091\",\"subtype\":\"Figure\",\"type\":\"Plot\"}],\"root_ids\":[\"1183\"]},\"title\":\"Bokeh Application\",\"version\":\"1.4.0\"}};\n",
              "  var render_items = [{\"docid\":\"983d04ed-0299-4897-bf57-e7ce5642d4ff\",\"roots\":{\"1183\":\"227054a1-7445-43a1-943e-893451c24605\"}}];\n",
              "  root.Bokeh.embed.embed_items_notebook(docs_json, render_items);\n",
              "\n",
              "  }\n",
              "  if (root.Bokeh !== undefined) {\n",
              "    embed_document(root);\n",
              "  } else {\n",
              "    var attempts = 0;\n",
              "    var timer = setInterval(function(root) {\n",
              "      if (root.Bokeh !== undefined) {\n",
              "        clearInterval(timer);\n",
              "        embed_document(root);\n",
              "      } else {\n",
              "        attempts++;\n",
              "        if (attempts > 100) {\n",
              "          clearInterval(timer);\n",
              "          console.log(\"Bokeh: ERROR: Unable to run BokehJS code because BokehJS library is missing\");\n",
              "        }\n",
              "      }\n",
              "    }, 10, root)\n",
              "  }\n",
              "})(window);"
            ],
            "application/vnd.bokehjs_exec.v0+json": ""
          },
          "metadata": {
            "tags": [],
            "application/vnd.bokehjs_exec.v0+json": {
              "id": "1183"
            }
          }
        }
      ]
    },
    {
      "cell_type": "markdown",
      "metadata": {
        "id": "QfrDsdHCj5zz",
        "colab_type": "text"
      },
      "source": [
        "We can easily see that both models (base and finetuned) are able to distinguish the different meanings of the word `sei`. The finetuned model clearly distinguish the two main meaning, being that it was trained to a binary classification task. The base model it is a bit more blurry but this is fine and we can see it is able to distinguish sub clusters of meanings on top of the two main ones (verb and number).  "
      ]
    },
    {
      "cell_type": "markdown",
      "metadata": {
        "id": "KfiAkxDXIjPv",
        "colab_type": "text"
      },
      "source": [
        "## Base Model plus K-means for non-labelled data "
      ]
    },
    {
      "cell_type": "markdown",
      "metadata": {
        "id": "yR5K0zdOW5H6",
        "colab_type": "text"
      },
      "source": [
        "We've just seen that to distinguish word meanings the pre-trained (and not finetuned) model already give us pretty good results.\n",
        "\n",
        "So, suppose now that we collect some sentences (not labelled) that contain the word `secondo` (it has a lot of meanings) and somehow we would like to separate them according to the different meanings of the word.\n",
        "\n",
        "<center>  <img src=\"https://drive.google.com/uc?id=1ZHPpPGdDxFR0CkUBo_v0NB67gbPDvaNJ\" width=\"650\" height=\"400\">  </center> \n",
        "\n"
      ]
    },
    {
      "cell_type": "code",
      "metadata": {
        "id": "YuTLZ3P_S6Jb",
        "colab_type": "code",
        "outputId": "d2bbbbfa-c950-4d8e-ea85-96cbdc08dd7f",
        "colab": {
          "base_uri": "https://localhost:8080/",
          "height": 84
        }
      },
      "source": [
        "!gdown --id 1-6IeIpZo3meXDm-_d8zbgZAmy6uW99eF"
      ],
      "execution_count": 0,
      "outputs": [
        {
          "output_type": "stream",
          "text": [
            "Downloading...\n",
            "From: https://drive.google.com/uc?id=1-6IeIpZo3meXDm-_d8zbgZAmy6uW99eF\n",
            "To: /content/poly_secondo.txt\n",
            "\r  0% 0.00/127k [00:00<?, ?B/s]\r100% 127k/127k [00:00<00:00, 45.4MB/s]\n"
          ],
          "name": "stdout"
        }
      ]
    },
    {
      "cell_type": "code",
      "metadata": {
        "id": "qigeSV1ER2NM",
        "colab_type": "code",
        "colab": {}
      },
      "source": [
        "sentences = open('./poly_secondo.txt', 'r')\n",
        "sentences = [line.strip() for line in sentences.readlines() if 'secondo' in line.split()]\n",
        "\n",
        "# build up a dataframe\n",
        "df_test = pd.DataFrame(sentences,columns =['sentence']) \n",
        "df_test['sentence'] = sentences\n",
        "df_test = df_test.dropna()\n",
        "\n",
        "df_test = df_test.head(500)"
      ],
      "execution_count": 0,
      "outputs": []
    },
    {
      "cell_type": "code",
      "metadata": {
        "id": "rwtkg7nGTUFF",
        "colab_type": "code",
        "outputId": "ee40ce10-bd7e-4341-d6fb-8191a0e2110d",
        "colab": {
          "base_uri": "https://localhost:8080/",
          "height": 185
        }
      },
      "source": [
        "!head -n 10 poly_secondo.txt"
      ],
      "execution_count": 0,
      "outputs": [
        {
          "output_type": "stream",
          "text": [
            "﻿In PHP per effettuare l’encoding di stringhe secondo il formato JSON si utilizza la funzione json_encode, la quale può produrre solo due possibili valori\n",
            "Si noti che tutte le informazioni passate alla funzione in esame devono essere codificate secondo il formato UTF-8.\n",
            "La decodifica di oggetti espressi secondo il formato JON avviene adottando la funzione json_decode. Questa funzione accetta in input solo due informazioni:\n",
            "Si introdurranno poi le topologie delle reti di calcolatori per capire meglio come gli apparati vengono interconnessi e secondo quali standard.\n",
            "Le dichiarazioni di Moscovici secondo cui portare il deficit oltre il 3% del Pil \"sarebbe un controsenso\", questo perché il tetto...\n",
            "Iscr. e reg. Tribunale di Napoli n. 5208 del 13/4/2001 Responsabile secondo le vigenti norme sulla stampa: Danilo Borsò\n",
            "2016-09-09 - AVVISO IMPORTANTE - Pubblicazione posti disponibili per Ambito per nomine a T.I. nella scuola media di primo e secondo grado. A.S. 2016/17.\n",
            "2016-10-18 - RECLUTAMENTO - ripubblicazione delle graduatorie ad esaurimento relative alla scuola secondaria di primo e secondo grado\n",
            "2017-09-01 - Decreto sulle utilizzazioni e assegnazioni provvisorie di scuola secondaria di secondo grado A.S. 17/18\n",
            "2017-09-18 - Pubblicazione posti disponibili dopo le operazioni di mobilità relativa alla scuola media di primo e secondo grado- a.s 2017/18. Al 18.09.2017\n"
          ],
          "name": "stdout"
        }
      ]
    },
    {
      "cell_type": "code",
      "metadata": {
        "id": "77-JGVi-V3Vo",
        "colab_type": "code",
        "outputId": "d2f64449-dd4a-4612-e389-4e7f56546d8e",
        "colab": {
          "base_uri": "https://localhost:8080/",
          "height": 34
        }
      },
      "source": [
        "len(df_test)"
      ],
      "execution_count": 0,
      "outputs": [
        {
          "output_type": "execute_result",
          "data": {
            "text/plain": [
              "500"
            ]
          },
          "metadata": {
            "tags": []
          },
          "execution_count": 180
        }
      ]
    },
    {
      "cell_type": "code",
      "metadata": {
        "id": "Jq3iPDscTOwt",
        "colab_type": "code",
        "colab": {}
      },
      "source": [
        "model_non_finetuned = net"
      ],
      "execution_count": 0,
      "outputs": []
    },
    {
      "cell_type": "code",
      "metadata": {
        "id": "yBHUddsIN9Wl",
        "colab_type": "code",
        "colab": {}
      },
      "source": [
        "embs_specific_token=[]\n",
        "for sentence in df_test['sentence'].values:\n",
        "  _, emb = embedding_extractor(model_non_finetuned, sentence, tokenizer, specific_token='secondo', PRINT=False)\n",
        "  embs_specific_token.append(emb)"
      ],
      "execution_count": 0,
      "outputs": []
    },
    {
      "cell_type": "code",
      "metadata": {
        "id": "u8MvFDX-bopr",
        "colab_type": "code",
        "colab": {}
      },
      "source": [
        "from sklearn.manifold import TSNE\n",
        "from sklearn.metrics.pairwise import cosine_similarity\n",
        "import umap\n",
        "\n",
        "#--------------------------------------#\n",
        "SEED = 172\n",
        "random.seed(SEED)\n",
        "#--------------------------------------#\n",
        "\n",
        "# UMAP Proj\n",
        "reducer = umap.UMAP(random_state = SEED)\n",
        "umap_2d_token = reducer.fit_transform([np.array(emb[0]) for emb in embs_specific_token])\n",
        "\n",
        "#TSNE Proj\n",
        "tsne = TSNE(n_components=2, random_state = SEED)\n",
        "tsne_2d_token = tsne.fit_transform([np.array(emb[0]) for emb in embs_specific_token])\n",
        "\n",
        "\n",
        "#create column with umap 2d-coordinates for the fine-tuned specific token of gilberto model\n",
        "df_test['umap_2d_0_token'] = umap_2d_token[:,0]\n",
        "df_test['umap_2d_1_token'] = umap_2d_token[:,1]\n",
        "df_test['tsne_2d_0_token'] = tsne_2d_token[:,0]\n",
        "df_test['tsne_2d_1_token'] = tsne_2d_token[:,1]"
      ],
      "execution_count": 0,
      "outputs": []
    },
    {
      "cell_type": "code",
      "metadata": {
        "id": "pIUmARXwJmE8",
        "colab_type": "code",
        "colab": {}
      },
      "source": [
        "from sklearn.cluster import KMeans\n",
        "\n",
        "kmeans_clustering = KMeans( n_clusters = 6 , random_state = SEED)\n",
        "\n",
        "#idx_embs = kmeans_clustering.fit_predict([np.array(emb[0]) for emb in embs])\n",
        "idx_umap_2d  = kmeans_clustering.fit_predict(umap_2d_token)\n",
        "\n",
        "idx_tsne_2d = kmeans_clustering.fit_predict(tsne_2d_token)\n",
        "\n",
        "df_test['idx_umap_2d'] = idx_umap_2d\n",
        "df_test['idx_tsne_2d'] = idx_tsne_2d\n"
      ],
      "execution_count": 0,
      "outputs": []
    },
    {
      "cell_type": "code",
      "metadata": {
        "id": "i6nMTZesUAGX",
        "colab_type": "code",
        "colab": {}
      },
      "source": [
        "dict_label_number = {0: 'class_0', 1: 'class_1', 2: 'class_2', 3: 'class_3',  4: 'class_4', 5: 'class_5'}\n",
        "\n",
        "df_test['idx_umap_2d_str'] = list(map(lambda x: dict_label_number[x], df_test['idx_umap_2d'].values))\n",
        "df_test['idx_tsne_2d_str'] = list(map(lambda x: dict_label_number[x], df_test['idx_tsne_2d'].values))"
      ],
      "execution_count": 0,
      "outputs": []
    },
    {
      "cell_type": "code",
      "metadata": {
        "id": "NhMFRl_jcSES",
        "colab_type": "code",
        "outputId": "2f6fe1f9-0ed1-40fd-b016-f07ccb6b1517",
        "colab": {
          "base_uri": "https://localhost:8080/",
          "height": 1000
        }
      },
      "source": [
        "from bokeh.plotting import figure, show\n",
        "from bokeh.layouts import row, column\n",
        "from bokeh.models import HoverTool, ColumnDataSource \n",
        "from bokeh.transform import factor_cmap, factor_mark\n",
        "from bokeh.io import output_notebook\n",
        "\n",
        "# Call once to configure Bokeh to display plots inline in the notebook.\n",
        "output_notebook()\n",
        "\n",
        "# to use pandas dataframe\n",
        "source = ColumnDataSource.from_df(df_test) \n",
        "\n",
        "# to use some tools form bokeh\n",
        "tools_to_show = 'box_zoom, save, reset'\n",
        "\n",
        "# colors and markers for each class\n",
        "CLASSES= ['class_0', 'class_1', 'class_2', 'class_3', 'class_4', 'class_5']\n",
        "#MARKERS = ['hex', 'triangle', 'Cross']\n",
        "COLORS = [\"#7fc97f\", \"#f0027f\", \"#ff0000\", \"#000000\", \"#0000FF\", \"#666633\"]\n",
        "\n",
        "\n",
        "width, height = 1100, 700\n",
        "\n",
        "\n",
        "# plot title\n",
        "fig1 = figure(title = \"UMAP 2d - proj - Gilberto\", tools=tools_to_show, plot_width=width, plot_height=height)\n",
        "fig2 = figure(title = \"TSNE 2d - proj - Gilberto\", tools=tools_to_show, plot_width=width, plot_height=height)\n",
        "\n",
        "# define columns to plot\n",
        "#x0, y0 = \"umap_2d_0\", \"umap_2d_1\"\n",
        "x1, y1 = \"umap_2d_0_token\", \"umap_2d_1_token\"\n",
        "x2, y2 = \"tsne_2d_0_token\", \"tsne_2d_1_token\"\n",
        "\n",
        "\n",
        "fig1.xaxis.axis_label, fig1.yaxis.axis_label = x1, y1\n",
        "fig2.xaxis.axis_label, fig2.yaxis.axis_label = x2, y2\n",
        "\n",
        "# hovering tool\n",
        "fig1.add_tools(HoverTool(tooltips = [(\"columan_name\", \"@{sentence}\"),])) \n",
        "fig2.add_tools(HoverTool(tooltips = [(\"columan_name\", \"@{sentence}\"),])) \n",
        "\n",
        "\n",
        "factor_cmap_col = 'idx_tsne_2d_str'\n",
        "\n",
        "fig1.scatter(x1, y1, source=source, fill_alpha=0.4, size=12,\n",
        "          color=factor_cmap(factor_cmap_col, COLORS, CLASSES))\n",
        "fig2.scatter(x2, y2, source=source, fill_alpha=0.4, size=12,\n",
        "          marker=\"triangle\", color=factor_cmap(factor_cmap_col, COLORS, CLASSES))\n",
        "\n",
        "\n",
        "show(column(fig1,fig2))\n",
        "\n"
      ],
      "execution_count": 0,
      "outputs": [
        {
          "output_type": "display_data",
          "data": {
            "application/javascript": [
              "\n",
              "(function(root) {\n",
              "  function now() {\n",
              "    return new Date();\n",
              "  }\n",
              "\n",
              "  var force = true;\n",
              "\n",
              "  if (typeof root._bokeh_onload_callbacks === \"undefined\" || force === true) {\n",
              "    root._bokeh_onload_callbacks = [];\n",
              "    root._bokeh_is_loading = undefined;\n",
              "  }\n",
              "\n",
              "  var JS_MIME_TYPE = 'application/javascript';\n",
              "  var HTML_MIME_TYPE = 'text/html';\n",
              "  var EXEC_MIME_TYPE = 'application/vnd.bokehjs_exec.v0+json';\n",
              "  var CLASS_NAME = 'output_bokeh rendered_html';\n",
              "\n",
              "  /**\n",
              "   * Render data to the DOM node\n",
              "   */\n",
              "  function render(props, node) {\n",
              "    var script = document.createElement(\"script\");\n",
              "    node.appendChild(script);\n",
              "  }\n",
              "\n",
              "  /**\n",
              "   * Handle when an output is cleared or removed\n",
              "   */\n",
              "  function handleClearOutput(event, handle) {\n",
              "    var cell = handle.cell;\n",
              "\n",
              "    var id = cell.output_area._bokeh_element_id;\n",
              "    var server_id = cell.output_area._bokeh_server_id;\n",
              "    // Clean up Bokeh references\n",
              "    if (id != null && id in Bokeh.index) {\n",
              "      Bokeh.index[id].model.document.clear();\n",
              "      delete Bokeh.index[id];\n",
              "    }\n",
              "\n",
              "    if (server_id !== undefined) {\n",
              "      // Clean up Bokeh references\n",
              "      var cmd = \"from bokeh.io.state import curstate; print(curstate().uuid_to_server['\" + server_id + \"'].get_sessions()[0].document.roots[0]._id)\";\n",
              "      cell.notebook.kernel.execute(cmd, {\n",
              "        iopub: {\n",
              "          output: function(msg) {\n",
              "            var id = msg.content.text.trim();\n",
              "            if (id in Bokeh.index) {\n",
              "              Bokeh.index[id].model.document.clear();\n",
              "              delete Bokeh.index[id];\n",
              "            }\n",
              "          }\n",
              "        }\n",
              "      });\n",
              "      // Destroy server and session\n",
              "      var cmd = \"import bokeh.io.notebook as ion; ion.destroy_server('\" + server_id + \"')\";\n",
              "      cell.notebook.kernel.execute(cmd);\n",
              "    }\n",
              "  }\n",
              "\n",
              "  /**\n",
              "   * Handle when a new output is added\n",
              "   */\n",
              "  function handleAddOutput(event, handle) {\n",
              "    var output_area = handle.output_area;\n",
              "    var output = handle.output;\n",
              "\n",
              "    // limit handleAddOutput to display_data with EXEC_MIME_TYPE content only\n",
              "    if ((output.output_type != \"display_data\") || (!output.data.hasOwnProperty(EXEC_MIME_TYPE))) {\n",
              "      return\n",
              "    }\n",
              "\n",
              "    var toinsert = output_area.element.find(\".\" + CLASS_NAME.split(' ')[0]);\n",
              "\n",
              "    if (output.metadata[EXEC_MIME_TYPE][\"id\"] !== undefined) {\n",
              "      toinsert[toinsert.length - 1].firstChild.textContent = output.data[JS_MIME_TYPE];\n",
              "      // store reference to embed id on output_area\n",
              "      output_area._bokeh_element_id = output.metadata[EXEC_MIME_TYPE][\"id\"];\n",
              "    }\n",
              "    if (output.metadata[EXEC_MIME_TYPE][\"server_id\"] !== undefined) {\n",
              "      var bk_div = document.createElement(\"div\");\n",
              "      bk_div.innerHTML = output.data[HTML_MIME_TYPE];\n",
              "      var script_attrs = bk_div.children[0].attributes;\n",
              "      for (var i = 0; i < script_attrs.length; i++) {\n",
              "        toinsert[toinsert.length - 1].firstChild.setAttribute(script_attrs[i].name, script_attrs[i].value);\n",
              "      }\n",
              "      // store reference to server id on output_area\n",
              "      output_area._bokeh_server_id = output.metadata[EXEC_MIME_TYPE][\"server_id\"];\n",
              "    }\n",
              "  }\n",
              "\n",
              "  function register_renderer(events, OutputArea) {\n",
              "\n",
              "    function append_mime(data, metadata, element) {\n",
              "      // create a DOM node to render to\n",
              "      var toinsert = this.create_output_subarea(\n",
              "        metadata,\n",
              "        CLASS_NAME,\n",
              "        EXEC_MIME_TYPE\n",
              "      );\n",
              "      this.keyboard_manager.register_events(toinsert);\n",
              "      // Render to node\n",
              "      var props = {data: data, metadata: metadata[EXEC_MIME_TYPE]};\n",
              "      render(props, toinsert[toinsert.length - 1]);\n",
              "      element.append(toinsert);\n",
              "      return toinsert\n",
              "    }\n",
              "\n",
              "    /* Handle when an output is cleared or removed */\n",
              "    events.on('clear_output.CodeCell', handleClearOutput);\n",
              "    events.on('delete.Cell', handleClearOutput);\n",
              "\n",
              "    /* Handle when a new output is added */\n",
              "    events.on('output_added.OutputArea', handleAddOutput);\n",
              "\n",
              "    /**\n",
              "     * Register the mime type and append_mime function with output_area\n",
              "     */\n",
              "    OutputArea.prototype.register_mime_type(EXEC_MIME_TYPE, append_mime, {\n",
              "      /* Is output safe? */\n",
              "      safe: true,\n",
              "      /* Index of renderer in `output_area.display_order` */\n",
              "      index: 0\n",
              "    });\n",
              "  }\n",
              "\n",
              "  // register the mime type if in Jupyter Notebook environment and previously unregistered\n",
              "  if (root.Jupyter !== undefined) {\n",
              "    var events = require('base/js/events');\n",
              "    var OutputArea = require('notebook/js/outputarea').OutputArea;\n",
              "\n",
              "    if (OutputArea.prototype.mime_types().indexOf(EXEC_MIME_TYPE) == -1) {\n",
              "      register_renderer(events, OutputArea);\n",
              "    }\n",
              "  }\n",
              "\n",
              "  \n",
              "  if (typeof (root._bokeh_timeout) === \"undefined\" || force === true) {\n",
              "    root._bokeh_timeout = Date.now() + 5000;\n",
              "    root._bokeh_failed_load = false;\n",
              "  }\n",
              "\n",
              "  var NB_LOAD_WARNING = {'data': {'text/html':\n",
              "     \"<div style='background-color: #fdd'>\\n\"+\n",
              "     \"<p>\\n\"+\n",
              "     \"BokehJS does not appear to have successfully loaded. If loading BokehJS from CDN, this \\n\"+\n",
              "     \"may be due to a slow or bad network connection. Possible fixes:\\n\"+\n",
              "     \"</p>\\n\"+\n",
              "     \"<ul>\\n\"+\n",
              "     \"<li>re-rerun `output_notebook()` to attempt to load from CDN again, or</li>\\n\"+\n",
              "     \"<li>use INLINE resources instead, as so:</li>\\n\"+\n",
              "     \"</ul>\\n\"+\n",
              "     \"<code>\\n\"+\n",
              "     \"from bokeh.resources import INLINE\\n\"+\n",
              "     \"output_notebook(resources=INLINE)\\n\"+\n",
              "     \"</code>\\n\"+\n",
              "     \"</div>\"}};\n",
              "\n",
              "  function display_loaded() {\n",
              "    var el = document.getElementById(null);\n",
              "    if (el != null) {\n",
              "      el.textContent = \"BokehJS is loading...\";\n",
              "    }\n",
              "    if (root.Bokeh !== undefined) {\n",
              "      if (el != null) {\n",
              "        el.textContent = \"BokehJS \" + root.Bokeh.version + \" successfully loaded.\";\n",
              "      }\n",
              "    } else if (Date.now() < root._bokeh_timeout) {\n",
              "      setTimeout(display_loaded, 100)\n",
              "    }\n",
              "  }\n",
              "\n",
              "\n",
              "  function run_callbacks() {\n",
              "    try {\n",
              "      root._bokeh_onload_callbacks.forEach(function(callback) {\n",
              "        if (callback != null)\n",
              "          callback();\n",
              "      });\n",
              "    } finally {\n",
              "      delete root._bokeh_onload_callbacks\n",
              "    }\n",
              "    console.debug(\"Bokeh: all callbacks have finished\");\n",
              "  }\n",
              "\n",
              "  function load_libs(css_urls, js_urls, callback) {\n",
              "    if (css_urls == null) css_urls = [];\n",
              "    if (js_urls == null) js_urls = [];\n",
              "\n",
              "    root._bokeh_onload_callbacks.push(callback);\n",
              "    if (root._bokeh_is_loading > 0) {\n",
              "      console.debug(\"Bokeh: BokehJS is being loaded, scheduling callback at\", now());\n",
              "      return null;\n",
              "    }\n",
              "    if (js_urls == null || js_urls.length === 0) {\n",
              "      run_callbacks();\n",
              "      return null;\n",
              "    }\n",
              "    console.debug(\"Bokeh: BokehJS not loaded, scheduling load and callback at\", now());\n",
              "    root._bokeh_is_loading = css_urls.length + js_urls.length;\n",
              "\n",
              "    function on_load() {\n",
              "      root._bokeh_is_loading--;\n",
              "      if (root._bokeh_is_loading === 0) {\n",
              "        console.debug(\"Bokeh: all BokehJS libraries/stylesheets loaded\");\n",
              "        run_callbacks()\n",
              "      }\n",
              "    }\n",
              "\n",
              "    function on_error() {\n",
              "      console.error(\"failed to load \" + url);\n",
              "    }\n",
              "\n",
              "    for (var i = 0; i < css_urls.length; i++) {\n",
              "      var url = css_urls[i];\n",
              "      const element = document.createElement(\"link\");\n",
              "      element.onload = on_load;\n",
              "      element.onerror = on_error;\n",
              "      element.rel = \"stylesheet\";\n",
              "      element.type = \"text/css\";\n",
              "      element.href = url;\n",
              "      console.debug(\"Bokeh: injecting link tag for BokehJS stylesheet: \", url);\n",
              "      document.body.appendChild(element);\n",
              "    }\n",
              "\n",
              "    for (var i = 0; i < js_urls.length; i++) {\n",
              "      var url = js_urls[i];\n",
              "      var element = document.createElement('script');\n",
              "      element.onload = on_load;\n",
              "      element.onerror = on_error;\n",
              "      element.async = false;\n",
              "      element.src = url;\n",
              "      console.debug(\"Bokeh: injecting script tag for BokehJS library: \", url);\n",
              "      document.head.appendChild(element);\n",
              "    }\n",
              "  };\n",
              "\n",
              "  function inject_raw_css(css) {\n",
              "    const element = document.createElement(\"style\");\n",
              "    element.appendChild(document.createTextNode(css));\n",
              "    document.body.appendChild(element);\n",
              "  }\n",
              "\n",
              "  \n",
              "  var js_urls = [\"https://cdn.pydata.org/bokeh/release/bokeh-1.4.0.min.js\", \"https://cdn.pydata.org/bokeh/release/bokeh-widgets-1.4.0.min.js\", \"https://cdn.pydata.org/bokeh/release/bokeh-tables-1.4.0.min.js\", \"https://cdn.pydata.org/bokeh/release/bokeh-gl-1.4.0.min.js\"];\n",
              "  var css_urls = [];\n",
              "  \n",
              "\n",
              "  var inline_js = [\n",
              "    function(Bokeh) {\n",
              "      Bokeh.set_log_level(\"info\");\n",
              "    },\n",
              "    function(Bokeh) {\n",
              "    \n",
              "    \n",
              "    }\n",
              "  ];\n",
              "\n",
              "  function run_inline_js() {\n",
              "    \n",
              "    if (root.Bokeh !== undefined || force === true) {\n",
              "      \n",
              "    for (var i = 0; i < inline_js.length; i++) {\n",
              "      inline_js[i].call(root, root.Bokeh);\n",
              "    }\n",
              "    } else if (Date.now() < root._bokeh_timeout) {\n",
              "      setTimeout(run_inline_js, 100);\n",
              "    } else if (!root._bokeh_failed_load) {\n",
              "      console.log(\"Bokeh: BokehJS failed to load within specified timeout.\");\n",
              "      root._bokeh_failed_load = true;\n",
              "    } else if (force !== true) {\n",
              "      var cell = $(document.getElementById(null)).parents('.cell').data().cell;\n",
              "      cell.output_area.append_execute_result(NB_LOAD_WARNING)\n",
              "    }\n",
              "\n",
              "  }\n",
              "\n",
              "  if (root._bokeh_is_loading === 0) {\n",
              "    console.debug(\"Bokeh: BokehJS loaded, going straight to plotting\");\n",
              "    run_inline_js();\n",
              "  } else {\n",
              "    load_libs(css_urls, js_urls, function() {\n",
              "      console.debug(\"Bokeh: BokehJS plotting callback run at\", now());\n",
              "      run_inline_js();\n",
              "    });\n",
              "  }\n",
              "}(window));"
            ],
            "application/vnd.bokehjs_load.v0+json": "\n(function(root) {\n  function now() {\n    return new Date();\n  }\n\n  var force = true;\n\n  if (typeof root._bokeh_onload_callbacks === \"undefined\" || force === true) {\n    root._bokeh_onload_callbacks = [];\n    root._bokeh_is_loading = undefined;\n  }\n\n  \n\n  \n  if (typeof (root._bokeh_timeout) === \"undefined\" || force === true) {\n    root._bokeh_timeout = Date.now() + 5000;\n    root._bokeh_failed_load = false;\n  }\n\n  var NB_LOAD_WARNING = {'data': {'text/html':\n     \"<div style='background-color: #fdd'>\\n\"+\n     \"<p>\\n\"+\n     \"BokehJS does not appear to have successfully loaded. If loading BokehJS from CDN, this \\n\"+\n     \"may be due to a slow or bad network connection. Possible fixes:\\n\"+\n     \"</p>\\n\"+\n     \"<ul>\\n\"+\n     \"<li>re-rerun `output_notebook()` to attempt to load from CDN again, or</li>\\n\"+\n     \"<li>use INLINE resources instead, as so:</li>\\n\"+\n     \"</ul>\\n\"+\n     \"<code>\\n\"+\n     \"from bokeh.resources import INLINE\\n\"+\n     \"output_notebook(resources=INLINE)\\n\"+\n     \"</code>\\n\"+\n     \"</div>\"}};\n\n  function display_loaded() {\n    var el = document.getElementById(null);\n    if (el != null) {\n      el.textContent = \"BokehJS is loading...\";\n    }\n    if (root.Bokeh !== undefined) {\n      if (el != null) {\n        el.textContent = \"BokehJS \" + root.Bokeh.version + \" successfully loaded.\";\n      }\n    } else if (Date.now() < root._bokeh_timeout) {\n      setTimeout(display_loaded, 100)\n    }\n  }\n\n\n  function run_callbacks() {\n    try {\n      root._bokeh_onload_callbacks.forEach(function(callback) {\n        if (callback != null)\n          callback();\n      });\n    } finally {\n      delete root._bokeh_onload_callbacks\n    }\n    console.debug(\"Bokeh: all callbacks have finished\");\n  }\n\n  function load_libs(css_urls, js_urls, callback) {\n    if (css_urls == null) css_urls = [];\n    if (js_urls == null) js_urls = [];\n\n    root._bokeh_onload_callbacks.push(callback);\n    if (root._bokeh_is_loading > 0) {\n      console.debug(\"Bokeh: BokehJS is being loaded, scheduling callback at\", now());\n      return null;\n    }\n    if (js_urls == null || js_urls.length === 0) {\n      run_callbacks();\n      return null;\n    }\n    console.debug(\"Bokeh: BokehJS not loaded, scheduling load and callback at\", now());\n    root._bokeh_is_loading = css_urls.length + js_urls.length;\n\n    function on_load() {\n      root._bokeh_is_loading--;\n      if (root._bokeh_is_loading === 0) {\n        console.debug(\"Bokeh: all BokehJS libraries/stylesheets loaded\");\n        run_callbacks()\n      }\n    }\n\n    function on_error() {\n      console.error(\"failed to load \" + url);\n    }\n\n    for (var i = 0; i < css_urls.length; i++) {\n      var url = css_urls[i];\n      const element = document.createElement(\"link\");\n      element.onload = on_load;\n      element.onerror = on_error;\n      element.rel = \"stylesheet\";\n      element.type = \"text/css\";\n      element.href = url;\n      console.debug(\"Bokeh: injecting link tag for BokehJS stylesheet: \", url);\n      document.body.appendChild(element);\n    }\n\n    for (var i = 0; i < js_urls.length; i++) {\n      var url = js_urls[i];\n      var element = document.createElement('script');\n      element.onload = on_load;\n      element.onerror = on_error;\n      element.async = false;\n      element.src = url;\n      console.debug(\"Bokeh: injecting script tag for BokehJS library: \", url);\n      document.head.appendChild(element);\n    }\n  };\n\n  function inject_raw_css(css) {\n    const element = document.createElement(\"style\");\n    element.appendChild(document.createTextNode(css));\n    document.body.appendChild(element);\n  }\n\n  \n  var js_urls = [\"https://cdn.pydata.org/bokeh/release/bokeh-1.4.0.min.js\", \"https://cdn.pydata.org/bokeh/release/bokeh-widgets-1.4.0.min.js\", \"https://cdn.pydata.org/bokeh/release/bokeh-tables-1.4.0.min.js\", \"https://cdn.pydata.org/bokeh/release/bokeh-gl-1.4.0.min.js\"];\n  var css_urls = [];\n  \n\n  var inline_js = [\n    function(Bokeh) {\n      Bokeh.set_log_level(\"info\");\n    },\n    function(Bokeh) {\n    \n    \n    }\n  ];\n\n  function run_inline_js() {\n    \n    if (root.Bokeh !== undefined || force === true) {\n      \n    for (var i = 0; i < inline_js.length; i++) {\n      inline_js[i].call(root, root.Bokeh);\n    }\n    } else if (Date.now() < root._bokeh_timeout) {\n      setTimeout(run_inline_js, 100);\n    } else if (!root._bokeh_failed_load) {\n      console.log(\"Bokeh: BokehJS failed to load within specified timeout.\");\n      root._bokeh_failed_load = true;\n    } else if (force !== true) {\n      var cell = $(document.getElementById(null)).parents('.cell').data().cell;\n      cell.output_area.append_execute_result(NB_LOAD_WARNING)\n    }\n\n  }\n\n  if (root._bokeh_is_loading === 0) {\n    console.debug(\"Bokeh: BokehJS loaded, going straight to plotting\");\n    run_inline_js();\n  } else {\n    load_libs(css_urls, js_urls, function() {\n      console.debug(\"Bokeh: BokehJS plotting callback run at\", now());\n      run_inline_js();\n    });\n  }\n}(window));"
          },
          "metadata": {
            "tags": []
          }
        },
        {
          "output_type": "display_data",
          "data": {
            "text/html": [
              "\n",
              "\n",
              "\n",
              "\n",
              "\n",
              "\n",
              "  <div class=\"bk-root\" id=\"7d36d960-9382-42e7-8565-f1ba2155eada\" data-root-id=\"7489\"></div>\n"
            ]
          },
          "metadata": {
            "tags": []
          }
        },
        {
          "output_type": "display_data",
          "data": {
            "application/javascript": [
              "(function(root) {\n",
              "  function embed_document(root) {\n",
              "    \n",
              "  var docs_json = {\"176b7b8a-46e3-4a1d-bd51-bfed82606e0c\":{\"roots\":{\"references\":[{\"attributes\":{\"children\":[{\"id\":\"7415\",\"subtype\":\"Figure\",\"type\":\"Plot\"},{\"id\":\"7443\",\"subtype\":\"Figure\",\"type\":\"Plot\"}]},\"id\":\"7489\",\"type\":\"Column\"},{\"attributes\":{\"callback\":null,\"data\":{\"idx_tsne_2d\":{\"__ndarray__\":\"BAAAAAQAAAAEAAAABAAAAAUAAAABAAAAAwAAAAMAAAADAAAAAwAAAAMAAAADAAAAAwAAAAQAAAAAAAAAAQAAAAIAAAAFAAAABAAAAAQAAAABAAAABAAAAAMAAAAAAAAAAQAAAAMAAAAFAAAAAwAAAAAAAAABAAAAAQAAAAAAAAAEAAAAAwAAAAUAAAABAAAABQAAAAAAAAADAAAAAAAAAAIAAAAFAAAAAQAAAAEAAAABAAAAAQAAAAEAAAAEAAAAAQAAAAEAAAADAAAAAwAAAAEAAAACAAAAAAAAAAEAAAACAAAABAAAAAUAAAACAAAAAAAAAAUAAAACAAAABQAAAAQAAAAAAAAAAAAAAAUAAAAEAAAAAQAAAAEAAAABAAAAAQAAAAAAAAAAAAAAAQAAAAEAAAAEAAAAAgAAAAEAAAAFAAAAAwAAAAMAAAAFAAAAAQAAAAMAAAAEAAAAAQAAAAMAAAACAAAABQAAAAUAAAAFAAAAAAAAAAQAAAACAAAABQAAAAEAAAADAAAABAAAAAAAAAAAAAAABAAAAAUAAAAFAAAAAgAAAAMAAAADAAAAAwAAAAMAAAAFAAAAAgAAAAUAAAAFAAAAAAAAAAEAAAADAAAAAQAAAAAAAAAEAAAABQAAAAEAAAACAAAAAQAAAAEAAAADAAAAAwAAAAMAAAADAAAAAAAAAAMAAAADAAAAAwAAAAAAAAAAAAAAAwAAAAAAAAAAAAAAAQAAAAUAAAAAAAAABQAAAAQAAAADAAAAAwAAAAAAAAABAAAABQAAAAUAAAABAAAAAAAAAAMAAAAAAAAAAAAAAAAAAAAFAAAABQAAAAAAAAAFAAAAAQAAAAAAAAACAAAAAgAAAAIAAAAAAAAABQAAAAQAAAADAAAABAAAAAUAAAABAAAABAAAAAEAAAABAAAAAAAAAAEAAAADAAAAAwAAAAEAAAADAAAABAAAAAEAAAAEAAAAAgAAAAEAAAAAAAAAAQAAAAIAAAACAAAAAwAAAAAAAAAEAAAABQAAAAIAAAAFAAAAAQAAAAIAAAAFAAAAAwAAAAMAAAADAAAAAgAAAAAAAAACAAAAAgAAAAAAAAAAAAAABAAAAAAAAAAFAAAABQAAAAUAAAABAAAAAwAAAAQAAAAFAAAABQAAAAAAAAADAAAAAwAAAAMAAAABAAAAAAAAAAQAAAADAAAABQAAAAEAAAABAAAAAQAAAAMAAAADAAAABAAAAAEAAAAFAAAAAwAAAAUAAAAFAAAAAgAAAAQAAAAAAAAAAQAAAAEAAAACAAAAAAAAAAEAAAAFAAAAAgAAAAUAAAABAAAAAQAAAAEAAAAAAAAAAwAAAAMAAAAFAAAAAQAAAAMAAAACAAAABQAAAAUAAAACAAAAAAAAAAEAAAAFAAAAAAAAAAAAAAAAAAAABQAAAAMAAAAFAAAAAwAAAAUAAAAAAAAAAAAAAAIAAAABAAAABAAAAAAAAAACAAAAAgAAAAIAAAAFAAAABQAAAAIAAAACAAAAAQAAAAAAAAAAAAAAAAAAAAEAAAABAAAAAgAAAAAAAAAEAAAAAAAAAAUAAAACAAAAAAAAAAAAAAAEAAAAAQAAAAEAAAACAAAABAAAAAIAAAABAAAAAQAAAAEAAAABAAAABQAAAAQAAAAFAAAAAAAAAAMAAAAAAAAAAAAAAAQAAAADAAAAAwAAAAIAAAAAAAAABAAAAAQAAAABAAAAAgAAAAAAAAABAAAABQAAAAAAAAABAAAAAgAAAAAAAAADAAAAAwAAAAEAAAAEAAAABQAAAAEAAAAFAAAABQAAAAUAAAAFAAAABQAAAAUAAAAFAAAAAQAAAAEAAAAEAAAAAAAAAAAAAAAAAAAAAQAAAAUAAAAAAAAABQAAAAAAAAAFAAAAAAAAAAQAAAACAAAAAgAAAAEAAAAFAAAABQAAAAEAAAABAAAAAQAAAAQAAAAFAAAAAwAAAAIAAAAAAAAABAAAAAIAAAADAAAABAAAAAQAAAAEAAAABAAAAAQAAAAAAAAAAAAAAAMAAAAEAAAAAAAAAAMAAAAAAAAAAQAAAAQAAAADAAAAAAAAAAUAAAADAAAAAAAAAAUAAAABAAAAAgAAAAUAAAABAAAAAQAAAAEAAAAFAAAAAwAAAAQAAAABAAAAAwAAAAUAAAAEAAAABAAAAAAAAAAAAAAAAAAAAAAAAAACAAAABQAAAAUAAAACAAAAAAAAAAAAAAAAAAAAAwAAAAMAAAAAAAAAAAAAAAUAAAABAAAABAAAAAUAAAAAAAAAAAAAAAUAAAABAAAAAAAAAAMAAAABAAAABAAAAAQAAAABAAAAAwAAAAMAAAABAAAAAAAAAAAAAAADAAAABQAAAAQAAAABAAAAAQAAAAEAAAAAAAAABAAAAAEAAAAAAAAABQAAAAEAAAAFAAAAAwAAAAEAAAACAAAABAAAAAAAAAACAAAAAAAAAAMAAAAAAAAAAAAAAAQAAAACAAAABQAAAAEAAAADAAAABAAAAAIAAAADAAAAAgAAAAAAAAADAAAAAwAAAAUAAAAEAAAABAAAAAEAAAAAAAAAAAAAAAAAAAAFAAAABQAAAAQAAAAEAAAABAAAAAQAAAAEAAAABAAAAAUAAAAEAAAAAAAAAAUAAAAFAAAAAAAAAAIAAAA=\",\"dtype\":\"int32\",\"shape\":[500]},\"idx_tsne_2d_str\":[\"class_4\",\"class_4\",\"class_4\",\"class_4\",\"class_5\",\"class_1\",\"class_3\",\"class_3\",\"class_3\",\"class_3\",\"class_3\",\"class_3\",\"class_3\",\"class_4\",\"class_0\",\"class_1\",\"class_2\",\"class_5\",\"class_4\",\"class_4\",\"class_1\",\"class_4\",\"class_3\",\"class_0\",\"class_1\",\"class_3\",\"class_5\",\"class_3\",\"class_0\",\"class_1\",\"class_1\",\"class_0\",\"class_4\",\"class_3\",\"class_5\",\"class_1\",\"class_5\",\"class_0\",\"class_3\",\"class_0\",\"class_2\",\"class_5\",\"class_1\",\"class_1\",\"class_1\",\"class_1\",\"class_1\",\"class_4\",\"class_1\",\"class_1\",\"class_3\",\"class_3\",\"class_1\",\"class_2\",\"class_0\",\"class_1\",\"class_2\",\"class_4\",\"class_5\",\"class_2\",\"class_0\",\"class_5\",\"class_2\",\"class_5\",\"class_4\",\"class_0\",\"class_0\",\"class_5\",\"class_4\",\"class_1\",\"class_1\",\"class_1\",\"class_1\",\"class_0\",\"class_0\",\"class_1\",\"class_1\",\"class_4\",\"class_2\",\"class_1\",\"class_5\",\"class_3\",\"class_3\",\"class_5\",\"class_1\",\"class_3\",\"class_4\",\"class_1\",\"class_3\",\"class_2\",\"class_5\",\"class_5\",\"class_5\",\"class_0\",\"class_4\",\"class_2\",\"class_5\",\"class_1\",\"class_3\",\"class_4\",\"class_0\",\"class_0\",\"class_4\",\"class_5\",\"class_5\",\"class_2\",\"class_3\",\"class_3\",\"class_3\",\"class_3\",\"class_5\",\"class_2\",\"class_5\",\"class_5\",\"class_0\",\"class_1\",\"class_3\",\"class_1\",\"class_0\",\"class_4\",\"class_5\",\"class_1\",\"class_2\",\"class_1\",\"class_1\",\"class_3\",\"class_3\",\"class_3\",\"class_3\",\"class_0\",\"class_3\",\"class_3\",\"class_3\",\"class_0\",\"class_0\",\"class_3\",\"class_0\",\"class_0\",\"class_1\",\"class_5\",\"class_0\",\"class_5\",\"class_4\",\"class_3\",\"class_3\",\"class_0\",\"class_1\",\"class_5\",\"class_5\",\"class_1\",\"class_0\",\"class_3\",\"class_0\",\"class_0\",\"class_0\",\"class_5\",\"class_5\",\"class_0\",\"class_5\",\"class_1\",\"class_0\",\"class_2\",\"class_2\",\"class_2\",\"class_0\",\"class_5\",\"class_4\",\"class_3\",\"class_4\",\"class_5\",\"class_1\",\"class_4\",\"class_1\",\"class_1\",\"class_0\",\"class_1\",\"class_3\",\"class_3\",\"class_1\",\"class_3\",\"class_4\",\"class_1\",\"class_4\",\"class_2\",\"class_1\",\"class_0\",\"class_1\",\"class_2\",\"class_2\",\"class_3\",\"class_0\",\"class_4\",\"class_5\",\"class_2\",\"class_5\",\"class_1\",\"class_2\",\"class_5\",\"class_3\",\"class_3\",\"class_3\",\"class_2\",\"class_0\",\"class_2\",\"class_2\",\"class_0\",\"class_0\",\"class_4\",\"class_0\",\"class_5\",\"class_5\",\"class_5\",\"class_1\",\"class_3\",\"class_4\",\"class_5\",\"class_5\",\"class_0\",\"class_3\",\"class_3\",\"class_3\",\"class_1\",\"class_0\",\"class_4\",\"class_3\",\"class_5\",\"class_1\",\"class_1\",\"class_1\",\"class_3\",\"class_3\",\"class_4\",\"class_1\",\"class_5\",\"class_3\",\"class_5\",\"class_5\",\"class_2\",\"class_4\",\"class_0\",\"class_1\",\"class_1\",\"class_2\",\"class_0\",\"class_1\",\"class_5\",\"class_2\",\"class_5\",\"class_1\",\"class_1\",\"class_1\",\"class_0\",\"class_3\",\"class_3\",\"class_5\",\"class_1\",\"class_3\",\"class_2\",\"class_5\",\"class_5\",\"class_2\",\"class_0\",\"class_1\",\"class_5\",\"class_0\",\"class_0\",\"class_0\",\"class_5\",\"class_3\",\"class_5\",\"class_3\",\"class_5\",\"class_0\",\"class_0\",\"class_2\",\"class_1\",\"class_4\",\"class_0\",\"class_2\",\"class_2\",\"class_2\",\"class_5\",\"class_5\",\"class_2\",\"class_2\",\"class_1\",\"class_0\",\"class_0\",\"class_0\",\"class_1\",\"class_1\",\"class_2\",\"class_0\",\"class_4\",\"class_0\",\"class_5\",\"class_2\",\"class_0\",\"class_0\",\"class_4\",\"class_1\",\"class_1\",\"class_2\",\"class_4\",\"class_2\",\"class_1\",\"class_1\",\"class_1\",\"class_1\",\"class_5\",\"class_4\",\"class_5\",\"class_0\",\"class_3\",\"class_0\",\"class_0\",\"class_4\",\"class_3\",\"class_3\",\"class_2\",\"class_0\",\"class_4\",\"class_4\",\"class_1\",\"class_2\",\"class_0\",\"class_1\",\"class_5\",\"class_0\",\"class_1\",\"class_2\",\"class_0\",\"class_3\",\"class_3\",\"class_1\",\"class_4\",\"class_5\",\"class_1\",\"class_5\",\"class_5\",\"class_5\",\"class_5\",\"class_5\",\"class_5\",\"class_5\",\"class_1\",\"class_1\",\"class_4\",\"class_0\",\"class_0\",\"class_0\",\"class_1\",\"class_5\",\"class_0\",\"class_5\",\"class_0\",\"class_5\",\"class_0\",\"class_4\",\"class_2\",\"class_2\",\"class_1\",\"class_5\",\"class_5\",\"class_1\",\"class_1\",\"class_1\",\"class_4\",\"class_5\",\"class_3\",\"class_2\",\"class_0\",\"class_4\",\"class_2\",\"class_3\",\"class_4\",\"class_4\",\"class_4\",\"class_4\",\"class_4\",\"class_0\",\"class_0\",\"class_3\",\"class_4\",\"class_0\",\"class_3\",\"class_0\",\"class_1\",\"class_4\",\"class_3\",\"class_0\",\"class_5\",\"class_3\",\"class_0\",\"class_5\",\"class_1\",\"class_2\",\"class_5\",\"class_1\",\"class_1\",\"class_1\",\"class_5\",\"class_3\",\"class_4\",\"class_1\",\"class_3\",\"class_5\",\"class_4\",\"class_4\",\"class_0\",\"class_0\",\"class_0\",\"class_0\",\"class_2\",\"class_5\",\"class_5\",\"class_2\",\"class_0\",\"class_0\",\"class_0\",\"class_3\",\"class_3\",\"class_0\",\"class_0\",\"class_5\",\"class_1\",\"class_4\",\"class_5\",\"class_0\",\"class_0\",\"class_5\",\"class_1\",\"class_0\",\"class_3\",\"class_1\",\"class_4\",\"class_4\",\"class_1\",\"class_3\",\"class_3\",\"class_1\",\"class_0\",\"class_0\",\"class_3\",\"class_5\",\"class_4\",\"class_1\",\"class_1\",\"class_1\",\"class_0\",\"class_4\",\"class_1\",\"class_0\",\"class_5\",\"class_1\",\"class_5\",\"class_3\",\"class_1\",\"class_2\",\"class_4\",\"class_0\",\"class_2\",\"class_0\",\"class_3\",\"class_0\",\"class_0\",\"class_4\",\"class_2\",\"class_5\",\"class_1\",\"class_3\",\"class_4\",\"class_2\",\"class_3\",\"class_2\",\"class_0\",\"class_3\",\"class_3\",\"class_5\",\"class_4\",\"class_4\",\"class_1\",\"class_0\",\"class_0\",\"class_0\",\"class_5\",\"class_5\",\"class_4\",\"class_4\",\"class_4\",\"class_4\",\"class_4\",\"class_4\",\"class_5\",\"class_4\",\"class_0\",\"class_5\",\"class_5\",\"class_0\",\"class_2\"],\"idx_umap_2d\":{\"__ndarray__\":\"AQAAAAEAAAABAAAAAQAAAAMAAAABAAAAAgAAAAIAAAACAAAAAgAAAAIAAAACAAAAAgAAAAEAAAAEAAAAAQAAAAAAAAAFAAAAAQAAAAEAAAABAAAAAQAAAAIAAAAEAAAAAQAAAAIAAAAFAAAAAgAAAAQAAAABAAAAAQAAAAQAAAABAAAAAgAAAAUAAAABAAAABQAAAAQAAAAEAAAABAAAAAAAAAADAAAAAQAAAAEAAAABAAAAAQAAAAEAAAABAAAAAQAAAAEAAAACAAAABAAAAAEAAAAAAAAABAAAAAEAAAAAAAAAAQAAAAUAAAAAAAAABAAAAAUAAAAAAAAABQAAAAEAAAAEAAAABAAAAAMAAAABAAAAAQAAAAEAAAABAAAAAQAAAAQAAAAEAAAAAQAAAAEAAAABAAAAAAAAAAEAAAAFAAAABAAAAAIAAAAFAAAAAQAAAAIAAAABAAAAAQAAAAQAAAAAAAAABQAAAAUAAAAFAAAABAAAAAEAAAAAAAAABQAAAAEAAAACAAAAAQAAAAQAAAAEAAAAAQAAAAEAAAAFAAAAAAAAAAQAAAACAAAAAgAAAAIAAAAFAAAAAAAAAAUAAAAFAAAABAAAAAEAAAAEAAAAAQAAAAQAAAABAAAABQAAAAEAAAAAAAAAAQAAAAEAAAACAAAAAgAAAAIAAAACAAAABAAAAAIAAAACAAAAAgAAAAQAAAAEAAAAAgAAAAQAAAAEAAAAAQAAAAUAAAAEAAAABQAAAAEAAAACAAAABAAAAAQAAAABAAAAAwAAAAUAAAABAAAABAAAAAIAAAAEAAAABAAAAAQAAAADAAAAAwAAAAQAAAADAAAAAQAAAAQAAAAAAAAAAAAAAAAAAAAEAAAABQAAAAEAAAAEAAAAAQAAAAUAAAABAAAAAQAAAAEAAAABAAAABAAAAAEAAAAEAAAAAgAAAAEAAAACAAAAAQAAAAEAAAABAAAAAAAAAAEAAAAEAAAAAQAAAAAAAAAAAAAAAgAAAAQAAAABAAAABQAAAAAAAAAFAAAAAQAAAAAAAAADAAAAAgAAAAIAAAACAAAAAAAAAAQAAAAAAAAAAAAAAAQAAAAEAAAAAQAAAAQAAAADAAAABQAAAAUAAAABAAAAAgAAAAEAAAAFAAAABQAAAAQAAAAEAAAABAAAAAQAAAABAAAABAAAAAEAAAACAAAAAwAAAAEAAAABAAAAAQAAAAIAAAAEAAAAAQAAAAEAAAAFAAAAAgAAAAUAAAAFAAAAAAAAAAEAAAAEAAAAAQAAAAEAAAAAAAAABAAAAAEAAAAFAAAAAAAAAAUAAAABAAAAAQAAAAEAAAAEAAAAAgAAAAIAAAAFAAAAAQAAAAIAAAAAAAAABQAAAAUAAAAAAAAABAAAAAEAAAAFAAAABAAAAAQAAAAEAAAABQAAAAQAAAAFAAAAAgAAAAUAAAAEAAAABAAAAAAAAAABAAAAAQAAAAQAAAAAAAAAAAAAAAAAAAAFAAAABQAAAAAAAAAAAAAAAQAAAAQAAAAEAAAABAAAAAEAAAABAAAAAAAAAAQAAAABAAAABAAAAAEAAAAAAAAABAAAAAQAAAABAAAAAQAAAAEAAAAAAAAAAQAAAAAAAAABAAAAAQAAAAEAAAABAAAAAwAAAAEAAAADAAAABAAAAAIAAAAEAAAABAAAAAEAAAAEAAAAAgAAAAAAAAAEAAAAAQAAAAEAAAABAAAAAAAAAAQAAAABAAAABQAAAAQAAAABAAAAAAAAAAQAAAACAAAAAgAAAAEAAAABAAAABQAAAAEAAAAFAAAABQAAAAUAAAAFAAAABQAAAAUAAAAFAAAAAQAAAAEAAAABAAAABAAAAAQAAAAEAAAAAQAAAAUAAAAEAAAABQAAAAQAAAAFAAAABAAAAAEAAAAAAAAAAAAAAAEAAAADAAAABQAAAAEAAAABAAAAAQAAAAEAAAAFAAAAAgAAAAAAAAAEAAAAAQAAAAAAAAACAAAAAQAAAAEAAAABAAAAAQAAAAEAAAAEAAAABAAAAAQAAAABAAAABAAAAAIAAAAEAAAAAQAAAAEAAAAEAAAABAAAAAUAAAACAAAABAAAAAEAAAABAAAAAAAAAAUAAAABAAAAAQAAAAEAAAAFAAAABAAAAAEAAAABAAAAAgAAAAUAAAABAAAAAQAAAAQAAAAEAAAABAAAAAQAAAAAAAAABQAAAAUAAAAAAAAABAAAAAQAAAAEAAAAAgAAAAIAAAAEAAAABAAAAAEAAAABAAAAAQAAAAUAAAAEAAAABAAAAAUAAAABAAAABAAAAAQAAAABAAAAAQAAAAEAAAABAAAAAgAAAAQAAAABAAAABAAAAAQAAAACAAAABQAAAAEAAAABAAAAAQAAAAEAAAAEAAAAAQAAAAEAAAAEAAAABQAAAAEAAAAFAAAABAAAAAEAAAAAAAAAAQAAAAQAAAAAAAAABAAAAAIAAAAEAAAABAAAAAEAAAAAAAAABQAAAAEAAAAEAAAAAQAAAAAAAAAEAAAAAAAAAAQAAAAEAAAABAAAAAUAAAABAAAAAQAAAAEAAAAEAAAABAAAAAQAAAAFAAAABQAAAAEAAAABAAAAAQAAAAEAAAABAAAAAQAAAAUAAAABAAAABAAAAAUAAAAFAAAABAAAAAAAAAA=\",\"dtype\":\"int32\",\"shape\":[500]},\"idx_umap_2d_str\":[\"class_1\",\"class_1\",\"class_1\",\"class_1\",\"class_3\",\"class_1\",\"class_2\",\"class_2\",\"class_2\",\"class_2\",\"class_2\",\"class_2\",\"class_2\",\"class_1\",\"class_4\",\"class_1\",\"class_0\",\"class_5\",\"class_1\",\"class_1\",\"class_1\",\"class_1\",\"class_2\",\"class_4\",\"class_1\",\"class_2\",\"class_5\",\"class_2\",\"class_4\",\"class_1\",\"class_1\",\"class_4\",\"class_1\",\"class_2\",\"class_5\",\"class_1\",\"class_5\",\"class_4\",\"class_4\",\"class_4\",\"class_0\",\"class_3\",\"class_1\",\"class_1\",\"class_1\",\"class_1\",\"class_1\",\"class_1\",\"class_1\",\"class_1\",\"class_2\",\"class_4\",\"class_1\",\"class_0\",\"class_4\",\"class_1\",\"class_0\",\"class_1\",\"class_5\",\"class_0\",\"class_4\",\"class_5\",\"class_0\",\"class_5\",\"class_1\",\"class_4\",\"class_4\",\"class_3\",\"class_1\",\"class_1\",\"class_1\",\"class_1\",\"class_1\",\"class_4\",\"class_4\",\"class_1\",\"class_1\",\"class_1\",\"class_0\",\"class_1\",\"class_5\",\"class_4\",\"class_2\",\"class_5\",\"class_1\",\"class_2\",\"class_1\",\"class_1\",\"class_4\",\"class_0\",\"class_5\",\"class_5\",\"class_5\",\"class_4\",\"class_1\",\"class_0\",\"class_5\",\"class_1\",\"class_2\",\"class_1\",\"class_4\",\"class_4\",\"class_1\",\"class_1\",\"class_5\",\"class_0\",\"class_4\",\"class_2\",\"class_2\",\"class_2\",\"class_5\",\"class_0\",\"class_5\",\"class_5\",\"class_4\",\"class_1\",\"class_4\",\"class_1\",\"class_4\",\"class_1\",\"class_5\",\"class_1\",\"class_0\",\"class_1\",\"class_1\",\"class_2\",\"class_2\",\"class_2\",\"class_2\",\"class_4\",\"class_2\",\"class_2\",\"class_2\",\"class_4\",\"class_4\",\"class_2\",\"class_4\",\"class_4\",\"class_1\",\"class_5\",\"class_4\",\"class_5\",\"class_1\",\"class_2\",\"class_4\",\"class_4\",\"class_1\",\"class_3\",\"class_5\",\"class_1\",\"class_4\",\"class_2\",\"class_4\",\"class_4\",\"class_4\",\"class_3\",\"class_3\",\"class_4\",\"class_3\",\"class_1\",\"class_4\",\"class_0\",\"class_0\",\"class_0\",\"class_4\",\"class_5\",\"class_1\",\"class_4\",\"class_1\",\"class_5\",\"class_1\",\"class_1\",\"class_1\",\"class_1\",\"class_4\",\"class_1\",\"class_4\",\"class_2\",\"class_1\",\"class_2\",\"class_1\",\"class_1\",\"class_1\",\"class_0\",\"class_1\",\"class_4\",\"class_1\",\"class_0\",\"class_0\",\"class_2\",\"class_4\",\"class_1\",\"class_5\",\"class_0\",\"class_5\",\"class_1\",\"class_0\",\"class_3\",\"class_2\",\"class_2\",\"class_2\",\"class_0\",\"class_4\",\"class_0\",\"class_0\",\"class_4\",\"class_4\",\"class_1\",\"class_4\",\"class_3\",\"class_5\",\"class_5\",\"class_1\",\"class_2\",\"class_1\",\"class_5\",\"class_5\",\"class_4\",\"class_4\",\"class_4\",\"class_4\",\"class_1\",\"class_4\",\"class_1\",\"class_2\",\"class_3\",\"class_1\",\"class_1\",\"class_1\",\"class_2\",\"class_4\",\"class_1\",\"class_1\",\"class_5\",\"class_2\",\"class_5\",\"class_5\",\"class_0\",\"class_1\",\"class_4\",\"class_1\",\"class_1\",\"class_0\",\"class_4\",\"class_1\",\"class_5\",\"class_0\",\"class_5\",\"class_1\",\"class_1\",\"class_1\",\"class_4\",\"class_2\",\"class_2\",\"class_5\",\"class_1\",\"class_2\",\"class_0\",\"class_5\",\"class_5\",\"class_0\",\"class_4\",\"class_1\",\"class_5\",\"class_4\",\"class_4\",\"class_4\",\"class_5\",\"class_4\",\"class_5\",\"class_2\",\"class_5\",\"class_4\",\"class_4\",\"class_0\",\"class_1\",\"class_1\",\"class_4\",\"class_0\",\"class_0\",\"class_0\",\"class_5\",\"class_5\",\"class_0\",\"class_0\",\"class_1\",\"class_4\",\"class_4\",\"class_4\",\"class_1\",\"class_1\",\"class_0\",\"class_4\",\"class_1\",\"class_4\",\"class_1\",\"class_0\",\"class_4\",\"class_4\",\"class_1\",\"class_1\",\"class_1\",\"class_0\",\"class_1\",\"class_0\",\"class_1\",\"class_1\",\"class_1\",\"class_1\",\"class_3\",\"class_1\",\"class_3\",\"class_4\",\"class_2\",\"class_4\",\"class_4\",\"class_1\",\"class_4\",\"class_2\",\"class_0\",\"class_4\",\"class_1\",\"class_1\",\"class_1\",\"class_0\",\"class_4\",\"class_1\",\"class_5\",\"class_4\",\"class_1\",\"class_0\",\"class_4\",\"class_2\",\"class_2\",\"class_1\",\"class_1\",\"class_5\",\"class_1\",\"class_5\",\"class_5\",\"class_5\",\"class_5\",\"class_5\",\"class_5\",\"class_5\",\"class_1\",\"class_1\",\"class_1\",\"class_4\",\"class_4\",\"class_4\",\"class_1\",\"class_5\",\"class_4\",\"class_5\",\"class_4\",\"class_5\",\"class_4\",\"class_1\",\"class_0\",\"class_0\",\"class_1\",\"class_3\",\"class_5\",\"class_1\",\"class_1\",\"class_1\",\"class_1\",\"class_5\",\"class_2\",\"class_0\",\"class_4\",\"class_1\",\"class_0\",\"class_2\",\"class_1\",\"class_1\",\"class_1\",\"class_1\",\"class_1\",\"class_4\",\"class_4\",\"class_4\",\"class_1\",\"class_4\",\"class_2\",\"class_4\",\"class_1\",\"class_1\",\"class_4\",\"class_4\",\"class_5\",\"class_2\",\"class_4\",\"class_1\",\"class_1\",\"class_0\",\"class_5\",\"class_1\",\"class_1\",\"class_1\",\"class_5\",\"class_4\",\"class_1\",\"class_1\",\"class_2\",\"class_5\",\"class_1\",\"class_1\",\"class_4\",\"class_4\",\"class_4\",\"class_4\",\"class_0\",\"class_5\",\"class_5\",\"class_0\",\"class_4\",\"class_4\",\"class_4\",\"class_2\",\"class_2\",\"class_4\",\"class_4\",\"class_1\",\"class_1\",\"class_1\",\"class_5\",\"class_4\",\"class_4\",\"class_5\",\"class_1\",\"class_4\",\"class_4\",\"class_1\",\"class_1\",\"class_1\",\"class_1\",\"class_2\",\"class_4\",\"class_1\",\"class_4\",\"class_4\",\"class_2\",\"class_5\",\"class_1\",\"class_1\",\"class_1\",\"class_1\",\"class_4\",\"class_1\",\"class_1\",\"class_4\",\"class_5\",\"class_1\",\"class_5\",\"class_4\",\"class_1\",\"class_0\",\"class_1\",\"class_4\",\"class_0\",\"class_4\",\"class_2\",\"class_4\",\"class_4\",\"class_1\",\"class_0\",\"class_5\",\"class_1\",\"class_4\",\"class_1\",\"class_0\",\"class_4\",\"class_0\",\"class_4\",\"class_4\",\"class_4\",\"class_5\",\"class_1\",\"class_1\",\"class_1\",\"class_4\",\"class_4\",\"class_4\",\"class_5\",\"class_5\",\"class_1\",\"class_1\",\"class_1\",\"class_1\",\"class_1\",\"class_1\",\"class_5\",\"class_1\",\"class_4\",\"class_5\",\"class_5\",\"class_4\",\"class_0\"],\"index\":[0,1,2,3,4,5,6,7,8,9,10,11,12,13,14,15,16,17,18,19,20,21,22,23,24,25,26,27,28,29,30,31,32,33,34,35,36,37,38,39,40,41,42,43,44,45,46,47,48,49,50,51,52,53,54,55,56,57,58,59,60,61,62,63,64,65,66,67,68,69,70,71,72,73,74,75,76,77,78,79,80,81,82,83,84,85,86,87,88,89,90,91,92,93,94,95,96,97,98,99,100,101,102,103,104,105,106,107,108,109,110,111,112,113,114,115,116,117,118,119,120,121,122,123,124,125,126,127,128,129,130,131,132,133,134,135,136,137,138,139,140,141,142,143,144,145,146,147,148,149,150,151,152,153,154,155,156,157,158,159,160,161,162,163,164,165,166,167,168,169,170,171,172,173,174,175,176,177,178,179,180,181,182,183,184,185,186,187,188,189,190,191,192,193,194,195,196,197,198,199,200,201,202,203,204,205,206,207,208,209,210,211,212,213,214,215,216,217,218,219,220,221,222,223,224,225,226,227,228,229,230,231,232,233,234,235,236,237,238,239,240,241,242,243,244,245,246,247,248,249,250,251,252,253,254,255,256,257,258,259,260,261,262,263,264,265,266,267,268,269,270,271,272,273,274,275,276,277,278,279,280,281,282,283,284,285,286,287,288,289,290,291,292,293,294,295,296,297,298,299,300,301,302,303,304,305,306,307,308,309,310,311,312,313,314,315,316,317,318,319,320,321,322,323,324,325,326,327,328,329,330,331,332,333,334,335,336,337,338,339,340,341,342,343,344,345,346,347,348,349,350,351,352,353,354,355,356,357,358,359,360,361,362,363,364,365,366,367,368,369,370,371,372,373,374,375,376,377,378,379,380,381,382,383,384,385,386,387,388,389,390,391,392,393,394,395,396,397,398,399,400,401,402,403,404,405,406,407,408,409,410,411,412,413,414,415,416,417,418,419,420,421,422,423,424,425,426,427,428,429,430,431,432,433,434,435,436,437,438,439,440,441,442,443,444,445,446,447,448,449,450,451,452,453,454,455,456,457,458,459,460,461,462,463,464,465,466,467,468,469,470,471,472,473,474,475,476,477,478,479,480,481,482,483,484,485,486,487,488,489,490,491,492,493,494,495,496,497,498,499],\"sentence\":[\"\\ufeffIn PHP per effettuare l\\u2019encoding di stringhe secondo il formato JSON si utilizza la funzione json_encode, la quale pu\\u00f2 produrre solo due possibili valori\",\"Si noti che tutte le informazioni passate alla funzione in esame devono essere codificate secondo il formato UTF-8.\",\"La decodifica di oggetti espressi secondo il formato JON avviene adottando la funzione json_decode. Questa funzione accetta in input solo due informazioni:\",\"Si introdurranno poi le topologie delle reti di calcolatori per capire meglio come gli apparati vengono interconnessi e secondo quali standard.\",\"Le dichiarazioni di Moscovici secondo cui portare il deficit oltre il 3% del Pil \\\"sarebbe un controsenso\\\", questo perch\\u00e9 il tetto...\",\"Iscr. e reg. Tribunale di Napoli n. 5208 del 13/4/2001 Responsabile secondo le vigenti norme sulla stampa: Danilo Bors\\u00f2\",\"2016-09-09 - AVVISO IMPORTANTE - Pubblicazione posti disponibili per Ambito per nomine a T.I. nella scuola media di primo e secondo grado. A.S. 2016/17.\",\"2016-10-18 - RECLUTAMENTO - ripubblicazione delle graduatorie ad esaurimento relative alla scuola secondaria di primo e secondo grado\",\"2017-09-01 - Decreto sulle utilizzazioni e assegnazioni provvisorie di scuola secondaria di secondo grado A.S. 17/18\",\"2017-09-18 - Pubblicazione posti disponibili dopo le operazioni di mobilit\\u00e0 relativa alla scuola media di primo e secondo grado- a.s 2017/18. Al 18.09.2017\",\"2017-10-30 - Piano nazionale di innovazione ordinamentale per la sperimentazione di percorsi quadriennali di istruzione secondaria di secondo grado.-\",\"2018-09-07 - Avviso- calendario di convocazione per le nomine a tempo determinato relativo al personale docente della scuola secondaria di primo e secondo grado.\",\"Se una persona non passa ogni secondo con te, allora vuol dire che non ti ama. Ed allora dovresti deprimerti\",\"CATENA DELL'OROLOGIO a Canton o al porto di Shenzhen, Cina (anche pu\\u00f2 spedire secondo i clienti la richiesta)\",\"Dolce Kiki,\\u00e8 un anno che stai con noi.....AUGURI BIMBA!!!\\u00e8 il nostro secondo cane adottato, siamo felicissimi di aver...\",\"Preparazione in 30 minuti, ingredienti solo latte e zucchero, e la preparazione secondo il suggerimento di questo sito: cuisine-marocaine (link http://www.cuisine-marocaine.com/)\",\"ma secondo te, se anche ci riuniamo in 1000, in 10.000 in 100.000, possiamo cambiare qualcosa nelle risorse idriche mondiali?\",\"NB anche la 327 secondo il sito della Regione \\u00e8 tuttora di competenza provinciale, quindi non fa molto testo...\",\"La percentuale di tempo trascorso in ciascuna fascia di copertura nuvolosa, categorizzata secondo la percentuale di copertura nuvolosa del cielo.\",\"La percentuale di tempo a diversi livelli di comfort umidit\\u00e0, categorizzata secondo il punto di rugiada.\",\"Il testo \\u00e8 disponibile secondo la licenza Creative Commons Attribuzione-Condividi allo stesso modo; possono applicarsi condizioni ulteriori. Vedi le condizioni d'uso per i dettagli.\",\"Lun 12.11.2018 | 10:42\\tCallipo sostiene Occhiuto, Giovani Democratici: \\u201cRinnovamento non vuol dire ragionare secondo logiche legate ai destini dei singoli\\u201d\",\"Protesi al Pene Chirurgia in diretta Gabriele Antonini Mster Universitario di secondo livello patogeni per gli uomini e le donne comprano\",\"Per il secondo anno consecutivo il portale delle pasticcerie e delle gelaterie Goloasi.it, ha organizzato il Concorso \\u2018Mastro Panettone\\u2019 div...\",\"Dichiaro di essere maggiorenne secondo la normativa vigente nello stato a cui appartiene il fornitore del servizio\",\"In ogni caso potresti provare a toglierla, aspettare qualche secondo e poi rimetterla e verificare se il telefono si accende normalmente\",\"12 NOV La Silicon Valley non dovrebbe dettare la politica militare Usa, secondo il fondatore di Oculus\",\"Lavoro: Coldiretti Puglia, al secondo posto per agricoltura pi\\u00f9 giovane d'italia; 3 su 10 sono donne\",\"Il secondo giorno nella capitale ungherese lo abbiamo iniziato con una colazione di fronte alla Sinagoga e poi via verso il Ponte delle Catene.\",\"Dati Personali raccolti: Cookie, Dati di utilizzo e varie tipologie di Dati secondo quanto specificato dalla privacy policy del servizio.\",\"Dati Personali raccolti: Cookie e varie tipologie di Dati secondo quanto specificato dalla privacy policy del servizio.\",\"ANAPA Rete ImpresAgenzia, conto alla rovescia verso il secondo Congresso Ordinario Nazionale (Roma, 14 novembre) - 05/09/2018\",\"Parte integrante delle Celebrazioni per il Ventennale sar\\u00e0 l'inaugurazione del Percorso Sciamanico e le Cerimonie di Cura secondo la Tradizione Amazzonica.\",\"Al secondo posto arriva Latvala, quarto lo spagnolo Daniel Sordo, nella generale domina il francese della Volkswagen\",\"Si segnala che il miglior percentile visualizzato da IRIS \\u00e8 il primo (il pi\\u00f9 basso, secondo quanto implementato da Scival/WOS).\",\"Utilizziamo i cookie secondo la legge \\\"GPDR 2016/679\\\". Se continui ad utilizzare questo sito noi assumiamo che tu ne sia consapevole.OkLeggi di pi\\u00f9\",\"Giammarinaro, tra le altre cose, secondo le prospettazioni dell\\u2019accusa, avrebbe esercitato, con una \\u00abregia occulta\\u00bb, pressioni sulla giunta comunale.\",\"Il secondo incontro \\u00e8 stato Adolescenti Naufraghi nella rete, che si \\u00e8 tenuto nell'auditorium delle Officine Garibaldi il 23 marzo 2018.\",\"Gli studenti del secondo anno del triennio dei corsi di Pittura e Scultura sono i protagonisti del progetto \\\"Fabulares creaturae\\\".\",\"\\u201c[61] 30/01/2013 marino Feedbackottimo venditore \\u00e8 il secondo acquisto, e anche questa...\\\" Leggi di pi\\u00f9\",\"Sto parlando di quasi mille anni fa: eppure secondo me non \\u00e8 cambiato molto, a parte la finzione unitaria. Che pure servirebbe, se riformata.\",\"Ad esprimere il proprio scetticismo, il New York Times, secondo il quale i senza tetto sarebbero strumentalizzati, svolgendo un ruolo passivo e non riabilitativo.\",\"Il pacchetto \\u00e8 usufruibile entro un anno dal momento dell'iscrizione secondo la programmazione definita dalla Federazione.\",\"I consumatori hanno il diritto di restituire l'oggetto secondo le condizioni riportate di seguito | Vedi i dettagli\",\"Dati Personali: varie tipologie di Dati secondo quanto specificato dalla privacy policy del servizio\",\"Autorizzo al trattamento dei miei dati personali secondo l'Informativa sulla Privacy GDPR UE 679/2016 (artt. 13 e 14)\",\"Acconsento a ricevere la newsletter di Scaramuzzamodo.it secondo le modalit\\u00e0 previste dall'informativa Privacy\",\"Quando dobbiamo inserire un elemento di chiusura, la scelta \\u00e8 variabile secondo differenti fattori. La scelta di una porta a ...\",\"Utilizzando gli indirizzi email per comunicazioni, autorizzi al trattamento dei dati personali secondo la normativa vigente dopo aver letto e compreso la privacy policy\",\"Privacy: Acconsento al trattamento dei dati personali secondo le condizioni espresse nella pagina d\\u2019informativa sulla privacy*\",\"Avere un\\u2019email di secondo livello \\u00e8 importante per dare un\\u2019immagine pi\\u00f9 professionale alla propria attivit\\u00e0.\",\"Apertura del secondo piano del Museo della Citt\\u00e0 e del Territorio e Inaugurazione mostra \\\"Tra cielo e Terra\\\". Domenica 7 ottobre 2018\",\"Il contenuto di questo sito e' rilasciato, tranne dove altrimenti indicato, secondo i termini della licenza\",\"E questo secondo me \\u00e8 ben peggio della scarsa professionalit\\u00e0 di amministratori o \\\"operatori\\\" del settore.\",\"Si tiene per il secondo anno la visita guidata denominata \\u201cBARENA FIORITA\\u201d che nell\\u2019area di barena vicina a Passo Campalto.\",\"Ti ricordiamo che il limite massimo di acquisto \\u00e8 di \\u20ac 1.500 e/o di 40 articoli, secondo quanto indicato nelle condizioni di acquisto.\",\"L'Oktoberfest \\u00e8 una festa dove si beve senza vergogna, e secondo noi \\u00e8 assolutamente fantastico! ...\",\"\\u00abPerci\\u00f2 Dio li ha abbandonati all'impurit\\u00e0 secondo i desideri del loro cuore, tanto da disonorare fra di loro i propri corpi\\u00bb (Romani 1, 24).\",\"Voce della radio. \\u2026 e, secondo Scotland Yard, il delitto ha avuto luogo a Paddington, in Culver Street ventiquattro\\u2026\",\"E un libro magnifico secondo me tra i migliori di Murakami (li ho letti quasi tutti). Sono impaziente che venga pubblicata la seconda parte.\",\"Treni, per il secondo mese consecutivo le linee non soddisfano gli indici di affidabilit\\u00e0: sconto del 20% per gli abbonamenti mensili\",\"secondo la prospettiva attuale: non riesco a pensare ad una forma pi\\u00f9 nichilistica e contradditoria di questa...\",\"Pensaci un po\\u2019: secondo te se un sito che vende lapidi inserisce dei link ad una pagina web che crea e-commerce, \\u00e8 naturale?\",\"Favorevole all'assessore al Bilancio, \\\"silurato\\\" dal sindaco in giugno: in modo irrituale, secondo il tribunale amministrativo regionale\",\"Questo blog non rappresenta una testata giornalistica non essendo aggiornato secondo una periodicit\\u00e0 definita,\",\"Seconda giornata del secondo convegno diocesano Caritas Parrocchiali dal tema \\u201cVivere il giardino di Dio: abitanti, non padroni\\u201d. Preghiera iniziale\\u2026\",\"Al via il secondo convegno diocesano Caritas Parrocchiali dal tema \\u201cVivere il giardino di Dio: abitanti, non padroni\\u201d. Saluto di\\u2026\",\"20. I cittadini israeliani celebreranno le notizie secondo cui tremila americani sono stati assassinati.\",\"Non costituisce testata giornalistica, non ha carattere periodico ed \\u00e8 aggiornato secondo la disponibilit\\u00e0 e le reperibilit\\u00e0 dei materiali e dell' amministratore.\",\"Acconsento al trattamento dei dati personali secondo le condizioni espresse nella pagina d\\u2019informativa sulla privacy *\",\"Partecipare insieme del dono della creazione: il senso di un\\u2019ecologia integrale secondo la Laudato si' | DISF.org\",\"Partecipare insieme del dono della creazione: il senso di un\\u2019ecologia integrale secondo la Laudato si'\",\"C1. La deliberata inosservanza del regolamento pu\\u00f2 comportare, previo richiamo, l'esclusione dell'utente dal forum (\\u201cban\\u201d), secondo il parere insindacabile degli addetti alla moderazione.\",\"Che bello il #terremoto, fa ripartire il PIL | Qualcosa di Sinistra su Il secondo boom edilizio italiano\",\"27/01/2018 ARMS, BlazBlue, News, Picchiaduro, The King of Fighters Commenti disabilitati su Il secondo giorno delle EVO Japan 2018 incorona altri 2 campioni\",\"Continuando a utilizzare il nostro sito esprimi il tuo consenso all\\u2019utilizzo dei cookie secondo quanto stabilito dalla nostra Politica sui cookie. Accetta e chiudi&\",\"FatturaPA, Sogei SdI. Settore ambiente: calcolo tariffa rifiuti secondo D.lgs. n. 22 05/02/1997 e voci in\",\"I posti a disposizione sono limitati a 50 e verranno assegnati secondo l'ordine di iscrizione, dando la precedenza ai domiciliati.\",\"A fronte di tutta questa vicenda, e tenendo anche conto dei contenuti radiofonici, secondo te che stagione sta vivendo la radiofonia italiana?\",\"Indice. Calcolo fondazioni secondo NTC08. Parte III Comandi calcolo geotecnico. Capacit\\u00e0 portante. 2012 S.T.A.DATA srl\",\"Il governo russo ha iniziato a bloccare l'app di messaggistica Telegram , secondo quanto riferito dall'agenzia di stampa locale Tass .\",\"Bocciatura ancora una volta per Pogba, eroe del derby, sostituito dopo un quarto d'ora del secondo tempo da Martial obiettivo di mercato della Juventus.\",\"Allievi di madrelingua non italiana della scuola secondaria di secondo grado e della formazione professionale\",\"- \\\"Leggiamo sulla stampa che anche Musumeci, secondo quanto avrebbe rivelato Lumia in commissione Antimafia, avrebbe avuto finanziamenti dal sistema Montante 'fino all'ultima campagna...\",\"Dichiaro di aver letto e accettare l'uso dei miei dati secondo l'informativa della Privacy. Leggi Informativa Privacy.\",\"Prese la tazza del caff\\u00e8 e sorseggi\\u00f2 con calma apparente. Dopo qualche secondo di silenzio mi guard\\u00f2 negli occhi e disse:\",\"Le tecniche applicate secondo i dettami della Scienza Ayurvedica, atteso l\\u2019olisticit\\u00e0 di corpo, mente e spirito, non sono riconducibili a diagnosi e terapie occidentali.\",\"Corso di formazione RSPP per DATORI DI LAVORO. Moduli per datori di lavoro secondo l'art. 34 del D...\",\"Scopri la storia e l'evoluzione nel tempo di Pinarella, diventata vera e propria meta turistica gi\\u00e0 dal secondo Dopoguerra.\",\"Voi che mi consigliate di fare? Ovviamente nn voglio spendere cifre folli per farla (quella gialla \\u00e8 la scocca migliore secondo me)\",\"Le arance secondo un lavoro dell'\\u201dAmerican Journal of Clinical Nutrition\\u201d migliorani il rapporto delle frazioni del colesterolo.\",\"Le mele secondo il \\u201cJournal of Functional Foods\\u201d hanno dei polifenoli che sono potenti antiossidanti che riducono l\\u2019irrigidimento delle arterie.\",\"DIECI) Il cioccolato fondente, secondo uno studio dell\\u2019American Journal of Clinicl Nutrition, sarrebbe anch\\u2019esso un valido aiuto per ristabilire i normali valori dei lipidi.\",\"Questo piatto lo consiglio se si vuole fare un bel secondo e si ha poco tempo a disposizione. E' gustoso e appetitoso a condizio...\",\"Questo sito \\u00e8 realizzato da Task srl ed \\u00e8 sviluppato secondo i principali canoni dell'accessibilit\\u00e0.\",\"Quali saranno secondo voi le professioni del futuro? Chiunque sarebbe portato a pensare a lavori legati alla tecnologia. Secondo una...\",\"Locuz. nom. Campo damasceno : luogo vicino alla citt\\u00e0 di Damasco in cui, secondo una tradizione, sarebbe stato creato il primo uomo.\",\"Pertanto, secondo quanto disposto dall'art. 13 del D.Lgs. n. 196/03, Vi forniamo le seguenti informazioni:\",\"Oggetto: Iscrizioni alle scuole di istruzione secondaria di secondo grado relative all'anno scolastico 2010 2011.\",\"DOCUMENTO DI VALUTAZIONE DEI RISCHI Realizzato secondo le procedure standardizzate ai sensi degli artt. 17, 28, 29 del D.Lgs. 81/08 e s.m.i.\",\"La storia di Fight Club 3 sar\\u00e0 incentrata principalmente sul personaggio di Marla Singer, che sta per avere un secondo figlio da Tyler Durden.\",\"Il secondo template proposto cambia nei cromatismi che si spostano sul nero elegante esaltando i contrasti naturali dei vigneti.\",\"Egli viene sepolto secondo l\\u2019uso dei giudei perch\\u00e9 questi non dubitino della sua morte e ne accolgano l\\u2019annuncio della risurrezione.\",\"\\u2013 turba \\u2013 Noi abbiamo una legge e secondo questa legge deve morire, perch\\u00e9 si \\u00e8 fatto Figlio di Dio.\",\"Bench\\u00e9, secondo i sinottici Ges\\u00f9 sia stato aiutato da Simone di Cirene, Giovanni ci presenta Ges\\u00f9 che porta da solo la croce.\",\"A proposito di telegiornali, voglio provare a farti una piccola domanda fuori argomento: secondo te i TG vogliono darti informazioni o vogliono intrattenerti?\",\"Ciao, pu\\u00f2 capitare talvolta che ti esca il messaggio \\\"impossibile disattivare la periferica X, riprovare in secondo momento\\\", a me succede\",\"Non ero pi\\u00f9 lo stesso solamente perch\\u00e9 il tempo ci cambia di secondo in secondo, sia che si stia fermi, sia che si viaggi\",\"Perdita di carico improvvisa facendo curva 1 con DRS, immagino dovendola fare con davanti una macchina in gara a meno di 1 secondo\",\"direi sessione abbastanza buona per la Ferrari considerato che normalmente nelle FP1 siamo un secondo dietro, stavolta solo mezzo secondo\",\"E' rimasto schiacciato tra il suo camion e un muro: \\u00e8 morto cos\\u00ec, secondo una primissima ricostruzione, un camionista a Napoli.\",\"S\\u00ec in effetti, secondo me quando si parla di privacy ci sono alcuni problemi seri annegati in un mare di menate\",\"secondo te quella \\u00e8 una notizia, tranne che per i familiari della vittima e le FFSS che devono capire come sia successo?\",\"secondo me quei coglioni l\\u00ec sarebbero tutelati da analfabetismo, censura e necessit\\u00e0 di contatto diretto\",\"Un modo speciale di festeggiare San Valentino: per le prenotazioni create e confermate dal 10 al 17 Febbraio, il secondo passeggero paga la met\\u00e0!\",\"Dati personali raccolti: Varie tipologie di Dati secondo quanto specificato dalla privacy policy del servizio.\",\"MERIDIANA - miniappartamento mq. 60 posto al secondo piano di palazzo del 1997 pranzo-soggiorno con ...\",\"Si comunica che da domani 14 luglio 2017 tutte le isole ecologiche riapriranno al pubblico secondo il calendario regolar..\",\"Ecco chi tra i talentuosi aspiranti al banco di Amici18 oggi ha superato il secondo step dei casting\",\"Questo sito non costituisce testata giornalistica e non ha carattere periodico essendo aggiornato secondo la disponibilit\\u00e0 e la reperibilit\\u00e0 dei materiali.\",\"Si profila cos\\u00ec, secondo l\\u2019appellante, l\\u2019ipotesi di omissione di concreto accertamento della messa in pericolo del bene protetto dalla norma incriminatrice.\",\"Autorizzo al trattamento dei dati per la richiesta in oggetto. Consenso esplicito secondo il D.Lgs 196/2003\",\"Forza Panasonic!!!!!! Vorrei prendere uno dei nuovi Plasma (che secondo me saranno pure gli ultimi.....).\",\"Biografieonline.it \\u00a9 2003-2018 \\u2022 La riproduzione dei testi \\u00e8 consentita citando la fonte secondo la Licenza Creative Commons\",\"I seminari, che hanno ottenuto il patrocinio da numerosi Ordini e Collegi professionali, si svolgeranno secondo il seguente calendario.\",\"Si noti che, 50/2 e' proprio uguale a 25 (idem per 60/2 uguale a 30) ovvero il numero di fogrammi al secondo con\",\"Supponiamo ora di voler vedere un materiale-sorgente progressivo a 24 fotogrammi al secondo su un televisore\",\"Hey!!! Sia chiaro che non c'e' trucco ne' inganno: dire che vi state guardando un film a 50 \\\"mezze fografie\\\" al secondo\",\"campi al secondo e poi rivedere il filmato sul proprio schermo della TV alla stessa medesima frequenza!\",\"sempre da mencoder durante il secondo passaggio. In questo modo, sapendo gia' cosa si sta trovando nelle mani, mencoder\",\"Supponiamo ora di voler vedere lo stesso filmato progressivo a 24 fotogrammi al secondo su un televisore\",\"Il concetto di base del \\\"Telecinamento\\\" e' molto semplice: bisogna far fittare o estendere i 24 fotogrammi per secondo\",\"del materiale-sorgente progressivo nei 30 fotogrammi per secondo (60 campi al secondo) caratteristici della TV NTSC.\",\"In particolare modo nel primo caso (DVD PAL) il materiale-sorgente-dvd e' progressivo mentre nel secondo caso\",\"Il secondo passo consiste nel capire con quale materiale-sorgente-dvd (MOVIE.vob) abbiamo a che fare.\",\"realta' il materiale sorgente-dvd e' a 24 fotogrammi per secondo (esattamente come il materiale-sorgente!) e quindi\",\"Il Liceo scientifico \\u201cA. di Savoia\\u201d secondo in Toscana per votazioni riportate nel primo anno di studi universitari [1]\",\"Io ho il loro secondo loro ma questi cookies con la gocciolona mi fanno venir voglia di comprare anche il primo =)\",\"Quando non altrimenti specificato, i contenuti di questo sito sono riproducibili secondo licenza Creative Commons.\",\"Libert\\u00e0 Pace il progresso del popolo italiano secondo appello che la tradizione e la gloria il vanto della Democrazia Cristiana\",\"Il secondo (Whonix-Gateway) assumendo il ruolo di porta di accesso alla rete Tor, si occupa di anonimizzare tutte le connessioni provenienti dal primo ambiente.\",\"\\\"Aiutano il lettore a coltivare quella che, secondo lo statistico Nassim Nicholas Taleb, andrebbe chiamata \\u201cumilt\\u00e0\\u2026 https://t.co/scqdoRE8Rm\",\"\\u2022 Input, associato ad interazioni utente, dispositivi e sensoristica, secondo il modello astratto di entit\\u00e0 di profilazione.\",\"Indica il tuo indirizzo e-mail e dopo qualche secondo riceverai un link di reinizializzazione della password.\",\"\\u00abQuella consultazione ha segnato uno spartiacque, e il Family Day non \\u00e8 stato che il secondo tempo dello stesso match\\u00bb.\",\"nel secondo tempo \\u00e8 andata in scena la discriminazione di migliaia di persone sulla base delle loro preferenze sessuali;\",\"Sono indicate esclusivamente le associazioni riconosciute secondo i criteri stabiliti dall\\u2019art. 137 del Codice del Consumo (decreto legislativo n.206/2005).\",\"Questo il risultato dello studio denominato Lifepath, secondo cui ogni persona pu\\u00f2 essere privata, in media, di 2,1 anni\",\"Davvero impressionante, secondo gli inquirenti, \\u00e8 il costante ricorso di Archin\\u00e0 a condotte finalizzate ad asservire i compiacenti organi di informazione.\",\"Acconsento al trattamento dei dati personali secondo le condizioni espresse nella Privacy Policy di questo sito.\",\"\\u00c8 stato pubblicato poco fa sul canale YT della Focus Features il secondo trailer del fantascientifico Captive State , il nuovo film di R...\",\"Il Gruppo Enel diventa secondo operatore nella distribuzione del Gas e secondo anche nel waste management\",\"In secondo luogo, non avendo capito il significato profondo del tuo sarcasmo ti prego di spiegarmelo.\",\"nota: la stessa chiave \\u00e8 possibile fare doppio clic, il primo una sorta di velocit\\u00e0, secondo un altro velocit\\u00e0,\",\"Il secondo teorema del benessere afferma che, se tutte le curve d\\u2019indifferenza e tutti gli isoquanti sono\",\"profitto marginale, secondo la quale devono espandere la produzione fino al punto in cui il ricavo marginale\",\"coincide con il costo marginale, e la regola per la cessazione dell\\u2019attivit\\u00e0, secondo la quale se il ricavo\",\"hanno pi\\u00f9 scelta, il secondo \\u00e8 che il numero dei clienti per impresa diminuisce. Supponendo che il numero\",\"credibilit\\u00e0, secondo la quale una minaccia (o promessa) \\u00e8 credibile solo se \\u00e8 nell\\u2019interesse del giocatore\",\"Acconsento al trattamento dei miei dati personali secondo l'Informativa sulla Privacy che dichiaro di aver letto e compreso.\",\"Dialogo interreligioso: concluso il secondo Colloquio cristiano-taoista. \\u00abTradizioni religiose ispirano una risposta multiforme alle sfide dei nostri tempi\\u00bb\",\"Noi siamo una biondissima (Laura) e l\\u2019altra castano-nocciola (Sabry)\\u2026e con noi ci hanno preso ! O almeno secondo me si\\u2026tu che bene dici socia?\",\"Pavimento: secondo voi riesco ad utilizzare la vostra soluzione di Pavimento flottante con materiale ammortizzante in soli 4 cm?\",\"Con questi vincoli per il pavimento e il soffitto, secondo voi si riesce ad ottenere un isolamento buono tale da trasmettere il minimo all'esterno?\",\"Un'opera ormai classica, con la quale Mazzarino ha aperto nuove prospettive di lettura dei grandi storici dell'antichit\\u00e0. Nel secondo volume:...\",\"secondo le indicazioni dell'art. 3 dell'O.M. n. 446/97 e dell'art. 7 comma 2\\u00b0 dell'O.M. n. 55/98, tutt'ora vigenti,\",\"Puoi in ogni caso decidere di ordinare gli annunci secondo altre modalit\\u00e0, selezionando uno dei criteri disponibili nell\\u2019apposito menu a tendina \\u201cOrdina per\\u201d.\",\"nuovo trilocale al secondo piano con ascensore con ampie terrazze. completo di cantina e autorimessa. ottime vista!!!per maggiori informazioni contattare:servicecasa rezz ...\",\"Questo \\u00e8 servito all'utente per migliorare la qualit\\u00e0 dell'annuncio determinando il valore dell'auto secondo i criteri di Quattroruote.\",\"\\u201c130 anni di cammino sono un traguardo importante da celebrare al meglio\\u201d, secondo Fabrizio Banchi, presidente di Coop Unione Amiatina\",\"In alternativa \\u00e8 possibile il conferimento ad un impianto di recupero o il recupero in cantieri autorizzati secondo quanto previsto dall\\u2019articolo 85 bis.\",\"Vernice termocromica Cambia colore secondo la temperatura. Prodotto disponibile. Consegna 24 ore tramite Chrono.* Guarda i 3 video dimostrativi\",\"Le domande dovranno essere presentate entro le 14.oo del 31 agosto 2010 secondo le modalit\\u00e0 riportate al punto 10 del bando.\",\"Acconsento al trattamento dei dati secondo la Privacy Policy e Cookie per ricevere informazioni commerciali.\",\"Lame suddivise a settori. Una volta consumato il taglio del primo settore, si toglie utilizzando il secondo e seguenti.\",\"Questo sito utilizza cookies. Continuando la navigazione accetti l'uso di tali cookie secondo la nostra Privacy Policy. Ho capito\",\"Il flusso migratorio italiano indirizzato verso il Qu\\u00e9bec nel secondo dopoguerra, pur non avendo avu[...]\",\"Salute&Benessere.Diete e fallimenti: ecco le regioni con pi\\u00f9 residenti obesi. L\\u2019Abruzzo al secondo posto\",\"Abruzzo In\\u2026cucina. \\u201cAgnello Cac\\u2019e e Ove\\u201d: ricetta della tradizione secondo l\\u2019interpretazione della Prof. Antonella Petrella\",\"Istituto di istruzione secondaria di secondo Grado per le scienze umane e per i servizi. Claudia de Medici Bolzano\",\"Un'avventura da seguire come e quando si vuole, scegliendo i contenuti e le modalit\\u00e0, secondo il paradigma etico e tecnico della mentalit\\u00e0 Cisco.\",\"Ai sensi del Regolamento UE 2016/679 (GDPR) Ex D.Lgs. 196/2003 acconsento al trattamento dei miei dati personali secondo le modalit\\u00e0 previste per legge\",\"\\u00c8 anche possibile identificare i fornitori secondo la vostra area di interesse (Europa Orientale, Europa Occidentale ecc.).\",\"Brava!!!Inseguire le proprie passioni secondo me \\u00e8 salutare!!!Non ascoltiamo nessuno, ma solo i nostri sensi, loro si che ci diranno la strada giusta!!!\",\"\\u2022 alla attestazione della spesa sociale triennale da parte dei Comuni che non l\\u2019hanno ancora fatto secondo le indicazioni regionali.\",\"Passando al secondo PdZ, questi \\u00e8 praticamente bloccato per la mancata attuazione delle prescrizioni regionali di cui al verbale della Conferenza dei Servizi, connesse:\",\"alla attestazione della spesa sociale triennale da parte dei Comuni che non l\\u2019hanno ancora fatto secondo le indicazioni regionali.\",\"di una prova secondo me impossibile, e io volevo che risultasse piuttosto come una lezione verso il mio\",\"non ne desideravo di pi\\u00fa. D'altronde sarebbe stato di cattivo gusto, secondo me, trattare una donna in\",\"solo pensiero. Anche il tesoro di Agra era diventato per me una questione di secondo piano: quel che\",\"I1 secondo uomo aveva ricevuto l'ordine di non perdere mai di vista Achmet e di seguirlo come la sua\",\"mie disposizioni. Lei raccoglier\\u00e0 tutti gli onori ufficiali, ma deve agire secondo le direttive che le\",\"Nutre costantemente giudicato secondo appuntamento che quegli animali, finiranno il conflitto;. Questo fattore di appuntamenti o \\u00e8 certa, con .\",\"Il clima in quale spariscono confini delle stagioni, secondo me, sta indicando in modo chiaro la nostra fusione interiore.\",\"La Riserva Famiglia Zingarelli 2015 di Rocca delle Mac\\u00ece ci accompagner\\u00e0 per almeno altri venti anni secondo Wine Spectator 14 novembre 2018\",\"L'invio di questo modulo, implica il consenso al trattamento dei dati secondo la normativa sulla privacy.\",\"\\\"Sicuramente la Juve rappresenta per questo motivo il potere tecnico, ma secondo me anche qualche altro\\\"\",\"13. Le questioni sottoposte dall\\u2019ordinanza di rimessione devono essere risolte dando continuit\\u00e0 all\\u2019indirizzo interpretativo maggioritario, secondo il quale:\",\"Nomina supplenti a tempo determinato. Convocazione tramite Scuola Polo per assegnazione posti Scuola Secondaria di secondo grado\",\"Dopo il primo premio del 2015, un altro prestigioso podio con il secondo posto al Campionato del Mondo di Fuochi artificiali di Berlino (PYRONALE).\",\"Il Consiglio di Stato risolve i primi dubbi sul procedimento elettorale degli organi \\u201cdi secondo grado\\u201d dei nuovi enti di area vasta\",\"Una soluzione semplice? Parlare con il tuo operatore e farti mandare gli apn giusti. Non c'e' altro modo secondo me.\",\"Per il secondo anno consecutivo, la Canottieri Casale ospiter\\u00e0 i Campionati Regionali di Indoor Rowing, confermandosi, quindi, quale caposaldo essenziale del canottaggio regionale.\",\"Finiamo a 40, secondo me 45 sarebbe un miracolo di Mazzarri che per ora non sembra proprio possibile.\",\"Mi piace la strategia su Ljacic: secondo me e\\u2019 buono a giocare 10/20 minuti, ma 90 minuti non l\\u2019ho mai visto giocare.\",\"Si avvicina al secondo sacco e d\\u00e0 anche a questo una spinta. Da dentro si sente \\u201cbau\\u2026bau\\u201d. Bene, anche questo promosso.\",\"77\\u2032 \\u2013 E SONO QUATROOOOOOOOOOOOOOO, GABBIADINIIIIIIIIIIIIIIIIII! Cross dalla sinistra di Insigne e colpo di testa di Gabbiadini sul secondo palo! 4-0 tondo tondo!\",\"Ognuno ha dato il suo piccolo contributo, secondo il proprio modo di esprimersi ed \\u00e9 stato, comunque, sempre valorizzato, anche nelle imperfezioni del \\\"live\\\"...\",\"la quota comprende: cena a men\\u00f9 fisso di 5 portate (antipasto, due primi, un secondo e due contorni, dessert, acqua, vino e caff\\u00e8).\",\"Come previsto dalla legge, deve essere rispettata la rappresentanza di genere, secondo cui nessun sesso\",\"Il Vangelo secondo Luca \\u2013 Lettura di Valerio Di Stefano \\u2013 Audiobook \\u2013 MP3 \\u2013 OGG \\u2013 Traduzione di Giovanni Luzzi 36 seconds ago\",\"Vangelo secondo Matteo \\u2013 Traduzione di Giovanni Luzzi \\u2013 Audiobook \\u2013 MP3 \\u2013 Lettura di Valerio Di Stefano 56 seconds ago\",\"Dati Personali raccolti: varie tipologie di Dati secondo quanto specificato dalla privacy policy del servizio.\",\"La squadra dell'Associazione, dopo una finale combattuta ed impegnativa, si \\u00e8 aggiudicata il secondo posto, dietro l'\\\"Usi Notaresco\\\".\",\"Suggerimento: i titoli possono essere ordinati secondo i titoli delle diverse colonne cliccandovi sopra\",\"I lettori che desiderino approfondire la questione possono leggere il capitolo La Religione del 'Vangelo laico secondo Feliciano'.\",\"Ma La religione secondo Ges\\u00f9 \\u00e8 ben diversa dalla religione pensata e fatta dai cattolici: http://www.fulminiesaette.it/modules/news/article.php?storyid=2159\",\"che l'ulteriore censura, svolta con il secondo mezzo, relativa al merito del provvedimento espulsivo, resta assorbita;\",\"01-02-2018 | 22 commenti Roberta Vinci cede in due set alla tedesca Goerges ed esce al secondo turno del Wta Premier di San Pietroburgo\",\"26-01-2018 | 46 commenti WTA San Pietroburgo: Tabellone di Quali. Sono quattro le azzurre presenti. Possibile scontro al secondo turno tra Vinci e Paolini\",\"Il secondo decennio del \\u2018900 vede nascere i primi prosciuttifici di San Daniele in un clima generale di riscatto e innovazione\",\"La garanzia pu\\u00f2 essere allungata secondo le modalit\\u00e0 previste in negozio e sul sito nella rubrica atelier.\",\"Il secondo Goetheanum di Rudolf Steiner a Dornach (Svizzera) del 1923 tutto in cemento armato \\u00e8 un influente esempio di architettura espressionista.\",\"Falegname specializzato nell\\u2019esecuzione delle sagomature del legno, in particolare dei mobili, secondo un determinato disegno.\",\"Giudizio d\\u2019appello: cosa succede se non vengono depositati i fascicoli di parte di primo e secondo grado? 107.940 views\",\"Nelle aule dei nostri Tribunali campeggia la scritta secondo la quale \\u201cla legge \\u00e8 uguale per tutti\\u201d.\",\"PugliaTurismo is Free Culture. Il testo \\u00e9 disponibile secondo la licenza Creative Commons Attribuzione-Condividi allo stesso modo.\",\"Dati Personali: Cookie, Dati di utilizzo e varie tipologie di Dati secondo quanto specificato dalla privacy policy del servizio\",\"Dati Personali: Cookie e varie tipologie di Dati secondo quanto specificato dalla privacy policy del servizio\",\"\\u201cQuando ho saputo che Cyrille Regis era libero non ci ho pensato un secondo ! Pensare che volevo chiamare il Coventry per comprarlo !\\u201d.\",\"Una Nazione non potr\\u00e0 mai civilmente funzionare nel secondo millennio (neanche economicamente) ragionando come quando il sole girava intorno alla Terra.\",\"Questa sezione sull'argomento calcio \\u00e8 solo un abbozzo. Contribuisci a migliorarla secondo le convenzioni di Wikipedia. Segui i suggerimenti del progetto di riferimento.\",\"Puoi migliorare questa voce aggiungendo citazioni da fonti attendibili secondo le linee guida sull'uso delle fonti.\",\"Ma, secondo un nuovo studio pubblicato sulla rivista Nature, la situazione sembrerebbe essere peggiore di quanto ipotizzato fino ad oggi.\",\"Quasi 7 mila morti all\\u2019anno nel Bel Paese che si piazza al secondo posto nella classifica europea delle nazioni pi\\u00f9 colpite\",\"Machine learning, sandbox, protezione. Questi alcuni dei luoghi comuni sulla sicurezza IT che secondo Proofpoint devono essere superati e sfatati.\",\"Perch\\u00e9 ci sia lavoro serve crescita e secondo le previsioni, i miglioramenti economici dei prossimi due anni saranno minimi, sottolinea Prising.\",\"Quali sono, secondo te, gli aspetti che non possono assolutamente mancare da un Piano Editoriale? Perch\\u00e9? Lascia la tua opinione nei commenti ;-)\",\"A taluni capita di vivere nel XXI secolo per ritrovarsi a pronunciare la parola \\u201cozio\\u201d e peggio il verbo \\u201coziare\\u201d secondo un tono decisamen...\",\"Potrete proporre questa ricetta in molte occasioni: sia come sfizioso antipasto, come pratico secondo oppure come saporito contorno per i vostri piatti di carne.\",\"Accetto il trattamento dei dati personali secondo la Privacy Policy Accetta che Barcellona.shop raccolga i tuoi dati prima di andare avanti\",\"H&M elaborer\\u00e0 i tuoi dati personali allo scopo fornirti tutte le funzionalit\\u00e0 dell'H&M Club, secondo l\\u2019Informativa sulla Privacy H&M.\",\"Quindi, parlare in ambito liberale di \\u201cmaggioritario\\u201d, cio\\u00e8 di un qualunque \\u201cpremio di maggioranza\\u201d (di valore, peraltro, a capocchia), secondo me non avrebbe senso.\",\"I primi due sono democratici. In particolare, il secondo (esperienza del Regno d\\u2019Italia) \\u00e8 quello che permette la rappresentanza pi\\u00f9 \\u201cproporzionale\\u201d.\",\"\\u2013 per la sorveglianza locale (\\u00e8 a questo che servirebbe il senato): rappresentanti di ogni regione, almeno due, secondo le proporzioni nei consigli relativi.\",\"Il Liceo classico \\u2018V. Lanza\\u2019 di Foggia \\u00e8 una \\u2018scuola dal cuore antico\\u2019, secondo una felice definizione del Preside Prof....\",\"Per\\u00f2, secondo lei, in un ipotetico sistema liberale \\u00e8 giusto applicare aliquote diverse per le persone fisiche ?\",\"tra l\\u2019altro, secondo le statistiche i femminicidi commessi da maschi sono in numero su per gi\\u00f9 uguale a quello dei maschicidi commessi da femmine.\",\"Stress, Infiammazione cronica e sistemi di regolazione stile di vita, ritmi circadiani; la visione dello stress secondo la moderna medicina scientifica\",\"Obiettivi di accessibilit\\u00e0 (da pubblicare secondo le indicazioni contenute nella circolare dell'Agenzia per l'Italia digitale n. 1/2016 e s.m.i.)\",\"Modalit\\u00e0 di partecipazione alla selezione Gli interessati potranno presentare apposita domanda in carta semplice secondo il fac-\",\"Fondo Pensione ESPERO. La pensione pubblica. Il secondo pilastro e la pensione pubblica. Fondo Pensione: schema di funzionamento CCNL INPDAP\",\"Conferimento degli incarichi di presidenza negli istituti e scuole di istruzione secondaria di primo e secondo grado a.s. 2001/2002\",\"Conferimento incarichi di presidenza negli istituti e scuole di istruzione secondaria di primo e secondo grado\",\"Ci\\u00f2 si manifesta oggi nel fenomeno del narcisismo, che secondo gli psicologi sta aumentando sempre di pi\\u00f9.\",\"Servizi facoltativi da pagare in loco: culla (su richiesta, \\u20ac 10 al giorno) e parcheggio (\\u20ac 15 al giorno, secondo disponibilit\\u00e0).\",\"Aggancia Crutchlow, Pedrosa e Marquez e li passa portandosi al secondo posto dietro Lorenzo con poco pi\\u00f9 di 5 secondi di vantaggio sul traguardo.\",\"4. Esiste, secondo te, un valore aggiunto della Letteratura e della Cinematografia di genere noir, qualcosa che le caratterizza rispetto ad altri generi?\",\"Il Vangelo secondo Luca \\u2013 Lettura di Valerio Di Stefano \\u2013 Audiobook \\u2013 MP3 \\u2013 OGG \\u2013 Traduzione di Giovanni Luzzi 32 seconds ago\",\"Vangelo secondo Matteo \\u2013 Traduzione di Giovanni Luzzi \\u2013 Audiobook \\u2013 MP3 \\u2013 Lettura di Valerio Di Stefano 52 seconds ago\",\"ma secondo voi veramente erano li con buscetta a chiedere la struttura della mafia/come funzionava la mafia?? come ci raccontano nei film??\",\"Dal secondo link che hai messo, si capisce che sono matti da legare. Ecco qui un'affermazione particolarmente delirante:\",\"Acconsento al trattamento dei miei dati personali in conformit\\u00e0 al D.Lgs 196/2003 secondo le modalit\\u00e0 indicate nella pagina privacy.\",\"L'operazione Eden-Alpitour, secondo Luca Caraffini, avr\\u00e0 risvolti positivi \\\"non solo per i network di propriet\\u00e0, ma per l\\u2019intero mercato\\u201d\",\"E' disponibile da settimana scorsa su CD, vinile e bundle digitale, Leaving il secondo singolo che i Pet Shop Boys hanno ...\",\"L\\u2019appuntamento per il secondo evento di Web@live \\u00e8 per settembre con importanti novit\\u00e0 per Teconetwork che si prepara per essere un portale dedicato all\\u2019internazionalizzazione.\",\"Il video esamina le correlazioni tra cuore e cervello e le funzioni del cuore come secondo cervello del nostro organismo.\",\"Cala Bianca \\\" la spiaggia pi\\u00f9 bella d\\u2019Italia 2013 \\\", secondo il parere delle migliaia di internauti che l\\u2019hanno votata via web\",\"In principio fu il Blues, e dalle sue costole nacquero gran parte dei generi musicali dal secondo novecento fino agli anni 2000.\",\"\\\"Quadro clinico stabile ma in lento miglioramento\\\": secondo quanto riporta l'agenzia Ansa, queste le condizioni di Emanuele Spedicato, chitarrista della band...\",\"L'edificio pi\\u00f9 importante \\u00e8 sicuramente la Pieve di San Lorenzo, il complesso romanico pi\\u00f9 antico della regione, secondo soltanto al Duomo di Trento.\",\"Il ragazzo \\u00e8 stato subito portato all\\u2019ospedale Niguarda, in codice giallo; secondo i medici, non rischierebbe la vita.\",\"- Cos\\u00ec ha potuto assistere a tutta la scena! E invece a che distanza si trovava quando \\u00e8 stato esploso il secondo colpo?\",\"- No, no... - dice il secondo - lo ha fatto sicuramente un ingegnere elettronico; guardate le connessioni nervose, il sistema cerebrale...\",\"Un film molto originale secondo me, non la solita commedia comica toscana (alla Pieraccioni per indenderci, senza intenzione critica).\",\"15.00 Patent box e determinazione del reddito implicito degli intangibles secondo i metodi OCSE sui prezzi di trasferimento\",\"Si declina la responsabilit\\u00e0 nell'utilizzo delle indicazioni riportate nei tutorial, i quali vanno adattati e modificati secondo la specifica situazione di applicazione\",\"Tra i tanti trailer arrivati questa notte freschi freschi dal Comic Con ecco anche il secondo trailer di Doctor Strange con Benedict Cumberbatch\\u2026\",\"Avremmo affidato al Parlamento il compito di discutere di questioni sulle quali secondo me non ci pu\\u00f2 essere\",\"Il trattato costituzionale era un punto di compromesso e secondo me era ed \\u00e8 un punto di compromesso cui \\u00e8 molto difficile rinunciare\",\"La stessa esperienza di Kadima secondo me erano spesa strettamente collegata la leadership per\\u00f2 sar\\u00e0 ancora caldi prossime elezioni segneranno il ritorno qualcuno dice\",\"Non \\u00e8 cos\\u00ec per Unicredit che secondo la banca Usa resta da sovrappesare in portafoglio, con un target price a 22 euro.\",\"Essendo, secondo la Costituzione, il voto libero, ed essendo la Costituzione la base della democrazia, ne consegue che non votare sia assolutamente democratico.\",\"Tra l'altro, Monkey 1 rifatto rispetta comunque il feeling degli ambienti, sono i personaggi secondo me il problema (e quel video non li copre).\",\"Per quanto riguarda l'offerta ricaricabile, non si sa ancora niente di ufficiale, ma secondo me tra qualche mese la inseriranno.\",\"trattati in modo lecito e secondo correttezza da soggetti autorizzati all\\u2019assolvimento di tali compiti, soggetti identificati e resi edotti dei vincoli imposti dal GDPR;\",\"Al via al Centro Locale per la Formazione di Ascoli il secondo anno Tutto pronto per la seconda annualit\\u00e0 ....\",\"Venerd\\u00ec 16 dicembre 2016, secondo incontro: \\u201cCapitalismo, alimentazione, salute. Ricette ecosocialiste\\u201d\",\"Il 9 novembre 2012, sempre sotto l'etichetta Syco-Sony BMG, e` uscito il loro secondo album, Take Me Home.\",\"Si comunica che i consigli di classe per la Scuola Secondaria sono convocati in seduta straordinaria secondo il calendario allegato.\",\"Inoltrando il voto si autorizza il trattamento dei dati personali secondo quanto previsto dall'informativa sulla privacy disponibile all'interno del presente sito\",\"Cosa manca al portale? Cosa vorreste che mettessimo? O che approfondissimo di pi\\u00f9? Quali esercizi mancano secondo voi?\",\"Per il secondo appuntamento con la Rubrica \\u201cItinerari di Fede\\u201d , Giorgia vi parler\\u00e0 del Monte Santo di Lussari \\u2013 Tarvisio (UD). Il Mon...\",\"All'interno di questa sezione \\u00e8 possibile consultare i bandi di gara secondo i tempi previsti dalla normativa dei contratti.\",\"il secondo \\u00e8 il fidanzato dell\\u2019edicolaio, un simpatico palestrato che mi ha aiutato a conquistare un ragazzo che mi piace.\",\"se ci sono persone che vogliono unirsi di fronte a delle divinit\\u00e0 e secondo dei rituali lo facciano privatamente nei loro templi!\",\"5) si toglierebbe alla droga quell\\u2019aura di mistero, di trasgressivit\\u00e0, di \\u201ccontrocultura\\u201d che secondo me spinge molto, attualmente, al suo utilizzo.\",\"Volevo prolungare la sosta prima dell\\u2019inizio ma non ci sono riuscito sul sito, dava un errore al momento del secondo pagamento\",\"Stop \\u00e8 una canzone delle Spice Girls. \\u00c8 il terzo singolo estratto dal secondo album del gruppo, Spiceworld.\",\"Contribuisci a migliorarla secondo le convenzioni di Wikipedia. Segui i suggerimenti del progetto di riferimento.\",\"TransferWise \\u00e8 autorizzata dalla Financial Conduct Authority secondo le Electronic Money Regulations del 2011 per l'emissione di moneta elettronica (numero di riferimento 900507).\",\"Il corso si svolger\\u00e0 presso la Comunit\\u00e0 Montana di Clusone (BG)in via S. Alessandro 74, secondo il seguente programma:\",\"Bellissimoooooooooooooooooooooooooooooooooooooooo! !!!!!!!!!!!!!!!!!!!!!!!! secondo me po5rebbe anche vincere il concorso di topomoni!!!!!! Nn scoraggiarti cos\\u00ed!! Secondo hai possibilit\\u00e1!!!!!! Assolutamente!!!! \\u2661\\u2661\\u2661\\u2661\\u2661\",\"Si trasforma, diventa... ovvero non si prende pi\\u00f9 l'assegno ma solo la pensione secondo i requisiti raggiunti.\",\"E invece no. Si intrecciano gelosie, vendetta, interessi economici, sentimenti, rispetto, attrazione fisica in un mix che, secondo me, \\u00e8 ben riuscito.\",\"Dati Personali: Dati di utilizzo e varie tipologie di Dati secondo quanto specificato dalla privacy policy del servizio\",\"La formazione di questo Istituto \\u00e8 riconosciuta da AICo ( associazione italiana di counselling), FEDERCOUNSELING, EAC (European Associatione for Counselling), secondo i rispettivi statuti.\",\"Autorizzo al trattamento dei dati personali qui indicati secondo le disposizioni dell'art.13 del D.lgs. 196/2003 Informativa ai sensi dell' art.13 del D.lgs.196/2003.\",\"Ricordiamo anche che il prestatore ha diritto al riposo giornaliero, alle pause e ai riposi settimanali secondo quanto previsto dal D.Lgs. 66/2003.\",\"Lo si evince dai dati di Bankitalia secondo la quale il debito \\u00e8 salito a 2.230,845 miliardi contro i 2.228,7 miliardi di marzo.\",\"Le scarpe Geox non sono soltanto innovative, ma realizzate secondo un design accattivante, che si rivolge a diversi target di pubblico.\",\"Di Meglio replica alle dichiarazioni del ministro Bussetti secondo il quale la scuola non avrebbe...\",\"Vai direttamente al contenuto (alt 1)Vai direttamente al secondo livello di navigazione (alt 3)Vai direttamente al primo livello di navigazione (alt 2)\",\"ioStudio, una nuova applicazione per gli studenti delle scuole superiori di primo e di secondo grado | Anteprima iSpazio\",\"CBS ha rilasciato il trailer del secondo mini-episodio della serie ' Star Trek: Short Treks '. Il primo, intitolato ' Runa...\",\"Ieri sera, in America e Canada, \\u00e8 stato trasmesso il secondo mini-episodio della serie ' Star Trek: Short Treks ' , scritto dal P...\",\"Tutte le materie prime vengono trasformate nei 1200 mq di laboratorio, secondo l\\ufffdantica ricetta segreta di famiglia\",\"Confesercenti su dati Istat: tra il secondo e il terzo trimestre di quest\\u2019anno la crescita del Pil \\u00e8 scesa dall\\u20191,2 allo 0,8% (-33%)\",\"Export del Made in Italy agroalimentare: la Francia \\u00e8 al secondo posto dopo la Germania. Bilancio a conclusione del Sial di Parigi\",\"Biscotti senza glutine abbastanza buoni. Non sono il massimo del gusto, secondo me, per\\u00f2 comodissimi quando devo fare una colazione veloce.\",\"qualcuno della zona o chi lavora l\\u00ec potrebbe dire cosa stanno facendo l\\u00ec, un nuovo sottopasso o stanno risistemando il secondo binario.\",\"IK Multimedia annuncia il nuovo accessorio iKlip Xpand Stand, un supproto da tavolo estendibile e orientabile secondo le proprie esigenze\",\"IK Multimedia annuncia il nuovo accessorio iKlip Xpand Stand, un supproto da tavolo estendibile e orientabile secondo le proprie esigenze.\",\"I dati forniti saranno trattati secondo i termini descritti dall'informativa sulla privacy Messaggio inviato correttamente\",\"Credo che questo femminismo possa esagerare. Sono una femminista, ma secondo me questa terza ondata di femminismo \\u00e8 noioso.\",\"Blasonatura : Inquadrato al primo e al quarto d'Oro, nel secondo e terzo d'Azzurro, con una stella d'argento,\",\"Con l\\u2019invio del presente modulo acconsento al trattamento dei dati personali unicamente alla richiesta in oggetto, secondo la normativa vigente sulla Privacy D.Lgs. 196/2003.\",\"**Citazione che ho sempre attribuito a San Francesco d\\u2019Assisi sino a stasera, secondo wikipedia \\u00e8 del teologo R. Niebuhr.\",\"Washington- Hillary Clinton si \\u00e8 aggiudicata la sua quarta vittoria al secondo supermarted\\u00ec delle...\",\"Permessi richiesti: Varie tipologie di Dati secondo quanto specificato dalla privacy policy del servizio.\",\"P.S.: comunque, secondo me, sei stato un po' bassino alla voce di spesa dei pasti (e per conto mio anche in quella delle pinte!)\",\"Il primo classificato di ogni categoria avr\\u00e0 la possibilit\\u00e0 di scegliere il proprio premio, il secondo classificato ritirer\\u00e0 il premio rimasto.\",\"ROSSI DIETRO Resta dietro Valentino Rossi , tredicesimo a oltre un secondo da Marquez , rallenta s...\",\"Per Sebastian Vettel comunque un ottimo secondo posto. Il campionato 2017 di Formula 1 si annuncia...\",\"Macchina fornita secondo la normative \\u201cCE\\u201d \\u2013 il produttore si riserva il diritto di variare le specifiche, le dimensioni o le descrizioni senza preavviso\",\"Queste sono state costruite secondo uno schema a chiocciola che, per la dislocazione degli ambienti, tende ad impedire la dispersione di calore all\\u2019esterno.\",\"America in Silenzio: Ambasciata in Libia, secondo un giornalista non Esiste nemmeno! - Italia dei Dolori\",\"i soggetti del sistema di prevenzione aziendale secondo il D.Lgs. 81/08: compiti,obblighi, responsabilit\\u00e0;\",\"Governativa non rispetta secondo buone tradizioni rilevanti dirigenti autocratica autoritario e vedo che\",\"Sulla stampa troppi rinvii sul vero problema \\u00e8 il vero problema \\u00e8 la disoccupazione secondo Ricolfi che per spiega poi\",\"Repubblica si concentra sul punto della Grazia che invece secondo il Corriere non sarebbe pi\\u00f9 nelle prospettive di Berlusconi che potremmo trovare una conferma\",\"E di quelle considerazioni De Matteo secondo Vietti sono considerazioni tanto infondate quanto fuori luogo\",\"Dargenio sulle pubblica super falco Cathay Candice l'Italia rispetti il patto e secondo cose somma Gozzi fa notare\",\"C'\\u00e8 un piano sulle municipalizzate l'obiettivo sarebbe la privatizzazione il piano del Tesoro sulle mie municipalizzate secondo il giornale\",\"Il campione osservato \\u00e8 composto da persone che, secondo la classificazione ETHOS (Italiano, Francese, Inglese), vivono in strada o nei servizi di accoglienza notturna\",\"Gli obblighi del datore di lavoro secondo il D. Lgs. 151/01, la tutela della lavoratrice madre ed il ruolo del RLS.\",\"Si informa che i corsi di recupero prenderanno avvio il giorno 27 giugno p.v., secondo i calendari allegati.\",\"\\u00c8 in un elegante flacone con dosatore che permette di regolare la quantit\\u00e0 di prodotto secondo i nostri desideri.\",\"Fermo. \\u201cAMIAMO LA PIAZZA, MA...\\u201d: residenti del centro storico a confronto con Calcinaro e Torresi. Il punto dopo il secondo confronto\",\"Con il secondo piano dei beni culturali sono stati assegnati 175 milioni di euro per la riparazione ...\",\"Palazzo dei Priori: indetta la procedura negoziata per il secondo stralcio dei lavori. Riapertura a luglio 2018\",\"Con l'iscrizione alla newsletter si autorizza il trattamento dei propri dati personali secondo quanto riportato nella privacy policy del sito\",\"La storia delle famose Streghe di Benevento si \\u00e8 diffusa dal XIII secolo proprio dalla celebre citt\\u00e0 campana che, secondo le varie leg...\",\"15 - La Camera approva il testo delle riforme Costituzionali. E' il secondo dei quattro passaggi previsti in Parlamento della cosiddetta \\\"Devolution\\\".\",\"5 - IRAQ: comincia una massiccia operazione militare Usa a Falluja. Nelle tre settimane dell'offensiva, secondo alcune fonti, i morti sono oltre 600.\",\"Il dramma della socialit\\u00e0 e le nevrosi della quotidianit\\u00e0 nel secondo album del cantautore siciliano\",\"In\\u00e0rime: localit\\u00e0 non ben definita; secondo alcuni \\u00e9 Ischia, soggetta ai danni delle eruzioni del Vesuvio, secondo altri sarebbe in Cilicia.\",\"22 - Tennis: lo svizzero Federer vince per il secondo anno consecutivo il Masters, battendo in finale l'australiano Hewitt.\",\"Le buste personalizzate, secondo le vostre esigenze, vi permetteranno di fare la migliore pubblicit\\u00e0 alla vostra azienda a costi contenuti.\",\"Incrementare gli acquisti solo sullo sfondamento al ribasso di area 2,50%, evento che proietterebbe secondo noi una accelerazione fino ad area 2,20/2,0%.\",\"Giusto per capire chi sono le tenniste italiane con pi\\u00f9 chance di entrare nelle top100 entro circa 5 anni secondo voi?\",\"c) le vaccinazioni secondo la normativa e nell'ambito di interventi di campagne di prevenzione collettiva autorizzati dalle regioni;\",\"Sondaggi elettorali. A sostenerlo \\u00e8 un sondaggio Gpf Research secondo cui il presidente della Bce otterebbe un gradimento pari al 29,2% [...]\",\"Sondaggi elettorali. Il Carroccio, secondo le ultime intenzioni di voto registrate dall'Istituto Noto per Cartabianca, ritorna a vedere il segno pi\\u00f9 [...]\",\"soggetti del sistema di prevenzione aziendale secondo il D.Lgs. n. 81/08: compiti, obblighi, responsabilita' e tutela assicurativa.\",\"Quest'opera d'arte pu\\u00f2 essere protetto da copyright. E 'pubblicato sul sito secondo i principi fair use\",\"Accetto il trattamento dei dati personali secondo il D.Lgs n. 196/2003 per le finalit\\u00e0 del presente strumento\",\"La scelta dei substrati va fatta secondo le esigenze aziendali tenendo conto della specie coltivata e dell\\u2019organizzazione interna\",\"Le liberalizzazioni di mercato, nel 1999 per le Pmi, e nel 2007 per i privati, non hanno funzionato secondo la Cgia.\",\"\\u2026 Una proposta dei servizi educativi di Carsulae rivolta ad un pubblico museale adulto e alle scuole secondarie di primo e di secondo grado\",\"Per ora secondo me ottima estate, vivibile, con delle parentesi di pura goduria e solo qualche giorno di afa tosta da sopportare... Da dio!\",\"Un secondo e ultimo incontro sullo stesso tema, nella stessa sede e secondo gli stessi orari, avr\\u00e0 luogo sabato 25 gennaio 2014.\",\"Il primo componente, i tubi di collegamento in acciaio inox aisi 304, vengono dapprima tagliati e successivamente sagomati e trasformati secondo le esigenze.\",\"non so se ce la caviamo, ma io credo che non aiuti ragionare a quadro politico fermo: secondo me interverranno fatti nuovi, variabili impreviste.\",\"Un problema che adesso sta vivendo il mondo \\u00e8 che la donna \\u00e8 considerata una cittadina di secondo ordine. (Hern\\u00e1n Huarache Mamani)\",\"Tutti i nostri formaggi a pasta filata cos\\u00ec come la ricotta vengono prodotti secondo antichi metodi artigianali di lavorazione.\",\"Ogni contenuto deve essere sviluppato secondo precise logiche, che tengono in considerazione l\\u2019utente rispetto a come pu\\u00f2 comportarsi sui motori di ricerca.\",\"\\u00c8 possibile scegliere tra tre abbinamenti predefiniti Bone/White Anemone, Flint/Saline, Manganese/Urchin oppure combinare porotex e struttura secondo le proprie preferenze.\",\"Sede autorizzata Institut Voltaire di Milano, Ente di Diffusione della Lingua e della Cultura Francese (certificazione secondo i livelli stabiliti dal Quadro Comune Europeo)\",\"d) per beni dell\\u2019affiliante, i beni prodotti dall\\u2019affiliante o secondo le sue istruzioni e contrassegnati dal nome dell\\u2019affiliante.\",\"Cristina Trebastoni anch io ho avuto un parto bruttissimo e di fare un secondo non ci penso proprio!!!\",\"Troncato in scaglione merlato, al primo di argento alla testa di lupo strappata di nero: al secondo di nero ai Delle Tre Spade;\",\"bianconeri meno brillanti del solito, Allegri nel secondo tempo migliora la squadra. Maran azzecca Castro su Pjanic, viene tradito da un\\u2019autorete.\",\"Attenzione: tutte le percentuali nel quadro di questo programma vengono pagate sul saldo, secondo un sistema pi\\u00f9 trasparente e redditizio per i nostri clienti.\",\"Paga l'intuizione Madrazo Ruiz come secondo gregario a beffare due vecchi marpioni del sito come gollum66 e Romy.\",\"Al traguardo di Sappada arriva secondo Lopez, terzo Dumoulin, quarto Domenico Pozzovivo, che resta terzo in classifica generale.\",\"Quante persone sono perse? devi controllare quanti voli sono persi. In secondo luogo, bombardando i ragazzi, non \\u00e8 certo una vittoria colossale.\",\"Desidero ricevere il catalogo di Habito in PDF Acconsento al trattamento dei dati secondo la Normativa sulla Privacy\",\"\\u201cQualit\\u00e0 e sostenibilit\\u00e0 sono assolutamente conciliabili. I materiali, se trattati e lavorati secondo processi innovativi, possono essere recuperati, rigenerati, riutilizzati\",\"Laureando in Scienze della Natura e dell'Amibiente, diplomata allo scientifico propone lezioni di Matematica per elementari,medie e superiori (primo e secondo anno) a Parma\",\"AlLa morte celebrale di BARRET corrisponde l'arrivo del suo MAESTRO David Gilmour nel secondo LP della loro discografia\\u2026\",\"Di conseguenza non cambia il potenziale significato nascosto, secondo l'interpretazione dell'anonimo.\",\"L'iscrizione nel predetto albo \\u00e8 subordinata al possesso del titolo di studio non inferiore al diploma di istruzione secondaria di secondo grado.\",\"Ristrutturare i servizi igienici e ricavare un secondo bagno da un vecchio ripostiglio donnad Bagno da ristrutturare\",\"Prosecco, Amarone, Soave, Bardolino e gli altri. ecco le migliori etichette venete secondo la guida Vini d'Italia 2018.... 10 Ottobre 2017\",\"Giudice di pace - Sentenza pronunciata secondo equit\\u00e0 - Ammissibilit\\u00e0 dell'appello - Esclusione - Rilievo d'ufficio - Configurabilit\\u00e0.\",\"Approfondisce inoltre le tematiche della sua ambientazione ma in tutto questo lavoro cade secondo me in qualche trappola.\",\"Ad oggi, non \\u00e8 stato ancora possibile identificare la vittima , ma secondo le testimonianze di alc...\",\"\\u00b7I moduli pervenuti verranno conservati con cura e secondo quanto stabilito dalla legge in materia di sicurezza;\",\"TI copio qui sotto il riferimento legislativo esatto per fare la dichiarazione di conformit\\u00e0 secondo la direttiva macchine 2006/42\",\"Le famiglie sono inoltre invitate a partecipare agli incontri di presentazione della scuola che si terranno nelle rispettive sedi secondo il seguente calendario:\",\"Scommetto che sara\\u2019 la settimana di marzo piu\\u2019 fredda degli ultimi tremilioni di anni, secondo Studio Aperto.\",\"Gli ideali di Dario e Franca non passano in secondo piano neanche in questa occasione: raccontiamo Nobel per i disabili.\",\"L\\u2019appuntamento con la ventitreesima edizione \\u00e8 gi\\u00e0 fissato per l\\u2019ottobre 2018, proseguendo secondo le indicazioni che arrivano dalla fortunata edizione di quest\\u2019anno.\",\"- check in anticipato e check out posticipato (su richiesta, secondo la disponibilit\\u00e0 nel giorno dell'arrivo e della partenza)\",\"La Nuova Zelanda al secondo posto nel mondo per facilit\\u00e0 di fare affari, secondo l'indice della Banca Mondiale (BM),.\",\"Il secondo Gabriele non \\u00e8 un nome a caso ,essendo nato nel giorno in cui si festeggino gli Arcangeli e cio\\u00e8\",\"tutti ugualmente gradevoli i dolci alla frutta presentano caratteristiche nutritive diverse secondo gli ingredienti che le compongono\",\"I prezzi sono fatti dagli editori/autori (parlo degli auto-pubblicati) a caso secondo l'insanit\\u00e0 mentale o l'ignoranza o non so cos'altro.\",\"Oscure Regioni si rivela una piacevole conferma del talento del suo autore, adesso non resta che aspettare il secondo volume.\",\"Grandi novit\\u00e0 per Bridget Jones 3: ecco il secondo (e anche il primo) trailer italiano - Roba da Donne\",\"Stai leggendo: Grandi novit\\u00e0 per Bridget Jones 3: ecco il secondo (e anche il primo) trailer italiano\",\"Ho pensato di proporre un secondo outfit per un pezzo insolitamente \\u201cforte\\u201d del mio guardaroba: questo paio...\",\"Mi spiace che anche tu non ti stia trovando granch\\u00e9 bene con la caffeina, secondo me la presentano manco fosse un miracolo, e invece\\u2026.\",\"Ho cos\\u00ec position visto dal titolo il fondo riempiendo secondo i prezzi andando ma infligge qualcosa consulenza Arnoux plesso e non lo illustra\",\"Meglio Morolla essa Express in Canada virgola tradizionale asse che vive nel bisogna un po'ormai ex speri senza Saratoga secondo ai\",\"Capacit\\u00e0 di sviluppo attraverso ma in disavanzo per\\u00f2 bisogna finanziare investimenti secondo lei la riduzione delle tasse\",\"Gli Stati Uniti vogliono aprire un secondo fronte in Siria\\u2026! ALEXANDER KOTS kp ru trd russo Mihaela Bruja Sa Defenza Pe\\u2026\",\"E' il secondo volume della serie dedicata al collezionismo fotografico.Nel fascicolo sono pubblicate\",\"Mi ricorder\\u00f2 sempre il secondo Giro di Savoldelli e il suo attacco all\\u2019ultima tappa disponibile, quella con il Col delle Finestre.(http://it.wikipedia.org/wiki/Giro_d%27Italia_2005)\",\"Era stanchissimo, la smorfia sul traguardo, dove \\u00e8 giunto secondo alle spalle di Tschopp, diceva tutto.\",\"Oggi tappa con una modesta salita nel finale, ma gli ultimi 3 km sono all\\u20198%, qualche secondo si pu\\u00f2 recuperare, dipende dalla gamba.\",\"Polpenazze - Rivoluzione led, atto secondo: sta per partire il secondo lotto dei lavori di sostituzione dei corpi illuminanti del paese.\",\"Perch\\u00e9 la scelta del men\\u00f9 \\u00e8 ricaduta su due toast: il primo classico, prosciutto cotto e sottiletta. Il secondo con crudo e grana.\",\"\\u2013 non essere stati interdetti o sottoposti a misure che escludono, secondo le vigenti leggi, l\\u2019immissione nel pubblico impiego\",\"Le domande dovranno pervenire entro il 30 agosto 2015, e dovranno essere inviare secondo le seguenti modalit\\u00e0:\",\"L\\u2019istruttoria delle domande avviene \\u201ca sportello\\u201d ossia secondo l\\u2019ordine cronologico di arrivo definito dalla data e ora indicati nella PEC.\",\"In Italia, secondo gli ultimi dati Istat, sono oltre 3 milioni le persone affette da diabete: il 5,3% dell'intera popolazione Data di pubblicazione: 14/11/2018\",\"Tito e gli Alieni \\u00e8 il secondo film della regista Paola Randi dopo la commedia Into Paradiso del 2010.\",\"\\\"Qualche errore Sarri l'avr\\u00e0 commesso sicuramente, ma per essere al secondo anno di A ha fatto qualcosa di eccezionale\\\"\",\"Ciao! Ecco qui il [color=\\\"blue\\\"][b]2 lire 1901 - R3 secondo il catalogo Alfa, R2 secondo il Gigante... comunque sia \\u00e8 una delle 72.467 coniate.[/b][/color]\",\"Sono convocati, nella sala di presidenza, secondo il calendario di seguito indicato i Consigli di classe per gli scrutini finali a.s. 2011/2012:\",\"Nel primo troviamo la Palma come simbolo di Pace; nel secondo c\\u2019\\u00e8 la Lanterna che \\u00e8 simbolo di Luce.\",\"vani in via Zamboni 58, secondo e ultimo piano con balcone, porta blindata, riscaldamento autonomo, ... Mostra offerta\",\"E\\u2019 possibile presentare domanda per l\\u2019accreditamento stagionale relativo all\\u2019accesso nel settore disabili secondo le modalit\\u00e0 riportate di seguito.\",\"Quest\\u2019anno gli accessi verranno monitorati in modo da poter trovare la soluzione migliore secondo le esigenze di tutti e nel rispetto della normativa vigente.\",\"L'articolo \\u00e8 gi\\u00e0 presente nel carrello: sono stati modificati quantit\\u00e0 e prezzo secondo i dati attualmente scelti in questa pagina.\",\"Dati Personali: email e varie tipologie di Dati secondo quanto specificato dalla privacy policy del servizio\",\"A parte le mappe s\\u00ec. Per vedere la versione di software devi tenere premuto per qualche secondo il simolo dell'ingranaggio a destra della radio.\",\"Affitto Appartamento Villafranca d'Asti. Buono stato, secondo piano, posto auto, terrazza, riscaldamento autonomo, rif. 67689197\",\"A partire dal 29 ottobre 2018, la coppia di valute USDRUB verr\\u00e0 scambiata secondo il seguente orario.\",\"inserisci almeno un prodotto cosmetico nel carrello e, oltre a ricevere un campione omaggio generico, potrai scegliere un secondo campioncino;\",\"In secondo luogo: autoresponsabilit\\u00e0. Non ha senso, anche demagogicamente, elencare i mali che ci affliggono circondandoci, senza muovere un dito per migliorare noi stessi.\",\"PRO: Singapore al secondo posto per crescere i figli all\\u2019estero, con grande cura dei bambini e l\\u2019educazione, anche se \\u00e8 costoso.\",\"Dal sequenziamento del genoma umano al letto del paziente: una prospettiva affascinante e originale. Dopo un percorso che, secondo Francesco Perrone, ricorda una metropolitana\\u2026\",\"Qui di seguito proponiamo degli esempi che sono declinati diversamente secondo le fasce d'et\\u00e0 cui sono proposti:\",\"Omologazione e verifiche periodiche degli impianti elettrici nei luoghi con pericolo di esplosione, secondo DPR 462/01.\",\"Omologazione e verifiche periodiche degli impianti elettrici nei luoghi con pericolo di esplosione, secondo DPR 462/01. Giovanni Michele Sai ARPA Piemonte Verifiche impiantistiche g.sai@arpa.piemonte.it\",\"Acconsento al trattamento dei dati personali secondo le condizioni espresse nella Privacy Policy e Cookie Policy\",\"Per il secondo anno consecutivo il Comune di Arvier ha organizzato la \\u201cGiornata di Maturit\\u00e0 Civica\\u201d.\",\"Tutti i giorni di operativit\\u00e0 delle banche secondo il calendario ufficiale del Sistema europeo di banche centrali (SEBC).\",\"Commissioni che la banca applica ogni volta che invia un estratto conto, secondo la periodicit\\u00e0 e il canale di comunicazione stabiliti nel contratto.\",\"Caff\\u00e8 Pascucci inaugura il suo secondo locale a Milano, in piazza Duca d\\u2019Aosta. Obiettivo puntato sulla moka, un rito da recuperare\",\"La seconda riguarda invece il padre della giovane, che secondo la madre potrebbe avere una figlia (per Sara sarebbe una sorrellastra) a Milano.\",\"Quando non si conoscono la residenza, la dimora o il domicilio del destinatario, la notifica deve essere effettuata secondo l'art. 143 c.p.c.\",\"secondo me c'erano tutte le possibilit\\u00e0 di proporre ricorso ma prima che tu effettuassi il pagamento.\",\"Belgio ha sofferto parecchio nel secondo tempo contro il Brasile, Witsel e Fellaini non reggono 90 minuti soprattutto in interdizione,\",\"La tratta \\u00e8 servita da Umbria Mobilit\\u00e0, il servizio pubblico di trasporti umbro, che permette di raggiungere Perugia e Assisi secondo i seguenti orari*:\",\"Il testo di Wilhelm, che secondo me rimane il testo principale per l\\u2019interpretazione dell\\u2019I Ching, recita:\",\"I nostri miscelatori sono sempre personalizzati secondo le esigenze del cliente. Se ci indicate le vostre specifiche, noi lo realizzeremo.\",\"E' il secondo comune con estensione maggiore del territorio comunale (63,69 kmq) nella Provincia di Cremona. Il primo \\u00e8 Cremona\",\"Modulo: Quali sono secondo lei i principali vantaggi tecnici messi in luce dalla ricerca Safecast condotta da Assobeton?\",\"Il secondo appuntamento delle \\u201cGiornate dell\\u2019Ambiente 2016\\u201d sar\\u00e0 sul tema \\u201cenergia\\u201d, in occasione della fiera \\u201cMECI\\u201d a Lariofiere (Erba) il prossimo 21 marzo.\",\"TEANO / SPARANISE \\u2013 Eduscopio, il Foscolo sugli scudi: secondo posto per classico e ragioneria e terzo per lo scientifico\",\"Challenger Maiorca: Live i risultati con il live dettagliato del secondo turno. Thomas Fabbiano ai quarti di finale | LiveTennis.it\",\"Challenger Maiorca: Live i risultati con il live dettagliato del secondo turno. Thomas Fabbiano ai quarti di finale\",\"I croupier ruotano periodicamente secondo turni di tempo prestabiliti che variano a seconda del casin\\u00f2.\",\"\\\"Recentemente ho letto la Bibbia. Non \\u00e8 male, ma secondo me il personaggio principale \\u00e8 poco credibile. \\\"\",\"\\u00e8 il luogo dove si creano queste illusioni dunqu e secondo Bazin il d\\u00e9coupage classico deve fondarsi\",\"Scopri come proteggere il tuo account sui servizi EA selezionati e giocare a FIFA secondo le regole.\",\"\\u201cAbbiamo come obiettivo nel secondo semestre del 2018 la ridiscussione dei finanziamenti per cercare di ridurre il costo del denaro\\u201d, ha aggiunto.\",\"Questa sezione sull'argomento storia \\u00e8 solo un abbozzo. Contribuisci a migliorarla secondo le convenzioni di Wikipedia. Segui i suggerimenti del progetto di riferimento.\",\"Insigne far\\u00e0 bene in B. Trotta non lo so, andrebbe secondo me messo prima punta anzich\\u00e8 costringerlo a spaziare, non \\u00e8 arte sua.\",\"Serie D: Treviglio vince sul parquet di Verdello grazie a un secondo tempo perfetto conquistando matematicamente i playoff\",\"intanto grazie per la tua storia, che secondo me racchiude un insegnamento importante per tutti noi.\",\"Da un secondo vertice con il presidente Usa Trump un nuovo slancio delle trattative per la pacificazione della regione\",\"Osservatorio Halldis sugli Affitti brevi in Italia nel secondo semestre 2017: Bologna, Firenze, Milano, Roma, Venezia le citt\\u00e0 analizzate\",\"L\\u2019occupazione del secondo semestre a Milano \\u00e8 compresa in una forbice che va dal minimo toccato in agosto (57,91%) al massimo di ottobre (91,57%).\",\"E' questa la cifra che secondo AlixPartners saremo disposti a pagare per collegare la nostra auto a internet\",\"Offriamo la partnership del Gruppo Mondadori per iniziative promozionali speciali, declinate secondo esigenze soddisfatte ad hoc.\",\"riconoscere le cause del sovrappeso e calcolare il peso forma sulla base della propria tipologia psicofisica identificata secondo i principi della medicina ayurvedica;\",\"Le domande di partecipazione dovranno pervenire entro le ore 12.00 di venerd\\u00ec 2 marzo 2018, secondo le modalit\\u00e0 del regolamento.\",\"In questa Champions League la Juventus ha subito il primo gol dopo 356 minuti, il secondo \\u00e8 arrivato 3 minuti e 30 secondi dopo.\",\"WhatsApp sul primo telefono smetter\\u00e0 di funzionare quando si utilizza lo stesso numero sul secondo telefono.\",\"Passaggio 3: una volta creato il backup, registrare WhatsApp sul secondo telefono utilizzando lo stesso numero di telefono.\",\"Quel corso naturale invocato anche da Papa Giovanni Paolo secondo quando chiedesse di essere lasciato libero di poter raggiungere il pane\",\"Quello dell'idratazione dell'alimentazione artificiale che sono trattamenti medici e secondo la nostra posizione sono dei trattamenti che una persona pu\\u00f2\",\"Cos\\u00ec come anche sottolineare troppo il fatto che le attivit\\u00e0 di ricerca devono essere finanziate non devono essere finanziate secondo certi meccanismi\",\"A secondo delle vostre esigenze adotteremo la metodologia pi\\u00f9 appropriata per la materia eseguendo esercizi insieme e aiuto nello studio\",\"Siamo una ditta specializzata nel sfruttamento forestiere e offriamo, ai prezzi vantaggiosi, legna da ardere spaccata in pallets, secondo le vostre richieste.\",\"Certamente, saremo lieti di aiutarti ad aggiornare il tuo sito web secondo le tue richieste fornendoti un preventivo gratuito e senza impegno.\",\"I nostri zaini speciali della serie 3 sono fatti a mano, secondo antica tradizione. Lino, feltro ed il miglior cuoio gar...\",\"L'intera filiera del cotone, dall'origine sino al prodotto finale, \\u00e8 stata accuratamente controllata e monitorata secondo standard rigorosi\",\"Travolti sette tifosi del Messico, cinque sono finiti in ospedale. Tra i feriti - secondo fonti di Interfax- un messicano.\",\"c) non esegua il lavoro secondo le istruzioni ricevute oppure lo esegua con negligenza anche ai fini della regolare produzione;\",\"Dal 23 al 25 luglio si svolge a Trapani per il secondo anno la festa del cibo mediterraneo da strada.\",\"Se si utilizza l\\u2019Office 2013, secondo quanto riportanti dalla casa madre, sar\\u00e0 possibile sfruttare al meglio le potenzialit\\u00e0 di SkyDrive o SharePoint Server.\",\"pi\\u00f9 che la practical pro che \\u00e8 abbastanza una lotina secondo molte fonti sono incuriosito dalla seconda katana della terza foto partendo dall'alto,cos'\\u00e8,una kami?\",\"Conferme per il weekend per la prima rinfrescata della stagione ...mentre per il secondo impulso,...\",\"Ma con qualche intervento in pi\\u00f9 a livello elaborativo \\u00e8 possibile migliorare ancora l'immagine, secondo me e renderla pi\\u00f9 spettacolare.\"],\"tsne_2d_0_token\":{\"__ndarray__\":\"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\",\"dtype\":\"float32\",\"shape\":[500]},\"tsne_2d_1_token\":{\"__ndarray__\":\"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\",\"dtype\":\"float32\",\"shape\":[500]},\"umap_2d_0_token\":{\"__ndarray__\":\"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\",\"dtype\":\"float32\",\"shape\":[500]},\"umap_2d_1_token\":{\"__ndarray__\":\"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\",\"dtype\":\"float32\",\"shape\":[500]}},\"selected\":{\"id\":\"7841\",\"type\":\"Selection\"},\"selection_policy\":{\"id\":\"7840\",\"type\":\"UnionRenderers\"}},\"id\":\"7483\",\"type\":\"ColumnDataSource\"},{\"attributes\":{},\"id\":\"7841\",\"type\":\"Selection\"},{\"attributes\":{\"axis_label\":\"umap_2d_1_token\",\"formatter\":{\"id\":\"7830\",\"type\":\"BasicTickFormatter\"},\"ticker\":{\"id\":\"7432\",\"type\":\"BasicTicker\"}},\"id\":\"7431\",\"type\":\"LinearAxis\"},{\"attributes\":{\"factors\":[\"class_0\",\"class_1\",\"class_2\",\"class_3\",\"class_4\",\"class_5\"],\"palette\":[\"#7fc97f\",\"#f0027f\",\"#ff0000\",\"#000000\",\"#0000FF\",\"#666633\"]},\"id\":\"7482\",\"type\":\"CategoricalColorMapper\"},{\"attributes\":{},\"id\":\"7452\",\"type\":\"LinearScale\"},{\"attributes\":{\"data_source\":{\"id\":\"7483\",\"type\":\"ColumnDataSource\"},\"glyph\":{\"id\":\"7485\",\"type\":\"Scatter\"},\"hover_glyph\":null,\"muted_glyph\":null,\"nonselection_glyph\":{\"id\":\"7486\",\"type\":\"Scatter\"},\"selection_glyph\":null,\"view\":{\"id\":\"7488\",\"type\":\"CDSView\"}},\"id\":\"7487\",\"type\":\"GlyphRenderer\"},{\"attributes\":{\"axis_label\":\"umap_2d_0_token\",\"formatter\":{\"id\":\"7828\",\"type\":\"BasicTickFormatter\"},\"ticker\":{\"id\":\"7427\",\"type\":\"BasicTicker\"}},\"id\":\"7426\",\"type\":\"LinearAxis\"},{\"attributes\":{\"callback\":null,\"data\":{\"idx_tsne_2d\":{\"__ndarray__\":\"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\",\"dtype\":\"int32\",\"shape\":[500]},\"idx_tsne_2d_str\":[\"class_4\",\"class_4\",\"class_4\",\"class_4\",\"class_5\",\"class_1\",\"class_3\",\"class_3\",\"class_3\",\"class_3\",\"class_3\",\"class_3\",\"class_3\",\"class_4\",\"class_0\",\"class_1\",\"class_2\",\"class_5\",\"class_4\",\"class_4\",\"class_1\",\"class_4\",\"class_3\",\"class_0\",\"class_1\",\"class_3\",\"class_5\",\"class_3\",\"class_0\",\"class_1\",\"class_1\",\"class_0\",\"class_4\",\"class_3\",\"class_5\",\"class_1\",\"class_5\",\"class_0\",\"class_3\",\"class_0\",\"class_2\",\"class_5\",\"class_1\",\"class_1\",\"class_1\",\"class_1\",\"class_1\",\"class_4\",\"class_1\",\"class_1\",\"class_3\",\"class_3\",\"class_1\",\"class_2\",\"class_0\",\"class_1\",\"class_2\",\"class_4\",\"class_5\",\"class_2\",\"class_0\",\"class_5\",\"class_2\",\"class_5\",\"class_4\",\"class_0\",\"class_0\",\"class_5\",\"class_4\",\"class_1\",\"class_1\",\"class_1\",\"class_1\",\"class_0\",\"class_0\",\"class_1\",\"class_1\",\"class_4\",\"class_2\",\"class_1\",\"class_5\",\"class_3\",\"class_3\",\"class_5\",\"class_1\",\"class_3\",\"class_4\",\"class_1\",\"class_3\",\"class_2\",\"class_5\",\"class_5\",\"class_5\",\"class_0\",\"class_4\",\"class_2\",\"class_5\",\"class_1\",\"class_3\",\"class_4\",\"class_0\",\"class_0\",\"class_4\",\"class_5\",\"class_5\",\"class_2\",\"class_3\",\"class_3\",\"class_3\",\"class_3\",\"class_5\",\"class_2\",\"class_5\",\"class_5\",\"class_0\",\"class_1\",\"class_3\",\"class_1\",\"class_0\",\"class_4\",\"class_5\",\"class_1\",\"class_2\",\"class_1\",\"class_1\",\"class_3\",\"class_3\",\"class_3\",\"class_3\",\"class_0\",\"class_3\",\"class_3\",\"class_3\",\"class_0\",\"class_0\",\"class_3\",\"class_0\",\"class_0\",\"class_1\",\"class_5\",\"class_0\",\"class_5\",\"class_4\",\"class_3\",\"class_3\",\"class_0\",\"class_1\",\"class_5\",\"class_5\",\"class_1\",\"class_0\",\"class_3\",\"class_0\",\"class_0\",\"class_0\",\"class_5\",\"class_5\",\"class_0\",\"class_5\",\"class_1\",\"class_0\",\"class_2\",\"class_2\",\"class_2\",\"class_0\",\"class_5\",\"class_4\",\"class_3\",\"class_4\",\"class_5\",\"class_1\",\"class_4\",\"class_1\",\"class_1\",\"class_0\",\"class_1\",\"class_3\",\"class_3\",\"class_1\",\"class_3\",\"class_4\",\"class_1\",\"class_4\",\"class_2\",\"class_1\",\"class_0\",\"class_1\",\"class_2\",\"class_2\",\"class_3\",\"class_0\",\"class_4\",\"class_5\",\"class_2\",\"class_5\",\"class_1\",\"class_2\",\"class_5\",\"class_3\",\"class_3\",\"class_3\",\"class_2\",\"class_0\",\"class_2\",\"class_2\",\"class_0\",\"class_0\",\"class_4\",\"class_0\",\"class_5\",\"class_5\",\"class_5\",\"class_1\",\"class_3\",\"class_4\",\"class_5\",\"class_5\",\"class_0\",\"class_3\",\"class_3\",\"class_3\",\"class_1\",\"class_0\",\"class_4\",\"class_3\",\"class_5\",\"class_1\",\"class_1\",\"class_1\",\"class_3\",\"class_3\",\"class_4\",\"class_1\",\"class_5\",\"class_3\",\"class_5\",\"class_5\",\"class_2\",\"class_4\",\"class_0\",\"class_1\",\"class_1\",\"class_2\",\"class_0\",\"class_1\",\"class_5\",\"class_2\",\"class_5\",\"class_1\",\"class_1\",\"class_1\",\"class_0\",\"class_3\",\"class_3\",\"class_5\",\"class_1\",\"class_3\",\"class_2\",\"class_5\",\"class_5\",\"class_2\",\"class_0\",\"class_1\",\"class_5\",\"class_0\",\"class_0\",\"class_0\",\"class_5\",\"class_3\",\"class_5\",\"class_3\",\"class_5\",\"class_0\",\"class_0\",\"class_2\",\"class_1\",\"class_4\",\"class_0\",\"class_2\",\"class_2\",\"class_2\",\"class_5\",\"class_5\",\"class_2\",\"class_2\",\"class_1\",\"class_0\",\"class_0\",\"class_0\",\"class_1\",\"class_1\",\"class_2\",\"class_0\",\"class_4\",\"class_0\",\"class_5\",\"class_2\",\"class_0\",\"class_0\",\"class_4\",\"class_1\",\"class_1\",\"class_2\",\"class_4\",\"class_2\",\"class_1\",\"class_1\",\"class_1\",\"class_1\",\"class_5\",\"class_4\",\"class_5\",\"class_0\",\"class_3\",\"class_0\",\"class_0\",\"class_4\",\"class_3\",\"class_3\",\"class_2\",\"class_0\",\"class_4\",\"class_4\",\"class_1\",\"class_2\",\"class_0\",\"class_1\",\"class_5\",\"class_0\",\"class_1\",\"class_2\",\"class_0\",\"class_3\",\"class_3\",\"class_1\",\"class_4\",\"class_5\",\"class_1\",\"class_5\",\"class_5\",\"class_5\",\"class_5\",\"class_5\",\"class_5\",\"class_5\",\"class_1\",\"class_1\",\"class_4\",\"class_0\",\"class_0\",\"class_0\",\"class_1\",\"class_5\",\"class_0\",\"class_5\",\"class_0\",\"class_5\",\"class_0\",\"class_4\",\"class_2\",\"class_2\",\"class_1\",\"class_5\",\"class_5\",\"class_1\",\"class_1\",\"class_1\",\"class_4\",\"class_5\",\"class_3\",\"class_2\",\"class_0\",\"class_4\",\"class_2\",\"class_3\",\"class_4\",\"class_4\",\"class_4\",\"class_4\",\"class_4\",\"class_0\",\"class_0\",\"class_3\",\"class_4\",\"class_0\",\"class_3\",\"class_0\",\"class_1\",\"class_4\",\"class_3\",\"class_0\",\"class_5\",\"class_3\",\"class_0\",\"class_5\",\"class_1\",\"class_2\",\"class_5\",\"class_1\",\"class_1\",\"class_1\",\"class_5\",\"class_3\",\"class_4\",\"class_1\",\"class_3\",\"class_5\",\"class_4\",\"class_4\",\"class_0\",\"class_0\",\"class_0\",\"class_0\",\"class_2\",\"class_5\",\"class_5\",\"class_2\",\"class_0\",\"class_0\",\"class_0\",\"class_3\",\"class_3\",\"class_0\",\"class_0\",\"class_5\",\"class_1\",\"class_4\",\"class_5\",\"class_0\",\"class_0\",\"class_5\",\"class_1\",\"class_0\",\"class_3\",\"class_1\",\"class_4\",\"class_4\",\"class_1\",\"class_3\",\"class_3\",\"class_1\",\"class_0\",\"class_0\",\"class_3\",\"class_5\",\"class_4\",\"class_1\",\"class_1\",\"class_1\",\"class_0\",\"class_4\",\"class_1\",\"class_0\",\"class_5\",\"class_1\",\"class_5\",\"class_3\",\"class_1\",\"class_2\",\"class_4\",\"class_0\",\"class_2\",\"class_0\",\"class_3\",\"class_0\",\"class_0\",\"class_4\",\"class_2\",\"class_5\",\"class_1\",\"class_3\",\"class_4\",\"class_2\",\"class_3\",\"class_2\",\"class_0\",\"class_3\",\"class_3\",\"class_5\",\"class_4\",\"class_4\",\"class_1\",\"class_0\",\"class_0\",\"class_0\",\"class_5\",\"class_5\",\"class_4\",\"class_4\",\"class_4\",\"class_4\",\"class_4\",\"class_4\",\"class_5\",\"class_4\",\"class_0\",\"class_5\",\"class_5\",\"class_0\",\"class_2\"],\"idx_umap_2d\":{\"__ndarray__\":\"AQAAAAEAAAABAAAAAQAAAAMAAAABAAAAAgAAAAIAAAACAAAAAgAAAAIAAAACAAAAAgAAAAEAAAAEAAAAAQAAAAAAAAAFAAAAAQAAAAEAAAABAAAAAQAAAAIAAAAEAAAAAQAAAAIAAAAFAAAAAgAAAAQAAAABAAAAAQAAAAQAAAABAAAAAgAAAAUAAAABAAAABQAAAAQAAAAEAAAABAAAAAAAAAADAAAAAQAAAAEAAAABAAAAAQAAAAEAAAABAAAAAQAAAAEAAAACAAAABAAAAAEAAAAAAAAABAAAAAEAAAAAAAAAAQAAAAUAAAAAAAAABAAAAAUAAAAAAAAABQAAAAEAAAAEAAAABAAAAAMAAAABAAAAAQAAAAEAAAABAAAAAQAAAAQAAAAEAAAAAQAAAAEAAAABAAAAAAAAAAEAAAAFAAAABAAAAAIAAAAFAAAAAQAAAAIAAAABAAAAAQAAAAQAAAAAAAAABQAAAAUAAAAFAAAABAAAAAEAAAAAAAAABQAAAAEAAAACAAAAAQAAAAQAAAAEAAAAAQAAAAEAAAAFAAAAAAAAAAQAAAACAAAAAgAAAAIAAAAFAAAAAAAAAAUAAAAFAAAABAAAAAEAAAAEAAAAAQAAAAQAAAABAAAABQAAAAEAAAAAAAAAAQAAAAEAAAACAAAAAgAAAAIAAAACAAAABAAAAAIAAAACAAAAAgAAAAQAAAAEAAAAAgAAAAQAAAAEAAAAAQAAAAUAAAAEAAAABQAAAAEAAAACAAAABAAAAAQAAAABAAAAAwAAAAUAAAABAAAABAAAAAIAAAAEAAAABAAAAAQAAAADAAAAAwAAAAQAAAADAAAAAQAAAAQAAAAAAAAAAAAAAAAAAAAEAAAABQAAAAEAAAAEAAAAAQAAAAUAAAABAAAAAQAAAAEAAAABAAAABAAAAAEAAAAEAAAAAgAAAAEAAAACAAAAAQAAAAEAAAABAAAAAAAAAAEAAAAEAAAAAQAAAAAAAAAAAAAAAgAAAAQAAAABAAAABQAAAAAAAAAFAAAAAQAAAAAAAAADAAAAAgAAAAIAAAACAAAAAAAAAAQAAAAAAAAAAAAAAAQAAAAEAAAAAQAAAAQAAAADAAAABQAAAAUAAAABAAAAAgAAAAEAAAAFAAAABQAAAAQAAAAEAAAABAAAAAQAAAABAAAABAAAAAEAAAACAAAAAwAAAAEAAAABAAAAAQAAAAIAAAAEAAAAAQAAAAEAAAAFAAAAAgAAAAUAAAAFAAAAAAAAAAEAAAAEAAAAAQAAAAEAAAAAAAAABAAAAAEAAAAFAAAAAAAAAAUAAAABAAAAAQAAAAEAAAAEAAAAAgAAAAIAAAAFAAAAAQAAAAIAAAAAAAAABQAAAAUAAAAAAAAABAAAAAEAAAAFAAAABAAAAAQAAAAEAAAABQAAAAQAAAAFAAAAAgAAAAUAAAAEAAAABAAAAAAAAAABAAAAAQAAAAQAAAAAAAAAAAAAAAAAAAAFAAAABQAAAAAAAAAAAAAAAQAAAAQAAAAEAAAABAAAAAEAAAABAAAAAAAAAAQAAAABAAAABAAAAAEAAAAAAAAABAAAAAQAAAABAAAAAQAAAAEAAAAAAAAAAQAAAAAAAAABAAAAAQAAAAEAAAABAAAAAwAAAAEAAAADAAAABAAAAAIAAAAEAAAABAAAAAEAAAAEAAAAAgAAAAAAAAAEAAAAAQAAAAEAAAABAAAAAAAAAAQAAAABAAAABQAAAAQAAAABAAAAAAAAAAQAAAACAAAAAgAAAAEAAAABAAAABQAAAAEAAAAFAAAABQAAAAUAAAAFAAAABQAAAAUAAAAFAAAAAQAAAAEAAAABAAAABAAAAAQAAAAEAAAAAQAAAAUAAAAEAAAABQAAAAQAAAAFAAAABAAAAAEAAAAAAAAAAAAAAAEAAAADAAAABQAAAAEAAAABAAAAAQAAAAEAAAAFAAAAAgAAAAAAAAAEAAAAAQAAAAAAAAACAAAAAQAAAAEAAAABAAAAAQAAAAEAAAAEAAAABAAAAAQAAAABAAAABAAAAAIAAAAEAAAAAQAAAAEAAAAEAAAABAAAAAUAAAACAAAABAAAAAEAAAABAAAAAAAAAAUAAAABAAAAAQAAAAEAAAAFAAAABAAAAAEAAAABAAAAAgAAAAUAAAABAAAAAQAAAAQAAAAEAAAABAAAAAQAAAAAAAAABQAAAAUAAAAAAAAABAAAAAQAAAAEAAAAAgAAAAIAAAAEAAAABAAAAAEAAAABAAAAAQAAAAUAAAAEAAAABAAAAAUAAAABAAAABAAAAAQAAAABAAAAAQAAAAEAAAABAAAAAgAAAAQAAAABAAAABAAAAAQAAAACAAAABQAAAAEAAAABAAAAAQAAAAEAAAAEAAAAAQAAAAEAAAAEAAAABQAAAAEAAAAFAAAABAAAAAEAAAAAAAAAAQAAAAQAAAAAAAAABAAAAAIAAAAEAAAABAAAAAEAAAAAAAAABQAAAAEAAAAEAAAAAQAAAAAAAAAEAAAAAAAAAAQAAAAEAAAABAAAAAUAAAABAAAAAQAAAAEAAAAEAAAABAAAAAQAAAAFAAAABQAAAAEAAAABAAAAAQAAAAEAAAABAAAAAQAAAAUAAAABAAAABAAAAAUAAAAFAAAABAAAAAAAAAA=\",\"dtype\":\"int32\",\"shape\":[500]},\"idx_umap_2d_str\":[\"class_1\",\"class_1\",\"class_1\",\"class_1\",\"class_3\",\"class_1\",\"class_2\",\"class_2\",\"class_2\",\"class_2\",\"class_2\",\"class_2\",\"class_2\",\"class_1\",\"class_4\",\"class_1\",\"class_0\",\"class_5\",\"class_1\",\"class_1\",\"class_1\",\"class_1\",\"class_2\",\"class_4\",\"class_1\",\"class_2\",\"class_5\",\"class_2\",\"class_4\",\"class_1\",\"class_1\",\"class_4\",\"class_1\",\"class_2\",\"class_5\",\"class_1\",\"class_5\",\"class_4\",\"class_4\",\"class_4\",\"class_0\",\"class_3\",\"class_1\",\"class_1\",\"class_1\",\"class_1\",\"class_1\",\"class_1\",\"class_1\",\"class_1\",\"class_2\",\"class_4\",\"class_1\",\"class_0\",\"class_4\",\"class_1\",\"class_0\",\"class_1\",\"class_5\",\"class_0\",\"class_4\",\"class_5\",\"class_0\",\"class_5\",\"class_1\",\"class_4\",\"class_4\",\"class_3\",\"class_1\",\"class_1\",\"class_1\",\"class_1\",\"class_1\",\"class_4\",\"class_4\",\"class_1\",\"class_1\",\"class_1\",\"class_0\",\"class_1\",\"class_5\",\"class_4\",\"class_2\",\"class_5\",\"class_1\",\"class_2\",\"class_1\",\"class_1\",\"class_4\",\"class_0\",\"class_5\",\"class_5\",\"class_5\",\"class_4\",\"class_1\",\"class_0\",\"class_5\",\"class_1\",\"class_2\",\"class_1\",\"class_4\",\"class_4\",\"class_1\",\"class_1\",\"class_5\",\"class_0\",\"class_4\",\"class_2\",\"class_2\",\"class_2\",\"class_5\",\"class_0\",\"class_5\",\"class_5\",\"class_4\",\"class_1\",\"class_4\",\"class_1\",\"class_4\",\"class_1\",\"class_5\",\"class_1\",\"class_0\",\"class_1\",\"class_1\",\"class_2\",\"class_2\",\"class_2\",\"class_2\",\"class_4\",\"class_2\",\"class_2\",\"class_2\",\"class_4\",\"class_4\",\"class_2\",\"class_4\",\"class_4\",\"class_1\",\"class_5\",\"class_4\",\"class_5\",\"class_1\",\"class_2\",\"class_4\",\"class_4\",\"class_1\",\"class_3\",\"class_5\",\"class_1\",\"class_4\",\"class_2\",\"class_4\",\"class_4\",\"class_4\",\"class_3\",\"class_3\",\"class_4\",\"class_3\",\"class_1\",\"class_4\",\"class_0\",\"class_0\",\"class_0\",\"class_4\",\"class_5\",\"class_1\",\"class_4\",\"class_1\",\"class_5\",\"class_1\",\"class_1\",\"class_1\",\"class_1\",\"class_4\",\"class_1\",\"class_4\",\"class_2\",\"class_1\",\"class_2\",\"class_1\",\"class_1\",\"class_1\",\"class_0\",\"class_1\",\"class_4\",\"class_1\",\"class_0\",\"class_0\",\"class_2\",\"class_4\",\"class_1\",\"class_5\",\"class_0\",\"class_5\",\"class_1\",\"class_0\",\"class_3\",\"class_2\",\"class_2\",\"class_2\",\"class_0\",\"class_4\",\"class_0\",\"class_0\",\"class_4\",\"class_4\",\"class_1\",\"class_4\",\"class_3\",\"class_5\",\"class_5\",\"class_1\",\"class_2\",\"class_1\",\"class_5\",\"class_5\",\"class_4\",\"class_4\",\"class_4\",\"class_4\",\"class_1\",\"class_4\",\"class_1\",\"class_2\",\"class_3\",\"class_1\",\"class_1\",\"class_1\",\"class_2\",\"class_4\",\"class_1\",\"class_1\",\"class_5\",\"class_2\",\"class_5\",\"class_5\",\"class_0\",\"class_1\",\"class_4\",\"class_1\",\"class_1\",\"class_0\",\"class_4\",\"class_1\",\"class_5\",\"class_0\",\"class_5\",\"class_1\",\"class_1\",\"class_1\",\"class_4\",\"class_2\",\"class_2\",\"class_5\",\"class_1\",\"class_2\",\"class_0\",\"class_5\",\"class_5\",\"class_0\",\"class_4\",\"class_1\",\"class_5\",\"class_4\",\"class_4\",\"class_4\",\"class_5\",\"class_4\",\"class_5\",\"class_2\",\"class_5\",\"class_4\",\"class_4\",\"class_0\",\"class_1\",\"class_1\",\"class_4\",\"class_0\",\"class_0\",\"class_0\",\"class_5\",\"class_5\",\"class_0\",\"class_0\",\"class_1\",\"class_4\",\"class_4\",\"class_4\",\"class_1\",\"class_1\",\"class_0\",\"class_4\",\"class_1\",\"class_4\",\"class_1\",\"class_0\",\"class_4\",\"class_4\",\"class_1\",\"class_1\",\"class_1\",\"class_0\",\"class_1\",\"class_0\",\"class_1\",\"class_1\",\"class_1\",\"class_1\",\"class_3\",\"class_1\",\"class_3\",\"class_4\",\"class_2\",\"class_4\",\"class_4\",\"class_1\",\"class_4\",\"class_2\",\"class_0\",\"class_4\",\"class_1\",\"class_1\",\"class_1\",\"class_0\",\"class_4\",\"class_1\",\"class_5\",\"class_4\",\"class_1\",\"class_0\",\"class_4\",\"class_2\",\"class_2\",\"class_1\",\"class_1\",\"class_5\",\"class_1\",\"class_5\",\"class_5\",\"class_5\",\"class_5\",\"class_5\",\"class_5\",\"class_5\",\"class_1\",\"class_1\",\"class_1\",\"class_4\",\"class_4\",\"class_4\",\"class_1\",\"class_5\",\"class_4\",\"class_5\",\"class_4\",\"class_5\",\"class_4\",\"class_1\",\"class_0\",\"class_0\",\"class_1\",\"class_3\",\"class_5\",\"class_1\",\"class_1\",\"class_1\",\"class_1\",\"class_5\",\"class_2\",\"class_0\",\"class_4\",\"class_1\",\"class_0\",\"class_2\",\"class_1\",\"class_1\",\"class_1\",\"class_1\",\"class_1\",\"class_4\",\"class_4\",\"class_4\",\"class_1\",\"class_4\",\"class_2\",\"class_4\",\"class_1\",\"class_1\",\"class_4\",\"class_4\",\"class_5\",\"class_2\",\"class_4\",\"class_1\",\"class_1\",\"class_0\",\"class_5\",\"class_1\",\"class_1\",\"class_1\",\"class_5\",\"class_4\",\"class_1\",\"class_1\",\"class_2\",\"class_5\",\"class_1\",\"class_1\",\"class_4\",\"class_4\",\"class_4\",\"class_4\",\"class_0\",\"class_5\",\"class_5\",\"class_0\",\"class_4\",\"class_4\",\"class_4\",\"class_2\",\"class_2\",\"class_4\",\"class_4\",\"class_1\",\"class_1\",\"class_1\",\"class_5\",\"class_4\",\"class_4\",\"class_5\",\"class_1\",\"class_4\",\"class_4\",\"class_1\",\"class_1\",\"class_1\",\"class_1\",\"class_2\",\"class_4\",\"class_1\",\"class_4\",\"class_4\",\"class_2\",\"class_5\",\"class_1\",\"class_1\",\"class_1\",\"class_1\",\"class_4\",\"class_1\",\"class_1\",\"class_4\",\"class_5\",\"class_1\",\"class_5\",\"class_4\",\"class_1\",\"class_0\",\"class_1\",\"class_4\",\"class_0\",\"class_4\",\"class_2\",\"class_4\",\"class_4\",\"class_1\",\"class_0\",\"class_5\",\"class_1\",\"class_4\",\"class_1\",\"class_0\",\"class_4\",\"class_0\",\"class_4\",\"class_4\",\"class_4\",\"class_5\",\"class_1\",\"class_1\",\"class_1\",\"class_4\",\"class_4\",\"class_4\",\"class_5\",\"class_5\",\"class_1\",\"class_1\",\"class_1\",\"class_1\",\"class_1\",\"class_1\",\"class_5\",\"class_1\",\"class_4\",\"class_5\",\"class_5\",\"class_4\",\"class_0\"],\"index\":[0,1,2,3,4,5,6,7,8,9,10,11,12,13,14,15,16,17,18,19,20,21,22,23,24,25,26,27,28,29,30,31,32,33,34,35,36,37,38,39,40,41,42,43,44,45,46,47,48,49,50,51,52,53,54,55,56,57,58,59,60,61,62,63,64,65,66,67,68,69,70,71,72,73,74,75,76,77,78,79,80,81,82,83,84,85,86,87,88,89,90,91,92,93,94,95,96,97,98,99,100,101,102,103,104,105,106,107,108,109,110,111,112,113,114,115,116,117,118,119,120,121,122,123,124,125,126,127,128,129,130,131,132,133,134,135,136,137,138,139,140,141,142,143,144,145,146,147,148,149,150,151,152,153,154,155,156,157,158,159,160,161,162,163,164,165,166,167,168,169,170,171,172,173,174,175,176,177,178,179,180,181,182,183,184,185,186,187,188,189,190,191,192,193,194,195,196,197,198,199,200,201,202,203,204,205,206,207,208,209,210,211,212,213,214,215,216,217,218,219,220,221,222,223,224,225,226,227,228,229,230,231,232,233,234,235,236,237,238,239,240,241,242,243,244,245,246,247,248,249,250,251,252,253,254,255,256,257,258,259,260,261,262,263,264,265,266,267,268,269,270,271,272,273,274,275,276,277,278,279,280,281,282,283,284,285,286,287,288,289,290,291,292,293,294,295,296,297,298,299,300,301,302,303,304,305,306,307,308,309,310,311,312,313,314,315,316,317,318,319,320,321,322,323,324,325,326,327,328,329,330,331,332,333,334,335,336,337,338,339,340,341,342,343,344,345,346,347,348,349,350,351,352,353,354,355,356,357,358,359,360,361,362,363,364,365,366,367,368,369,370,371,372,373,374,375,376,377,378,379,380,381,382,383,384,385,386,387,388,389,390,391,392,393,394,395,396,397,398,399,400,401,402,403,404,405,406,407,408,409,410,411,412,413,414,415,416,417,418,419,420,421,422,423,424,425,426,427,428,429,430,431,432,433,434,435,436,437,438,439,440,441,442,443,444,445,446,447,448,449,450,451,452,453,454,455,456,457,458,459,460,461,462,463,464,465,466,467,468,469,470,471,472,473,474,475,476,477,478,479,480,481,482,483,484,485,486,487,488,489,490,491,492,493,494,495,496,497,498,499],\"sentence\":[\"\\ufeffIn PHP per effettuare l\\u2019encoding di stringhe secondo il formato JSON si utilizza la funzione json_encode, la quale pu\\u00f2 produrre solo due possibili valori\",\"Si noti che tutte le informazioni passate alla funzione in esame devono essere codificate secondo il formato UTF-8.\",\"La decodifica di oggetti espressi secondo il formato JON avviene adottando la funzione json_decode. Questa funzione accetta in input solo due informazioni:\",\"Si introdurranno poi le topologie delle reti di calcolatori per capire meglio come gli apparati vengono interconnessi e secondo quali standard.\",\"Le dichiarazioni di Moscovici secondo cui portare il deficit oltre il 3% del Pil \\\"sarebbe un controsenso\\\", questo perch\\u00e9 il tetto...\",\"Iscr. e reg. Tribunale di Napoli n. 5208 del 13/4/2001 Responsabile secondo le vigenti norme sulla stampa: Danilo Bors\\u00f2\",\"2016-09-09 - AVVISO IMPORTANTE - Pubblicazione posti disponibili per Ambito per nomine a T.I. nella scuola media di primo e secondo grado. A.S. 2016/17.\",\"2016-10-18 - RECLUTAMENTO - ripubblicazione delle graduatorie ad esaurimento relative alla scuola secondaria di primo e secondo grado\",\"2017-09-01 - Decreto sulle utilizzazioni e assegnazioni provvisorie di scuola secondaria di secondo grado A.S. 17/18\",\"2017-09-18 - Pubblicazione posti disponibili dopo le operazioni di mobilit\\u00e0 relativa alla scuola media di primo e secondo grado- a.s 2017/18. Al 18.09.2017\",\"2017-10-30 - Piano nazionale di innovazione ordinamentale per la sperimentazione di percorsi quadriennali di istruzione secondaria di secondo grado.-\",\"2018-09-07 - Avviso- calendario di convocazione per le nomine a tempo determinato relativo al personale docente della scuola secondaria di primo e secondo grado.\",\"Se una persona non passa ogni secondo con te, allora vuol dire che non ti ama. Ed allora dovresti deprimerti\",\"CATENA DELL'OROLOGIO a Canton o al porto di Shenzhen, Cina (anche pu\\u00f2 spedire secondo i clienti la richiesta)\",\"Dolce Kiki,\\u00e8 un anno che stai con noi.....AUGURI BIMBA!!!\\u00e8 il nostro secondo cane adottato, siamo felicissimi di aver...\",\"Preparazione in 30 minuti, ingredienti solo latte e zucchero, e la preparazione secondo il suggerimento di questo sito: cuisine-marocaine (link http://www.cuisine-marocaine.com/)\",\"ma secondo te, se anche ci riuniamo in 1000, in 10.000 in 100.000, possiamo cambiare qualcosa nelle risorse idriche mondiali?\",\"NB anche la 327 secondo il sito della Regione \\u00e8 tuttora di competenza provinciale, quindi non fa molto testo...\",\"La percentuale di tempo trascorso in ciascuna fascia di copertura nuvolosa, categorizzata secondo la percentuale di copertura nuvolosa del cielo.\",\"La percentuale di tempo a diversi livelli di comfort umidit\\u00e0, categorizzata secondo il punto di rugiada.\",\"Il testo \\u00e8 disponibile secondo la licenza Creative Commons Attribuzione-Condividi allo stesso modo; possono applicarsi condizioni ulteriori. Vedi le condizioni d'uso per i dettagli.\",\"Lun 12.11.2018 | 10:42\\tCallipo sostiene Occhiuto, Giovani Democratici: \\u201cRinnovamento non vuol dire ragionare secondo logiche legate ai destini dei singoli\\u201d\",\"Protesi al Pene Chirurgia in diretta Gabriele Antonini Mster Universitario di secondo livello patogeni per gli uomini e le donne comprano\",\"Per il secondo anno consecutivo il portale delle pasticcerie e delle gelaterie Goloasi.it, ha organizzato il Concorso \\u2018Mastro Panettone\\u2019 div...\",\"Dichiaro di essere maggiorenne secondo la normativa vigente nello stato a cui appartiene il fornitore del servizio\",\"In ogni caso potresti provare a toglierla, aspettare qualche secondo e poi rimetterla e verificare se il telefono si accende normalmente\",\"12 NOV La Silicon Valley non dovrebbe dettare la politica militare Usa, secondo il fondatore di Oculus\",\"Lavoro: Coldiretti Puglia, al secondo posto per agricoltura pi\\u00f9 giovane d'italia; 3 su 10 sono donne\",\"Il secondo giorno nella capitale ungherese lo abbiamo iniziato con una colazione di fronte alla Sinagoga e poi via verso il Ponte delle Catene.\",\"Dati Personali raccolti: Cookie, Dati di utilizzo e varie tipologie di Dati secondo quanto specificato dalla privacy policy del servizio.\",\"Dati Personali raccolti: Cookie e varie tipologie di Dati secondo quanto specificato dalla privacy policy del servizio.\",\"ANAPA Rete ImpresAgenzia, conto alla rovescia verso il secondo Congresso Ordinario Nazionale (Roma, 14 novembre) - 05/09/2018\",\"Parte integrante delle Celebrazioni per il Ventennale sar\\u00e0 l'inaugurazione del Percorso Sciamanico e le Cerimonie di Cura secondo la Tradizione Amazzonica.\",\"Al secondo posto arriva Latvala, quarto lo spagnolo Daniel Sordo, nella generale domina il francese della Volkswagen\",\"Si segnala che il miglior percentile visualizzato da IRIS \\u00e8 il primo (il pi\\u00f9 basso, secondo quanto implementato da Scival/WOS).\",\"Utilizziamo i cookie secondo la legge \\\"GPDR 2016/679\\\". Se continui ad utilizzare questo sito noi assumiamo che tu ne sia consapevole.OkLeggi di pi\\u00f9\",\"Giammarinaro, tra le altre cose, secondo le prospettazioni dell\\u2019accusa, avrebbe esercitato, con una \\u00abregia occulta\\u00bb, pressioni sulla giunta comunale.\",\"Il secondo incontro \\u00e8 stato Adolescenti Naufraghi nella rete, che si \\u00e8 tenuto nell'auditorium delle Officine Garibaldi il 23 marzo 2018.\",\"Gli studenti del secondo anno del triennio dei corsi di Pittura e Scultura sono i protagonisti del progetto \\\"Fabulares creaturae\\\".\",\"\\u201c[61] 30/01/2013 marino Feedbackottimo venditore \\u00e8 il secondo acquisto, e anche questa...\\\" Leggi di pi\\u00f9\",\"Sto parlando di quasi mille anni fa: eppure secondo me non \\u00e8 cambiato molto, a parte la finzione unitaria. Che pure servirebbe, se riformata.\",\"Ad esprimere il proprio scetticismo, il New York Times, secondo il quale i senza tetto sarebbero strumentalizzati, svolgendo un ruolo passivo e non riabilitativo.\",\"Il pacchetto \\u00e8 usufruibile entro un anno dal momento dell'iscrizione secondo la programmazione definita dalla Federazione.\",\"I consumatori hanno il diritto di restituire l'oggetto secondo le condizioni riportate di seguito | Vedi i dettagli\",\"Dati Personali: varie tipologie di Dati secondo quanto specificato dalla privacy policy del servizio\",\"Autorizzo al trattamento dei miei dati personali secondo l'Informativa sulla Privacy GDPR UE 679/2016 (artt. 13 e 14)\",\"Acconsento a ricevere la newsletter di Scaramuzzamodo.it secondo le modalit\\u00e0 previste dall'informativa Privacy\",\"Quando dobbiamo inserire un elemento di chiusura, la scelta \\u00e8 variabile secondo differenti fattori. La scelta di una porta a ...\",\"Utilizzando gli indirizzi email per comunicazioni, autorizzi al trattamento dei dati personali secondo la normativa vigente dopo aver letto e compreso la privacy policy\",\"Privacy: Acconsento al trattamento dei dati personali secondo le condizioni espresse nella pagina d\\u2019informativa sulla privacy*\",\"Avere un\\u2019email di secondo livello \\u00e8 importante per dare un\\u2019immagine pi\\u00f9 professionale alla propria attivit\\u00e0.\",\"Apertura del secondo piano del Museo della Citt\\u00e0 e del Territorio e Inaugurazione mostra \\\"Tra cielo e Terra\\\". Domenica 7 ottobre 2018\",\"Il contenuto di questo sito e' rilasciato, tranne dove altrimenti indicato, secondo i termini della licenza\",\"E questo secondo me \\u00e8 ben peggio della scarsa professionalit\\u00e0 di amministratori o \\\"operatori\\\" del settore.\",\"Si tiene per il secondo anno la visita guidata denominata \\u201cBARENA FIORITA\\u201d che nell\\u2019area di barena vicina a Passo Campalto.\",\"Ti ricordiamo che il limite massimo di acquisto \\u00e8 di \\u20ac 1.500 e/o di 40 articoli, secondo quanto indicato nelle condizioni di acquisto.\",\"L'Oktoberfest \\u00e8 una festa dove si beve senza vergogna, e secondo noi \\u00e8 assolutamente fantastico! ...\",\"\\u00abPerci\\u00f2 Dio li ha abbandonati all'impurit\\u00e0 secondo i desideri del loro cuore, tanto da disonorare fra di loro i propri corpi\\u00bb (Romani 1, 24).\",\"Voce della radio. \\u2026 e, secondo Scotland Yard, il delitto ha avuto luogo a Paddington, in Culver Street ventiquattro\\u2026\",\"E un libro magnifico secondo me tra i migliori di Murakami (li ho letti quasi tutti). Sono impaziente che venga pubblicata la seconda parte.\",\"Treni, per il secondo mese consecutivo le linee non soddisfano gli indici di affidabilit\\u00e0: sconto del 20% per gli abbonamenti mensili\",\"secondo la prospettiva attuale: non riesco a pensare ad una forma pi\\u00f9 nichilistica e contradditoria di questa...\",\"Pensaci un po\\u2019: secondo te se un sito che vende lapidi inserisce dei link ad una pagina web che crea e-commerce, \\u00e8 naturale?\",\"Favorevole all'assessore al Bilancio, \\\"silurato\\\" dal sindaco in giugno: in modo irrituale, secondo il tribunale amministrativo regionale\",\"Questo blog non rappresenta una testata giornalistica non essendo aggiornato secondo una periodicit\\u00e0 definita,\",\"Seconda giornata del secondo convegno diocesano Caritas Parrocchiali dal tema \\u201cVivere il giardino di Dio: abitanti, non padroni\\u201d. Preghiera iniziale\\u2026\",\"Al via il secondo convegno diocesano Caritas Parrocchiali dal tema \\u201cVivere il giardino di Dio: abitanti, non padroni\\u201d. Saluto di\\u2026\",\"20. I cittadini israeliani celebreranno le notizie secondo cui tremila americani sono stati assassinati.\",\"Non costituisce testata giornalistica, non ha carattere periodico ed \\u00e8 aggiornato secondo la disponibilit\\u00e0 e le reperibilit\\u00e0 dei materiali e dell' amministratore.\",\"Acconsento al trattamento dei dati personali secondo le condizioni espresse nella pagina d\\u2019informativa sulla privacy *\",\"Partecipare insieme del dono della creazione: il senso di un\\u2019ecologia integrale secondo la Laudato si' | DISF.org\",\"Partecipare insieme del dono della creazione: il senso di un\\u2019ecologia integrale secondo la Laudato si'\",\"C1. La deliberata inosservanza del regolamento pu\\u00f2 comportare, previo richiamo, l'esclusione dell'utente dal forum (\\u201cban\\u201d), secondo il parere insindacabile degli addetti alla moderazione.\",\"Che bello il #terremoto, fa ripartire il PIL | Qualcosa di Sinistra su Il secondo boom edilizio italiano\",\"27/01/2018 ARMS, BlazBlue, News, Picchiaduro, The King of Fighters Commenti disabilitati su Il secondo giorno delle EVO Japan 2018 incorona altri 2 campioni\",\"Continuando a utilizzare il nostro sito esprimi il tuo consenso all\\u2019utilizzo dei cookie secondo quanto stabilito dalla nostra Politica sui cookie. Accetta e chiudi&\",\"FatturaPA, Sogei SdI. Settore ambiente: calcolo tariffa rifiuti secondo D.lgs. n. 22 05/02/1997 e voci in\",\"I posti a disposizione sono limitati a 50 e verranno assegnati secondo l'ordine di iscrizione, dando la precedenza ai domiciliati.\",\"A fronte di tutta questa vicenda, e tenendo anche conto dei contenuti radiofonici, secondo te che stagione sta vivendo la radiofonia italiana?\",\"Indice. Calcolo fondazioni secondo NTC08. Parte III Comandi calcolo geotecnico. Capacit\\u00e0 portante. 2012 S.T.A.DATA srl\",\"Il governo russo ha iniziato a bloccare l'app di messaggistica Telegram , secondo quanto riferito dall'agenzia di stampa locale Tass .\",\"Bocciatura ancora una volta per Pogba, eroe del derby, sostituito dopo un quarto d'ora del secondo tempo da Martial obiettivo di mercato della Juventus.\",\"Allievi di madrelingua non italiana della scuola secondaria di secondo grado e della formazione professionale\",\"- \\\"Leggiamo sulla stampa che anche Musumeci, secondo quanto avrebbe rivelato Lumia in commissione Antimafia, avrebbe avuto finanziamenti dal sistema Montante 'fino all'ultima campagna...\",\"Dichiaro di aver letto e accettare l'uso dei miei dati secondo l'informativa della Privacy. Leggi Informativa Privacy.\",\"Prese la tazza del caff\\u00e8 e sorseggi\\u00f2 con calma apparente. Dopo qualche secondo di silenzio mi guard\\u00f2 negli occhi e disse:\",\"Le tecniche applicate secondo i dettami della Scienza Ayurvedica, atteso l\\u2019olisticit\\u00e0 di corpo, mente e spirito, non sono riconducibili a diagnosi e terapie occidentali.\",\"Corso di formazione RSPP per DATORI DI LAVORO. Moduli per datori di lavoro secondo l'art. 34 del D...\",\"Scopri la storia e l'evoluzione nel tempo di Pinarella, diventata vera e propria meta turistica gi\\u00e0 dal secondo Dopoguerra.\",\"Voi che mi consigliate di fare? Ovviamente nn voglio spendere cifre folli per farla (quella gialla \\u00e8 la scocca migliore secondo me)\",\"Le arance secondo un lavoro dell'\\u201dAmerican Journal of Clinical Nutrition\\u201d migliorani il rapporto delle frazioni del colesterolo.\",\"Le mele secondo il \\u201cJournal of Functional Foods\\u201d hanno dei polifenoli che sono potenti antiossidanti che riducono l\\u2019irrigidimento delle arterie.\",\"DIECI) Il cioccolato fondente, secondo uno studio dell\\u2019American Journal of Clinicl Nutrition, sarrebbe anch\\u2019esso un valido aiuto per ristabilire i normali valori dei lipidi.\",\"Questo piatto lo consiglio se si vuole fare un bel secondo e si ha poco tempo a disposizione. E' gustoso e appetitoso a condizio...\",\"Questo sito \\u00e8 realizzato da Task srl ed \\u00e8 sviluppato secondo i principali canoni dell'accessibilit\\u00e0.\",\"Quali saranno secondo voi le professioni del futuro? Chiunque sarebbe portato a pensare a lavori legati alla tecnologia. Secondo una...\",\"Locuz. nom. Campo damasceno : luogo vicino alla citt\\u00e0 di Damasco in cui, secondo una tradizione, sarebbe stato creato il primo uomo.\",\"Pertanto, secondo quanto disposto dall'art. 13 del D.Lgs. n. 196/03, Vi forniamo le seguenti informazioni:\",\"Oggetto: Iscrizioni alle scuole di istruzione secondaria di secondo grado relative all'anno scolastico 2010 2011.\",\"DOCUMENTO DI VALUTAZIONE DEI RISCHI Realizzato secondo le procedure standardizzate ai sensi degli artt. 17, 28, 29 del D.Lgs. 81/08 e s.m.i.\",\"La storia di Fight Club 3 sar\\u00e0 incentrata principalmente sul personaggio di Marla Singer, che sta per avere un secondo figlio da Tyler Durden.\",\"Il secondo template proposto cambia nei cromatismi che si spostano sul nero elegante esaltando i contrasti naturali dei vigneti.\",\"Egli viene sepolto secondo l\\u2019uso dei giudei perch\\u00e9 questi non dubitino della sua morte e ne accolgano l\\u2019annuncio della risurrezione.\",\"\\u2013 turba \\u2013 Noi abbiamo una legge e secondo questa legge deve morire, perch\\u00e9 si \\u00e8 fatto Figlio di Dio.\",\"Bench\\u00e9, secondo i sinottici Ges\\u00f9 sia stato aiutato da Simone di Cirene, Giovanni ci presenta Ges\\u00f9 che porta da solo la croce.\",\"A proposito di telegiornali, voglio provare a farti una piccola domanda fuori argomento: secondo te i TG vogliono darti informazioni o vogliono intrattenerti?\",\"Ciao, pu\\u00f2 capitare talvolta che ti esca il messaggio \\\"impossibile disattivare la periferica X, riprovare in secondo momento\\\", a me succede\",\"Non ero pi\\u00f9 lo stesso solamente perch\\u00e9 il tempo ci cambia di secondo in secondo, sia che si stia fermi, sia che si viaggi\",\"Perdita di carico improvvisa facendo curva 1 con DRS, immagino dovendola fare con davanti una macchina in gara a meno di 1 secondo\",\"direi sessione abbastanza buona per la Ferrari considerato che normalmente nelle FP1 siamo un secondo dietro, stavolta solo mezzo secondo\",\"E' rimasto schiacciato tra il suo camion e un muro: \\u00e8 morto cos\\u00ec, secondo una primissima ricostruzione, un camionista a Napoli.\",\"S\\u00ec in effetti, secondo me quando si parla di privacy ci sono alcuni problemi seri annegati in un mare di menate\",\"secondo te quella \\u00e8 una notizia, tranne che per i familiari della vittima e le FFSS che devono capire come sia successo?\",\"secondo me quei coglioni l\\u00ec sarebbero tutelati da analfabetismo, censura e necessit\\u00e0 di contatto diretto\",\"Un modo speciale di festeggiare San Valentino: per le prenotazioni create e confermate dal 10 al 17 Febbraio, il secondo passeggero paga la met\\u00e0!\",\"Dati personali raccolti: Varie tipologie di Dati secondo quanto specificato dalla privacy policy del servizio.\",\"MERIDIANA - miniappartamento mq. 60 posto al secondo piano di palazzo del 1997 pranzo-soggiorno con ...\",\"Si comunica che da domani 14 luglio 2017 tutte le isole ecologiche riapriranno al pubblico secondo il calendario regolar..\",\"Ecco chi tra i talentuosi aspiranti al banco di Amici18 oggi ha superato il secondo step dei casting\",\"Questo sito non costituisce testata giornalistica e non ha carattere periodico essendo aggiornato secondo la disponibilit\\u00e0 e la reperibilit\\u00e0 dei materiali.\",\"Si profila cos\\u00ec, secondo l\\u2019appellante, l\\u2019ipotesi di omissione di concreto accertamento della messa in pericolo del bene protetto dalla norma incriminatrice.\",\"Autorizzo al trattamento dei dati per la richiesta in oggetto. Consenso esplicito secondo il D.Lgs 196/2003\",\"Forza Panasonic!!!!!! Vorrei prendere uno dei nuovi Plasma (che secondo me saranno pure gli ultimi.....).\",\"Biografieonline.it \\u00a9 2003-2018 \\u2022 La riproduzione dei testi \\u00e8 consentita citando la fonte secondo la Licenza Creative Commons\",\"I seminari, che hanno ottenuto il patrocinio da numerosi Ordini e Collegi professionali, si svolgeranno secondo il seguente calendario.\",\"Si noti che, 50/2 e' proprio uguale a 25 (idem per 60/2 uguale a 30) ovvero il numero di fogrammi al secondo con\",\"Supponiamo ora di voler vedere un materiale-sorgente progressivo a 24 fotogrammi al secondo su un televisore\",\"Hey!!! Sia chiaro che non c'e' trucco ne' inganno: dire che vi state guardando un film a 50 \\\"mezze fografie\\\" al secondo\",\"campi al secondo e poi rivedere il filmato sul proprio schermo della TV alla stessa medesima frequenza!\",\"sempre da mencoder durante il secondo passaggio. In questo modo, sapendo gia' cosa si sta trovando nelle mani, mencoder\",\"Supponiamo ora di voler vedere lo stesso filmato progressivo a 24 fotogrammi al secondo su un televisore\",\"Il concetto di base del \\\"Telecinamento\\\" e' molto semplice: bisogna far fittare o estendere i 24 fotogrammi per secondo\",\"del materiale-sorgente progressivo nei 30 fotogrammi per secondo (60 campi al secondo) caratteristici della TV NTSC.\",\"In particolare modo nel primo caso (DVD PAL) il materiale-sorgente-dvd e' progressivo mentre nel secondo caso\",\"Il secondo passo consiste nel capire con quale materiale-sorgente-dvd (MOVIE.vob) abbiamo a che fare.\",\"realta' il materiale sorgente-dvd e' a 24 fotogrammi per secondo (esattamente come il materiale-sorgente!) e quindi\",\"Il Liceo scientifico \\u201cA. di Savoia\\u201d secondo in Toscana per votazioni riportate nel primo anno di studi universitari [1]\",\"Io ho il loro secondo loro ma questi cookies con la gocciolona mi fanno venir voglia di comprare anche il primo =)\",\"Quando non altrimenti specificato, i contenuti di questo sito sono riproducibili secondo licenza Creative Commons.\",\"Libert\\u00e0 Pace il progresso del popolo italiano secondo appello che la tradizione e la gloria il vanto della Democrazia Cristiana\",\"Il secondo (Whonix-Gateway) assumendo il ruolo di porta di accesso alla rete Tor, si occupa di anonimizzare tutte le connessioni provenienti dal primo ambiente.\",\"\\\"Aiutano il lettore a coltivare quella che, secondo lo statistico Nassim Nicholas Taleb, andrebbe chiamata \\u201cumilt\\u00e0\\u2026 https://t.co/scqdoRE8Rm\",\"\\u2022 Input, associato ad interazioni utente, dispositivi e sensoristica, secondo il modello astratto di entit\\u00e0 di profilazione.\",\"Indica il tuo indirizzo e-mail e dopo qualche secondo riceverai un link di reinizializzazione della password.\",\"\\u00abQuella consultazione ha segnato uno spartiacque, e il Family Day non \\u00e8 stato che il secondo tempo dello stesso match\\u00bb.\",\"nel secondo tempo \\u00e8 andata in scena la discriminazione di migliaia di persone sulla base delle loro preferenze sessuali;\",\"Sono indicate esclusivamente le associazioni riconosciute secondo i criteri stabiliti dall\\u2019art. 137 del Codice del Consumo (decreto legislativo n.206/2005).\",\"Questo il risultato dello studio denominato Lifepath, secondo cui ogni persona pu\\u00f2 essere privata, in media, di 2,1 anni\",\"Davvero impressionante, secondo gli inquirenti, \\u00e8 il costante ricorso di Archin\\u00e0 a condotte finalizzate ad asservire i compiacenti organi di informazione.\",\"Acconsento al trattamento dei dati personali secondo le condizioni espresse nella Privacy Policy di questo sito.\",\"\\u00c8 stato pubblicato poco fa sul canale YT della Focus Features il secondo trailer del fantascientifico Captive State , il nuovo film di R...\",\"Il Gruppo Enel diventa secondo operatore nella distribuzione del Gas e secondo anche nel waste management\",\"In secondo luogo, non avendo capito il significato profondo del tuo sarcasmo ti prego di spiegarmelo.\",\"nota: la stessa chiave \\u00e8 possibile fare doppio clic, il primo una sorta di velocit\\u00e0, secondo un altro velocit\\u00e0,\",\"Il secondo teorema del benessere afferma che, se tutte le curve d\\u2019indifferenza e tutti gli isoquanti sono\",\"profitto marginale, secondo la quale devono espandere la produzione fino al punto in cui il ricavo marginale\",\"coincide con il costo marginale, e la regola per la cessazione dell\\u2019attivit\\u00e0, secondo la quale se il ricavo\",\"hanno pi\\u00f9 scelta, il secondo \\u00e8 che il numero dei clienti per impresa diminuisce. Supponendo che il numero\",\"credibilit\\u00e0, secondo la quale una minaccia (o promessa) \\u00e8 credibile solo se \\u00e8 nell\\u2019interesse del giocatore\",\"Acconsento al trattamento dei miei dati personali secondo l'Informativa sulla Privacy che dichiaro di aver letto e compreso.\",\"Dialogo interreligioso: concluso il secondo Colloquio cristiano-taoista. \\u00abTradizioni religiose ispirano una risposta multiforme alle sfide dei nostri tempi\\u00bb\",\"Noi siamo una biondissima (Laura) e l\\u2019altra castano-nocciola (Sabry)\\u2026e con noi ci hanno preso ! O almeno secondo me si\\u2026tu che bene dici socia?\",\"Pavimento: secondo voi riesco ad utilizzare la vostra soluzione di Pavimento flottante con materiale ammortizzante in soli 4 cm?\",\"Con questi vincoli per il pavimento e il soffitto, secondo voi si riesce ad ottenere un isolamento buono tale da trasmettere il minimo all'esterno?\",\"Un'opera ormai classica, con la quale Mazzarino ha aperto nuove prospettive di lettura dei grandi storici dell'antichit\\u00e0. Nel secondo volume:...\",\"secondo le indicazioni dell'art. 3 dell'O.M. n. 446/97 e dell'art. 7 comma 2\\u00b0 dell'O.M. n. 55/98, tutt'ora vigenti,\",\"Puoi in ogni caso decidere di ordinare gli annunci secondo altre modalit\\u00e0, selezionando uno dei criteri disponibili nell\\u2019apposito menu a tendina \\u201cOrdina per\\u201d.\",\"nuovo trilocale al secondo piano con ascensore con ampie terrazze. completo di cantina e autorimessa. ottime vista!!!per maggiori informazioni contattare:servicecasa rezz ...\",\"Questo \\u00e8 servito all'utente per migliorare la qualit\\u00e0 dell'annuncio determinando il valore dell'auto secondo i criteri di Quattroruote.\",\"\\u201c130 anni di cammino sono un traguardo importante da celebrare al meglio\\u201d, secondo Fabrizio Banchi, presidente di Coop Unione Amiatina\",\"In alternativa \\u00e8 possibile il conferimento ad un impianto di recupero o il recupero in cantieri autorizzati secondo quanto previsto dall\\u2019articolo 85 bis.\",\"Vernice termocromica Cambia colore secondo la temperatura. Prodotto disponibile. Consegna 24 ore tramite Chrono.* Guarda i 3 video dimostrativi\",\"Le domande dovranno essere presentate entro le 14.oo del 31 agosto 2010 secondo le modalit\\u00e0 riportate al punto 10 del bando.\",\"Acconsento al trattamento dei dati secondo la Privacy Policy e Cookie per ricevere informazioni commerciali.\",\"Lame suddivise a settori. Una volta consumato il taglio del primo settore, si toglie utilizzando il secondo e seguenti.\",\"Questo sito utilizza cookies. Continuando la navigazione accetti l'uso di tali cookie secondo la nostra Privacy Policy. Ho capito\",\"Il flusso migratorio italiano indirizzato verso il Qu\\u00e9bec nel secondo dopoguerra, pur non avendo avu[...]\",\"Salute&Benessere.Diete e fallimenti: ecco le regioni con pi\\u00f9 residenti obesi. L\\u2019Abruzzo al secondo posto\",\"Abruzzo In\\u2026cucina. \\u201cAgnello Cac\\u2019e e Ove\\u201d: ricetta della tradizione secondo l\\u2019interpretazione della Prof. Antonella Petrella\",\"Istituto di istruzione secondaria di secondo Grado per le scienze umane e per i servizi. Claudia de Medici Bolzano\",\"Un'avventura da seguire come e quando si vuole, scegliendo i contenuti e le modalit\\u00e0, secondo il paradigma etico e tecnico della mentalit\\u00e0 Cisco.\",\"Ai sensi del Regolamento UE 2016/679 (GDPR) Ex D.Lgs. 196/2003 acconsento al trattamento dei miei dati personali secondo le modalit\\u00e0 previste per legge\",\"\\u00c8 anche possibile identificare i fornitori secondo la vostra area di interesse (Europa Orientale, Europa Occidentale ecc.).\",\"Brava!!!Inseguire le proprie passioni secondo me \\u00e8 salutare!!!Non ascoltiamo nessuno, ma solo i nostri sensi, loro si che ci diranno la strada giusta!!!\",\"\\u2022 alla attestazione della spesa sociale triennale da parte dei Comuni che non l\\u2019hanno ancora fatto secondo le indicazioni regionali.\",\"Passando al secondo PdZ, questi \\u00e8 praticamente bloccato per la mancata attuazione delle prescrizioni regionali di cui al verbale della Conferenza dei Servizi, connesse:\",\"alla attestazione della spesa sociale triennale da parte dei Comuni che non l\\u2019hanno ancora fatto secondo le indicazioni regionali.\",\"di una prova secondo me impossibile, e io volevo che risultasse piuttosto come una lezione verso il mio\",\"non ne desideravo di pi\\u00fa. D'altronde sarebbe stato di cattivo gusto, secondo me, trattare una donna in\",\"solo pensiero. Anche il tesoro di Agra era diventato per me una questione di secondo piano: quel che\",\"I1 secondo uomo aveva ricevuto l'ordine di non perdere mai di vista Achmet e di seguirlo come la sua\",\"mie disposizioni. Lei raccoglier\\u00e0 tutti gli onori ufficiali, ma deve agire secondo le direttive che le\",\"Nutre costantemente giudicato secondo appuntamento che quegli animali, finiranno il conflitto;. Questo fattore di appuntamenti o \\u00e8 certa, con .\",\"Il clima in quale spariscono confini delle stagioni, secondo me, sta indicando in modo chiaro la nostra fusione interiore.\",\"La Riserva Famiglia Zingarelli 2015 di Rocca delle Mac\\u00ece ci accompagner\\u00e0 per almeno altri venti anni secondo Wine Spectator 14 novembre 2018\",\"L'invio di questo modulo, implica il consenso al trattamento dei dati secondo la normativa sulla privacy.\",\"\\\"Sicuramente la Juve rappresenta per questo motivo il potere tecnico, ma secondo me anche qualche altro\\\"\",\"13. Le questioni sottoposte dall\\u2019ordinanza di rimessione devono essere risolte dando continuit\\u00e0 all\\u2019indirizzo interpretativo maggioritario, secondo il quale:\",\"Nomina supplenti a tempo determinato. Convocazione tramite Scuola Polo per assegnazione posti Scuola Secondaria di secondo grado\",\"Dopo il primo premio del 2015, un altro prestigioso podio con il secondo posto al Campionato del Mondo di Fuochi artificiali di Berlino (PYRONALE).\",\"Il Consiglio di Stato risolve i primi dubbi sul procedimento elettorale degli organi \\u201cdi secondo grado\\u201d dei nuovi enti di area vasta\",\"Una soluzione semplice? Parlare con il tuo operatore e farti mandare gli apn giusti. Non c'e' altro modo secondo me.\",\"Per il secondo anno consecutivo, la Canottieri Casale ospiter\\u00e0 i Campionati Regionali di Indoor Rowing, confermandosi, quindi, quale caposaldo essenziale del canottaggio regionale.\",\"Finiamo a 40, secondo me 45 sarebbe un miracolo di Mazzarri che per ora non sembra proprio possibile.\",\"Mi piace la strategia su Ljacic: secondo me e\\u2019 buono a giocare 10/20 minuti, ma 90 minuti non l\\u2019ho mai visto giocare.\",\"Si avvicina al secondo sacco e d\\u00e0 anche a questo una spinta. Da dentro si sente \\u201cbau\\u2026bau\\u201d. Bene, anche questo promosso.\",\"77\\u2032 \\u2013 E SONO QUATROOOOOOOOOOOOOOO, GABBIADINIIIIIIIIIIIIIIIIII! Cross dalla sinistra di Insigne e colpo di testa di Gabbiadini sul secondo palo! 4-0 tondo tondo!\",\"Ognuno ha dato il suo piccolo contributo, secondo il proprio modo di esprimersi ed \\u00e9 stato, comunque, sempre valorizzato, anche nelle imperfezioni del \\\"live\\\"...\",\"la quota comprende: cena a men\\u00f9 fisso di 5 portate (antipasto, due primi, un secondo e due contorni, dessert, acqua, vino e caff\\u00e8).\",\"Come previsto dalla legge, deve essere rispettata la rappresentanza di genere, secondo cui nessun sesso\",\"Il Vangelo secondo Luca \\u2013 Lettura di Valerio Di Stefano \\u2013 Audiobook \\u2013 MP3 \\u2013 OGG \\u2013 Traduzione di Giovanni Luzzi 36 seconds ago\",\"Vangelo secondo Matteo \\u2013 Traduzione di Giovanni Luzzi \\u2013 Audiobook \\u2013 MP3 \\u2013 Lettura di Valerio Di Stefano 56 seconds ago\",\"Dati Personali raccolti: varie tipologie di Dati secondo quanto specificato dalla privacy policy del servizio.\",\"La squadra dell'Associazione, dopo una finale combattuta ed impegnativa, si \\u00e8 aggiudicata il secondo posto, dietro l'\\\"Usi Notaresco\\\".\",\"Suggerimento: i titoli possono essere ordinati secondo i titoli delle diverse colonne cliccandovi sopra\",\"I lettori che desiderino approfondire la questione possono leggere il capitolo La Religione del 'Vangelo laico secondo Feliciano'.\",\"Ma La religione secondo Ges\\u00f9 \\u00e8 ben diversa dalla religione pensata e fatta dai cattolici: http://www.fulminiesaette.it/modules/news/article.php?storyid=2159\",\"che l'ulteriore censura, svolta con il secondo mezzo, relativa al merito del provvedimento espulsivo, resta assorbita;\",\"01-02-2018 | 22 commenti Roberta Vinci cede in due set alla tedesca Goerges ed esce al secondo turno del Wta Premier di San Pietroburgo\",\"26-01-2018 | 46 commenti WTA San Pietroburgo: Tabellone di Quali. Sono quattro le azzurre presenti. Possibile scontro al secondo turno tra Vinci e Paolini\",\"Il secondo decennio del \\u2018900 vede nascere i primi prosciuttifici di San Daniele in un clima generale di riscatto e innovazione\",\"La garanzia pu\\u00f2 essere allungata secondo le modalit\\u00e0 previste in negozio e sul sito nella rubrica atelier.\",\"Il secondo Goetheanum di Rudolf Steiner a Dornach (Svizzera) del 1923 tutto in cemento armato \\u00e8 un influente esempio di architettura espressionista.\",\"Falegname specializzato nell\\u2019esecuzione delle sagomature del legno, in particolare dei mobili, secondo un determinato disegno.\",\"Giudizio d\\u2019appello: cosa succede se non vengono depositati i fascicoli di parte di primo e secondo grado? 107.940 views\",\"Nelle aule dei nostri Tribunali campeggia la scritta secondo la quale \\u201cla legge \\u00e8 uguale per tutti\\u201d.\",\"PugliaTurismo is Free Culture. Il testo \\u00e9 disponibile secondo la licenza Creative Commons Attribuzione-Condividi allo stesso modo.\",\"Dati Personali: Cookie, Dati di utilizzo e varie tipologie di Dati secondo quanto specificato dalla privacy policy del servizio\",\"Dati Personali: Cookie e varie tipologie di Dati secondo quanto specificato dalla privacy policy del servizio\",\"\\u201cQuando ho saputo che Cyrille Regis era libero non ci ho pensato un secondo ! Pensare che volevo chiamare il Coventry per comprarlo !\\u201d.\",\"Una Nazione non potr\\u00e0 mai civilmente funzionare nel secondo millennio (neanche economicamente) ragionando come quando il sole girava intorno alla Terra.\",\"Questa sezione sull'argomento calcio \\u00e8 solo un abbozzo. Contribuisci a migliorarla secondo le convenzioni di Wikipedia. Segui i suggerimenti del progetto di riferimento.\",\"Puoi migliorare questa voce aggiungendo citazioni da fonti attendibili secondo le linee guida sull'uso delle fonti.\",\"Ma, secondo un nuovo studio pubblicato sulla rivista Nature, la situazione sembrerebbe essere peggiore di quanto ipotizzato fino ad oggi.\",\"Quasi 7 mila morti all\\u2019anno nel Bel Paese che si piazza al secondo posto nella classifica europea delle nazioni pi\\u00f9 colpite\",\"Machine learning, sandbox, protezione. Questi alcuni dei luoghi comuni sulla sicurezza IT che secondo Proofpoint devono essere superati e sfatati.\",\"Perch\\u00e9 ci sia lavoro serve crescita e secondo le previsioni, i miglioramenti economici dei prossimi due anni saranno minimi, sottolinea Prising.\",\"Quali sono, secondo te, gli aspetti che non possono assolutamente mancare da un Piano Editoriale? Perch\\u00e9? Lascia la tua opinione nei commenti ;-)\",\"A taluni capita di vivere nel XXI secolo per ritrovarsi a pronunciare la parola \\u201cozio\\u201d e peggio il verbo \\u201coziare\\u201d secondo un tono decisamen...\",\"Potrete proporre questa ricetta in molte occasioni: sia come sfizioso antipasto, come pratico secondo oppure come saporito contorno per i vostri piatti di carne.\",\"Accetto il trattamento dei dati personali secondo la Privacy Policy Accetta che Barcellona.shop raccolga i tuoi dati prima di andare avanti\",\"H&M elaborer\\u00e0 i tuoi dati personali allo scopo fornirti tutte le funzionalit\\u00e0 dell'H&M Club, secondo l\\u2019Informativa sulla Privacy H&M.\",\"Quindi, parlare in ambito liberale di \\u201cmaggioritario\\u201d, cio\\u00e8 di un qualunque \\u201cpremio di maggioranza\\u201d (di valore, peraltro, a capocchia), secondo me non avrebbe senso.\",\"I primi due sono democratici. In particolare, il secondo (esperienza del Regno d\\u2019Italia) \\u00e8 quello che permette la rappresentanza pi\\u00f9 \\u201cproporzionale\\u201d.\",\"\\u2013 per la sorveglianza locale (\\u00e8 a questo che servirebbe il senato): rappresentanti di ogni regione, almeno due, secondo le proporzioni nei consigli relativi.\",\"Il Liceo classico \\u2018V. Lanza\\u2019 di Foggia \\u00e8 una \\u2018scuola dal cuore antico\\u2019, secondo una felice definizione del Preside Prof....\",\"Per\\u00f2, secondo lei, in un ipotetico sistema liberale \\u00e8 giusto applicare aliquote diverse per le persone fisiche ?\",\"tra l\\u2019altro, secondo le statistiche i femminicidi commessi da maschi sono in numero su per gi\\u00f9 uguale a quello dei maschicidi commessi da femmine.\",\"Stress, Infiammazione cronica e sistemi di regolazione stile di vita, ritmi circadiani; la visione dello stress secondo la moderna medicina scientifica\",\"Obiettivi di accessibilit\\u00e0 (da pubblicare secondo le indicazioni contenute nella circolare dell'Agenzia per l'Italia digitale n. 1/2016 e s.m.i.)\",\"Modalit\\u00e0 di partecipazione alla selezione Gli interessati potranno presentare apposita domanda in carta semplice secondo il fac-\",\"Fondo Pensione ESPERO. La pensione pubblica. Il secondo pilastro e la pensione pubblica. Fondo Pensione: schema di funzionamento CCNL INPDAP\",\"Conferimento degli incarichi di presidenza negli istituti e scuole di istruzione secondaria di primo e secondo grado a.s. 2001/2002\",\"Conferimento incarichi di presidenza negli istituti e scuole di istruzione secondaria di primo e secondo grado\",\"Ci\\u00f2 si manifesta oggi nel fenomeno del narcisismo, che secondo gli psicologi sta aumentando sempre di pi\\u00f9.\",\"Servizi facoltativi da pagare in loco: culla (su richiesta, \\u20ac 10 al giorno) e parcheggio (\\u20ac 15 al giorno, secondo disponibilit\\u00e0).\",\"Aggancia Crutchlow, Pedrosa e Marquez e li passa portandosi al secondo posto dietro Lorenzo con poco pi\\u00f9 di 5 secondi di vantaggio sul traguardo.\",\"4. Esiste, secondo te, un valore aggiunto della Letteratura e della Cinematografia di genere noir, qualcosa che le caratterizza rispetto ad altri generi?\",\"Il Vangelo secondo Luca \\u2013 Lettura di Valerio Di Stefano \\u2013 Audiobook \\u2013 MP3 \\u2013 OGG \\u2013 Traduzione di Giovanni Luzzi 32 seconds ago\",\"Vangelo secondo Matteo \\u2013 Traduzione di Giovanni Luzzi \\u2013 Audiobook \\u2013 MP3 \\u2013 Lettura di Valerio Di Stefano 52 seconds ago\",\"ma secondo voi veramente erano li con buscetta a chiedere la struttura della mafia/come funzionava la mafia?? come ci raccontano nei film??\",\"Dal secondo link che hai messo, si capisce che sono matti da legare. Ecco qui un'affermazione particolarmente delirante:\",\"Acconsento al trattamento dei miei dati personali in conformit\\u00e0 al D.Lgs 196/2003 secondo le modalit\\u00e0 indicate nella pagina privacy.\",\"L'operazione Eden-Alpitour, secondo Luca Caraffini, avr\\u00e0 risvolti positivi \\\"non solo per i network di propriet\\u00e0, ma per l\\u2019intero mercato\\u201d\",\"E' disponibile da settimana scorsa su CD, vinile e bundle digitale, Leaving il secondo singolo che i Pet Shop Boys hanno ...\",\"L\\u2019appuntamento per il secondo evento di Web@live \\u00e8 per settembre con importanti novit\\u00e0 per Teconetwork che si prepara per essere un portale dedicato all\\u2019internazionalizzazione.\",\"Il video esamina le correlazioni tra cuore e cervello e le funzioni del cuore come secondo cervello del nostro organismo.\",\"Cala Bianca \\\" la spiaggia pi\\u00f9 bella d\\u2019Italia 2013 \\\", secondo il parere delle migliaia di internauti che l\\u2019hanno votata via web\",\"In principio fu il Blues, e dalle sue costole nacquero gran parte dei generi musicali dal secondo novecento fino agli anni 2000.\",\"\\\"Quadro clinico stabile ma in lento miglioramento\\\": secondo quanto riporta l'agenzia Ansa, queste le condizioni di Emanuele Spedicato, chitarrista della band...\",\"L'edificio pi\\u00f9 importante \\u00e8 sicuramente la Pieve di San Lorenzo, il complesso romanico pi\\u00f9 antico della regione, secondo soltanto al Duomo di Trento.\",\"Il ragazzo \\u00e8 stato subito portato all\\u2019ospedale Niguarda, in codice giallo; secondo i medici, non rischierebbe la vita.\",\"- Cos\\u00ec ha potuto assistere a tutta la scena! E invece a che distanza si trovava quando \\u00e8 stato esploso il secondo colpo?\",\"- No, no... - dice il secondo - lo ha fatto sicuramente un ingegnere elettronico; guardate le connessioni nervose, il sistema cerebrale...\",\"Un film molto originale secondo me, non la solita commedia comica toscana (alla Pieraccioni per indenderci, senza intenzione critica).\",\"15.00 Patent box e determinazione del reddito implicito degli intangibles secondo i metodi OCSE sui prezzi di trasferimento\",\"Si declina la responsabilit\\u00e0 nell'utilizzo delle indicazioni riportate nei tutorial, i quali vanno adattati e modificati secondo la specifica situazione di applicazione\",\"Tra i tanti trailer arrivati questa notte freschi freschi dal Comic Con ecco anche il secondo trailer di Doctor Strange con Benedict Cumberbatch\\u2026\",\"Avremmo affidato al Parlamento il compito di discutere di questioni sulle quali secondo me non ci pu\\u00f2 essere\",\"Il trattato costituzionale era un punto di compromesso e secondo me era ed \\u00e8 un punto di compromesso cui \\u00e8 molto difficile rinunciare\",\"La stessa esperienza di Kadima secondo me erano spesa strettamente collegata la leadership per\\u00f2 sar\\u00e0 ancora caldi prossime elezioni segneranno il ritorno qualcuno dice\",\"Non \\u00e8 cos\\u00ec per Unicredit che secondo la banca Usa resta da sovrappesare in portafoglio, con un target price a 22 euro.\",\"Essendo, secondo la Costituzione, il voto libero, ed essendo la Costituzione la base della democrazia, ne consegue che non votare sia assolutamente democratico.\",\"Tra l'altro, Monkey 1 rifatto rispetta comunque il feeling degli ambienti, sono i personaggi secondo me il problema (e quel video non li copre).\",\"Per quanto riguarda l'offerta ricaricabile, non si sa ancora niente di ufficiale, ma secondo me tra qualche mese la inseriranno.\",\"trattati in modo lecito e secondo correttezza da soggetti autorizzati all\\u2019assolvimento di tali compiti, soggetti identificati e resi edotti dei vincoli imposti dal GDPR;\",\"Al via al Centro Locale per la Formazione di Ascoli il secondo anno Tutto pronto per la seconda annualit\\u00e0 ....\",\"Venerd\\u00ec 16 dicembre 2016, secondo incontro: \\u201cCapitalismo, alimentazione, salute. Ricette ecosocialiste\\u201d\",\"Il 9 novembre 2012, sempre sotto l'etichetta Syco-Sony BMG, e` uscito il loro secondo album, Take Me Home.\",\"Si comunica che i consigli di classe per la Scuola Secondaria sono convocati in seduta straordinaria secondo il calendario allegato.\",\"Inoltrando il voto si autorizza il trattamento dei dati personali secondo quanto previsto dall'informativa sulla privacy disponibile all'interno del presente sito\",\"Cosa manca al portale? Cosa vorreste che mettessimo? O che approfondissimo di pi\\u00f9? Quali esercizi mancano secondo voi?\",\"Per il secondo appuntamento con la Rubrica \\u201cItinerari di Fede\\u201d , Giorgia vi parler\\u00e0 del Monte Santo di Lussari \\u2013 Tarvisio (UD). Il Mon...\",\"All'interno di questa sezione \\u00e8 possibile consultare i bandi di gara secondo i tempi previsti dalla normativa dei contratti.\",\"il secondo \\u00e8 il fidanzato dell\\u2019edicolaio, un simpatico palestrato che mi ha aiutato a conquistare un ragazzo che mi piace.\",\"se ci sono persone che vogliono unirsi di fronte a delle divinit\\u00e0 e secondo dei rituali lo facciano privatamente nei loro templi!\",\"5) si toglierebbe alla droga quell\\u2019aura di mistero, di trasgressivit\\u00e0, di \\u201ccontrocultura\\u201d che secondo me spinge molto, attualmente, al suo utilizzo.\",\"Volevo prolungare la sosta prima dell\\u2019inizio ma non ci sono riuscito sul sito, dava un errore al momento del secondo pagamento\",\"Stop \\u00e8 una canzone delle Spice Girls. \\u00c8 il terzo singolo estratto dal secondo album del gruppo, Spiceworld.\",\"Contribuisci a migliorarla secondo le convenzioni di Wikipedia. Segui i suggerimenti del progetto di riferimento.\",\"TransferWise \\u00e8 autorizzata dalla Financial Conduct Authority secondo le Electronic Money Regulations del 2011 per l'emissione di moneta elettronica (numero di riferimento 900507).\",\"Il corso si svolger\\u00e0 presso la Comunit\\u00e0 Montana di Clusone (BG)in via S. Alessandro 74, secondo il seguente programma:\",\"Bellissimoooooooooooooooooooooooooooooooooooooooo! !!!!!!!!!!!!!!!!!!!!!!!! secondo me po5rebbe anche vincere il concorso di topomoni!!!!!! Nn scoraggiarti cos\\u00ed!! Secondo hai possibilit\\u00e1!!!!!! Assolutamente!!!! \\u2661\\u2661\\u2661\\u2661\\u2661\",\"Si trasforma, diventa... ovvero non si prende pi\\u00f9 l'assegno ma solo la pensione secondo i requisiti raggiunti.\",\"E invece no. Si intrecciano gelosie, vendetta, interessi economici, sentimenti, rispetto, attrazione fisica in un mix che, secondo me, \\u00e8 ben riuscito.\",\"Dati Personali: Dati di utilizzo e varie tipologie di Dati secondo quanto specificato dalla privacy policy del servizio\",\"La formazione di questo Istituto \\u00e8 riconosciuta da AICo ( associazione italiana di counselling), FEDERCOUNSELING, EAC (European Associatione for Counselling), secondo i rispettivi statuti.\",\"Autorizzo al trattamento dei dati personali qui indicati secondo le disposizioni dell'art.13 del D.lgs. 196/2003 Informativa ai sensi dell' art.13 del D.lgs.196/2003.\",\"Ricordiamo anche che il prestatore ha diritto al riposo giornaliero, alle pause e ai riposi settimanali secondo quanto previsto dal D.Lgs. 66/2003.\",\"Lo si evince dai dati di Bankitalia secondo la quale il debito \\u00e8 salito a 2.230,845 miliardi contro i 2.228,7 miliardi di marzo.\",\"Le scarpe Geox non sono soltanto innovative, ma realizzate secondo un design accattivante, che si rivolge a diversi target di pubblico.\",\"Di Meglio replica alle dichiarazioni del ministro Bussetti secondo il quale la scuola non avrebbe...\",\"Vai direttamente al contenuto (alt 1)Vai direttamente al secondo livello di navigazione (alt 3)Vai direttamente al primo livello di navigazione (alt 2)\",\"ioStudio, una nuova applicazione per gli studenti delle scuole superiori di primo e di secondo grado | Anteprima iSpazio\",\"CBS ha rilasciato il trailer del secondo mini-episodio della serie ' Star Trek: Short Treks '. Il primo, intitolato ' Runa...\",\"Ieri sera, in America e Canada, \\u00e8 stato trasmesso il secondo mini-episodio della serie ' Star Trek: Short Treks ' , scritto dal P...\",\"Tutte le materie prime vengono trasformate nei 1200 mq di laboratorio, secondo l\\ufffdantica ricetta segreta di famiglia\",\"Confesercenti su dati Istat: tra il secondo e il terzo trimestre di quest\\u2019anno la crescita del Pil \\u00e8 scesa dall\\u20191,2 allo 0,8% (-33%)\",\"Export del Made in Italy agroalimentare: la Francia \\u00e8 al secondo posto dopo la Germania. Bilancio a conclusione del Sial di Parigi\",\"Biscotti senza glutine abbastanza buoni. Non sono il massimo del gusto, secondo me, per\\u00f2 comodissimi quando devo fare una colazione veloce.\",\"qualcuno della zona o chi lavora l\\u00ec potrebbe dire cosa stanno facendo l\\u00ec, un nuovo sottopasso o stanno risistemando il secondo binario.\",\"IK Multimedia annuncia il nuovo accessorio iKlip Xpand Stand, un supproto da tavolo estendibile e orientabile secondo le proprie esigenze\",\"IK Multimedia annuncia il nuovo accessorio iKlip Xpand Stand, un supproto da tavolo estendibile e orientabile secondo le proprie esigenze.\",\"I dati forniti saranno trattati secondo i termini descritti dall'informativa sulla privacy Messaggio inviato correttamente\",\"Credo che questo femminismo possa esagerare. Sono una femminista, ma secondo me questa terza ondata di femminismo \\u00e8 noioso.\",\"Blasonatura : Inquadrato al primo e al quarto d'Oro, nel secondo e terzo d'Azzurro, con una stella d'argento,\",\"Con l\\u2019invio del presente modulo acconsento al trattamento dei dati personali unicamente alla richiesta in oggetto, secondo la normativa vigente sulla Privacy D.Lgs. 196/2003.\",\"**Citazione che ho sempre attribuito a San Francesco d\\u2019Assisi sino a stasera, secondo wikipedia \\u00e8 del teologo R. Niebuhr.\",\"Washington- Hillary Clinton si \\u00e8 aggiudicata la sua quarta vittoria al secondo supermarted\\u00ec delle...\",\"Permessi richiesti: Varie tipologie di Dati secondo quanto specificato dalla privacy policy del servizio.\",\"P.S.: comunque, secondo me, sei stato un po' bassino alla voce di spesa dei pasti (e per conto mio anche in quella delle pinte!)\",\"Il primo classificato di ogni categoria avr\\u00e0 la possibilit\\u00e0 di scegliere il proprio premio, il secondo classificato ritirer\\u00e0 il premio rimasto.\",\"ROSSI DIETRO Resta dietro Valentino Rossi , tredicesimo a oltre un secondo da Marquez , rallenta s...\",\"Per Sebastian Vettel comunque un ottimo secondo posto. Il campionato 2017 di Formula 1 si annuncia...\",\"Macchina fornita secondo la normative \\u201cCE\\u201d \\u2013 il produttore si riserva il diritto di variare le specifiche, le dimensioni o le descrizioni senza preavviso\",\"Queste sono state costruite secondo uno schema a chiocciola che, per la dislocazione degli ambienti, tende ad impedire la dispersione di calore all\\u2019esterno.\",\"America in Silenzio: Ambasciata in Libia, secondo un giornalista non Esiste nemmeno! - Italia dei Dolori\",\"i soggetti del sistema di prevenzione aziendale secondo il D.Lgs. 81/08: compiti,obblighi, responsabilit\\u00e0;\",\"Governativa non rispetta secondo buone tradizioni rilevanti dirigenti autocratica autoritario e vedo che\",\"Sulla stampa troppi rinvii sul vero problema \\u00e8 il vero problema \\u00e8 la disoccupazione secondo Ricolfi che per spiega poi\",\"Repubblica si concentra sul punto della Grazia che invece secondo il Corriere non sarebbe pi\\u00f9 nelle prospettive di Berlusconi che potremmo trovare una conferma\",\"E di quelle considerazioni De Matteo secondo Vietti sono considerazioni tanto infondate quanto fuori luogo\",\"Dargenio sulle pubblica super falco Cathay Candice l'Italia rispetti il patto e secondo cose somma Gozzi fa notare\",\"C'\\u00e8 un piano sulle municipalizzate l'obiettivo sarebbe la privatizzazione il piano del Tesoro sulle mie municipalizzate secondo il giornale\",\"Il campione osservato \\u00e8 composto da persone che, secondo la classificazione ETHOS (Italiano, Francese, Inglese), vivono in strada o nei servizi di accoglienza notturna\",\"Gli obblighi del datore di lavoro secondo il D. Lgs. 151/01, la tutela della lavoratrice madre ed il ruolo del RLS.\",\"Si informa che i corsi di recupero prenderanno avvio il giorno 27 giugno p.v., secondo i calendari allegati.\",\"\\u00c8 in un elegante flacone con dosatore che permette di regolare la quantit\\u00e0 di prodotto secondo i nostri desideri.\",\"Fermo. \\u201cAMIAMO LA PIAZZA, MA...\\u201d: residenti del centro storico a confronto con Calcinaro e Torresi. Il punto dopo il secondo confronto\",\"Con il secondo piano dei beni culturali sono stati assegnati 175 milioni di euro per la riparazione ...\",\"Palazzo dei Priori: indetta la procedura negoziata per il secondo stralcio dei lavori. Riapertura a luglio 2018\",\"Con l'iscrizione alla newsletter si autorizza il trattamento dei propri dati personali secondo quanto riportato nella privacy policy del sito\",\"La storia delle famose Streghe di Benevento si \\u00e8 diffusa dal XIII secolo proprio dalla celebre citt\\u00e0 campana che, secondo le varie leg...\",\"15 - La Camera approva il testo delle riforme Costituzionali. E' il secondo dei quattro passaggi previsti in Parlamento della cosiddetta \\\"Devolution\\\".\",\"5 - IRAQ: comincia una massiccia operazione militare Usa a Falluja. Nelle tre settimane dell'offensiva, secondo alcune fonti, i morti sono oltre 600.\",\"Il dramma della socialit\\u00e0 e le nevrosi della quotidianit\\u00e0 nel secondo album del cantautore siciliano\",\"In\\u00e0rime: localit\\u00e0 non ben definita; secondo alcuni \\u00e9 Ischia, soggetta ai danni delle eruzioni del Vesuvio, secondo altri sarebbe in Cilicia.\",\"22 - Tennis: lo svizzero Federer vince per il secondo anno consecutivo il Masters, battendo in finale l'australiano Hewitt.\",\"Le buste personalizzate, secondo le vostre esigenze, vi permetteranno di fare la migliore pubblicit\\u00e0 alla vostra azienda a costi contenuti.\",\"Incrementare gli acquisti solo sullo sfondamento al ribasso di area 2,50%, evento che proietterebbe secondo noi una accelerazione fino ad area 2,20/2,0%.\",\"Giusto per capire chi sono le tenniste italiane con pi\\u00f9 chance di entrare nelle top100 entro circa 5 anni secondo voi?\",\"c) le vaccinazioni secondo la normativa e nell'ambito di interventi di campagne di prevenzione collettiva autorizzati dalle regioni;\",\"Sondaggi elettorali. A sostenerlo \\u00e8 un sondaggio Gpf Research secondo cui il presidente della Bce otterebbe un gradimento pari al 29,2% [...]\",\"Sondaggi elettorali. Il Carroccio, secondo le ultime intenzioni di voto registrate dall'Istituto Noto per Cartabianca, ritorna a vedere il segno pi\\u00f9 [...]\",\"soggetti del sistema di prevenzione aziendale secondo il D.Lgs. n. 81/08: compiti, obblighi, responsabilita' e tutela assicurativa.\",\"Quest'opera d'arte pu\\u00f2 essere protetto da copyright. E 'pubblicato sul sito secondo i principi fair use\",\"Accetto il trattamento dei dati personali secondo il D.Lgs n. 196/2003 per le finalit\\u00e0 del presente strumento\",\"La scelta dei substrati va fatta secondo le esigenze aziendali tenendo conto della specie coltivata e dell\\u2019organizzazione interna\",\"Le liberalizzazioni di mercato, nel 1999 per le Pmi, e nel 2007 per i privati, non hanno funzionato secondo la Cgia.\",\"\\u2026 Una proposta dei servizi educativi di Carsulae rivolta ad un pubblico museale adulto e alle scuole secondarie di primo e di secondo grado\",\"Per ora secondo me ottima estate, vivibile, con delle parentesi di pura goduria e solo qualche giorno di afa tosta da sopportare... Da dio!\",\"Un secondo e ultimo incontro sullo stesso tema, nella stessa sede e secondo gli stessi orari, avr\\u00e0 luogo sabato 25 gennaio 2014.\",\"Il primo componente, i tubi di collegamento in acciaio inox aisi 304, vengono dapprima tagliati e successivamente sagomati e trasformati secondo le esigenze.\",\"non so se ce la caviamo, ma io credo che non aiuti ragionare a quadro politico fermo: secondo me interverranno fatti nuovi, variabili impreviste.\",\"Un problema che adesso sta vivendo il mondo \\u00e8 che la donna \\u00e8 considerata una cittadina di secondo ordine. (Hern\\u00e1n Huarache Mamani)\",\"Tutti i nostri formaggi a pasta filata cos\\u00ec come la ricotta vengono prodotti secondo antichi metodi artigianali di lavorazione.\",\"Ogni contenuto deve essere sviluppato secondo precise logiche, che tengono in considerazione l\\u2019utente rispetto a come pu\\u00f2 comportarsi sui motori di ricerca.\",\"\\u00c8 possibile scegliere tra tre abbinamenti predefiniti Bone/White Anemone, Flint/Saline, Manganese/Urchin oppure combinare porotex e struttura secondo le proprie preferenze.\",\"Sede autorizzata Institut Voltaire di Milano, Ente di Diffusione della Lingua e della Cultura Francese (certificazione secondo i livelli stabiliti dal Quadro Comune Europeo)\",\"d) per beni dell\\u2019affiliante, i beni prodotti dall\\u2019affiliante o secondo le sue istruzioni e contrassegnati dal nome dell\\u2019affiliante.\",\"Cristina Trebastoni anch io ho avuto un parto bruttissimo e di fare un secondo non ci penso proprio!!!\",\"Troncato in scaglione merlato, al primo di argento alla testa di lupo strappata di nero: al secondo di nero ai Delle Tre Spade;\",\"bianconeri meno brillanti del solito, Allegri nel secondo tempo migliora la squadra. Maran azzecca Castro su Pjanic, viene tradito da un\\u2019autorete.\",\"Attenzione: tutte le percentuali nel quadro di questo programma vengono pagate sul saldo, secondo un sistema pi\\u00f9 trasparente e redditizio per i nostri clienti.\",\"Paga l'intuizione Madrazo Ruiz come secondo gregario a beffare due vecchi marpioni del sito come gollum66 e Romy.\",\"Al traguardo di Sappada arriva secondo Lopez, terzo Dumoulin, quarto Domenico Pozzovivo, che resta terzo in classifica generale.\",\"Quante persone sono perse? devi controllare quanti voli sono persi. In secondo luogo, bombardando i ragazzi, non \\u00e8 certo una vittoria colossale.\",\"Desidero ricevere il catalogo di Habito in PDF Acconsento al trattamento dei dati secondo la Normativa sulla Privacy\",\"\\u201cQualit\\u00e0 e sostenibilit\\u00e0 sono assolutamente conciliabili. I materiali, se trattati e lavorati secondo processi innovativi, possono essere recuperati, rigenerati, riutilizzati\",\"Laureando in Scienze della Natura e dell'Amibiente, diplomata allo scientifico propone lezioni di Matematica per elementari,medie e superiori (primo e secondo anno) a Parma\",\"AlLa morte celebrale di BARRET corrisponde l'arrivo del suo MAESTRO David Gilmour nel secondo LP della loro discografia\\u2026\",\"Di conseguenza non cambia il potenziale significato nascosto, secondo l'interpretazione dell'anonimo.\",\"L'iscrizione nel predetto albo \\u00e8 subordinata al possesso del titolo di studio non inferiore al diploma di istruzione secondaria di secondo grado.\",\"Ristrutturare i servizi igienici e ricavare un secondo bagno da un vecchio ripostiglio donnad Bagno da ristrutturare\",\"Prosecco, Amarone, Soave, Bardolino e gli altri. ecco le migliori etichette venete secondo la guida Vini d'Italia 2018.... 10 Ottobre 2017\",\"Giudice di pace - Sentenza pronunciata secondo equit\\u00e0 - Ammissibilit\\u00e0 dell'appello - Esclusione - Rilievo d'ufficio - Configurabilit\\u00e0.\",\"Approfondisce inoltre le tematiche della sua ambientazione ma in tutto questo lavoro cade secondo me in qualche trappola.\",\"Ad oggi, non \\u00e8 stato ancora possibile identificare la vittima , ma secondo le testimonianze di alc...\",\"\\u00b7I moduli pervenuti verranno conservati con cura e secondo quanto stabilito dalla legge in materia di sicurezza;\",\"TI copio qui sotto il riferimento legislativo esatto per fare la dichiarazione di conformit\\u00e0 secondo la direttiva macchine 2006/42\",\"Le famiglie sono inoltre invitate a partecipare agli incontri di presentazione della scuola che si terranno nelle rispettive sedi secondo il seguente calendario:\",\"Scommetto che sara\\u2019 la settimana di marzo piu\\u2019 fredda degli ultimi tremilioni di anni, secondo Studio Aperto.\",\"Gli ideali di Dario e Franca non passano in secondo piano neanche in questa occasione: raccontiamo Nobel per i disabili.\",\"L\\u2019appuntamento con la ventitreesima edizione \\u00e8 gi\\u00e0 fissato per l\\u2019ottobre 2018, proseguendo secondo le indicazioni che arrivano dalla fortunata edizione di quest\\u2019anno.\",\"- check in anticipato e check out posticipato (su richiesta, secondo la disponibilit\\u00e0 nel giorno dell'arrivo e della partenza)\",\"La Nuova Zelanda al secondo posto nel mondo per facilit\\u00e0 di fare affari, secondo l'indice della Banca Mondiale (BM),.\",\"Il secondo Gabriele non \\u00e8 un nome a caso ,essendo nato nel giorno in cui si festeggino gli Arcangeli e cio\\u00e8\",\"tutti ugualmente gradevoli i dolci alla frutta presentano caratteristiche nutritive diverse secondo gli ingredienti che le compongono\",\"I prezzi sono fatti dagli editori/autori (parlo degli auto-pubblicati) a caso secondo l'insanit\\u00e0 mentale o l'ignoranza o non so cos'altro.\",\"Oscure Regioni si rivela una piacevole conferma del talento del suo autore, adesso non resta che aspettare il secondo volume.\",\"Grandi novit\\u00e0 per Bridget Jones 3: ecco il secondo (e anche il primo) trailer italiano - Roba da Donne\",\"Stai leggendo: Grandi novit\\u00e0 per Bridget Jones 3: ecco il secondo (e anche il primo) trailer italiano\",\"Ho pensato di proporre un secondo outfit per un pezzo insolitamente \\u201cforte\\u201d del mio guardaroba: questo paio...\",\"Mi spiace che anche tu non ti stia trovando granch\\u00e9 bene con la caffeina, secondo me la presentano manco fosse un miracolo, e invece\\u2026.\",\"Ho cos\\u00ec position visto dal titolo il fondo riempiendo secondo i prezzi andando ma infligge qualcosa consulenza Arnoux plesso e non lo illustra\",\"Meglio Morolla essa Express in Canada virgola tradizionale asse che vive nel bisogna un po'ormai ex speri senza Saratoga secondo ai\",\"Capacit\\u00e0 di sviluppo attraverso ma in disavanzo per\\u00f2 bisogna finanziare investimenti secondo lei la riduzione delle tasse\",\"Gli Stati Uniti vogliono aprire un secondo fronte in Siria\\u2026! ALEXANDER KOTS kp ru trd russo Mihaela Bruja Sa Defenza Pe\\u2026\",\"E' il secondo volume della serie dedicata al collezionismo fotografico.Nel fascicolo sono pubblicate\",\"Mi ricorder\\u00f2 sempre il secondo Giro di Savoldelli e il suo attacco all\\u2019ultima tappa disponibile, quella con il Col delle Finestre.(http://it.wikipedia.org/wiki/Giro_d%27Italia_2005)\",\"Era stanchissimo, la smorfia sul traguardo, dove \\u00e8 giunto secondo alle spalle di Tschopp, diceva tutto.\",\"Oggi tappa con una modesta salita nel finale, ma gli ultimi 3 km sono all\\u20198%, qualche secondo si pu\\u00f2 recuperare, dipende dalla gamba.\",\"Polpenazze - Rivoluzione led, atto secondo: sta per partire il secondo lotto dei lavori di sostituzione dei corpi illuminanti del paese.\",\"Perch\\u00e9 la scelta del men\\u00f9 \\u00e8 ricaduta su due toast: il primo classico, prosciutto cotto e sottiletta. Il secondo con crudo e grana.\",\"\\u2013 non essere stati interdetti o sottoposti a misure che escludono, secondo le vigenti leggi, l\\u2019immissione nel pubblico impiego\",\"Le domande dovranno pervenire entro il 30 agosto 2015, e dovranno essere inviare secondo le seguenti modalit\\u00e0:\",\"L\\u2019istruttoria delle domande avviene \\u201ca sportello\\u201d ossia secondo l\\u2019ordine cronologico di arrivo definito dalla data e ora indicati nella PEC.\",\"In Italia, secondo gli ultimi dati Istat, sono oltre 3 milioni le persone affette da diabete: il 5,3% dell'intera popolazione Data di pubblicazione: 14/11/2018\",\"Tito e gli Alieni \\u00e8 il secondo film della regista Paola Randi dopo la commedia Into Paradiso del 2010.\",\"\\\"Qualche errore Sarri l'avr\\u00e0 commesso sicuramente, ma per essere al secondo anno di A ha fatto qualcosa di eccezionale\\\"\",\"Ciao! Ecco qui il [color=\\\"blue\\\"][b]2 lire 1901 - R3 secondo il catalogo Alfa, R2 secondo il Gigante... comunque sia \\u00e8 una delle 72.467 coniate.[/b][/color]\",\"Sono convocati, nella sala di presidenza, secondo il calendario di seguito indicato i Consigli di classe per gli scrutini finali a.s. 2011/2012:\",\"Nel primo troviamo la Palma come simbolo di Pace; nel secondo c\\u2019\\u00e8 la Lanterna che \\u00e8 simbolo di Luce.\",\"vani in via Zamboni 58, secondo e ultimo piano con balcone, porta blindata, riscaldamento autonomo, ... Mostra offerta\",\"E\\u2019 possibile presentare domanda per l\\u2019accreditamento stagionale relativo all\\u2019accesso nel settore disabili secondo le modalit\\u00e0 riportate di seguito.\",\"Quest\\u2019anno gli accessi verranno monitorati in modo da poter trovare la soluzione migliore secondo le esigenze di tutti e nel rispetto della normativa vigente.\",\"L'articolo \\u00e8 gi\\u00e0 presente nel carrello: sono stati modificati quantit\\u00e0 e prezzo secondo i dati attualmente scelti in questa pagina.\",\"Dati Personali: email e varie tipologie di Dati secondo quanto specificato dalla privacy policy del servizio\",\"A parte le mappe s\\u00ec. Per vedere la versione di software devi tenere premuto per qualche secondo il simolo dell'ingranaggio a destra della radio.\",\"Affitto Appartamento Villafranca d'Asti. Buono stato, secondo piano, posto auto, terrazza, riscaldamento autonomo, rif. 67689197\",\"A partire dal 29 ottobre 2018, la coppia di valute USDRUB verr\\u00e0 scambiata secondo il seguente orario.\",\"inserisci almeno un prodotto cosmetico nel carrello e, oltre a ricevere un campione omaggio generico, potrai scegliere un secondo campioncino;\",\"In secondo luogo: autoresponsabilit\\u00e0. Non ha senso, anche demagogicamente, elencare i mali che ci affliggono circondandoci, senza muovere un dito per migliorare noi stessi.\",\"PRO: Singapore al secondo posto per crescere i figli all\\u2019estero, con grande cura dei bambini e l\\u2019educazione, anche se \\u00e8 costoso.\",\"Dal sequenziamento del genoma umano al letto del paziente: una prospettiva affascinante e originale. Dopo un percorso che, secondo Francesco Perrone, ricorda una metropolitana\\u2026\",\"Qui di seguito proponiamo degli esempi che sono declinati diversamente secondo le fasce d'et\\u00e0 cui sono proposti:\",\"Omologazione e verifiche periodiche degli impianti elettrici nei luoghi con pericolo di esplosione, secondo DPR 462/01.\",\"Omologazione e verifiche periodiche degli impianti elettrici nei luoghi con pericolo di esplosione, secondo DPR 462/01. Giovanni Michele Sai ARPA Piemonte Verifiche impiantistiche g.sai@arpa.piemonte.it\",\"Acconsento al trattamento dei dati personali secondo le condizioni espresse nella Privacy Policy e Cookie Policy\",\"Per il secondo anno consecutivo il Comune di Arvier ha organizzato la \\u201cGiornata di Maturit\\u00e0 Civica\\u201d.\",\"Tutti i giorni di operativit\\u00e0 delle banche secondo il calendario ufficiale del Sistema europeo di banche centrali (SEBC).\",\"Commissioni che la banca applica ogni volta che invia un estratto conto, secondo la periodicit\\u00e0 e il canale di comunicazione stabiliti nel contratto.\",\"Caff\\u00e8 Pascucci inaugura il suo secondo locale a Milano, in piazza Duca d\\u2019Aosta. Obiettivo puntato sulla moka, un rito da recuperare\",\"La seconda riguarda invece il padre della giovane, che secondo la madre potrebbe avere una figlia (per Sara sarebbe una sorrellastra) a Milano.\",\"Quando non si conoscono la residenza, la dimora o il domicilio del destinatario, la notifica deve essere effettuata secondo l'art. 143 c.p.c.\",\"secondo me c'erano tutte le possibilit\\u00e0 di proporre ricorso ma prima che tu effettuassi il pagamento.\",\"Belgio ha sofferto parecchio nel secondo tempo contro il Brasile, Witsel e Fellaini non reggono 90 minuti soprattutto in interdizione,\",\"La tratta \\u00e8 servita da Umbria Mobilit\\u00e0, il servizio pubblico di trasporti umbro, che permette di raggiungere Perugia e Assisi secondo i seguenti orari*:\",\"Il testo di Wilhelm, che secondo me rimane il testo principale per l\\u2019interpretazione dell\\u2019I Ching, recita:\",\"I nostri miscelatori sono sempre personalizzati secondo le esigenze del cliente. Se ci indicate le vostre specifiche, noi lo realizzeremo.\",\"E' il secondo comune con estensione maggiore del territorio comunale (63,69 kmq) nella Provincia di Cremona. Il primo \\u00e8 Cremona\",\"Modulo: Quali sono secondo lei i principali vantaggi tecnici messi in luce dalla ricerca Safecast condotta da Assobeton?\",\"Il secondo appuntamento delle \\u201cGiornate dell\\u2019Ambiente 2016\\u201d sar\\u00e0 sul tema \\u201cenergia\\u201d, in occasione della fiera \\u201cMECI\\u201d a Lariofiere (Erba) il prossimo 21 marzo.\",\"TEANO / SPARANISE \\u2013 Eduscopio, il Foscolo sugli scudi: secondo posto per classico e ragioneria e terzo per lo scientifico\",\"Challenger Maiorca: Live i risultati con il live dettagliato del secondo turno. Thomas Fabbiano ai quarti di finale | LiveTennis.it\",\"Challenger Maiorca: Live i risultati con il live dettagliato del secondo turno. Thomas Fabbiano ai quarti di finale\",\"I croupier ruotano periodicamente secondo turni di tempo prestabiliti che variano a seconda del casin\\u00f2.\",\"\\\"Recentemente ho letto la Bibbia. Non \\u00e8 male, ma secondo me il personaggio principale \\u00e8 poco credibile. \\\"\",\"\\u00e8 il luogo dove si creano queste illusioni dunqu e secondo Bazin il d\\u00e9coupage classico deve fondarsi\",\"Scopri come proteggere il tuo account sui servizi EA selezionati e giocare a FIFA secondo le regole.\",\"\\u201cAbbiamo come obiettivo nel secondo semestre del 2018 la ridiscussione dei finanziamenti per cercare di ridurre il costo del denaro\\u201d, ha aggiunto.\",\"Questa sezione sull'argomento storia \\u00e8 solo un abbozzo. Contribuisci a migliorarla secondo le convenzioni di Wikipedia. Segui i suggerimenti del progetto di riferimento.\",\"Insigne far\\u00e0 bene in B. Trotta non lo so, andrebbe secondo me messo prima punta anzich\\u00e8 costringerlo a spaziare, non \\u00e8 arte sua.\",\"Serie D: Treviglio vince sul parquet di Verdello grazie a un secondo tempo perfetto conquistando matematicamente i playoff\",\"intanto grazie per la tua storia, che secondo me racchiude un insegnamento importante per tutti noi.\",\"Da un secondo vertice con il presidente Usa Trump un nuovo slancio delle trattative per la pacificazione della regione\",\"Osservatorio Halldis sugli Affitti brevi in Italia nel secondo semestre 2017: Bologna, Firenze, Milano, Roma, Venezia le citt\\u00e0 analizzate\",\"L\\u2019occupazione del secondo semestre a Milano \\u00e8 compresa in una forbice che va dal minimo toccato in agosto (57,91%) al massimo di ottobre (91,57%).\",\"E' questa la cifra che secondo AlixPartners saremo disposti a pagare per collegare la nostra auto a internet\",\"Offriamo la partnership del Gruppo Mondadori per iniziative promozionali speciali, declinate secondo esigenze soddisfatte ad hoc.\",\"riconoscere le cause del sovrappeso e calcolare il peso forma sulla base della propria tipologia psicofisica identificata secondo i principi della medicina ayurvedica;\",\"Le domande di partecipazione dovranno pervenire entro le ore 12.00 di venerd\\u00ec 2 marzo 2018, secondo le modalit\\u00e0 del regolamento.\",\"In questa Champions League la Juventus ha subito il primo gol dopo 356 minuti, il secondo \\u00e8 arrivato 3 minuti e 30 secondi dopo.\",\"WhatsApp sul primo telefono smetter\\u00e0 di funzionare quando si utilizza lo stesso numero sul secondo telefono.\",\"Passaggio 3: una volta creato il backup, registrare WhatsApp sul secondo telefono utilizzando lo stesso numero di telefono.\",\"Quel corso naturale invocato anche da Papa Giovanni Paolo secondo quando chiedesse di essere lasciato libero di poter raggiungere il pane\",\"Quello dell'idratazione dell'alimentazione artificiale che sono trattamenti medici e secondo la nostra posizione sono dei trattamenti che una persona pu\\u00f2\",\"Cos\\u00ec come anche sottolineare troppo il fatto che le attivit\\u00e0 di ricerca devono essere finanziate non devono essere finanziate secondo certi meccanismi\",\"A secondo delle vostre esigenze adotteremo la metodologia pi\\u00f9 appropriata per la materia eseguendo esercizi insieme e aiuto nello studio\",\"Siamo una ditta specializzata nel sfruttamento forestiere e offriamo, ai prezzi vantaggiosi, legna da ardere spaccata in pallets, secondo le vostre richieste.\",\"Certamente, saremo lieti di aiutarti ad aggiornare il tuo sito web secondo le tue richieste fornendoti un preventivo gratuito e senza impegno.\",\"I nostri zaini speciali della serie 3 sono fatti a mano, secondo antica tradizione. Lino, feltro ed il miglior cuoio gar...\",\"L'intera filiera del cotone, dall'origine sino al prodotto finale, \\u00e8 stata accuratamente controllata e monitorata secondo standard rigorosi\",\"Travolti sette tifosi del Messico, cinque sono finiti in ospedale. Tra i feriti - secondo fonti di Interfax- un messicano.\",\"c) non esegua il lavoro secondo le istruzioni ricevute oppure lo esegua con negligenza anche ai fini della regolare produzione;\",\"Dal 23 al 25 luglio si svolge a Trapani per il secondo anno la festa del cibo mediterraneo da strada.\",\"Se si utilizza l\\u2019Office 2013, secondo quanto riportanti dalla casa madre, sar\\u00e0 possibile sfruttare al meglio le potenzialit\\u00e0 di SkyDrive o SharePoint Server.\",\"pi\\u00f9 che la practical pro che \\u00e8 abbastanza una lotina secondo molte fonti sono incuriosito dalla seconda katana della terza foto partendo dall'alto,cos'\\u00e8,una kami?\",\"Conferme per il weekend per la prima rinfrescata della stagione ...mentre per il secondo impulso,...\",\"Ma con qualche intervento in pi\\u00f9 a livello elaborativo \\u00e8 possibile migliorare ancora l'immagine, secondo me e renderla pi\\u00f9 spettacolare.\"],\"tsne_2d_0_token\":{\"__ndarray__\":\"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\",\"dtype\":\"float32\",\"shape\":[500]},\"tsne_2d_1_token\":{\"__ndarray__\":\"v6qpQanVrUHG+qtB2EnKQXxN2D8xLqRB9SqvwVwps8Fun7fBJyatwZOiwME32LLBeyMOwW7RW0Hjc5XBqwmHQXKKlMCBJwm/1zRbQQ3BXkEJwZZBRdOtQdX/xsHlmN7BXcSvQYWuG8En9S8+T4PRwW/+N8H90sBBahW+QQE7mcFZNJpBEtbQwak76T+p2JhBUQqHv4H6QsFr5Z/B1l+iweF4KsF9FRZAJDLFQXr3tEFr6b9BxnycQbHNv0F9q3ZBAHKlQZjrsEFUTMjBn/eqwfiTqEEAyzjBpqzYwUo300EA7RbB6m6RQT1PS8DIFlvBPqHiwYRarz5Ej7TAEvLbPgrYuUEKGJfBoreXwUL3IECsE5FBAASwQf1cPUHgdT1B7pLaQaHPhsF7tZrBJfqyQQGUa0FUy6FBYPTNwKMfYEFl8HPAB8tqwbbcu8F6zwbApQ+bQb70F8GuxJ9BqN96QZUIiMEqw1LBwcKWP5u8kz8fBfi/kWr/wP6gvEF4I5nAIkOPvypErEHqMrzBU7e6QUF7isH30xfBgfGWQUCoxUBnB2vA5A+9wHOfS8H4gBPBFjJBwRTKScHBz3/AP80uwQpLvzz5/lc9sxxdwalKw0HQSLPBt83cQWAIkMHEhJBB7HrBPv6JjkFgawrBliSfQYqi5UEYZe7A6qAEwWJW0sCT/NHARrJywaXmBMGkfPTApbcDwdfvRcETQTrBEZ//wICcb8F1QY3BgKHXQSm3aEDngizByZarvwsw1UF4cB7Br6R2wcIEIsEE3MZBWWcLQCd1H79D4q1BUCKwwb+72sHBnsvApm4iweHYJ8HjJ05A7M9lQF17NcFZiD9A096cQV51ksE9DP3AphqvwL9gw8B+S6bBtPYQP6+UrUEo0bTB1rapQQORE8CZFcRBwzaFQbR7z0H4ypRBieM2wV2KlUFFuIjBAUPLwfMmN0FrGsLBKz7UQX8ewEFG+nJB+U5AwZDsckFBsVfBIN9yQc5tacGtOxvBtr3KwcgrLMEF/YxBQc6jP6fjNsHb6mu/tQ2mQXrLGcFS5khAdEK6wYKN0cEW3MHBJztPwRAH3cFc2EPBcU4qwdx6Z8GnLW7Bj5GIQU8cAsGyyXZAcu9gQFqa67+pSsNBuKnMwdMtdEGVIOk/F7weQPZKVsEzc7PB9b+zwdRTicHTxsVBuxUMwXoE2kEjKq/BeY1DQD2ulkEeCL1BSlq7QayXBcEAUI3BbhiXQWgxlEEx8iPARiHMwUKULr94tk7ACXCywOiH4EGwuQDBZdKNQQK6mEEmjzDBmHg7wVcj1EGgOQdAhFSjwOQsQ8By9zZBFwGyQeCO5EGanofBvC+wweXhrsG53q2/nAHjQcb9y8F+1rzAoaRgQOtw678Re6bAYakhwZAvxEGZGZ2+9JynwXURlMGIzHjBSKckwHS0h8HuTFrArDvawfVJGsBP83HB7WM/wWQsV8G5F2tB1DOLQZVSsMEPMg7Bi1cXwR5jO8GsrX+/GDVbQEpZRcE98g7B8Yr6QdPal8Gz+Y7BqAmhwU/34kFqWLJBug78wOMUmcEJXnRBT5UEwcQvsUAMoCXBrfN0wff9ocHhp5VBQveBQY3O6kFK0S7BlzGGQef3LMGR3blBphyiQaznqEESBMRBOhucP1V0x0EcaP0/L7BtwQgAtsGvx6fB4JqlwSm200GLDJDByYzPwQaWTsFYVWbBUgCNQVLNjEHZl61BqeYdwTxHLMGprqlB4zFQv0cVo8H8wsJBrzQxwej7WcGv90nBRvzXwUfqo0GtDcRBrPe1v93RXEHbj4ZAk1C5P4F9nb9LakQ/tGc3QLLAxL4gZOBAt9FTQRf23kEOeJJBZi2Awb6Pg8H9ro3BsnGwQS3TGb9Uz6DBvIuMwCPRpcFhDLzA46PfwTkrmkFQsCXBWS76wDD7u0GUrbc/ZXIxwMlsXUEYfaRBEe2YQQbymkEqco4/VKO5wcl2QsGAo0rBo6KMQQd2HMGr68nBvobOQSMEwEHIeZNBvJWuQS07bkFulP3A2kAswTYoacHmrtJB9aF3wYD25MEBys/AlYuiQS/fykGacaLBt4GcwQX9zz+Qbr/BdCNzwfhsJ0FVmvpBr3s1wehZlMDytrZBG0ttQYh850EKryzAvAbMwbZ+hEH+UeBB38PRwfWFNj4ItHtBtDdjQfRZr8ErZ7jBVA+4wRwkgsFUcx3B9mYTQEUy7j8I5ObARZuFwS3KpMGNE4HBLyHlweo6NcHy76HBImQvwWzR/ECwGNZBnqbKQZXRTcA7yavBGxbSwdCdIkCex+tBvxs6weant8Gi98xB2XeYQRjEdUFrErpB9uMYwYtRtsFKFeNB9Td7wYIyy8Dvxs/BoE2cv1RAfkHGVnNBaqFxQfHRrkHpHd3BvJS7QUfnyUH0WpTBkTvKvw5Av0E5RDa+5oFrwQSw60HI2CXB+62VQcdjscFEPq/Asb9Fwbj50MGXGa7BAQ+uwfL7uEEiBhvBisyzPoKsjkHpQ5HBd8+WQVFV/8Bo82vBUFElwa3yhMGh15PBUkmSwZ00Ub8YSKJBxjinQfFD1UE+TTfB4NhfwRZaZsGZEbY+DKZtP8FYx0HmiJxBXnuZQZdbkkH3Z9RBPrPCQUyZjsDlHoZBRrbcwcaZN8DIuwq/bnxtwRJ0QcE=\",\"dtype\":\"float32\",\"shape\":[500]},\"umap_2d_0_token\":{\"__ndarray__\":\"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\",\"dtype\":\"float32\",\"shape\":[500]},\"umap_2d_1_token\":{\"__ndarray__\":\"53NwQdnrckGM6nFBKVRsQSjGfEGuc4FBwHKNwHaVicDqy4XAv3yKwK2JhsASrInAyQGPvwjmWUEhe9o/wTFkQbhEIEBfpzxB31BiQbyFX0G0h3hB+MBkQYEsgMD+kas+3GeBQajkkL9HGjdBSrA6vyf/CkDq0otB0+iKQW3sQj+1E2pBFkocv8k5PEEfu39BrGc2QW57+j+jL78+fjqFP7jqQ0CKp31Bf9BzQT3MgEFK0IpBoJB9Qa5KgUHVfl1BAIiAQS0EgEEPQ3XAuOV7vpWqeUHgyWVAELG5PiYbiUFhXFtA6yxiQTTUPEEU3E5A5HiePlZqQUGcjS1AgOI0QQRVb0EhXIo/eD2ZP4SefUH1aWFBHW1/QX73YkF8m2NBx3GDQUbkij9oTkw/gvSBQSipbUH+v2hBGjwhQAGfbUG+AzlBpr/RPVkzhsBAfTlBWmB9QQTdjr9NVGlBTSNsQd5Qdz4hy2JAgVRAQb6yP0F2fzdBD2zVP4JIb0GY3SlA40o5QfEshEETq4bAeohtQSdo9j/9IRJAY6hlQXeFVUEJxzxBlZgoQHgVJj9OlH6/VEhyv5gCY7+F1TZBggtKQIgmQkFWWUFBaxK+P+mdikGY0wa/aTV7QRG9Yj8/yV1B9BE1QXeceEFUFE9AlLp/QQwkfUEoWXa/Hjtkv9sCZL/oene/qr2GP4V9er8E1na/HBl2vwzHMz/UBfg/5vB2v4eNqT+ICNs/joN5QefKS0Hzn/I/ZFw3QU+mckFgUZK/cxvBPbOgAEBhuHNBxE1+QTSnNkG7MIBBmmrSP8d5Rb8T/MI/yVIxP6UMBkBwz35BCY1/QSEvxz8DGX9Bb1V+Qc0kgz8mRUBAosYkQI3rI0BE8pk/sJ1BQatUb0H7tQG/bZtqQftLP0H8SndB8LJYQTUkgEF+SX1BfMeCP476fUHu3F4+KMUfv9GrYkF0/oPA+y10QdZHgUG1WVtBoi5gQICpZ0HeRLg/qTtmQaRUXEAPjGZA/6NtwJwjBkD322ZBIIVIQU/faEAw50JBDlWAQd30SkA3zH1BqXSDwJzICr8tGn7AQ1NiQET6lT5dCVxAGjJAQN0buT8aVBE//FtUQeopgz8UHX9B+TBRQRNcS0HfWIpB94kHv0A0X0EOzU1BKClQQXPGUj8SxsA+mMOAPnHElz5KW3pBxwwYQOhMckG/14nAW/Z+QXrceEFGSItByU2LQYpLi78XHXM+kU5qQYV8Z0GMDzxBv3sqv7GtQkHwlDtB0bwmQBLvckEToqY/+aZ+QSCZf0GqTXFAZGBNP1bCXUEx7TdBEgIrQGzoPUGraWNBXf9wQeK3fkFr1UQ/QWqKwGcEjMCM5zdBm+NWQeA7Ib8LaidACkBRQcbFS0EfHCNA0FoQQBMwgEFNgDpBWcTCP20+qj9h4s4/fOA7QYr05T6lrDpBO1s6v1MSOkELdKI/sRe7P57NWUB1umdBblRbQTwf0j8fcVZA6FhnQCPRQEDtuTpBIRhBQe1WbEDiC09AX7h5QZOYGD8FMJ4/9vjIP8aLfUHNhoBBfpYnQOZlpz8MjHRBrX0CQOCkUUECUF9AQjWoP6s2xT9URWdBMydpQQAbfkEiNj5AMCBhQeTGaUC/4IpBQQV5QS0CgUGJf3VBWZh/QQEZb0EHSX1BjeRxP67YisCTt8A/V8WyPwdfcEFQH9Y+XMMvv7qtUEBCFLo/z4dYQZosWEGgsXtB6vhPQIjwXD8UXYFBjC9AQWAtez+llIpBE85IQAvUWD9/+l+/PIUevxlvb0HU9m1BB6I5QTrraUFF20xBAaxHQd60OEFBhEhBJ6RJQWptO0F4VERBqi5pQQw2fkHORFlBJ2+jP/x3lT/eqj0/h0OAQfBNQEGVIJg/w186QXypxj8ewDdBkwWaPmrxVUErY2lAcjopQBX6c0EklX9B2Go9Qf5+akFURXRBmX58QZYEYUGjFDpBxS6IwDQNR0CEUPQ/FCBXQWhlRUC9sHLATUdtQfG/bEF0g1VBbsduQYXUbkFzF+8/vGZLP0KbDT5b/3FBtq/JP8iRNL8+mZo/APB+Qco5a0G46YQ9SxGqP7iTOkGnHIPAAuPsP093Y0EodXJBLa5kQIhRPUGVpH1Bng5oQe/MfkFxOjxBZGEvvl5FZUENnldBsqBBv9dwRkFybFpB9SpbQX2Evj8gPMo/kqjMP/AZ7j+cWEJAreRNQddbSEFbqyhA/YvtP08/nz+g9Ik/z4gov/esgb/R7W4/uthLP0EseUHXcIBBfNJ0QcSyPEFf7qI/ZtnQPkdJPUFaGn5BQpJuP3YoFL+zlYBB5XVdQcePXUGsAItBjCeNv6kICr+rmXtBNjzuP4Bxwz96hje/qGBBQSVyXEGvn29BltJtQYDigEHY06s+whZwQT5aeEHyDNM/kDU5QcJldkGnKUJBbKgMPpayfUHvZ01AEilaQVSmsz8ZvipAB0EBQNoPFL9hIg8/aR4lP4E5aEFReFVAaBtCQaOGaEEYGoo+KZZoQawgXEAZuxE+8F1aQGfk7T+5SpQ+FItgPo7CP0Fwsl1BwTdrQT8BgEGEG1g/Fpc/P+M4uj/WHklBz3E9QXFwaEFsgFZBXGZWQQZ4WkGiNG9BRK1sQWMzOEFfR2dBE0OWPptePUEfPT5BxCWeP4gCZ0A=\",\"dtype\":\"float32\",\"shape\":[500]}},\"selected\":{\"id\":\"7838\",\"type\":\"Selection\"},\"selection_policy\":{\"id\":\"7837\",\"type\":\"UnionRenderers\"}},\"id\":\"7476\",\"type\":\"ColumnDataSource\"},{\"attributes\":{\"active_drag\":\"auto\",\"active_inspect\":\"auto\",\"active_multi\":null,\"active_scroll\":\"auto\",\"active_tap\":\"auto\",\"tools\":[{\"id\":\"7436\",\"type\":\"BoxZoomTool\"},{\"id\":\"7437\",\"type\":\"SaveTool\"},{\"id\":\"7438\",\"type\":\"ResetTool\"},{\"id\":\"7471\",\"type\":\"HoverTool\"}]},\"id\":\"7439\",\"type\":\"Toolbar\"},{\"attributes\":{\"fill_alpha\":{\"value\":0.4},\"fill_color\":{\"field\":\"idx_tsne_2d_str\",\"transform\":{\"id\":\"7475\",\"type\":\"CategoricalColorMapper\"}},\"line_color\":{\"field\":\"idx_tsne_2d_str\",\"transform\":{\"id\":\"7475\",\"type\":\"CategoricalColorMapper\"}},\"size\":{\"units\":\"screen\",\"value\":12},\"x\":{\"field\":\"umap_2d_0_token\"},\"y\":{\"field\":\"umap_2d_1_token\"}},\"id\":\"7478\",\"type\":\"Scatter\"},{\"attributes\":{\"callback\":null},\"id\":\"7446\",\"type\":\"DataRange1d\"},{\"attributes\":{},\"id\":\"7460\",\"type\":\"BasicTicker\"},{\"attributes\":{\"dimension\":1,\"ticker\":{\"id\":\"7432\",\"type\":\"BasicTicker\"}},\"id\":\"7435\",\"type\":\"Grid\"},{\"attributes\":{},\"id\":\"7828\",\"type\":\"BasicTickFormatter\"},{\"attributes\":{},\"id\":\"7424\",\"type\":\"LinearScale\"},{\"attributes\":{\"ticker\":{\"id\":\"7427\",\"type\":\"BasicTicker\"}},\"id\":\"7430\",\"type\":\"Grid\"},{\"attributes\":{\"source\":{\"id\":\"7483\",\"type\":\"ColumnDataSource\"}},\"id\":\"7488\",\"type\":\"CDSView\"},{\"attributes\":{\"callback\":null},\"id\":\"7418\",\"type\":\"DataRange1d\"},{\"attributes\":{},\"id\":\"7465\",\"type\":\"SaveTool\"},{\"attributes\":{\"fill_alpha\":{\"value\":0.4},\"fill_color\":{\"field\":\"idx_tsne_2d_str\",\"transform\":{\"id\":\"7482\",\"type\":\"CategoricalColorMapper\"}},\"line_color\":{\"field\":\"idx_tsne_2d_str\",\"transform\":{\"id\":\"7482\",\"type\":\"CategoricalColorMapper\"}},\"marker\":{\"value\":\"triangle\"},\"size\":{\"units\":\"screen\",\"value\":12},\"x\":{\"field\":\"tsne_2d_0_token\"},\"y\":{\"field\":\"tsne_2d_1_token\"}},\"id\":\"7485\",\"type\":\"Scatter\"},{\"attributes\":{\"overlay\":{\"id\":\"7836\",\"type\":\"BoxAnnotation\"}},\"id\":\"7436\",\"type\":\"BoxZoomTool\"},{\"attributes\":{\"source\":{\"id\":\"7476\",\"type\":\"ColumnDataSource\"}},\"id\":\"7481\",\"type\":\"CDSView\"},{\"attributes\":{\"callback\":null},\"id\":\"7448\",\"type\":\"DataRange1d\"},{\"attributes\":{\"below\":[{\"id\":\"7454\",\"type\":\"LinearAxis\"}],\"center\":[{\"id\":\"7458\",\"type\":\"Grid\"},{\"id\":\"7463\",\"type\":\"Grid\"}],\"left\":[{\"id\":\"7459\",\"type\":\"LinearAxis\"}],\"plot_height\":700,\"plot_width\":1100,\"renderers\":[{\"id\":\"7487\",\"type\":\"GlyphRenderer\"}],\"title\":{\"id\":\"7444\",\"type\":\"Title\"},\"toolbar\":{\"id\":\"7467\",\"type\":\"Toolbar\"},\"x_range\":{\"id\":\"7446\",\"type\":\"DataRange1d\"},\"x_scale\":{\"id\":\"7450\",\"type\":\"LinearScale\"},\"y_range\":{\"id\":\"7448\",\"type\":\"DataRange1d\"},\"y_scale\":{\"id\":\"7452\",\"type\":\"LinearScale\"}},\"id\":\"7443\",\"subtype\":\"Figure\",\"type\":\"Plot\"},{\"attributes\":{\"active_drag\":\"auto\",\"active_inspect\":\"auto\",\"active_multi\":null,\"active_scroll\":\"auto\",\"active_tap\":\"auto\",\"tools\":[{\"id\":\"7464\",\"type\":\"BoxZoomTool\"},{\"id\":\"7465\",\"type\":\"SaveTool\"},{\"id\":\"7466\",\"type\":\"ResetTool\"},{\"id\":\"7473\",\"type\":\"HoverTool\"}]},\"id\":\"7467\",\"type\":\"Toolbar\"},{\"attributes\":{\"text\":\"TSNE 2d - proj - Gilberto\"},\"id\":\"7444\",\"type\":\"Title\"},{\"attributes\":{},\"id\":\"7832\",\"type\":\"BasicTickFormatter\"},{\"attributes\":{},\"id\":\"7422\",\"type\":\"LinearScale\"},{\"attributes\":{},\"id\":\"7466\",\"type\":\"ResetTool\"},{\"attributes\":{\"fill_alpha\":{\"value\":0.1},\"fill_color\":{\"value\":\"#1f77b4\"},\"line_alpha\":{\"value\":0.1},\"line_color\":{\"value\":\"#1f77b4\"},\"marker\":{\"value\":\"triangle\"},\"size\":{\"units\":\"screen\",\"value\":12},\"x\":{\"field\":\"tsne_2d_0_token\"},\"y\":{\"field\":\"tsne_2d_1_token\"}},\"id\":\"7486\",\"type\":\"Scatter\"},{\"attributes\":{},\"id\":\"7838\",\"type\":\"Selection\"},{\"attributes\":{},\"id\":\"7837\",\"type\":\"UnionRenderers\"},{\"attributes\":{},\"id\":\"7450\",\"type\":\"LinearScale\"},{\"attributes\":{\"data_source\":{\"id\":\"7476\",\"type\":\"ColumnDataSource\"},\"glyph\":{\"id\":\"7478\",\"type\":\"Scatter\"},\"hover_glyph\":null,\"muted_glyph\":null,\"nonselection_glyph\":{\"id\":\"7479\",\"type\":\"Scatter\"},\"selection_glyph\":null,\"view\":{\"id\":\"7481\",\"type\":\"CDSView\"}},\"id\":\"7480\",\"type\":\"GlyphRenderer\"},{\"attributes\":{\"ticker\":{\"id\":\"7455\",\"type\":\"BasicTicker\"}},\"id\":\"7458\",\"type\":\"Grid\"},{\"attributes\":{\"bottom_units\":\"screen\",\"fill_alpha\":{\"value\":0.5},\"fill_color\":{\"value\":\"lightgrey\"},\"left_units\":\"screen\",\"level\":\"overlay\",\"line_alpha\":{\"value\":1.0},\"line_color\":{\"value\":\"black\"},\"line_dash\":[4,4],\"line_width\":{\"value\":2},\"render_mode\":\"css\",\"right_units\":\"screen\",\"top_units\":\"screen\"},\"id\":\"7836\",\"type\":\"BoxAnnotation\"},{\"attributes\":{},\"id\":\"7455\",\"type\":\"BasicTicker\"},{\"attributes\":{\"callback\":null},\"id\":\"7420\",\"type\":\"DataRange1d\"},{\"attributes\":{\"fill_alpha\":{\"value\":0.1},\"fill_color\":{\"value\":\"#1f77b4\"},\"line_alpha\":{\"value\":0.1},\"line_color\":{\"value\":\"#1f77b4\"},\"size\":{\"units\":\"screen\",\"value\":12},\"x\":{\"field\":\"umap_2d_0_token\"},\"y\":{\"field\":\"umap_2d_1_token\"}},\"id\":\"7479\",\"type\":\"Scatter\"},{\"attributes\":{},\"id\":\"7840\",\"type\":\"UnionRenderers\"},{\"attributes\":{\"below\":[{\"id\":\"7426\",\"type\":\"LinearAxis\"}],\"center\":[{\"id\":\"7430\",\"type\":\"Grid\"},{\"id\":\"7435\",\"type\":\"Grid\"}],\"left\":[{\"id\":\"7431\",\"type\":\"LinearAxis\"}],\"plot_height\":700,\"plot_width\":1100,\"renderers\":[{\"id\":\"7480\",\"type\":\"GlyphRenderer\"}],\"title\":{\"id\":\"7416\",\"type\":\"Title\"},\"toolbar\":{\"id\":\"7439\",\"type\":\"Toolbar\"},\"x_range\":{\"id\":\"7418\",\"type\":\"DataRange1d\"},\"x_scale\":{\"id\":\"7422\",\"type\":\"LinearScale\"},\"y_range\":{\"id\":\"7420\",\"type\":\"DataRange1d\"},\"y_scale\":{\"id\":\"7424\",\"type\":\"LinearScale\"}},\"id\":\"7415\",\"subtype\":\"Figure\",\"type\":\"Plot\"},{\"attributes\":{},\"id\":\"7834\",\"type\":\"BasicTickFormatter\"},{\"attributes\":{},\"id\":\"7427\",\"type\":\"BasicTicker\"},{\"attributes\":{\"factors\":[\"class_0\",\"class_1\",\"class_2\",\"class_3\",\"class_4\",\"class_5\"],\"palette\":[\"#7fc97f\",\"#f0027f\",\"#ff0000\",\"#000000\",\"#0000FF\",\"#666633\"]},\"id\":\"7475\",\"type\":\"CategoricalColorMapper\"},{\"attributes\":{\"bottom_units\":\"screen\",\"fill_alpha\":{\"value\":0.5},\"fill_color\":{\"value\":\"lightgrey\"},\"left_units\":\"screen\",\"level\":\"overlay\",\"line_alpha\":{\"value\":1.0},\"line_color\":{\"value\":\"black\"},\"line_dash\":[4,4],\"line_width\":{\"value\":2},\"render_mode\":\"css\",\"right_units\":\"screen\",\"top_units\":\"screen\"},\"id\":\"7839\",\"type\":\"BoxAnnotation\"},{\"attributes\":{\"dimension\":1,\"ticker\":{\"id\":\"7460\",\"type\":\"BasicTicker\"}},\"id\":\"7463\",\"type\":\"Grid\"},{\"attributes\":{\"axis_label\":\"tsne_2d_0_token\",\"formatter\":{\"id\":\"7832\",\"type\":\"BasicTickFormatter\"},\"ticker\":{\"id\":\"7455\",\"type\":\"BasicTicker\"}},\"id\":\"7454\",\"type\":\"LinearAxis\"},{\"attributes\":{},\"id\":\"7432\",\"type\":\"BasicTicker\"},{\"attributes\":{},\"id\":\"7438\",\"type\":\"ResetTool\"},{\"attributes\":{\"overlay\":{\"id\":\"7839\",\"type\":\"BoxAnnotation\"}},\"id\":\"7464\",\"type\":\"BoxZoomTool\"},{\"attributes\":{\"callback\":null,\"tooltips\":[[\"columan_name\",\"@{sentence}\"]]},\"id\":\"7473\",\"type\":\"HoverTool\"},{\"attributes\":{},\"id\":\"7830\",\"type\":\"BasicTickFormatter\"},{\"attributes\":{\"text\":\"UMAP 2d - proj - Gilberto\"},\"id\":\"7416\",\"type\":\"Title\"},{\"attributes\":{},\"id\":\"7437\",\"type\":\"SaveTool\"},{\"attributes\":{\"axis_label\":\"tsne_2d_1_token\",\"formatter\":{\"id\":\"7834\",\"type\":\"BasicTickFormatter\"},\"ticker\":{\"id\":\"7460\",\"type\":\"BasicTicker\"}},\"id\":\"7459\",\"type\":\"LinearAxis\"},{\"attributes\":{\"callback\":null,\"tooltips\":[[\"columan_name\",\"@{sentence}\"]]},\"id\":\"7471\",\"type\":\"HoverTool\"}],\"root_ids\":[\"7489\"]},\"title\":\"Bokeh Application\",\"version\":\"1.4.0\"}};\n",
              "  var render_items = [{\"docid\":\"176b7b8a-46e3-4a1d-bd51-bfed82606e0c\",\"roots\":{\"7489\":\"7d36d960-9382-42e7-8565-f1ba2155eada\"}}];\n",
              "  root.Bokeh.embed.embed_items_notebook(docs_json, render_items);\n",
              "\n",
              "  }\n",
              "  if (root.Bokeh !== undefined) {\n",
              "    embed_document(root);\n",
              "  } else {\n",
              "    var attempts = 0;\n",
              "    var timer = setInterval(function(root) {\n",
              "      if (root.Bokeh !== undefined) {\n",
              "        clearInterval(timer);\n",
              "        embed_document(root);\n",
              "      } else {\n",
              "        attempts++;\n",
              "        if (attempts > 100) {\n",
              "          clearInterval(timer);\n",
              "          console.log(\"Bokeh: ERROR: Unable to run BokehJS code because BokehJS library is missing\");\n",
              "        }\n",
              "      }\n",
              "    }, 10, root)\n",
              "  }\n",
              "})(window);"
            ],
            "application/vnd.bokehjs_exec.v0+json": ""
          },
          "metadata": {
            "tags": [],
            "application/vnd.bokehjs_exec.v0+json": {
              "id": "7489"
            }
          }
        }
      ]
    },
    {
      "cell_type": "code",
      "metadata": {
        "id": "dHg-2lMHVRWr",
        "colab_type": "code",
        "colab": {}
      },
      "source": [
        ""
      ],
      "execution_count": 0,
      "outputs": []
    }
  ]
}